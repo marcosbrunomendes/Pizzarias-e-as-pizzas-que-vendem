{
 "cells": [
  {
   "cell_type": "markdown",
   "metadata": {
    "heading_collapsed": true
   },
   "source": [
    "# Processo de Analise de Dados"
   ]
  },
  {
   "cell_type": "markdown",
   "metadata": {
    "hidden": true
   },
   "source": [
    "<img src=\"Capturar.JPG\">\n",
    "\n",
    "## **1 - Definição do Problema**\n",
    "## **2 - Preparação e Exploração de Dados**\n",
    "\n",
    "- **Identificação das Variáveis**\n",
    "- **Tratamento de Valores Missing**\n",
    "- **Tratamento de Outliers**\n",
    "- **Transformação de Variáveis**\n",
    "- **Criação de Variáveis** \n",
    "\n",
    "## **3 – Criação do Modelo**\n",
    "\n",
    "## **4 – Automatização do Processo**\n",
    "\n",
    "## **5 – Apresentação do Resultado**\n",
    "\n"
   ]
  },
  {
   "cell_type": "markdown",
   "metadata": {
    "heading_collapsed": true
   },
   "source": [
    "# Definição do Problema"
   ]
  },
  {
   "cell_type": "markdown",
   "metadata": {
    "hidden": true
   },
   "source": [
    "\n",
    "## **Pizzarias e as pizzas que vendem**\n",
    "Uma lista de pizzarias, 3.500 pizzas e seus preços de menu.\n",
    "\n",
    "## **Sobre estes dados**\n",
    "\n",
    "Esta é uma lista de mais de 3.500 pizzas de vários restaurantes fornecida pelo banco de dados de negócios da Datafiniti . O conjunto de dados inclui categoria, nome, endereço, cidade, estado, informações do menu, faixa de preço e muito mais para cada pizzaria.\n",
    "\n",
    "Observe que este é um exemplo de um grande conjunto de dados. O conjunto de dados completo está disponível no Datafiniti.\n",
    "\n",
    "## **O que você pode fazer com esses dados**\n",
    "Você pode usar esses dados para descobrir quanto pode esperar pagar por uma pizza em todo o país . Por exemplo:\n",
    "\n",
    "- **Quais são os sabores de pizzas com mais frequência?**\n",
    "- **Restaurantes mais populares**\n",
    "- **Principais cidades maior consumo de pizza**\n",
    "- **Sabor pizza mais popular** \n",
    "- **Sabor pizza menos popular**\n",
    "- **O restaurante com a pizza mais cara no menu**\n",
    "- **O restaurante com a pizza mais barata no menu**\n",
    "- **Em quais cidades ou estados as pizzarias são mais comuns**\n",
    "\n",
    "## **Esquema de Dados**\n",
    "\n",
    "Um esquema completo para os dados está disponível em nossa documentação de suporte .\n",
    "\n",
    "## **Sobre Datafiniti**\n",
    "\n",
    "Datafiniti fornece acesso instantâneo aos dados da web. Compilamos dados de milhares de sites para criar bancos de dados padronizados de informações de negócios, produtos e propriedades."
   ]
  },
  {
   "cell_type": "markdown",
   "metadata": {
    "heading_collapsed": true
   },
   "source": [
    "# Preparação e Exploração de Dados"
   ]
  },
  {
   "cell_type": "markdown",
   "metadata": {
    "heading_collapsed": true,
    "hidden": true
   },
   "source": [
    "## Descrição da Variaveis"
   ]
  },
  {
   "cell_type": "markdown",
   "metadata": {
    "hidden": true
   },
   "source": [
    "- **id - Restaurant ID**\n",
    "- **address - O endereço físico deste local comercial.**\n",
    "- **categories - Tipos de Restaurantes**\n",
    "- **city - Cidade**\n",
    "- **country - O código de duas letras do país.**\n",
    "- **keys - Uma lista de identificadores internos Datafiniti**\n",
    "- **latitude - Latitude**\n",
    "- **longitude - Longitude**\n",
    "- **menuPageURL - Pagina do restaurante URL**\n",
    "- **menus.amountMax - Preço Maximo do Menu**\n",
    "- **menus.amountMin - Preço Minimo do Menu**\n",
    "- **menus.currency - A moeda listada para amountMin e amountMax.**\n",
    "- **menus.dateSeen - Data em que o menu foi visualizado**\n",
    "- **menus.description - Descrição do menu e dos ingredientes**\n",
    "- **menus.name - Nome da Pizza**\n",
    "- **name - Nome do Restaurante**\n",
    "- **postalCode - CEP do Restaurante**\n",
    "- **priceRangeCurrency - Tipo de moeda**\n",
    "- **priceRangeMin - Faixa de variação preço mínimo da pizza**\n",
    "- **priceRangeMax - Faixa de variação preço máxima da pizza**\n",
    "- **province - Estado / Cidade**\n",
    "- **Link dos dados: <a href=\"https://developer.datafiniti.co/docs/business-data-schema\">Dafiti</a>**"
   ]
  },
  {
   "cell_type": "markdown",
   "metadata": {
    "heading_collapsed": true,
    "hidden": true
   },
   "source": [
    "## Indentificação das Variáveis\n"
   ]
  },
  {
   "cell_type": "code",
   "execution_count": 1,
   "metadata": {
    "code_folding": [],
    "hidden": true
   },
   "outputs": [],
   "source": [
    "# Importando pacotes\n",
    "import pandas as pd \n",
    "import numpy as np \n",
    "import matplotlib.pyplot as plt\n",
    "import seaborn as sns\n",
    "import warnings\n",
    "\n",
    "%matplotlib inline\n",
    "warnings.filterwarnings(\"ignore\")"
   ]
  },
  {
   "cell_type": "code",
   "execution_count": 2,
   "metadata": {
    "code_folding": [],
    "hidden": true
   },
   "outputs": [],
   "source": [
    "#Carregando Dataset\n",
    "df_pizza = pd.read_csv('8358_1.csv')"
   ]
  },
  {
   "cell_type": "code",
   "execution_count": 3,
   "metadata": {
    "hidden": true
   },
   "outputs": [
    {
     "name": "stdout",
     "output_type": "stream",
     "text": [
      "Dimensão: (3510, 21)\n"
     ]
    }
   ],
   "source": [
    "#Dimensão do dataset\n",
    "print(\"Dimensão:\", df_pizza.shape)"
   ]
  },
  {
   "cell_type": "code",
   "execution_count": 4,
   "metadata": {
    "code_folding": [],
    "hidden": true
   },
   "outputs": [
    {
     "data": {
      "text/html": [
       "<div>\n",
       "<style scoped>\n",
       "    .dataframe tbody tr th:only-of-type {\n",
       "        vertical-align: middle;\n",
       "    }\n",
       "\n",
       "    .dataframe tbody tr th {\n",
       "        vertical-align: top;\n",
       "    }\n",
       "\n",
       "    .dataframe thead th {\n",
       "        text-align: right;\n",
       "    }\n",
       "</style>\n",
       "<table border=\"1\" class=\"dataframe\">\n",
       "  <thead>\n",
       "    <tr style=\"text-align: right;\">\n",
       "      <th></th>\n",
       "      <th>id</th>\n",
       "      <th>address</th>\n",
       "      <th>categories</th>\n",
       "      <th>city</th>\n",
       "      <th>country</th>\n",
       "      <th>keys</th>\n",
       "      <th>latitude</th>\n",
       "      <th>longitude</th>\n",
       "      <th>menuPageURL</th>\n",
       "      <th>menus.amountMax</th>\n",
       "      <th>menus.amountMin</th>\n",
       "      <th>menus.currency</th>\n",
       "      <th>menus.dateSeen</th>\n",
       "      <th>menus.description</th>\n",
       "      <th>menus.name</th>\n",
       "      <th>name</th>\n",
       "      <th>postalCode</th>\n",
       "      <th>priceRangeCurrency</th>\n",
       "      <th>priceRangeMin</th>\n",
       "      <th>priceRangeMax</th>\n",
       "      <th>province</th>\n",
       "    </tr>\n",
       "  </thead>\n",
       "  <tbody>\n",
       "    <tr>\n",
       "      <th>0</th>\n",
       "      <td>AVwc_6KEIN2L1WUfrKAH</td>\n",
       "      <td>Cascade Village Mall Across From Target</td>\n",
       "      <td>Pizza Place</td>\n",
       "      <td>Bend</td>\n",
       "      <td>US</td>\n",
       "      <td>us/or/bend/cascadevillagemallacrossfromtarget/...</td>\n",
       "      <td>44.102665</td>\n",
       "      <td>-121.300797</td>\n",
       "      <td>NaN</td>\n",
       "      <td>22.50</td>\n",
       "      <td>15.50</td>\n",
       "      <td>USD</td>\n",
       "      <td>2016-03-31T02:19:42Z</td>\n",
       "      <td>NaN</td>\n",
       "      <td>Bianca Pizza</td>\n",
       "      <td>Little Pizza Paradise</td>\n",
       "      <td>97701</td>\n",
       "      <td>NaN</td>\n",
       "      <td>NaN</td>\n",
       "      <td>NaN</td>\n",
       "      <td>OR</td>\n",
       "    </tr>\n",
       "    <tr>\n",
       "      <th>1</th>\n",
       "      <td>AVwc_6KEIN2L1WUfrKAH</td>\n",
       "      <td>Cascade Village Mall Across From Target</td>\n",
       "      <td>Pizza Place</td>\n",
       "      <td>Bend</td>\n",
       "      <td>US</td>\n",
       "      <td>us/or/bend/cascadevillagemallacrossfromtarget/...</td>\n",
       "      <td>44.102665</td>\n",
       "      <td>-121.300797</td>\n",
       "      <td>NaN</td>\n",
       "      <td>18.95</td>\n",
       "      <td>18.95</td>\n",
       "      <td>USD</td>\n",
       "      <td>2016-03-31T02:19:42Z</td>\n",
       "      <td>NaN</td>\n",
       "      <td>Cheese Pizza</td>\n",
       "      <td>Little Pizza Paradise</td>\n",
       "      <td>97701</td>\n",
       "      <td>NaN</td>\n",
       "      <td>NaN</td>\n",
       "      <td>NaN</td>\n",
       "      <td>OR</td>\n",
       "    </tr>\n",
       "    <tr>\n",
       "      <th>2</th>\n",
       "      <td>AVwc_6qRByjofQCxkcxw</td>\n",
       "      <td>148 S Barrington Ave</td>\n",
       "      <td>American Restaurant,Bar,Bakery</td>\n",
       "      <td>Los Angeles</td>\n",
       "      <td>US</td>\n",
       "      <td>us/brentwood/losangeles/148sbarringtonave/-151...</td>\n",
       "      <td>34.064563</td>\n",
       "      <td>-118.469017</td>\n",
       "      <td>NaN</td>\n",
       "      <td>12.00</td>\n",
       "      <td>12.00</td>\n",
       "      <td>USD</td>\n",
       "      <td>2015-10-23T03:57:26Z</td>\n",
       "      <td>NaN</td>\n",
       "      <td>Pizza, Margherita</td>\n",
       "      <td>The Brentwood</td>\n",
       "      <td>90049</td>\n",
       "      <td>USD</td>\n",
       "      <td>50.0</td>\n",
       "      <td>55.0</td>\n",
       "      <td>Brentwood</td>\n",
       "    </tr>\n",
       "    <tr>\n",
       "      <th>3</th>\n",
       "      <td>AVwc_6qRByjofQCxkcxw</td>\n",
       "      <td>148 S Barrington Ave</td>\n",
       "      <td>American Restaurant,Bar,Bakery</td>\n",
       "      <td>Los Angeles</td>\n",
       "      <td>US</td>\n",
       "      <td>us/brentwood/losangeles/148sbarringtonave/-151...</td>\n",
       "      <td>34.064563</td>\n",
       "      <td>-118.469017</td>\n",
       "      <td>NaN</td>\n",
       "      <td>13.00</td>\n",
       "      <td>13.00</td>\n",
       "      <td>USD</td>\n",
       "      <td>2015-10-23T03:57:26Z</td>\n",
       "      <td>NaN</td>\n",
       "      <td>Pizza, Mushroom</td>\n",
       "      <td>The Brentwood</td>\n",
       "      <td>90049</td>\n",
       "      <td>USD</td>\n",
       "      <td>50.0</td>\n",
       "      <td>55.0</td>\n",
       "      <td>Brentwood</td>\n",
       "    </tr>\n",
       "    <tr>\n",
       "      <th>4</th>\n",
       "      <td>AVwc_6qRByjofQCxkcxw</td>\n",
       "      <td>148 S Barrington Ave</td>\n",
       "      <td>American Restaurant,Bar,Bakery</td>\n",
       "      <td>Los Angeles</td>\n",
       "      <td>US</td>\n",
       "      <td>us/brentwood/losangeles/148sbarringtonave/-151...</td>\n",
       "      <td>34.064563</td>\n",
       "      <td>-118.469017</td>\n",
       "      <td>NaN</td>\n",
       "      <td>13.00</td>\n",
       "      <td>13.00</td>\n",
       "      <td>USD</td>\n",
       "      <td>2015-10-23T03:57:26Z</td>\n",
       "      <td>Olives, onions, capers, tomatoes</td>\n",
       "      <td>Pizza, Puttenesca</td>\n",
       "      <td>The Brentwood</td>\n",
       "      <td>90049</td>\n",
       "      <td>USD</td>\n",
       "      <td>50.0</td>\n",
       "      <td>55.0</td>\n",
       "      <td>Brentwood</td>\n",
       "    </tr>\n",
       "  </tbody>\n",
       "</table>\n",
       "</div>"
      ],
      "text/plain": [
       "                     id                                  address  \\\n",
       "0  AVwc_6KEIN2L1WUfrKAH  Cascade Village Mall Across From Target   \n",
       "1  AVwc_6KEIN2L1WUfrKAH  Cascade Village Mall Across From Target   \n",
       "2  AVwc_6qRByjofQCxkcxw                     148 S Barrington Ave   \n",
       "3  AVwc_6qRByjofQCxkcxw                     148 S Barrington Ave   \n",
       "4  AVwc_6qRByjofQCxkcxw                     148 S Barrington Ave   \n",
       "\n",
       "                       categories         city country  \\\n",
       "0                     Pizza Place         Bend      US   \n",
       "1                     Pizza Place         Bend      US   \n",
       "2  American Restaurant,Bar,Bakery  Los Angeles      US   \n",
       "3  American Restaurant,Bar,Bakery  Los Angeles      US   \n",
       "4  American Restaurant,Bar,Bakery  Los Angeles      US   \n",
       "\n",
       "                                                keys   latitude   longitude  \\\n",
       "0  us/or/bend/cascadevillagemallacrossfromtarget/...  44.102665 -121.300797   \n",
       "1  us/or/bend/cascadevillagemallacrossfromtarget/...  44.102665 -121.300797   \n",
       "2  us/brentwood/losangeles/148sbarringtonave/-151...  34.064563 -118.469017   \n",
       "3  us/brentwood/losangeles/148sbarringtonave/-151...  34.064563 -118.469017   \n",
       "4  us/brentwood/losangeles/148sbarringtonave/-151...  34.064563 -118.469017   \n",
       "\n",
       "  menuPageURL  menus.amountMax  menus.amountMin menus.currency  \\\n",
       "0         NaN            22.50            15.50            USD   \n",
       "1         NaN            18.95            18.95            USD   \n",
       "2         NaN            12.00            12.00            USD   \n",
       "3         NaN            13.00            13.00            USD   \n",
       "4         NaN            13.00            13.00            USD   \n",
       "\n",
       "         menus.dateSeen                 menus.description         menus.name  \\\n",
       "0  2016-03-31T02:19:42Z                               NaN       Bianca Pizza   \n",
       "1  2016-03-31T02:19:42Z                               NaN       Cheese Pizza   \n",
       "2  2015-10-23T03:57:26Z                               NaN  Pizza, Margherita   \n",
       "3  2015-10-23T03:57:26Z                               NaN    Pizza, Mushroom   \n",
       "4  2015-10-23T03:57:26Z  Olives, onions, capers, tomatoes  Pizza, Puttenesca   \n",
       "\n",
       "                    name postalCode priceRangeCurrency  priceRangeMin  \\\n",
       "0  Little Pizza Paradise      97701                NaN            NaN   \n",
       "1  Little Pizza Paradise      97701                NaN            NaN   \n",
       "2          The Brentwood      90049                USD           50.0   \n",
       "3          The Brentwood      90049                USD           50.0   \n",
       "4          The Brentwood      90049                USD           50.0   \n",
       "\n",
       "   priceRangeMax   province  \n",
       "0            NaN         OR  \n",
       "1            NaN         OR  \n",
       "2           55.0  Brentwood  \n",
       "3           55.0  Brentwood  \n",
       "4           55.0  Brentwood  "
      ]
     },
     "execution_count": 4,
     "metadata": {},
     "output_type": "execute_result"
    }
   ],
   "source": [
    "#Visualizando o dataset\n",
    "pd.set_option('display.max_columns', 30)\n",
    "pd.set_option('display.max_rows', 30)\n",
    "df_pizza.head( )"
   ]
  },
  {
   "cell_type": "code",
   "execution_count": 5,
   "metadata": {
    "hidden": true
   },
   "outputs": [
    {
     "name": "stdout",
     "output_type": "stream",
     "text": [
      "<class 'pandas.core.frame.DataFrame'>\n",
      "RangeIndex: 3510 entries, 0 to 3509\n",
      "Data columns (total 21 columns):\n",
      "id                    3510 non-null object\n",
      "address               3510 non-null object\n",
      "categories            3510 non-null object\n",
      "city                  3510 non-null object\n",
      "country               3510 non-null object\n",
      "keys                  3510 non-null object\n",
      "latitude              3510 non-null float64\n",
      "longitude             3510 non-null float64\n",
      "menuPageURL           610 non-null object\n",
      "menus.amountMax       2948 non-null float64\n",
      "menus.amountMin       2948 non-null float64\n",
      "menus.currency        2951 non-null object\n",
      "menus.dateSeen        3510 non-null object\n",
      "menus.description     1526 non-null object\n",
      "menus.name            3510 non-null object\n",
      "name                  3510 non-null object\n",
      "postalCode            3484 non-null object\n",
      "priceRangeCurrency    1557 non-null object\n",
      "priceRangeMin         1557 non-null float64\n",
      "priceRangeMax         1557 non-null float64\n",
      "province              3510 non-null object\n",
      "dtypes: float64(6), object(15)\n",
      "memory usage: 575.9+ KB\n"
     ]
    }
   ],
   "source": [
    "#Visualizando as informações\n",
    "df_pizza.info()"
   ]
  },
  {
   "cell_type": "code",
   "execution_count": 6,
   "metadata": {
    "hidden": true
   },
   "outputs": [
    {
     "data": {
      "text/html": [
       "<div>\n",
       "<style scoped>\n",
       "    .dataframe tbody tr th:only-of-type {\n",
       "        vertical-align: middle;\n",
       "    }\n",
       "\n",
       "    .dataframe tbody tr th {\n",
       "        vertical-align: top;\n",
       "    }\n",
       "\n",
       "    .dataframe thead th {\n",
       "        text-align: right;\n",
       "    }\n",
       "</style>\n",
       "<table border=\"1\" class=\"dataframe\">\n",
       "  <thead>\n",
       "    <tr style=\"text-align: right;\">\n",
       "      <th></th>\n",
       "      <th>latitude</th>\n",
       "      <th>longitude</th>\n",
       "      <th>menus.amountMax</th>\n",
       "      <th>menus.amountMin</th>\n",
       "      <th>priceRangeMin</th>\n",
       "      <th>priceRangeMax</th>\n",
       "    </tr>\n",
       "  </thead>\n",
       "  <tbody>\n",
       "    <tr>\n",
       "      <th>count</th>\n",
       "      <td>3510.000000</td>\n",
       "      <td>3510.000000</td>\n",
       "      <td>2948.000000</td>\n",
       "      <td>2948.000000</td>\n",
       "      <td>1557.000000</td>\n",
       "      <td>1557.000000</td>\n",
       "    </tr>\n",
       "    <tr>\n",
       "      <th>mean</th>\n",
       "      <td>38.555114</td>\n",
       "      <td>-87.472055</td>\n",
       "      <td>12.479186</td>\n",
       "      <td>11.427849</td>\n",
       "      <td>15.597945</td>\n",
       "      <td>36.566474</td>\n",
       "    </tr>\n",
       "    <tr>\n",
       "      <th>std</th>\n",
       "      <td>4.651092</td>\n",
       "      <td>16.430008</td>\n",
       "      <td>13.398923</td>\n",
       "      <td>7.262919</td>\n",
       "      <td>18.495854</td>\n",
       "      <td>21.737839</td>\n",
       "    </tr>\n",
       "    <tr>\n",
       "      <th>min</th>\n",
       "      <td>18.411826</td>\n",
       "      <td>-157.837461</td>\n",
       "      <td>0.000000</td>\n",
       "      <td>0.000000</td>\n",
       "      <td>0.000000</td>\n",
       "      <td>12.000000</td>\n",
       "    </tr>\n",
       "    <tr>\n",
       "      <th>25%</th>\n",
       "      <td>35.769852</td>\n",
       "      <td>-94.202573</td>\n",
       "      <td>7.500000</td>\n",
       "      <td>7.000000</td>\n",
       "      <td>0.000000</td>\n",
       "      <td>30.000000</td>\n",
       "    </tr>\n",
       "    <tr>\n",
       "      <th>50%</th>\n",
       "      <td>40.020710</td>\n",
       "      <td>-81.675414</td>\n",
       "      <td>11.870000</td>\n",
       "      <td>10.990000</td>\n",
       "      <td>25.000000</td>\n",
       "      <td>40.000000</td>\n",
       "    </tr>\n",
       "    <tr>\n",
       "      <th>75%</th>\n",
       "      <td>41.455179</td>\n",
       "      <td>-74.743820</td>\n",
       "      <td>15.950000</td>\n",
       "      <td>14.950000</td>\n",
       "      <td>25.000000</td>\n",
       "      <td>40.000000</td>\n",
       "    </tr>\n",
       "    <tr>\n",
       "      <th>max</th>\n",
       "      <td>64.854370</td>\n",
       "      <td>-66.024871</td>\n",
       "      <td>312.950000</td>\n",
       "      <td>118.990000</td>\n",
       "      <td>347.000000</td>\n",
       "      <td>666.000000</td>\n",
       "    </tr>\n",
       "  </tbody>\n",
       "</table>\n",
       "</div>"
      ],
      "text/plain": [
       "          latitude    longitude  menus.amountMax  menus.amountMin  \\\n",
       "count  3510.000000  3510.000000      2948.000000      2948.000000   \n",
       "mean     38.555114   -87.472055        12.479186        11.427849   \n",
       "std       4.651092    16.430008        13.398923         7.262919   \n",
       "min      18.411826  -157.837461         0.000000         0.000000   \n",
       "25%      35.769852   -94.202573         7.500000         7.000000   \n",
       "50%      40.020710   -81.675414        11.870000        10.990000   \n",
       "75%      41.455179   -74.743820        15.950000        14.950000   \n",
       "max      64.854370   -66.024871       312.950000       118.990000   \n",
       "\n",
       "       priceRangeMin  priceRangeMax  \n",
       "count    1557.000000    1557.000000  \n",
       "mean       15.597945      36.566474  \n",
       "std        18.495854      21.737839  \n",
       "min         0.000000      12.000000  \n",
       "25%         0.000000      30.000000  \n",
       "50%        25.000000      40.000000  \n",
       "75%        25.000000      40.000000  \n",
       "max       347.000000     666.000000  "
      ]
     },
     "execution_count": 6,
     "metadata": {},
     "output_type": "execute_result"
    }
   ],
   "source": [
    "df_pizza.describe()"
   ]
  },
  {
   "cell_type": "markdown",
   "metadata": {
    "heading_collapsed": true,
    "hidden": true
   },
   "source": [
    "## Tratamento de Valores Missing"
   ]
  },
  {
   "cell_type": "code",
   "execution_count": 7,
   "metadata": {
    "hidden": true
   },
   "outputs": [
    {
     "data": {
      "text/plain": [
       "id                       0\n",
       "address                  0\n",
       "categories               0\n",
       "city                     0\n",
       "country                  0\n",
       "keys                     0\n",
       "latitude                 0\n",
       "longitude                0\n",
       "menuPageURL           2900\n",
       "menus.amountMax        562\n",
       "menus.amountMin        562\n",
       "menus.currency         559\n",
       "menus.dateSeen           0\n",
       "menus.description     1984\n",
       "menus.name               0\n",
       "name                     0\n",
       "postalCode              26\n",
       "priceRangeCurrency    1953\n",
       "priceRangeMin         1953\n",
       "priceRangeMax         1953\n",
       "province                 0\n",
       "dtype: int64"
      ]
     },
     "execution_count": 7,
     "metadata": {},
     "output_type": "execute_result"
    }
   ],
   "source": [
    "#Checando os valores nulos com isnull().sum()\n",
    "df_pizza.isnull().sum()"
   ]
  },
  {
   "cell_type": "code",
   "execution_count": 8,
   "metadata": {
    "hidden": true
   },
   "outputs": [],
   "source": [
    "# Substituindo valores nulos com fillna NaN - USD\n",
    "df_pizza['menus.currency'].fillna('USD',inplace=True)\n",
    "df_pizza['priceRangeCurrency'].fillna('USD',inplace=True)\n",
    "\n",
    "# Substituindo valores nulos com a média \n",
    "df_pizza['priceRangeMin'].fillna(round(df_pizza['priceRangeMin'].mean(), 2),inplace=True)\n",
    "df_pizza['priceRangeMax'].fillna(round(df_pizza['priceRangeMax'].mean(), 2),inplace=True)\n",
    "\n",
    "# Substituindo valores nulos com ffill - pega ultimo valor acima não nulo \n",
    "df_pizza['menus.amountMax'].fillna(method='ffill',inplace=True)\n",
    "df_pizza['menus.amountMin'].fillna(method='ffill',inplace=True)\n",
    "\n",
    "#Removendo colunas \n",
    "del_col = ['menuPageURL']\n",
    "df_pizza = df_pizza.drop(del_col, axis=1)"
   ]
  },
  {
   "cell_type": "code",
   "execution_count": 9,
   "metadata": {
    "hidden": true
   },
   "outputs": [
    {
     "name": "stdout",
     "output_type": "stream",
     "text": [
      "Dimensão: (3510, 20)\n",
      "\n",
      " Colunas: Index(['id', 'address', 'categories', 'city', 'country', 'keys', 'latitude',\n",
      "       'longitude', 'menus.amountMax', 'menus.amountMin', 'menus.currency',\n",
      "       'menus.dateSeen', 'menus.description', 'menus.name', 'name',\n",
      "       'postalCode', 'priceRangeCurrency', 'priceRangeMin', 'priceRangeMax',\n",
      "       'province'],\n",
      "      dtype='object')\n"
     ]
    }
   ],
   "source": [
    "#Dimensão do dataset\n",
    "print(\"Dimensão:\", df_pizza.shape)\n",
    "print(\"\\n Colunas:\", df_pizza.columns)"
   ]
  },
  {
   "cell_type": "markdown",
   "metadata": {
    "heading_collapsed": true,
    "hidden": true
   },
   "source": [
    "## Tratamento de Outliers"
   ]
  },
  {
   "cell_type": "markdown",
   "metadata": {
    "hidden": true
   },
   "source": [
    "<img src=\"box_plot.png\">"
   ]
  },
  {
   "cell_type": "code",
   "execution_count": 10,
   "metadata": {
    "hidden": true
   },
   "outputs": [
    {
     "data": {
      "text/html": [
       "<div>\n",
       "<style scoped>\n",
       "    .dataframe tbody tr th:only-of-type {\n",
       "        vertical-align: middle;\n",
       "    }\n",
       "\n",
       "    .dataframe tbody tr th {\n",
       "        vertical-align: top;\n",
       "    }\n",
       "\n",
       "    .dataframe thead th {\n",
       "        text-align: right;\n",
       "    }\n",
       "</style>\n",
       "<table border=\"1\" class=\"dataframe\">\n",
       "  <thead>\n",
       "    <tr style=\"text-align: right;\">\n",
       "      <th></th>\n",
       "      <th>latitude</th>\n",
       "      <th>longitude</th>\n",
       "      <th>menus.amountMax</th>\n",
       "      <th>menus.amountMin</th>\n",
       "      <th>priceRangeMin</th>\n",
       "      <th>priceRangeMax</th>\n",
       "    </tr>\n",
       "  </thead>\n",
       "  <tbody>\n",
       "    <tr>\n",
       "      <th>count</th>\n",
       "      <td>3510.000000</td>\n",
       "      <td>3510.000000</td>\n",
       "      <td>3510.000000</td>\n",
       "      <td>3510.00000</td>\n",
       "      <td>3510.000000</td>\n",
       "      <td>3510.000000</td>\n",
       "    </tr>\n",
       "    <tr>\n",
       "      <th>mean</th>\n",
       "      <td>38.555114</td>\n",
       "      <td>-87.472055</td>\n",
       "      <td>12.198305</td>\n",
       "      <td>11.24253</td>\n",
       "      <td>15.599088</td>\n",
       "      <td>36.568436</td>\n",
       "    </tr>\n",
       "    <tr>\n",
       "      <th>std</th>\n",
       "      <td>4.651092</td>\n",
       "      <td>16.430008</td>\n",
       "      <td>12.509027</td>\n",
       "      <td>7.00896</td>\n",
       "      <td>12.316505</td>\n",
       "      <td>14.475364</td>\n",
       "    </tr>\n",
       "    <tr>\n",
       "      <th>min</th>\n",
       "      <td>18.411826</td>\n",
       "      <td>-157.837461</td>\n",
       "      <td>0.000000</td>\n",
       "      <td>0.00000</td>\n",
       "      <td>0.000000</td>\n",
       "      <td>12.000000</td>\n",
       "    </tr>\n",
       "    <tr>\n",
       "      <th>25%</th>\n",
       "      <td>35.769852</td>\n",
       "      <td>-94.202573</td>\n",
       "      <td>7.000000</td>\n",
       "      <td>6.99000</td>\n",
       "      <td>15.600000</td>\n",
       "      <td>36.570000</td>\n",
       "    </tr>\n",
       "    <tr>\n",
       "      <th>50%</th>\n",
       "      <td>40.020710</td>\n",
       "      <td>-81.675414</td>\n",
       "      <td>11.250000</td>\n",
       "      <td>10.95000</td>\n",
       "      <td>15.600000</td>\n",
       "      <td>36.570000</td>\n",
       "    </tr>\n",
       "    <tr>\n",
       "      <th>75%</th>\n",
       "      <td>41.455179</td>\n",
       "      <td>-74.743820</td>\n",
       "      <td>15.500000</td>\n",
       "      <td>14.95000</td>\n",
       "      <td>15.600000</td>\n",
       "      <td>36.570000</td>\n",
       "    </tr>\n",
       "    <tr>\n",
       "      <th>max</th>\n",
       "      <td>64.854370</td>\n",
       "      <td>-66.024871</td>\n",
       "      <td>312.950000</td>\n",
       "      <td>118.99000</td>\n",
       "      <td>347.000000</td>\n",
       "      <td>666.000000</td>\n",
       "    </tr>\n",
       "  </tbody>\n",
       "</table>\n",
       "</div>"
      ],
      "text/plain": [
       "          latitude    longitude  menus.amountMax  menus.amountMin  \\\n",
       "count  3510.000000  3510.000000      3510.000000       3510.00000   \n",
       "mean     38.555114   -87.472055        12.198305         11.24253   \n",
       "std       4.651092    16.430008        12.509027          7.00896   \n",
       "min      18.411826  -157.837461         0.000000          0.00000   \n",
       "25%      35.769852   -94.202573         7.000000          6.99000   \n",
       "50%      40.020710   -81.675414        11.250000         10.95000   \n",
       "75%      41.455179   -74.743820        15.500000         14.95000   \n",
       "max      64.854370   -66.024871       312.950000        118.99000   \n",
       "\n",
       "       priceRangeMin  priceRangeMax  \n",
       "count    3510.000000    3510.000000  \n",
       "mean       15.599088      36.568436  \n",
       "std        12.316505      14.475364  \n",
       "min         0.000000      12.000000  \n",
       "25%        15.600000      36.570000  \n",
       "50%        15.600000      36.570000  \n",
       "75%        15.600000      36.570000  \n",
       "max       347.000000     666.000000  "
      ]
     },
     "execution_count": 10,
     "metadata": {},
     "output_type": "execute_result"
    }
   ],
   "source": [
    "#correlção dos dados\n",
    "df_pizza.describe()"
   ]
  },
  {
   "cell_type": "code",
   "execution_count": 11,
   "metadata": {
    "hidden": true
   },
   "outputs": [
    {
     "data": {
      "text/html": [
       "<div>\n",
       "<style scoped>\n",
       "    .dataframe tbody tr th:only-of-type {\n",
       "        vertical-align: middle;\n",
       "    }\n",
       "\n",
       "    .dataframe tbody tr th {\n",
       "        vertical-align: top;\n",
       "    }\n",
       "\n",
       "    .dataframe thead th {\n",
       "        text-align: right;\n",
       "    }\n",
       "</style>\n",
       "<table border=\"1\" class=\"dataframe\">\n",
       "  <thead>\n",
       "    <tr style=\"text-align: right;\">\n",
       "      <th></th>\n",
       "      <th>latitude</th>\n",
       "      <th>longitude</th>\n",
       "      <th>menus.amountMax</th>\n",
       "      <th>menus.amountMin</th>\n",
       "      <th>priceRangeMin</th>\n",
       "      <th>priceRangeMax</th>\n",
       "    </tr>\n",
       "  </thead>\n",
       "  <tbody>\n",
       "    <tr>\n",
       "      <th>latitude</th>\n",
       "      <td>1.000000</td>\n",
       "      <td>0.265316</td>\n",
       "      <td>-0.065887</td>\n",
       "      <td>-0.071136</td>\n",
       "      <td>0.069949</td>\n",
       "      <td>0.031182</td>\n",
       "    </tr>\n",
       "    <tr>\n",
       "      <th>longitude</th>\n",
       "      <td>0.265316</td>\n",
       "      <td>1.000000</td>\n",
       "      <td>-0.037897</td>\n",
       "      <td>0.044742</td>\n",
       "      <td>0.057956</td>\n",
       "      <td>0.026331</td>\n",
       "    </tr>\n",
       "    <tr>\n",
       "      <th>menus.amountMax</th>\n",
       "      <td>-0.065887</td>\n",
       "      <td>-0.037897</td>\n",
       "      <td>1.000000</td>\n",
       "      <td>0.556626</td>\n",
       "      <td>0.046497</td>\n",
       "      <td>0.021292</td>\n",
       "    </tr>\n",
       "    <tr>\n",
       "      <th>menus.amountMin</th>\n",
       "      <td>-0.071136</td>\n",
       "      <td>0.044742</td>\n",
       "      <td>0.556626</td>\n",
       "      <td>1.000000</td>\n",
       "      <td>0.045539</td>\n",
       "      <td>0.030405</td>\n",
       "    </tr>\n",
       "    <tr>\n",
       "      <th>priceRangeMin</th>\n",
       "      <td>0.069949</td>\n",
       "      <td>0.057956</td>\n",
       "      <td>0.046497</td>\n",
       "      <td>0.045539</td>\n",
       "      <td>1.000000</td>\n",
       "      <td>0.818882</td>\n",
       "    </tr>\n",
       "    <tr>\n",
       "      <th>priceRangeMax</th>\n",
       "      <td>0.031182</td>\n",
       "      <td>0.026331</td>\n",
       "      <td>0.021292</td>\n",
       "      <td>0.030405</td>\n",
       "      <td>0.818882</td>\n",
       "      <td>1.000000</td>\n",
       "    </tr>\n",
       "  </tbody>\n",
       "</table>\n",
       "</div>"
      ],
      "text/plain": [
       "                 latitude  longitude  menus.amountMax  menus.amountMin  \\\n",
       "latitude         1.000000   0.265316        -0.065887        -0.071136   \n",
       "longitude        0.265316   1.000000        -0.037897         0.044742   \n",
       "menus.amountMax -0.065887  -0.037897         1.000000         0.556626   \n",
       "menus.amountMin -0.071136   0.044742         0.556626         1.000000   \n",
       "priceRangeMin    0.069949   0.057956         0.046497         0.045539   \n",
       "priceRangeMax    0.031182   0.026331         0.021292         0.030405   \n",
       "\n",
       "                 priceRangeMin  priceRangeMax  \n",
       "latitude              0.069949       0.031182  \n",
       "longitude             0.057956       0.026331  \n",
       "menus.amountMax       0.046497       0.021292  \n",
       "menus.amountMin       0.045539       0.030405  \n",
       "priceRangeMin         1.000000       0.818882  \n",
       "priceRangeMax         0.818882       1.000000  "
      ]
     },
     "execution_count": 11,
     "metadata": {},
     "output_type": "execute_result"
    }
   ],
   "source": [
    "df_pizza.corr()"
   ]
  },
  {
   "cell_type": "code",
   "execution_count": 12,
   "metadata": {
    "hidden": true
   },
   "outputs": [
    {
     "data": {
      "text/plain": [
       "<matplotlib.axes._subplots.AxesSubplot at 0x17f01e0ecc0>"
      ]
     },
     "execution_count": 12,
     "metadata": {},
     "output_type": "execute_result"
    },
    {
     "data": {
      "image/png": "[encoded data removed]",
      "text/plain": [
       "<Figure size 864x864 with 2 Axes>"
      ]
     },
     "metadata": {
      "needs_background": "light"
     },
     "output_type": "display_data"
    }
   ],
   "source": [
    "#Mapa de correlação\n",
    "f,ax = plt.subplots(figsize=(12, 12))\n",
    "sns.heatmap(df_pizza.corr(), annot=True, linewidths=.5, fmt=\".2f\", ax=ax)"
   ]
  },
  {
   "cell_type": "code",
   "execution_count": 13,
   "metadata": {
    "hidden": true
   },
   "outputs": [
    {
     "data": {
      "text/plain": [
       "<matplotlib.axes._subplots.AxesSubplot at 0x17f024c9470>"
      ]
     },
     "execution_count": 13,
     "metadata": {},
     "output_type": "execute_result"
    },
    {
     "data": {
      "image/png": "[encoded data removed]",
      "text/plain": [
       "<Figure size 864x864 with 1 Axes>"
      ]
     },
     "metadata": {
      "needs_background": "light"
     },
     "output_type": "display_data"
    }
   ],
   "source": [
    "color = {\n",
    "     \"boxes\": \"DarkGreen\",\n",
    "     \"whiskers\": \"DarkOrange\",\n",
    "     \"medians\": \"DarkBlue\",\n",
    "     \"caps\": \"Gray\",\n",
    "}\n",
    "\n",
    "df_pizza.plot.box( figsize=(12,12),color=color,vert=False, sym = \"r+\")"
   ]
  },
  {
   "cell_type": "code",
   "execution_count": 14,
   "metadata": {
    "hidden": true
   },
   "outputs": [
    {
     "data": {
      "text/plain": [
       "latitude           -0.978351\n",
       "longitude          -1.261605\n",
       "menus.amountMax    16.756075\n",
       "menus.amountMin     6.038464\n",
       "priceRangeMin       6.907596\n",
       "priceRangeMax      30.001152\n",
       "dtype: float64"
      ]
     },
     "execution_count": 14,
     "metadata": {},
     "output_type": "execute_result"
    }
   ],
   "source": [
    "# Verificando o skew(ou simetria) de cada atributo\n",
    "df_pizza.skew().head(10)"
   ]
  },
  {
   "cell_type": "code",
   "execution_count": 15,
   "metadata": {
    "hidden": true
   },
   "outputs": [],
   "source": [
    "#Salvando data_frame\n",
    "pizza = df_pizza.to_csv('pizza.csv')\n"
   ]
  },
  {
   "cell_type": "markdown",
   "metadata": {
    "heading_collapsed": true,
    "hidden": true
   },
   "source": [
    "## Transformação de Variáveis"
   ]
  },
  {
   "cell_type": "code",
   "execution_count": 16,
   "metadata": {
    "hidden": true
   },
   "outputs": [],
   "source": [
    "#Quais são os sabores de pizzas com mais frequência?\n",
    "#deletando duplicatas\n",
    "\n",
    "df_pizza = df_pizza.drop_duplicates(subset=['id', 'menus.name'])\n",
    "\n",
    "#Quantidade de sabores de pizza mais populares\n",
    "sabores_pizza = df_pizza['menus.name'].value_counts()\n",
    "\n",
    "#Restaurantes mais populares\n",
    "sabores_pizza_rest = df_pizza['name'].value_counts()\n",
    "\n",
    "#Principais cidades maior consumo de pizza\n",
    "pizza_city = df_pizza['city'].value_counts()\n"
   ]
  },
  {
   "cell_type": "code",
   "execution_count": 17,
   "metadata": {
    "hidden": true
   },
   "outputs": [
    {
     "data": {
      "image/png": "[encoded data removed]",
      "text/plain": [
       "<Figure size 960x480 with 1 Axes>"
      ]
     },
     "metadata": {},
     "output_type": "display_data"
    }
   ],
   "source": [
    "plt.figure(num=None, figsize=(12, 6), dpi=80,facecolor='w', edgecolor='k')\n",
    "sabores_pizza[:20].plot.bar()\n",
    "plt.title('20 sabores de pizzas mais populares')\n",
    "plt.ylabel('Quantidade')      \n",
    "plt.show()"
   ]
  },
  {
   "cell_type": "code",
   "execution_count": 18,
   "metadata": {
    "hidden": true
   },
   "outputs": [
    {
     "name": "stdout",
     "output_type": "stream",
     "text": [
      "Sabor pizza mais popular:  Cheese Pizza\n",
      "Sabor pizza menos popular:  Chalet Pesto Pizza\n"
     ]
    }
   ],
   "source": [
    "print(\"Sabor pizza mais popular: \", sabores_pizza.idxmax())\n",
    "print(\"Sabor pizza menos popular: \", sabores_pizza.idxmin())"
   ]
  },
  {
   "cell_type": "code",
   "execution_count": 19,
   "metadata": {
    "hidden": true
   },
   "outputs": [
    {
     "data": {
      "image/png": "[encoded data removed]",
      "text/plain": [
       "<Figure size 1080x360 with 1 Axes>"
      ]
     },
     "metadata": {
      "needs_background": "light"
     },
     "output_type": "display_data"
    }
   ],
   "source": [
    "plt.figure(figsize=(15,5))\n",
    "plt.plot(sabores_pizza_rest.head(10), linestyle='none', markersize=15, marker='h')\n",
    "plt.title('10 Restaurantes mais populares', fontsize=20)\n",
    "plt.xticks(rotation=90)\n",
    "plt.xlabel('Restaurante', fontsize=15)\n",
    "plt.ylabel('Quantidade', fontsize=15)\n",
    "plt.grid(alpha=.3)\n",
    "plt.margins(.05)\n",
    "plt.show()"
   ]
  },
  {
   "cell_type": "code",
   "execution_count": 20,
   "metadata": {
    "hidden": true
   },
   "outputs": [
    {
     "data": {
      "text/html": [
       "<div>\n",
       "<style scoped>\n",
       "    .dataframe tbody tr th:only-of-type {\n",
       "        vertical-align: middle;\n",
       "    }\n",
       "\n",
       "    .dataframe tbody tr th {\n",
       "        vertical-align: top;\n",
       "    }\n",
       "\n",
       "    .dataframe thead th {\n",
       "        text-align: right;\n",
       "    }\n",
       "</style>\n",
       "<table border=\"1\" class=\"dataframe\">\n",
       "  <thead>\n",
       "    <tr style=\"text-align: right;\">\n",
       "      <th></th>\n",
       "      <th>name</th>\n",
       "      <th>menus.name</th>\n",
       "      <th>menus.amountMax</th>\n",
       "    </tr>\n",
       "  </thead>\n",
       "  <tbody>\n",
       "    <tr>\n",
       "      <th>2569</th>\n",
       "      <td>Eddie's Italian Restaurant</td>\n",
       "      <td>Pizza Claudia</td>\n",
       "      <td>312.95</td>\n",
       "    </tr>\n",
       "    <tr>\n",
       "      <th>2573</th>\n",
       "      <td>Eddie's Italian Restaurant</td>\n",
       "      <td>Pizza Raviatta</td>\n",
       "      <td>312.95</td>\n",
       "    </tr>\n",
       "  </tbody>\n",
       "</table>\n",
       "</div>"
      ],
      "text/plain": [
       "                            name      menus.name  menus.amountMax\n",
       "2569  Eddie's Italian Restaurant   Pizza Claudia           312.95\n",
       "2573  Eddie's Italian Restaurant  Pizza Raviatta           312.95"
      ]
     },
     "execution_count": 20,
     "metadata": {},
     "output_type": "execute_result"
    }
   ],
   "source": [
    "#O restaurante com a pizza mais cara no menu\n",
    "df_max = df_pizza[['name','menus.name','menus.amountMax']][df_pizza['menus.amountMax']==df_pizza['menus.amountMax'].max()]\n",
    "df_max"
   ]
  },
  {
   "cell_type": "code",
   "execution_count": 21,
   "metadata": {
    "hidden": true
   },
   "outputs": [
    {
     "data": {
      "text/html": [
       "<div>\n",
       "<style scoped>\n",
       "    .dataframe tbody tr th:only-of-type {\n",
       "        vertical-align: middle;\n",
       "    }\n",
       "\n",
       "    .dataframe tbody tr th {\n",
       "        vertical-align: top;\n",
       "    }\n",
       "\n",
       "    .dataframe thead th {\n",
       "        text-align: right;\n",
       "    }\n",
       "</style>\n",
       "<table border=\"1\" class=\"dataframe\">\n",
       "  <thead>\n",
       "    <tr style=\"text-align: right;\">\n",
       "      <th></th>\n",
       "      <th>name</th>\n",
       "      <th>menus.name</th>\n",
       "      <th>menus.amountMin</th>\n",
       "    </tr>\n",
       "  </thead>\n",
       "  <tbody>\n",
       "    <tr>\n",
       "      <th>2773</th>\n",
       "      <td>New York Pizzeria</td>\n",
       "      <td>Cheese Pizza</td>\n",
       "      <td>0.25</td>\n",
       "    </tr>\n",
       "  </tbody>\n",
       "</table>\n",
       "</div>"
      ],
      "text/plain": [
       "                   name    menus.name  menus.amountMin\n",
       "2773  New York Pizzeria  Cheese Pizza             0.25"
      ]
     },
     "execution_count": 21,
     "metadata": {},
     "output_type": "execute_result"
    }
   ],
   "source": [
    "#O restaurante com a pizza mais barata no menu\n",
    "df_min = df_pizza[['name','menus.name','menus.amountMin']][df_pizza['menus.amountMin']==df_pizza['menus.amountMin'][df_pizza['menus.amountMin'].gt(0)].min()]\n",
    "df_min"
   ]
  },
  {
   "cell_type": "code",
   "execution_count": 22,
   "metadata": {
    "hidden": true
   },
   "outputs": [
    {
     "data": {
      "text/plain": [
       "array([<matplotlib.axes._subplots.AxesSubplot object at 0x0000017F02726390>],\n",
       "      dtype=object)"
      ]
     },
     "execution_count": 22,
     "metadata": {},
     "output_type": "execute_result"
    },
    {
     "data": {
      "image/png": "[encoded data removed]",
      "text/plain": [
       "<Figure size 1080x360 with 1 Axes>"
      ]
     },
     "metadata": {},
     "output_type": "display_data"
    }
   ],
   "source": [
    "#10 principais cidades maior consumo de pizza\n",
    "pizza_city.head(10).plot.pie(subplots=True, figsize=(15, 5))"
   ]
  },
  {
   "cell_type": "markdown",
   "metadata": {
    "heading_collapsed": true,
    "hidden": true
   },
   "source": [
    "## Em quais cidades ou estados as pizzarias são mais comuns?\n",
    "\n",
    "Precisamos das informações de estado de cada pizzaria. Aqui, estamos tentando combinar nosso conjunto de dados de pizza com o conjunto de dados de código postal que contém informações de estado e de código postal. Em outras palavras, queremos obter as informações do Estado com base no CEP.\n",
    "\n",
    "Vamos ler e utilizar os dados do <a href=\"https://developer.datafiniti.co/docs/business-data-schema\">CEP</a>\n"
   ]
  },
  {
   "cell_type": "code",
   "execution_count": 23,
   "metadata": {
    "hidden": true
   },
   "outputs": [
    {
     "data": {
      "text/html": [
       "\n",
       "    <div class=\"bk-root\">\n",
       "        <a href=\"https://bokeh.pydata.org\" target=\"_blank\" class=\"bk-logo bk-logo-small bk-logo-notebook\"></a>\n",
       "        <span id=\"1002\">Loading BokehJS ...</span>\n",
       "    </div>"
      ]
     },
     "metadata": {},
     "output_type": "display_data"
    },
    {
     "data": {
      "application/javascript": [
       "\n",
       "(function(root) {\n",
       "  function now() {\n",
       "    return new Date();\n",
       "  }\n",
       "\n",
       "  var force = true;\n",
       "\n",
       "  if (typeof (root._bokeh_onload_callbacks) === \"undefined\" || force === true) {\n",
       "    root._bokeh_onload_callbacks = [];\n",
       "    root._bokeh_is_loading = undefined;\n",
       "  }\n",
       "\n",
       "  var JS_MIME_TYPE = 'application/javascript';\n",
       "  var HTML_MIME_TYPE = 'text/html';\n",
       "  var EXEC_MIME_TYPE = 'application/vnd.bokehjs_exec.v0+json';\n",
       "  var CLASS_NAME = 'output_bokeh rendered_html';\n",
       "\n",
       "  /**\n",
       "   * Render data to the DOM node\n",
       "   */\n",
       "  function render(props, node) {\n",
       "    var script = document.createElement(\"script\");\n",
       "    node.appendChild(script);\n",
       "  }\n",
       "\n",
       "  /**\n",
       "   * Handle when an output is cleared or removed\n",
       "   */\n",
       "  function handleClearOutput(event, handle) {\n",
       "    var cell = handle.cell;\n",
       "\n",
       "    var id = cell.output_area._bokeh_element_id;\n",
       "    var server_id = cell.output_area._bokeh_server_id;\n",
       "    // Clean up Bokeh references\n",
       "    if (id != null && id in Bokeh.index) {\n",
       "      Bokeh.index[id].model.document.clear();\n",
       "      delete Bokeh.index[id];\n",
       "    }\n",
       "\n",
       "    if (server_id !== undefined) {\n",
       "      // Clean up Bokeh references\n",
       "      var cmd = \"from bokeh.io.state import curstate; print(curstate().uuid_to_server['\" + server_id + \"'].get_sessions()[0].document.roots[0]._id)\";\n",
       "      cell.notebook.kernel.execute(cmd, {\n",
       "        iopub: {\n",
       "          output: function(msg) {\n",
       "            var id = msg.content.text.trim();\n",
       "            if (id in Bokeh.index) {\n",
       "              Bokeh.index[id].model.document.clear();\n",
       "              delete Bokeh.index[id];\n",
       "            }\n",
       "          }\n",
       "        }\n",
       "      });\n",
       "      // Destroy server and session\n",
       "      var cmd = \"import bokeh.io.notebook as ion; ion.destroy_server('\" + server_id + \"')\";\n",
       "      cell.notebook.kernel.execute(cmd);\n",
       "    }\n",
       "  }\n",
       "\n",
       "  /**\n",
       "   * Handle when a new output is added\n",
       "   */\n",
       "  function handleAddOutput(event, handle) {\n",
       "    var output_area = handle.output_area;\n",
       "    var output = handle.output;\n",
       "\n",
       "    // limit handleAddOutput to display_data with EXEC_MIME_TYPE content only\n",
       "    if ((output.output_type != \"display_data\") || (!output.data.hasOwnProperty(EXEC_MIME_TYPE))) {\n",
       "      return\n",
       "    }\n",
       "\n",
       "    var toinsert = output_area.element.find(\".\" + CLASS_NAME.split(' ')[0]);\n",
       "\n",
       "    if (output.metadata[EXEC_MIME_TYPE][\"id\"] !== undefined) {\n",
       "      toinsert[toinsert.length - 1].firstChild.textContent = output.data[JS_MIME_TYPE];\n",
       "      // store reference to embed id on output_area\n",
       "      output_area._bokeh_element_id = output.metadata[EXEC_MIME_TYPE][\"id\"];\n",
       "    }\n",
       "    if (output.metadata[EXEC_MIME_TYPE][\"server_id\"] !== undefined) {\n",
       "      var bk_div = document.createElement(\"div\");\n",
       "      bk_div.innerHTML = output.data[HTML_MIME_TYPE];\n",
       "      var script_attrs = bk_div.children[0].attributes;\n",
       "      for (var i = 0; i < script_attrs.length; i++) {\n",
       "        toinsert[toinsert.length - 1].firstChild.setAttribute(script_attrs[i].name, script_attrs[i].value);\n",
       "      }\n",
       "      // store reference to server id on output_area\n",
       "      output_area._bokeh_server_id = output.metadata[EXEC_MIME_TYPE][\"server_id\"];\n",
       "    }\n",
       "  }\n",
       "\n",
       "  function register_renderer(events, OutputArea) {\n",
       "\n",
       "    function append_mime(data, metadata, element) {\n",
       "      // create a DOM node to render to\n",
       "      var toinsert = this.create_output_subarea(\n",
       "        metadata,\n",
       "        CLASS_NAME,\n",
       "        EXEC_MIME_TYPE\n",
       "      );\n",
       "      this.keyboard_manager.register_events(toinsert);\n",
       "      // Render to node\n",
       "      var props = {data: data, metadata: metadata[EXEC_MIME_TYPE]};\n",
       "      render(props, toinsert[toinsert.length - 1]);\n",
       "      element.append(toinsert);\n",
       "      return toinsert\n",
       "    }\n",
       "\n",
       "    /* Handle when an output is cleared or removed */\n",
       "    events.on('clear_output.CodeCell', handleClearOutput);\n",
       "    events.on('delete.Cell', handleClearOutput);\n",
       "\n",
       "    /* Handle when a new output is added */\n",
       "    events.on('output_added.OutputArea', handleAddOutput);\n",
       "\n",
       "    /**\n",
       "     * Register the mime type and append_mime function with output_area\n",
       "     */\n",
       "    OutputArea.prototype.register_mime_type(EXEC_MIME_TYPE, append_mime, {\n",
       "      /* Is output safe? */\n",
       "      safe: true,\n",
       "      /* Index of renderer in `output_area.display_order` */\n",
       "      index: 0\n",
       "    });\n",
       "  }\n",
       "\n",
       "  // register the mime type if in Jupyter Notebook environment and previously unregistered\n",
       "  if (root.Jupyter !== undefined) {\n",
       "    var events = require('base/js/events');\n",
       "    var OutputArea = require('notebook/js/outputarea').OutputArea;\n",
       "\n",
       "    if (OutputArea.prototype.mime_types().indexOf(EXEC_MIME_TYPE) == -1) {\n",
       "      register_renderer(events, OutputArea);\n",
       "    }\n",
       "  }\n",
       "\n",
       "  \n",
       "  if (typeof (root._bokeh_timeout) === \"undefined\" || force === true) {\n",
       "    root._bokeh_timeout = Date.now() + 5000;\n",
       "    root._bokeh_failed_load = false;\n",
       "  }\n",
       "\n",
       "  var NB_LOAD_WARNING = {'data': {'text/html':\n",
       "     \"<div style='background-color: #fdd'>\\n\"+\n",
       "     \"<p>\\n\"+\n",
       "     \"BokehJS does not appear to have successfully loaded. If loading BokehJS from CDN, this \\n\"+\n",
       "     \"may be due to a slow or bad network connection. Possible fixes:\\n\"+\n",
       "     \"</p>\\n\"+\n",
       "     \"<ul>\\n\"+\n",
       "     \"<li>re-rerun `output_notebook()` to attempt to load from CDN again, or</li>\\n\"+\n",
       "     \"<li>use INLINE resources instead, as so:</li>\\n\"+\n",
       "     \"</ul>\\n\"+\n",
       "     \"<code>\\n\"+\n",
       "     \"from bokeh.resources import INLINE\\n\"+\n",
       "     \"output_notebook(resources=INLINE)\\n\"+\n",
       "     \"</code>\\n\"+\n",
       "     \"</div>\"}};\n",
       "\n",
       "  function display_loaded() {\n",
       "    var el = document.getElementById(\"1002\");\n",
       "    if (el != null) {\n",
       "      el.textContent = \"BokehJS is loading...\";\n",
       "    }\n",
       "    if (root.Bokeh !== undefined) {\n",
       "      if (el != null) {\n",
       "        el.textContent = \"BokehJS \" + root.Bokeh.version + \" successfully loaded.\";\n",
       "      }\n",
       "    } else if (Date.now() < root._bokeh_timeout) {\n",
       "      setTimeout(display_loaded, 100)\n",
       "    }\n",
       "  }\n",
       "\n",
       "\n",
       "  function run_callbacks() {\n",
       "    try {\n",
       "      root._bokeh_onload_callbacks.forEach(function(callback) { callback() });\n",
       "    }\n",
       "    finally {\n",
       "      delete root._bokeh_onload_callbacks\n",
       "    }\n",
       "    console.info(\"Bokeh: all callbacks have finished\");\n",
       "  }\n",
       "\n",
       "  function load_libs(js_urls, callback) {\n",
       "    root._bokeh_onload_callbacks.push(callback);\n",
       "    if (root._bokeh_is_loading > 0) {\n",
       "      console.log(\"Bokeh: BokehJS is being loaded, scheduling callback at\", now());\n",
       "      return null;\n",
       "    }\n",
       "    if (js_urls == null || js_urls.length === 0) {\n",
       "      run_callbacks();\n",
       "      return null;\n",
       "    }\n",
       "    console.log(\"Bokeh: BokehJS not loaded, scheduling load and callback at\", now());\n",
       "    root._bokeh_is_loading = js_urls.length;\n",
       "    for (var i = 0; i < js_urls.length; i++) {\n",
       "      var url = js_urls[i];\n",
       "      var s = document.createElement('script');\n",
       "      s.src = url;\n",
       "      s.async = false;\n",
       "      s.onreadystatechange = s.onload = function() {\n",
       "        root._bokeh_is_loading--;\n",
       "        if (root._bokeh_is_loading === 0) {\n",
       "          console.log(\"Bokeh: all BokehJS libraries loaded\");\n",
       "          run_callbacks()\n",
       "        }\n",
       "      };\n",
       "      s.onerror = function() {\n",
       "        console.warn(\"failed to load library \" + url);\n",
       "      };\n",
       "      console.log(\"Bokeh: injecting script tag for BokehJS library: \", url);\n",
       "      document.getElementsByTagName(\"head\")[0].appendChild(s);\n",
       "    }\n",
       "  };var element = document.getElementById(\"1002\");\n",
       "  if (element == null) {\n",
       "    console.log(\"Bokeh: ERROR: autoload.js configured with elementid '1002' but no matching script tag was found. \")\n",
       "    return false;\n",
       "  }\n",
       "\n",
       "  var js_urls = [\"https://cdn.pydata.org/bokeh/release/bokeh-1.0.4.min.js\", \"https://cdn.pydata.org/bokeh/release/bokeh-widgets-1.0.4.min.js\", \"https://cdn.pydata.org/bokeh/release/bokeh-tables-1.0.4.min.js\", \"https://cdn.pydata.org/bokeh/release/bokeh-gl-1.0.4.min.js\"];\n",
       "\n",
       "  var inline_js = [\n",
       "    function(Bokeh) {\n",
       "      Bokeh.set_log_level(\"info\");\n",
       "    },\n",
       "    \n",
       "    function(Bokeh) {\n",
       "      \n",
       "    },\n",
       "    function(Bokeh) {\n",
       "      console.log(\"Bokeh: injecting CSS: https://cdn.pydata.org/bokeh/release/bokeh-1.0.4.min.css\");\n",
       "      Bokeh.embed.inject_css(\"https://cdn.pydata.org/bokeh/release/bokeh-1.0.4.min.css\");\n",
       "      console.log(\"Bokeh: injecting CSS: https://cdn.pydata.org/bokeh/release/bokeh-widgets-1.0.4.min.css\");\n",
       "      Bokeh.embed.inject_css(\"https://cdn.pydata.org/bokeh/release/bokeh-widgets-1.0.4.min.css\");\n",
       "      console.log(\"Bokeh: injecting CSS: https://cdn.pydata.org/bokeh/release/bokeh-tables-1.0.4.min.css\");\n",
       "      Bokeh.embed.inject_css(\"https://cdn.pydata.org/bokeh/release/bokeh-tables-1.0.4.min.css\");\n",
       "    }\n",
       "  ];\n",
       "\n",
       "  function run_inline_js() {\n",
       "    \n",
       "    if ((root.Bokeh !== undefined) || (force === true)) {\n",
       "      for (var i = 0; i < inline_js.length; i++) {\n",
       "        inline_js[i].call(root, root.Bokeh);\n",
       "      }if (force === true) {\n",
       "        display_loaded();\n",
       "      }} else if (Date.now() < root._bokeh_timeout) {\n",
       "      setTimeout(run_inline_js, 100);\n",
       "    } else if (!root._bokeh_failed_load) {\n",
       "      console.log(\"Bokeh: BokehJS failed to load within specified timeout.\");\n",
       "      root._bokeh_failed_load = true;\n",
       "    } else if (force !== true) {\n",
       "      var cell = $(document.getElementById(\"1002\")).parents('.cell').data().cell;\n",
       "      cell.output_area.append_execute_result(NB_LOAD_WARNING)\n",
       "    }\n",
       "\n",
       "  }\n",
       "\n",
       "  if (root._bokeh_is_loading === 0) {\n",
       "    console.log(\"Bokeh: BokehJS loaded, going straight to plotting\");\n",
       "    run_inline_js();\n",
       "  } else {\n",
       "    load_libs(js_urls, function() {\n",
       "      console.log(\"Bokeh: BokehJS plotting callback run at\", now());\n",
       "      run_inline_js();\n",
       "    });\n",
       "  }\n",
       "}(window));"
      ],
      "application/vnd.bokehjs_load.v0+json": "\n(function(root) {\n  function now() {\n    return new Date();\n  }\n\n  var force = true;\n\n  if (typeof (root._bokeh_onload_callbacks) === \"undefined\" || force === true) {\n    root._bokeh_onload_callbacks = [];\n    root._bokeh_is_loading = undefined;\n  }\n\n  \n\n  \n  if (typeof (root._bokeh_timeout) === \"undefined\" || force === true) {\n    root._bokeh_timeout = Date.now() + 5000;\n    root._bokeh_failed_load = false;\n  }\n\n  var NB_LOAD_WARNING = {'data': {'text/html':\n     \"<div style='background-color: #fdd'>\\n\"+\n     \"<p>\\n\"+\n     \"BokehJS does not appear to have successfully loaded. If loading BokehJS from CDN, this \\n\"+\n     \"may be due to a slow or bad network connection. Possible fixes:\\n\"+\n     \"</p>\\n\"+\n     \"<ul>\\n\"+\n     \"<li>re-rerun `output_notebook()` to attempt to load from CDN again, or</li>\\n\"+\n     \"<li>use INLINE resources instead, as so:</li>\\n\"+\n     \"</ul>\\n\"+\n     \"<code>\\n\"+\n     \"from bokeh.resources import INLINE\\n\"+\n     \"output_notebook(resources=INLINE)\\n\"+\n     \"</code>\\n\"+\n     \"</div>\"}};\n\n  function display_loaded() {\n    var el = document.getElementById(\"1002\");\n    if (el != null) {\n      el.textContent = \"BokehJS is loading...\";\n    }\n    if (root.Bokeh !== undefined) {\n      if (el != null) {\n        el.textContent = \"BokehJS \" + root.Bokeh.version + \" successfully loaded.\";\n      }\n    } else if (Date.now() < root._bokeh_timeout) {\n      setTimeout(display_loaded, 100)\n    }\n  }\n\n\n  function run_callbacks() {\n    try {\n      root._bokeh_onload_callbacks.forEach(function(callback) { callback() });\n    }\n    finally {\n      delete root._bokeh_onload_callbacks\n    }\n    console.info(\"Bokeh: all callbacks have finished\");\n  }\n\n  function load_libs(js_urls, callback) {\n    root._bokeh_onload_callbacks.push(callback);\n    if (root._bokeh_is_loading > 0) {\n      console.log(\"Bokeh: BokehJS is being loaded, scheduling callback at\", now());\n      return null;\n    }\n    if (js_urls == null || js_urls.length === 0) {\n      run_callbacks();\n      return null;\n    }\n    console.log(\"Bokeh: BokehJS not loaded, scheduling load and callback at\", now());\n    root._bokeh_is_loading = js_urls.length;\n    for (var i = 0; i < js_urls.length; i++) {\n      var url = js_urls[i];\n      var s = document.createElement('script');\n      s.src = url;\n      s.async = false;\n      s.onreadystatechange = s.onload = function() {\n        root._bokeh_is_loading--;\n        if (root._bokeh_is_loading === 0) {\n          console.log(\"Bokeh: all BokehJS libraries loaded\");\n          run_callbacks()\n        }\n      };\n      s.onerror = function() {\n        console.warn(\"failed to load library \" + url);\n      };\n      console.log(\"Bokeh: injecting script tag for BokehJS library: \", url);\n      document.getElementsByTagName(\"head\")[0].appendChild(s);\n    }\n  };var element = document.getElementById(\"1002\");\n  if (element == null) {\n    console.log(\"Bokeh: ERROR: autoload.js configured with elementid '1002' but no matching script tag was found. \")\n    return false;\n  }\n\n  var js_urls = [\"https://cdn.pydata.org/bokeh/release/bokeh-1.0.4.min.js\", \"https://cdn.pydata.org/bokeh/release/bokeh-widgets-1.0.4.min.js\", \"https://cdn.pydata.org/bokeh/release/bokeh-tables-1.0.4.min.js\", \"https://cdn.pydata.org/bokeh/release/bokeh-gl-1.0.4.min.js\"];\n\n  var inline_js = [\n    function(Bokeh) {\n      Bokeh.set_log_level(\"info\");\n    },\n    \n    function(Bokeh) {\n      \n    },\n    function(Bokeh) {\n      console.log(\"Bokeh: injecting CSS: https://cdn.pydata.org/bokeh/release/bokeh-1.0.4.min.css\");\n      Bokeh.embed.inject_css(\"https://cdn.pydata.org/bokeh/release/bokeh-1.0.4.min.css\");\n      console.log(\"Bokeh: injecting CSS: https://cdn.pydata.org/bokeh/release/bokeh-widgets-1.0.4.min.css\");\n      Bokeh.embed.inject_css(\"https://cdn.pydata.org/bokeh/release/bokeh-widgets-1.0.4.min.css\");\n      console.log(\"Bokeh: injecting CSS: https://cdn.pydata.org/bokeh/release/bokeh-tables-1.0.4.min.css\");\n      Bokeh.embed.inject_css(\"https://cdn.pydata.org/bokeh/release/bokeh-tables-1.0.4.min.css\");\n    }\n  ];\n\n  function run_inline_js() {\n    \n    if ((root.Bokeh !== undefined) || (force === true)) {\n      for (var i = 0; i < inline_js.length; i++) {\n        inline_js[i].call(root, root.Bokeh);\n      }if (force === true) {\n        display_loaded();\n      }} else if (Date.now() < root._bokeh_timeout) {\n      setTimeout(run_inline_js, 100);\n    } else if (!root._bokeh_failed_load) {\n      console.log(\"Bokeh: BokehJS failed to load within specified timeout.\");\n      root._bokeh_failed_load = true;\n    } else if (force !== true) {\n      var cell = $(document.getElementById(\"1002\")).parents('.cell').data().cell;\n      cell.output_area.append_execute_result(NB_LOAD_WARNING)\n    }\n\n  }\n\n  if (root._bokeh_is_loading === 0) {\n    console.log(\"Bokeh: BokehJS loaded, going straight to plotting\");\n    run_inline_js();\n  } else {\n    load_libs(js_urls, function() {\n      console.log(\"Bokeh: BokehJS plotting callback run at\", now());\n      run_inline_js();\n    });\n  }\n}(window));"
     },
     "metadata": {},
     "output_type": "display_data"
    }
   ],
   "source": [
    "#Importando Bokeh packages for interactive plots\n",
    "from bokeh.plotting import figure, show, output_notebook\n",
    "from bokeh.models import ColumnDataSource, HoverTool, CategoricalColorMapper\n",
    "from bokeh.tile_providers import CARTODBPOSITRON_RETINA\n",
    "from bokeh.palettes import Category20b, Category20c, Spectral\n",
    "from bokeh.layouts import gridplot\n",
    "\n",
    "output_notebook()"
   ]
  },
  {
   "cell_type": "code",
   "execution_count": 24,
   "metadata": {
    "hidden": true
   },
   "outputs": [
    {
     "data": {
      "text/html": [
       "<div>\n",
       "<style scoped>\n",
       "    .dataframe tbody tr th:only-of-type {\n",
       "        vertical-align: middle;\n",
       "    }\n",
       "\n",
       "    .dataframe tbody tr th {\n",
       "        vertical-align: top;\n",
       "    }\n",
       "\n",
       "    .dataframe thead th {\n",
       "        text-align: right;\n",
       "    }\n",
       "</style>\n",
       "<table border=\"1\" class=\"dataframe\">\n",
       "  <thead>\n",
       "    <tr style=\"text-align: right;\">\n",
       "      <th></th>\n",
       "      <th>Unnamed: 0</th>\n",
       "      <th>id</th>\n",
       "      <th>address</th>\n",
       "      <th>categories</th>\n",
       "      <th>city</th>\n",
       "      <th>country</th>\n",
       "      <th>keys</th>\n",
       "      <th>latitude</th>\n",
       "      <th>longitude</th>\n",
       "      <th>menus.amountMax</th>\n",
       "      <th>menus.amountMin</th>\n",
       "      <th>menus.currency</th>\n",
       "      <th>menus.dateSeen</th>\n",
       "      <th>menus.description</th>\n",
       "      <th>menus.name</th>\n",
       "      <th>name</th>\n",
       "      <th>postalCode</th>\n",
       "      <th>priceRangeCurrency</th>\n",
       "      <th>priceRangeMin</th>\n",
       "      <th>priceRangeMax</th>\n",
       "      <th>province</th>\n",
       "    </tr>\n",
       "  </thead>\n",
       "  <tbody>\n",
       "    <tr>\n",
       "      <th>0</th>\n",
       "      <td>0</td>\n",
       "      <td>AVwc_6KEIN2L1WUfrKAH</td>\n",
       "      <td>Cascade Village Mall Across From Target</td>\n",
       "      <td>Pizza Place</td>\n",
       "      <td>Bend</td>\n",
       "      <td>US</td>\n",
       "      <td>us/or/bend/cascadevillagemallacrossfromtarget/...</td>\n",
       "      <td>44.102665</td>\n",
       "      <td>-121.300797</td>\n",
       "      <td>22.50</td>\n",
       "      <td>15.50</td>\n",
       "      <td>USD</td>\n",
       "      <td>2016-03-31T02:19:42Z</td>\n",
       "      <td>NaN</td>\n",
       "      <td>Bianca Pizza</td>\n",
       "      <td>Little Pizza Paradise</td>\n",
       "      <td>97701</td>\n",
       "      <td>USD</td>\n",
       "      <td>15.6</td>\n",
       "      <td>36.57</td>\n",
       "      <td>OR</td>\n",
       "    </tr>\n",
       "    <tr>\n",
       "      <th>1</th>\n",
       "      <td>1</td>\n",
       "      <td>AVwc_6KEIN2L1WUfrKAH</td>\n",
       "      <td>Cascade Village Mall Across From Target</td>\n",
       "      <td>Pizza Place</td>\n",
       "      <td>Bend</td>\n",
       "      <td>US</td>\n",
       "      <td>us/or/bend/cascadevillagemallacrossfromtarget/...</td>\n",
       "      <td>44.102665</td>\n",
       "      <td>-121.300797</td>\n",
       "      <td>18.95</td>\n",
       "      <td>18.95</td>\n",
       "      <td>USD</td>\n",
       "      <td>2016-03-31T02:19:42Z</td>\n",
       "      <td>NaN</td>\n",
       "      <td>Cheese Pizza</td>\n",
       "      <td>Little Pizza Paradise</td>\n",
       "      <td>97701</td>\n",
       "      <td>USD</td>\n",
       "      <td>15.6</td>\n",
       "      <td>36.57</td>\n",
       "      <td>OR</td>\n",
       "    </tr>\n",
       "    <tr>\n",
       "      <th>2</th>\n",
       "      <td>2</td>\n",
       "      <td>AVwc_6qRByjofQCxkcxw</td>\n",
       "      <td>148 S Barrington Ave</td>\n",
       "      <td>American Restaurant,Bar,Bakery</td>\n",
       "      <td>Los Angeles</td>\n",
       "      <td>US</td>\n",
       "      <td>us/brentwood/losangeles/148sbarringtonave/-151...</td>\n",
       "      <td>34.064563</td>\n",
       "      <td>-118.469017</td>\n",
       "      <td>12.00</td>\n",
       "      <td>12.00</td>\n",
       "      <td>USD</td>\n",
       "      <td>2015-10-23T03:57:26Z</td>\n",
       "      <td>NaN</td>\n",
       "      <td>Pizza, Margherita</td>\n",
       "      <td>The Brentwood</td>\n",
       "      <td>90049</td>\n",
       "      <td>USD</td>\n",
       "      <td>50.0</td>\n",
       "      <td>55.00</td>\n",
       "      <td>Brentwood</td>\n",
       "    </tr>\n",
       "    <tr>\n",
       "      <th>3</th>\n",
       "      <td>3</td>\n",
       "      <td>AVwc_6qRByjofQCxkcxw</td>\n",
       "      <td>148 S Barrington Ave</td>\n",
       "      <td>American Restaurant,Bar,Bakery</td>\n",
       "      <td>Los Angeles</td>\n",
       "      <td>US</td>\n",
       "      <td>us/brentwood/losangeles/148sbarringtonave/-151...</td>\n",
       "      <td>34.064563</td>\n",
       "      <td>-118.469017</td>\n",
       "      <td>13.00</td>\n",
       "      <td>13.00</td>\n",
       "      <td>USD</td>\n",
       "      <td>2015-10-23T03:57:26Z</td>\n",
       "      <td>NaN</td>\n",
       "      <td>Pizza, Mushroom</td>\n",
       "      <td>The Brentwood</td>\n",
       "      <td>90049</td>\n",
       "      <td>USD</td>\n",
       "      <td>50.0</td>\n",
       "      <td>55.00</td>\n",
       "      <td>Brentwood</td>\n",
       "    </tr>\n",
       "    <tr>\n",
       "      <th>4</th>\n",
       "      <td>4</td>\n",
       "      <td>AVwc_6qRByjofQCxkcxw</td>\n",
       "      <td>148 S Barrington Ave</td>\n",
       "      <td>American Restaurant,Bar,Bakery</td>\n",
       "      <td>Los Angeles</td>\n",
       "      <td>US</td>\n",
       "      <td>us/brentwood/losangeles/148sbarringtonave/-151...</td>\n",
       "      <td>34.064563</td>\n",
       "      <td>-118.469017</td>\n",
       "      <td>13.00</td>\n",
       "      <td>13.00</td>\n",
       "      <td>USD</td>\n",
       "      <td>2015-10-23T03:57:26Z</td>\n",
       "      <td>Olives, onions, capers, tomatoes</td>\n",
       "      <td>Pizza, Puttenesca</td>\n",
       "      <td>The Brentwood</td>\n",
       "      <td>90049</td>\n",
       "      <td>USD</td>\n",
       "      <td>50.0</td>\n",
       "      <td>55.00</td>\n",
       "      <td>Brentwood</td>\n",
       "    </tr>\n",
       "  </tbody>\n",
       "</table>\n",
       "</div>"
      ],
      "text/plain": [
       "   Unnamed: 0                    id                                  address  \\\n",
       "0           0  AVwc_6KEIN2L1WUfrKAH  Cascade Village Mall Across From Target   \n",
       "1           1  AVwc_6KEIN2L1WUfrKAH  Cascade Village Mall Across From Target   \n",
       "2           2  AVwc_6qRByjofQCxkcxw                     148 S Barrington Ave   \n",
       "3           3  AVwc_6qRByjofQCxkcxw                     148 S Barrington Ave   \n",
       "4           4  AVwc_6qRByjofQCxkcxw                     148 S Barrington Ave   \n",
       "\n",
       "                       categories         city country  \\\n",
       "0                     Pizza Place         Bend      US   \n",
       "1                     Pizza Place         Bend      US   \n",
       "2  American Restaurant,Bar,Bakery  Los Angeles      US   \n",
       "3  American Restaurant,Bar,Bakery  Los Angeles      US   \n",
       "4  American Restaurant,Bar,Bakery  Los Angeles      US   \n",
       "\n",
       "                                                keys   latitude   longitude  \\\n",
       "0  us/or/bend/cascadevillagemallacrossfromtarget/...  44.102665 -121.300797   \n",
       "1  us/or/bend/cascadevillagemallacrossfromtarget/...  44.102665 -121.300797   \n",
       "2  us/brentwood/losangeles/148sbarringtonave/-151...  34.064563 -118.469017   \n",
       "3  us/brentwood/losangeles/148sbarringtonave/-151...  34.064563 -118.469017   \n",
       "4  us/brentwood/losangeles/148sbarringtonave/-151...  34.064563 -118.469017   \n",
       "\n",
       "   menus.amountMax  menus.amountMin menus.currency        menus.dateSeen  \\\n",
       "0            22.50            15.50            USD  2016-03-31T02:19:42Z   \n",
       "1            18.95            18.95            USD  2016-03-31T02:19:42Z   \n",
       "2            12.00            12.00            USD  2015-10-23T03:57:26Z   \n",
       "3            13.00            13.00            USD  2015-10-23T03:57:26Z   \n",
       "4            13.00            13.00            USD  2015-10-23T03:57:26Z   \n",
       "\n",
       "                  menus.description         menus.name                   name  \\\n",
       "0                               NaN       Bianca Pizza  Little Pizza Paradise   \n",
       "1                               NaN       Cheese Pizza  Little Pizza Paradise   \n",
       "2                               NaN  Pizza, Margherita          The Brentwood   \n",
       "3                               NaN    Pizza, Mushroom          The Brentwood   \n",
       "4  Olives, onions, capers, tomatoes  Pizza, Puttenesca          The Brentwood   \n",
       "\n",
       "  postalCode priceRangeCurrency  priceRangeMin  priceRangeMax   province  \n",
       "0      97701                USD           15.6          36.57         OR  \n",
       "1      97701                USD           15.6          36.57         OR  \n",
       "2      90049                USD           50.0          55.00  Brentwood  \n",
       "3      90049                USD           50.0          55.00  Brentwood  \n",
       "4      90049                USD           50.0          55.00  Brentwood  "
      ]
     },
     "execution_count": 24,
     "metadata": {},
     "output_type": "execute_result"
    }
   ],
   "source": [
    "#Importando dataset pizza\n",
    "pizza = pd.read_csv('pizza.csv')\n",
    "pizza.head()"
   ]
  },
  {
   "cell_type": "code",
   "execution_count": 25,
   "metadata": {
    "hidden": true
   },
   "outputs": [
    {
     "name": "stdout",
     "output_type": "stream",
     "text": [
      "<class 'pandas.core.frame.DataFrame'>\n",
      "RangeIndex: 3510 entries, 0 to 3509\n",
      "Data columns (total 9 columns):\n",
      "id                 3510 non-null object\n",
      "city               3510 non-null object\n",
      "address            3510 non-null object\n",
      "postalCode         3484 non-null object\n",
      "menus.name         3510 non-null object\n",
      "latitude           3510 non-null float64\n",
      "longitude          3510 non-null float64\n",
      "menus.amountMax    3510 non-null float64\n",
      "menus.amountMin    3510 non-null float64\n",
      "dtypes: float64(4), object(5)\n",
      "memory usage: 246.9+ KB\n"
     ]
    }
   ],
   "source": [
    "#Extraindo colunas mais interessantes\n",
    "pizza_sub = pizza.copy()[['id', 'city', 'address', 'postalCode', \n",
    "                          'menus.name', 'latitude', 'longitude',\n",
    "                          'menus.amountMax', 'menus.amountMin']]\n",
    "pizza_sub.info()"
   ]
  },
  {
   "cell_type": "code",
   "execution_count": 26,
   "metadata": {
    "code_folding": [
     0
    ],
    "hidden": true
   },
   "outputs": [],
   "source": [
    "#Removendo duplicados\n",
    "pizza_sub = pizza_sub.drop_duplicates(subset=['id', 'menus.name'])\n",
    "\n",
    "# count the pizza names\n",
    "names_of_pizza = pizza_sub['menus.name'].value_counts()\n",
    "\n",
    "# merge `names_of_pizza` to `pizza_sub`\n",
    "pizza_sub = pd.merge(pizza_sub, names_of_pizza.to_frame(),\n",
    "                     left_on='menus.name', right_index=True, how='left')"
   ]
  },
  {
   "cell_type": "code",
   "execution_count": 27,
   "metadata": {
    "code_folding": [
     0
    ],
    "hidden": true
   },
   "outputs": [
    {
     "data": {
      "text/html": [
       "<div>\n",
       "<style scoped>\n",
       "    .dataframe tbody tr th:only-of-type {\n",
       "        vertical-align: middle;\n",
       "    }\n",
       "\n",
       "    .dataframe tbody tr th {\n",
       "        vertical-align: top;\n",
       "    }\n",
       "\n",
       "    .dataframe thead th {\n",
       "        text-align: right;\n",
       "    }\n",
       "</style>\n",
       "<table border=\"1\" class=\"dataframe\">\n",
       "  <thead>\n",
       "    <tr style=\"text-align: right;\">\n",
       "      <th></th>\n",
       "      <th>STATE</th>\n",
       "      <th>zipcode</th>\n",
       "    </tr>\n",
       "  </thead>\n",
       "  <tbody>\n",
       "    <tr>\n",
       "      <th>0</th>\n",
       "      <td>AL</td>\n",
       "      <td>00000</td>\n",
       "    </tr>\n",
       "    <tr>\n",
       "      <th>1</th>\n",
       "      <td>AL</td>\n",
       "      <td>00000</td>\n",
       "    </tr>\n",
       "    <tr>\n",
       "      <th>2</th>\n",
       "      <td>AL</td>\n",
       "      <td>00000</td>\n",
       "    </tr>\n",
       "    <tr>\n",
       "      <th>3</th>\n",
       "      <td>AL</td>\n",
       "      <td>00000</td>\n",
       "    </tr>\n",
       "    <tr>\n",
       "      <th>4</th>\n",
       "      <td>AL</td>\n",
       "      <td>00000</td>\n",
       "    </tr>\n",
       "  </tbody>\n",
       "</table>\n",
       "</div>"
      ],
      "text/plain": [
       "  STATE zipcode\n",
       "0    AL   00000\n",
       "1    AL   00000\n",
       "2    AL   00000\n",
       "3    AL   00000\n",
       "4    AL   00000"
      ]
     },
     "execution_count": 27,
     "metadata": {},
     "output_type": "execute_result"
    }
   ],
   "source": [
    "#Importando dataset zipcode\n",
    "zipcode = pd.read_csv('14zpallagi.csv',usecols=['STATE', 'zipcode'], dtype={'zipcode': 'str'})\n",
    "\n",
    "zipcode.head()"
   ]
  },
  {
   "cell_type": "code",
   "execution_count": 28,
   "metadata": {
    "code_folding": [
     0
    ],
    "hidden": true
   },
   "outputs": [
    {
     "data": {
      "text/html": [
       "<div>\n",
       "<style scoped>\n",
       "    .dataframe tbody tr th:only-of-type {\n",
       "        vertical-align: middle;\n",
       "    }\n",
       "\n",
       "    .dataframe tbody tr th {\n",
       "        vertical-align: top;\n",
       "    }\n",
       "\n",
       "    .dataframe thead th {\n",
       "        text-align: right;\n",
       "    }\n",
       "</style>\n",
       "<table border=\"1\" class=\"dataframe\">\n",
       "  <thead>\n",
       "    <tr style=\"text-align: right;\">\n",
       "      <th></th>\n",
       "      <th>STATE</th>\n",
       "      <th>zipcode</th>\n",
       "    </tr>\n",
       "  </thead>\n",
       "  <tbody>\n",
       "    <tr>\n",
       "      <th>0</th>\n",
       "      <td>AL</td>\n",
       "      <td>00000</td>\n",
       "    </tr>\n",
       "    <tr>\n",
       "      <th>6</th>\n",
       "      <td>AL</td>\n",
       "      <td>35004</td>\n",
       "    </tr>\n",
       "    <tr>\n",
       "      <th>12</th>\n",
       "      <td>AL</td>\n",
       "      <td>35005</td>\n",
       "    </tr>\n",
       "    <tr>\n",
       "      <th>18</th>\n",
       "      <td>AL</td>\n",
       "      <td>35006</td>\n",
       "    </tr>\n",
       "    <tr>\n",
       "      <th>24</th>\n",
       "      <td>AL</td>\n",
       "      <td>35007</td>\n",
       "    </tr>\n",
       "  </tbody>\n",
       "</table>\n",
       "</div>"
      ],
      "text/plain": [
       "   STATE zipcode\n",
       "0     AL   00000\n",
       "6     AL   35004\n",
       "12    AL   35005\n",
       "18    AL   35006\n",
       "24    AL   35007"
      ]
     },
     "execution_count": 28,
     "metadata": {},
     "output_type": "execute_result"
    }
   ],
   "source": [
    "#Removendo duplicados\n",
    "zipcode = zipcode.drop_duplicates(['zipcode'])\n",
    "zipcode.head()"
   ]
  },
  {
   "cell_type": "code",
   "execution_count": 29,
   "metadata": {
    "code_folding": [
     0
    ],
    "hidden": true,
    "scrolled": true
   },
   "outputs": [
    {
     "data": {
      "text/html": [
       "<div>\n",
       "<style scoped>\n",
       "    .dataframe tbody tr th:only-of-type {\n",
       "        vertical-align: middle;\n",
       "    }\n",
       "\n",
       "    .dataframe tbody tr th {\n",
       "        vertical-align: top;\n",
       "    }\n",
       "\n",
       "    .dataframe thead th {\n",
       "        text-align: right;\n",
       "    }\n",
       "</style>\n",
       "<table border=\"1\" class=\"dataframe\">\n",
       "  <thead>\n",
       "    <tr style=\"text-align: right;\">\n",
       "      <th></th>\n",
       "      <th>id</th>\n",
       "      <th>city</th>\n",
       "      <th>address</th>\n",
       "      <th>postalCode</th>\n",
       "      <th>menus.name_x</th>\n",
       "      <th>latitude</th>\n",
       "      <th>longitude</th>\n",
       "      <th>menus.amountMax</th>\n",
       "      <th>menus.amountMin</th>\n",
       "      <th>menus.name_y</th>\n",
       "      <th>STATE</th>\n",
       "      <th>zipcode</th>\n",
       "    </tr>\n",
       "  </thead>\n",
       "  <tbody>\n",
       "    <tr>\n",
       "      <th>0</th>\n",
       "      <td>AVwc_6KEIN2L1WUfrKAH</td>\n",
       "      <td>Bend</td>\n",
       "      <td>Cascade Village Mall Across From Target</td>\n",
       "      <td>97701</td>\n",
       "      <td>Bianca Pizza</td>\n",
       "      <td>44.102665</td>\n",
       "      <td>-121.300797</td>\n",
       "      <td>22.50</td>\n",
       "      <td>15.50</td>\n",
       "      <td>3</td>\n",
       "      <td>OR</td>\n",
       "      <td>97701</td>\n",
       "    </tr>\n",
       "    <tr>\n",
       "      <th>1</th>\n",
       "      <td>AVwc_6KEIN2L1WUfrKAH</td>\n",
       "      <td>Bend</td>\n",
       "      <td>Cascade Village Mall Across From Target</td>\n",
       "      <td>97701</td>\n",
       "      <td>Cheese Pizza</td>\n",
       "      <td>44.102665</td>\n",
       "      <td>-121.300797</td>\n",
       "      <td>18.95</td>\n",
       "      <td>18.95</td>\n",
       "      <td>130</td>\n",
       "      <td>OR</td>\n",
       "      <td>97701</td>\n",
       "    </tr>\n",
       "    <tr>\n",
       "      <th>2</th>\n",
       "      <td>AVwc_6qRByjofQCxkcxw</td>\n",
       "      <td>Los Angeles</td>\n",
       "      <td>148 S Barrington Ave</td>\n",
       "      <td>90049</td>\n",
       "      <td>Pizza, Margherita</td>\n",
       "      <td>34.064563</td>\n",
       "      <td>-118.469017</td>\n",
       "      <td>12.00</td>\n",
       "      <td>12.00</td>\n",
       "      <td>1</td>\n",
       "      <td>CA</td>\n",
       "      <td>90049</td>\n",
       "    </tr>\n",
       "    <tr>\n",
       "      <th>3</th>\n",
       "      <td>AVwc_6qRByjofQCxkcxw</td>\n",
       "      <td>Los Angeles</td>\n",
       "      <td>148 S Barrington Ave</td>\n",
       "      <td>90049</td>\n",
       "      <td>Pizza, Mushroom</td>\n",
       "      <td>34.064563</td>\n",
       "      <td>-118.469017</td>\n",
       "      <td>13.00</td>\n",
       "      <td>13.00</td>\n",
       "      <td>1</td>\n",
       "      <td>CA</td>\n",
       "      <td>90049</td>\n",
       "    </tr>\n",
       "    <tr>\n",
       "      <th>4</th>\n",
       "      <td>AVwc_6qRByjofQCxkcxw</td>\n",
       "      <td>Los Angeles</td>\n",
       "      <td>148 S Barrington Ave</td>\n",
       "      <td>90049</td>\n",
       "      <td>Pizza, Puttenesca</td>\n",
       "      <td>34.064563</td>\n",
       "      <td>-118.469017</td>\n",
       "      <td>13.00</td>\n",
       "      <td>13.00</td>\n",
       "      <td>1</td>\n",
       "      <td>CA</td>\n",
       "      <td>90049</td>\n",
       "    </tr>\n",
       "  </tbody>\n",
       "</table>\n",
       "</div>"
      ],
      "text/plain": [
       "                     id         city                                  address  \\\n",
       "0  AVwc_6KEIN2L1WUfrKAH         Bend  Cascade Village Mall Across From Target   \n",
       "1  AVwc_6KEIN2L1WUfrKAH         Bend  Cascade Village Mall Across From Target   \n",
       "2  AVwc_6qRByjofQCxkcxw  Los Angeles                     148 S Barrington Ave   \n",
       "3  AVwc_6qRByjofQCxkcxw  Los Angeles                     148 S Barrington Ave   \n",
       "4  AVwc_6qRByjofQCxkcxw  Los Angeles                     148 S Barrington Ave   \n",
       "\n",
       "  postalCode       menus.name_x   latitude   longitude  menus.amountMax  \\\n",
       "0      97701       Bianca Pizza  44.102665 -121.300797            22.50   \n",
       "1      97701       Cheese Pizza  44.102665 -121.300797            18.95   \n",
       "2      90049  Pizza, Margherita  34.064563 -118.469017            12.00   \n",
       "3      90049    Pizza, Mushroom  34.064563 -118.469017            13.00   \n",
       "4      90049  Pizza, Puttenesca  34.064563 -118.469017            13.00   \n",
       "\n",
       "   menus.amountMin  menus.name_y STATE zipcode  \n",
       "0            15.50             3    OR   97701  \n",
       "1            18.95           130    OR   97701  \n",
       "2            12.00             1    CA   90049  \n",
       "3            13.00             1    CA   90049  \n",
       "4            13.00             1    CA   90049  "
      ]
     },
     "execution_count": 29,
     "metadata": {},
     "output_type": "execute_result"
    }
   ],
   "source": [
    "# merge `pizza data` e `zipcode data`\n",
    "pizza_merge = pd.merge(pizza_sub, zipcode, left_on='postalCode', right_on='zipcode', how='left')\n",
    "pizza_merge.head()"
   ]
  },
  {
   "cell_type": "markdown",
   "metadata": {
    "heading_collapsed": true,
    "hidden": true
   },
   "source": [
    "## Número de pizzarias por estado"
   ]
  },
  {
   "cell_type": "code",
   "execution_count": 30,
   "metadata": {
    "code_folding": [],
    "hidden": true
   },
   "outputs": [
    {
     "data": {
      "text/html": [
       "<div>\n",
       "<style scoped>\n",
       "    .dataframe tbody tr th:only-of-type {\n",
       "        vertical-align: middle;\n",
       "    }\n",
       "\n",
       "    .dataframe tbody tr th {\n",
       "        vertical-align: top;\n",
       "    }\n",
       "\n",
       "    .dataframe thead th {\n",
       "        text-align: right;\n",
       "    }\n",
       "</style>\n",
       "<table border=\"1\" class=\"dataframe\">\n",
       "  <thead>\n",
       "    <tr style=\"text-align: right;\">\n",
       "      <th></th>\n",
       "      <th>city</th>\n",
       "      <th>address</th>\n",
       "      <th>pizza_name</th>\n",
       "      <th>latitude</th>\n",
       "      <th>longitude</th>\n",
       "      <th>menus_amountMax</th>\n",
       "      <th>menus_amountMin</th>\n",
       "      <th>pizza_counts</th>\n",
       "      <th>state</th>\n",
       "      <th>state_counts</th>\n",
       "      <th>dot_size</th>\n",
       "    </tr>\n",
       "  </thead>\n",
       "  <tbody>\n",
       "    <tr>\n",
       "      <th>0</th>\n",
       "      <td>Bend</td>\n",
       "      <td>Cascade Village Mall Across From Target</td>\n",
       "      <td>Bianca Pizza</td>\n",
       "      <td>44.102665</td>\n",
       "      <td>-121.300797</td>\n",
       "      <td>22.50</td>\n",
       "      <td>15.50</td>\n",
       "      <td>3</td>\n",
       "      <td>OR</td>\n",
       "      <td>24.0</td>\n",
       "      <td>5.542432</td>\n",
       "    </tr>\n",
       "    <tr>\n",
       "      <th>1</th>\n",
       "      <td>Bend</td>\n",
       "      <td>Cascade Village Mall Across From Target</td>\n",
       "      <td>Cheese Pizza</td>\n",
       "      <td>44.102665</td>\n",
       "      <td>-121.300797</td>\n",
       "      <td>18.95</td>\n",
       "      <td>18.95</td>\n",
       "      <td>130</td>\n",
       "      <td>OR</td>\n",
       "      <td>24.0</td>\n",
       "      <td>5.042955</td>\n",
       "    </tr>\n",
       "    <tr>\n",
       "      <th>2</th>\n",
       "      <td>Los Angeles</td>\n",
       "      <td>148 S Barrington Ave</td>\n",
       "      <td>Pizza, Margherita</td>\n",
       "      <td>34.064563</td>\n",
       "      <td>-118.469017</td>\n",
       "      <td>12.00</td>\n",
       "      <td>12.00</td>\n",
       "      <td>1</td>\n",
       "      <td>CA</td>\n",
       "      <td>326.0</td>\n",
       "      <td>3.922380</td>\n",
       "    </tr>\n",
       "    <tr>\n",
       "      <th>3</th>\n",
       "      <td>Los Angeles</td>\n",
       "      <td>148 S Barrington Ave</td>\n",
       "      <td>Pizza, Mushroom</td>\n",
       "      <td>34.064563</td>\n",
       "      <td>-118.469017</td>\n",
       "      <td>13.00</td>\n",
       "      <td>13.00</td>\n",
       "      <td>1</td>\n",
       "      <td>CA</td>\n",
       "      <td>326.0</td>\n",
       "      <td>4.098914</td>\n",
       "    </tr>\n",
       "    <tr>\n",
       "      <th>4</th>\n",
       "      <td>Los Angeles</td>\n",
       "      <td>148 S Barrington Ave</td>\n",
       "      <td>Pizza, Puttenesca</td>\n",
       "      <td>34.064563</td>\n",
       "      <td>-118.469017</td>\n",
       "      <td>13.00</td>\n",
       "      <td>13.00</td>\n",
       "      <td>1</td>\n",
       "      <td>CA</td>\n",
       "      <td>326.0</td>\n",
       "      <td>4.098914</td>\n",
       "    </tr>\n",
       "  </tbody>\n",
       "</table>\n",
       "</div>"
      ],
      "text/plain": [
       "          city                                  address         pizza_name  \\\n",
       "0         Bend  Cascade Village Mall Across From Target       Bianca Pizza   \n",
       "1         Bend  Cascade Village Mall Across From Target       Cheese Pizza   \n",
       "2  Los Angeles                     148 S Barrington Ave  Pizza, Margherita   \n",
       "3  Los Angeles                     148 S Barrington Ave    Pizza, Mushroom   \n",
       "4  Los Angeles                     148 S Barrington Ave  Pizza, Puttenesca   \n",
       "\n",
       "    latitude   longitude  menus_amountMax  menus_amountMin  pizza_counts  \\\n",
       "0  44.102665 -121.300797            22.50            15.50             3   \n",
       "1  44.102665 -121.300797            18.95            18.95           130   \n",
       "2  34.064563 -118.469017            12.00            12.00             1   \n",
       "3  34.064563 -118.469017            13.00            13.00             1   \n",
       "4  34.064563 -118.469017            13.00            13.00             1   \n",
       "\n",
       "  state  state_counts  dot_size  \n",
       "0    OR          24.0  5.542432  \n",
       "1    OR          24.0  5.042955  \n",
       "2    CA         326.0  3.922380  \n",
       "3    CA         326.0  4.098914  \n",
       "4    CA         326.0  4.098914  "
      ]
     },
     "execution_count": 30,
     "metadata": {},
     "output_type": "execute_result"
    }
   ],
   "source": [
    "#Quantidade dos restaurantes por estado\n",
    "counts = pizza_merge.STATE.value_counts()\n",
    "\n",
    "#merge\n",
    "pizza_clean = pd.merge(pizza_merge, counts.to_frame(), \n",
    "                       left_on='STATE', right_index=True, how='left')\n",
    "\n",
    "#Removendo as colunas não utilizadas e valores ausentes\n",
    "pizza_clean = pizza_clean.drop(['id', 'postalCode', 'zipcode'], axis=1).dropna()\n",
    "\n",
    "#Renomear colunas \n",
    "pizza_clean.columns = ['city', 'address', 'pizza_name',\n",
    "                        'latitude', 'longitude', \n",
    "                        'menus_amountMax', 'menus_amountMin',\n",
    "                        'pizza_counts', 'state', 'state_counts']\n",
    "\n",
    "#Definir o diâmetro do ponto no gráfico de dispersão\n",
    "pizza_clean['dot_size'] = pizza_clean.menus_amountMax**.55\n",
    "pizza_clean.head()"
   ]
  },
  {
   "cell_type": "markdown",
   "metadata": {
    "heading_collapsed": true,
    "hidden": true
   },
   "source": [
    "## Converter coordenadas\n",
    "\n",
    "Porque latitude, longitude e elevação são um sistema de coordenadas 3D, além de que um mapa que estamos prestes a usar é 2D, precisamos projetar o sistema de coordenadas 3D (latitude e longitude) no sistema de coordenadas 2D (x ** e ** y) para desenho de dados em um mapa."
   ]
  },
  {
   "cell_type": "code",
   "execution_count": 31,
   "metadata": {
    "hidden": true
   },
   "outputs": [],
   "source": [
    "#Criando função para projeção das coordenadas\n",
    "import math\n",
    "\n",
    "def lgn2x(a):\n",
    "    return a * (math.pi/180) * 6378137\n",
    "\n",
    "def lat2y(a):\n",
    "    return math.log(math.tan(a * (math.pi/180)/2 + math.pi/4)) * 6378137"
   ]
  },
  {
   "cell_type": "code",
   "execution_count": 32,
   "metadata": {
    "hidden": true,
    "scrolled": true
   },
   "outputs": [
    {
     "data": {
      "text/html": [
       "<div>\n",
       "<style scoped>\n",
       "    .dataframe tbody tr th:only-of-type {\n",
       "        vertical-align: middle;\n",
       "    }\n",
       "\n",
       "    .dataframe tbody tr th {\n",
       "        vertical-align: top;\n",
       "    }\n",
       "\n",
       "    .dataframe thead th {\n",
       "        text-align: right;\n",
       "    }\n",
       "</style>\n",
       "<table border=\"1\" class=\"dataframe\">\n",
       "  <thead>\n",
       "    <tr style=\"text-align: right;\">\n",
       "      <th></th>\n",
       "      <th>city</th>\n",
       "      <th>address</th>\n",
       "      <th>pizza_name</th>\n",
       "      <th>menus_amountMax</th>\n",
       "      <th>menus_amountMin</th>\n",
       "      <th>pizza_counts</th>\n",
       "      <th>state</th>\n",
       "      <th>state_counts</th>\n",
       "      <th>dot_size</th>\n",
       "      <th>x</th>\n",
       "      <th>y</th>\n",
       "    </tr>\n",
       "  </thead>\n",
       "  <tbody>\n",
       "    <tr>\n",
       "      <th>0</th>\n",
       "      <td>Bend</td>\n",
       "      <td>Cascade Village Mall Across From Target</td>\n",
       "      <td>Bianca Pizza</td>\n",
       "      <td>22.50</td>\n",
       "      <td>15.50</td>\n",
       "      <td>3</td>\n",
       "      <td>OR</td>\n",
       "      <td>24.0</td>\n",
       "      <td>5.542432</td>\n",
       "      <td>-1.350314e+07</td>\n",
       "      <td>5.481344e+06</td>\n",
       "    </tr>\n",
       "    <tr>\n",
       "      <th>1</th>\n",
       "      <td>Bend</td>\n",
       "      <td>Cascade Village Mall Across From Target</td>\n",
       "      <td>Cheese Pizza</td>\n",
       "      <td>18.95</td>\n",
       "      <td>18.95</td>\n",
       "      <td>130</td>\n",
       "      <td>OR</td>\n",
       "      <td>24.0</td>\n",
       "      <td>5.042955</td>\n",
       "      <td>-1.350314e+07</td>\n",
       "      <td>5.481344e+06</td>\n",
       "    </tr>\n",
       "    <tr>\n",
       "      <th>2</th>\n",
       "      <td>Los Angeles</td>\n",
       "      <td>148 S Barrington Ave</td>\n",
       "      <td>Pizza, Margherita</td>\n",
       "      <td>12.00</td>\n",
       "      <td>12.00</td>\n",
       "      <td>1</td>\n",
       "      <td>CA</td>\n",
       "      <td>326.0</td>\n",
       "      <td>3.922380</td>\n",
       "      <td>-1.318791e+07</td>\n",
       "      <td>4.037475e+06</td>\n",
       "    </tr>\n",
       "    <tr>\n",
       "      <th>3</th>\n",
       "      <td>Los Angeles</td>\n",
       "      <td>148 S Barrington Ave</td>\n",
       "      <td>Pizza, Mushroom</td>\n",
       "      <td>13.00</td>\n",
       "      <td>13.00</td>\n",
       "      <td>1</td>\n",
       "      <td>CA</td>\n",
       "      <td>326.0</td>\n",
       "      <td>4.098914</td>\n",
       "      <td>-1.318791e+07</td>\n",
       "      <td>4.037475e+06</td>\n",
       "    </tr>\n",
       "    <tr>\n",
       "      <th>4</th>\n",
       "      <td>Los Angeles</td>\n",
       "      <td>148 S Barrington Ave</td>\n",
       "      <td>Pizza, Puttenesca</td>\n",
       "      <td>13.00</td>\n",
       "      <td>13.00</td>\n",
       "      <td>1</td>\n",
       "      <td>CA</td>\n",
       "      <td>326.0</td>\n",
       "      <td>4.098914</td>\n",
       "      <td>-1.318791e+07</td>\n",
       "      <td>4.037475e+06</td>\n",
       "    </tr>\n",
       "  </tbody>\n",
       "</table>\n",
       "</div>"
      ],
      "text/plain": [
       "          city                                  address         pizza_name  \\\n",
       "0         Bend  Cascade Village Mall Across From Target       Bianca Pizza   \n",
       "1         Bend  Cascade Village Mall Across From Target       Cheese Pizza   \n",
       "2  Los Angeles                     148 S Barrington Ave  Pizza, Margherita   \n",
       "3  Los Angeles                     148 S Barrington Ave    Pizza, Mushroom   \n",
       "4  Los Angeles                     148 S Barrington Ave  Pizza, Puttenesca   \n",
       "\n",
       "   menus_amountMax  menus_amountMin  pizza_counts state  state_counts  \\\n",
       "0            22.50            15.50             3    OR          24.0   \n",
       "1            18.95            18.95           130    OR          24.0   \n",
       "2            12.00            12.00             1    CA         326.0   \n",
       "3            13.00            13.00             1    CA         326.0   \n",
       "4            13.00            13.00             1    CA         326.0   \n",
       "\n",
       "   dot_size             x             y  \n",
       "0  5.542432 -1.350314e+07  5.481344e+06  \n",
       "1  5.042955 -1.350314e+07  5.481344e+06  \n",
       "2  3.922380 -1.318791e+07  4.037475e+06  \n",
       "3  4.098914 -1.318791e+07  4.037475e+06  \n",
       "4  4.098914 -1.318791e+07  4.037475e+06  "
      ]
     },
     "execution_count": 32,
     "metadata": {},
     "output_type": "execute_result"
    }
   ],
   "source": [
    "#Coordenadas do projeto\n",
    "pizza_clean['x'] = pizza_clean.longitude.apply(lambda row: lgn2x(row))\n",
    "pizza_clean['y'] = pizza_clean.latitude.apply(lambda row: lat2y(row))\n",
    "\n",
    "#Descartar colunas não utilizadas\n",
    "pizza_clean = pizza_clean.drop(['latitude', 'longitude'], axis=1)\n",
    "pizza_clean.head()"
   ]
  },
  {
   "cell_type": "markdown",
   "metadata": {
    "heading_collapsed": true,
    "hidden": true
   },
   "source": [
    "## Instanciando mapa interativo "
   ]
  },
  {
   "cell_type": "code",
   "execution_count": 33,
   "metadata": {
    "code_folding": [],
    "hidden": true
   },
   "outputs": [
    {
     "data": {
      "text/html": [
       "\n",
       "\n",
       "\n",
       "\n",
       "\n",
       "\n",
       "  <div class=\"bk-root\" id=\"6945a33c-2caf-4124-b025-4f617859196c\" data-root-id=\"1095\"></div>\n"
      ]
     },
     "metadata": {},
     "output_type": "display_data"
    },
    {
     "data": {
      "application/javascript": [
       "(function(root) {\n",
       "  function embed_document(root) {\n",
       "    \n",
       "  var docs_json = {\"19fa6b84-068e-4779-af52-17d65b54450f\":{\"roots\":{\"references\":[{\"attributes\":{\"children\":[{\"id\":\"1094\",\"type\":\"ToolbarBox\"},{\"id\":\"1092\",\"type\":\"Column\"}]},\"id\":\"1095\",\"type\":\"Row\"},{\"attributes\":{},\"id\":\"1056\",\"type\":\"LinearScale\"},{\"attributes\":{\"fill_color\":{\"field\":\"state\",\"transform\":{\"id\":\"1040\",\"type\":\"CategoricalColorMapper\"}},\"line_color\":{\"field\":\"state\",\"transform\":{\"id\":\"1040\",\"type\":\"CategoricalColorMapper\"}},\"top\":{\"field\":\"state_counts\"},\"width\":{\"value\":0.7},\"x\":{\"field\":\"state\"}},\"id\":\"1073\",\"type\":\"VBar\"},{\"attributes\":{\"callback\":null,\"data\":{\"address\":[\"4002 Lincoln Blvd\",\"440 Park Ave S\",\"11800 W Broad St\",\"10300 Forest Hill Blvd\",\"3401 Esperanza Xing\",\"109 W County Ctr\",\"222 And 222a Prospect W\",\"14910 Pines Blvd\",\"127 W US Highway 54\",\"2415 Mission St\",\"100 S Main St\",\"1411 Mountain Rd\",\"410 Sheridan Rd\",\"3348 Genesee St\",\"303 SE 17th St\",\"1635 Us 52 N\",\"1352 E Broad Ave/hwy 74 E\",\"2918 N Herritage St\",\"Cayuta Ave\",\"5040 Hardy St\",\"3332 Airport Blvd N W\",\"34579 Yucaipa Blvd\",\"11628 Santa Monica Blvd\",\"2402 N High St\",\"544 Arthur Godfrey Rd\",\"5781 Lee Blvd\",\"144 Fifth Ave S\",\"831 Middlefield Rd\",\"2905 Goose Creek Rd\",\"1033 Kilbery Ln\",\"3708 Las Vegas Blvd S\",\"192 Islip Ave\",\"902 13th St\",\"1231 Park St\",\"1492 N Leroy St\",\"1760 44th St S W\",\"258 Deer Park Ave\",\"4746 Vernon Blvd\",\"2220 Wildcat Reserve\",\"9470 Dayton Lebanon Pike\",\"76 Westchester Ave\",\"24 Manorhaven Blvd\",\"8122 Guide Meridian Rd\",\"109 Main St\",\"2815 N Loop 1604 E\",\"508 Contra Costa Blvd\",\"924 W 436\",\"Cascade Village Mall Across From Target\",\"Woodward Ave Bloomfield Hills Mi\",\"300 S Doheny Dr\",\"948 S Cooper St\",\"655 5th Ave S\",\"Battery Park\",\"1278 3rd Ave\",\"13440 22 Mile Rd\",\"1125 Victoria St\",\"11165 S Eastern Ave\",\"1032 Old Peachtree Rd N W\",\"105 E Main St\",\"9641 Olio Rd\",\"Mcdermott\",\"12274 Rockville Pike\",\"715 Greenup Ave\",\"3601 Main St\",\"16049 Johnson Rd\",\"2221 4th St N\",\"610 Wesley Dr\",\"1233 Sage Dr\",\"2241 Westchester Ave\",\"551 E Laburnum Ave\",\"275 N Morton St\",\"5001 N Kings Hwy\",\"1407 E Main St\",\"8251 W Union Hills Dr\",\"1602 Madison Ave\",\"3223 E Camelback Rd\",\"1568 Main St\",\"1280 E Dundee Rd\",\"4952 Merrick Rd\",\"300 W\",\"219 S Sandusky Ave\",\"119 W Phoenix Ave\",\"4140 Carlisle Rd\",\"222 E Main St\",\"14 Lebanon St\",\"15 S Broadway\",\"3151 Steinway St\",\"1100 N Shore Dr\",\"9563 Kings Charter Doctor B\",\"1401 Coshocton Ave\",\"1136 Thorn Run Rd\",\"4261 Griffin Rd\",\"1036 Volvo Pkwy\",\"337 N Shore Dr\",\"5761 Springdale Rd\",\"1809 1 W Anderson Ln\",\"SE Indian St\",\"9595 Six Pines Dr\",\"807 Rockville Pike\",\"1709 E 1300 S\",\"215 Main St\",\"1924 Julia St\",\"717 Sterlington Hwy\",\"1045 NW Kings Blvd\",\"8028 S Emerson Ave\",\"80 S Main St\",\"1601 Collins Ave\",\"604 N Milwaukee Ave\",\"2700 E Bidwell St\",\"13430 Northwest Fwy\",\"134 N Wayne Ave\",\"288 Golf Course Dr W\",\"3251 Prospect St N W\",\"103 N State Rd\",\"120 E Post Rd\",\"803 Spartanburg Hwy\",\"2771 E Broad St\",\"Rainbow Bazaar Hilton Hawaiian Vlg\",\"5205 E 2nd St\",\"4711 N Rockwood Dr\",\"180 Varick St\",\"1829 Eastgate Rd\",\"768 W 1425 N\",\"400 S Orlando Ave\",\"10401 Us 441\",\"13825 Britton Park Rd\",\"11633 San Vicente Blvd\",\"216 Townsend St\",\"444 Eagle Ridge Dr\",\"22 Miller Ave\",\"11011 W Charleston Blvd\",\"2141 Lindau Ln\",\"8809 Baltimore National Pike\",\"107 Driving Park Ave\",\"3000 Custer Rd\",\"14 Scott Adam Rd\",\"458 9th Ave\",\"19 First Ave\",\"1260 Amsterdam Ave\",\"19065 Beach Blvd\",\"700 S E Walton Blvd\",\"14933 Main St\",\"801 2nd Ave\",\"2605 Lawndale Dr\",\"2495 Harrisburg Pike\",\"140 S Lake Ave\",\"117 Broad St\",\"2500 Larimer St\",\"5142 Hollywood Blvd\",\"Harrisonburg Va\",\"1001 Jason Pl\",\"133 Back River Neck Rd\",\"7669 S 700 E\",\"20420 Haggerty Rd\",\"2201 Uptown Loop N E\",\"15080 Idlewild Rd\",\"2404 Sunnyside Dr\",\"12538 Memorial Dr\",\"121 123 South St\",\"52 Lake St\",\"16 S Blackhoof St\",\"2486 N Federal Hwy\",\"302 E 12th St\",\"13238 N E 20th St\",\"701 N Queen St\",\"100 Sycamore Valley Rd\",\"5988 Osgood Ave N\",\"1300 N Charlotte St\",\"4840 Big Island Dr\",\"711 N 132nd St\",\"1001 S Main St\",\"2136 Middle Country Rd\",\"488 9th Ave\",\"6001 Destination Parkway Hilton Orlando\",\"3413 W 7th St\",\"3701 N E 163rd St\",\"27 Grand St\",\"1933 5th Ave\",\"4050 E 82nd St\",\"9595 Six Pnes\",\"1282 Som Center Rd\",\"927 Howell St\",\"2540 Anthem Village Dr\",\"157 S Weber Rd\",\"298 Racetrack Rd\",\"3910 Schofield Ave\",\"244 N Court St\",\"487 S Business Route 5\",\"10501 Gateway Blvd W\",\"74 225 Hwy 111\",\"1400 County Road 101 N\",\"1717 Willamette Falls Dr\",\"4940 E Ray Rd\",\"1250 W Broadway St\",\"25431 Trabuco Rd\",\"217 6th Ave\",\"115 W Main St\",\"400 N Center St\",\"380 Route 909\",\"1114 1st St\",\"22 Englar Rd\",\"2000 E Rio Salado Pkwy\",\"211 Main St\",\"1133 Chastain Rd N W\",\"8699 Ogden Ave\",\"6166 Falls Of Neuse Rd\",\"9822 Libra Ave\",\"1225 Route 9g\",\"1635 Presque Isle Ave\",\"15 Route 236\",\"510 S Mason Rd\",\"1970 W Market St\",\"599 Main St\",\"1655 India St\",\"1909 E Ray Rd\",\"31243 Palos Verdes Dr W\",\"1295 Grandview Ave\",\"10 Matinicock Ave\",\"3665 Kawaihae Shopping Center / 61 Hi 270\",\"2301 Milbend\",\"42 W 35th St\",\"607 Green Valley Rd\",\"7110 Brighton Park Dr\",\"10955 Oval Park Dr\",\"6240 S Main Saint L115 (behind Mcalisteraposs Deli)\",\"148 S Barrington Ave\",\"757 Broadway\",\"200 N 6th St\",\"645 Boardwalk Blvd\",\"717 E Chicago St\",\"1516 E Wood St\",\"6101 Bardstown Rd\",\"1176 Roanoke Rd\",\"5300 N Braeswood Blvd\",\"1812 Red Cliffs Dr\",\"2320 Tiffin Ave\",\"2328 Fairmount Ave\",\"161 E Bay St\",\"5254 Market St\",\"4435 Willard Ave\",\"8352 S Pulaski Rd\",\"127 Hilltown Village Ctr\",\"586 E Main St\",\"150 07 14th Rd\",\"1202 Kingwood Dr\",\"7301 N Fm 620\",\"295 Mare Island Way\",\"& The Embarcadero\",\"22 Warren St\",\"5201 Center St\",\"210 S Depeyster St\",\"512 Rose Ave\",\"80 W Broadway Ave\",\"2817 Maybank Hwy\",\"4141 N E 2nd Ave 101a\",\"305 E Harrison St\",\"3770 Las Vegas Blvd S\",\"2080 Valleydale Rd\",\"720 N Wls\",\"2014 Boston St S E\",\"3505 A Longmire Dr\",\"658 W New York Ave Deland\",\"6280 W Sample Rd\",\"517 Cherry Ln\",\"126 S Main St\",\"1003 E Oak St\",\"1070 Palm Coast Pkwy Nw\",\"3045 Godfrey Rd\",\"15030 S Harlan Rd\",\"123 S Olive Ave\",\"6710 Cahill Ave\",\"2417 Oneil Blvd\",\"7625 N Union Blvd\",\"19 Kelly St\",\"1250 W Lake St\",\"2511 N Main St\",\"22118 West Rd\",\"312 Locust St\",\"5271 E 2nd St\",\"121 4th Ave S\",\"10 Old Clairton Rd\",\"3295 Bel Air Mall\",\"6501 Washington Ave\",\"1514 Us 41\",\"3435 S Inca St\",\"6590 Sugarloaf Pkwy\",\"556 Route 25a\",\"300 E Grand Ave\",\"500 Main St\",\"10835 Venice Blvd\",\"12326 W 143rd St\",\"3975 State Highway 6 S\",\"363 W 46th St\",\"1150 9th St\",\"61160 S Highway 97\",\"1545 Peachtree St N E\",\"780 SE Bishop Blvd\",\"820 N Alta Ave\",\"2600 W Expressway 83\",\"2500 Moreland Rd\",\"201 Oglewood Ln\",\"305 Ash St\",\"116 John R Rice Blvd\",\"7701 White Ln\",\"361 W Main St\",\"4921 State Road 26 E\",\"286 N Adams Rd\",\"10 E 120th Ave\",\"441 6th Ave\",\"950 Lehigh Valley Mall\",\"853 E Lancaster Ave\",\"74711 Dillon Rd\",\"18 Clark Pl\",\"3500 E Main St\",\"584 Amsterdam Ave\",\"1201 16th St\",\"8701 Keystone Xing\",\"505 3rd Ave\",\"205 N Moorpark Rd\",\"Main St\",\"201 Railroad St W\",\"1576 3rd Ave\",\"442 W Hillcrest Dr\",\"825 Hennepin Ave\",\"620 S Broad St\",\"153 11 Union Tpke\",\"691 S Main St\",\"6987 Hamner Ave\",\"10500 10534 S Ridgeland Ave\",\"200 E Main Cross St\",\"5655 Manitou Rd\",\"201 N Main St\",\"220 E Central Pkwy\",\"14205 S 50th St\",\"124 S Solana Hills Dr\",\"4747 Marketplace Dr\",\"1321 N H St\",\"5125 E Main St\",\"1065 First Ave\",\"1 Seascape Resort Dr\",\"885 Town Center Dr\",\"208 Sunrise Hwy\",\"8285 Jericho Tpke\",\"1118 Coolidge Blvd\",\"500 S 6th St\",\"1000 Corporate Dr\",\"105 N Market St\",\"1620 Camino De La Reina\",\"2250 Rittenhouse Rd\",\"200 S Second St\",\"411 Granby St\",\"8900 E Pinnacle Peak Rd\",\"2844 Hudson St\",\"14805 W 64th Ave\",\"1 Station Plz\",\"1707 Delaware Ave\",\"150 Laishley Ct\",\"1100 New York Ave N W\",\"2017 Fox Creek Rd\",\"418 W 9th St\",\"2159 Burke St\",\"1604 N State Highway 161\",\"1365 Sam Nunn Blvd\",\"901 Nordic Dr\",\"1822 N Lincoln Ave\",\"10824 Fairfax Blvd\",\"1664 Indian Hill Blvd\",\"2243 N Cotner Blvd\",\"1402 S 12th Ave\",\"300 Harbor Blvd\",\"400 W Mondamin St\",\"16852 21 Mile Rd\",\"12170 4th St\",\"6593 Collins Dr\",\"873 N 26th St\",\"2424 N Mayfair Rd\",\"141 W Railroad Ave\",\"120 Sarah Wells Trl\",\"4550 Balfour Rd\",\"600 Floyd Ave\",\"718 Culbertson Dr\",\"5536 Torresdale Ave\",\"2006 S Pine St\",\"3207 N Pleasantburg Dr\",\"8915 159th St\",\"23043 Soledad Canyon Rd\",\"4301 W 41st St\",\"191 San Felipe Rd\",\"73722 El Paseo\",\"18607 Bothell Way N E\",\"3812 Rib Mountain Dr\",\"1730 E Highland Dr\",\"115 E Dale St\",\"2811 Nostrand Ave\",\"201 Whitehaven Rd\",\"124 E Sheridan\",\"315 S College Mall Rd\",\"6226 W Ogden\",\"9208 3rd Ave\",\"375 S W Powerhouse Dr\",\"7408 Windsor Mill Rd\",\"2505 4th Ave W\",\"5328 Main Saint (rt 53)\",\"33901 Woodward Ave\",\"145 E Gay St\",\"200 E Chestnut St\",\"748 Heritage Park Blvd\",\"4032 Cedar Springs Rd\",\"7840 Wyoming St\",\"7575 Buckley Rd\",\"3400 S 74th St\",\"4 Enterprise Ave N E\",\"1301 E Miller Ave\",\"7602 N Jupiter Rd\",\"211 N Cortez\",\"25066 Telegraph Rd\",\"14004 E Indiana Ave\",\"1420 E Hatch Rd\",\"137 W\",\"418 E Wyoming Ave\",\"3189 King Ave W\",\"25 Foothill Rd\",\"505 Columbus Ave\",\"111 S Broadway\",\"2350 Clarendon Blvd\",\"530 N Coast Hwy 101\",\"12514 120th Ave N E\",\"45 Washington Ave\",\"5575 Chamblee Dunwoody Rd\",\"1620 E Riverside Dr\",\"14769 Pearl Rd\",\"50 N Valle Verde Dr\",\"4101 W Skippack Pike\",\"5000 Kahala Ave\",\"5240 Cemetery Rd\",\"638 E 169th St\",\"709 Church Ave\",\"300 E 3rd St\",\"2720 N Grandview Blvd\",\"291 Grand Ave\",\"317 S Main St\",\"203 Nanticoke Rd\",\"1801 26th Rd\",\"5800 N Bayshore Dr\",\"5110 Washington Ave\",\"16607 Champion Way\",\"30 Lafayette Ave\",\"650 Westchester Ave\",\"9110 Selborne Ln\",\"33 Patio De Leon\",\"16501 Midland Dr\",\"7A Trolly Sq\",\"2359 Bittersweet Rd\",\"1552 Bergen Pkwy\",\"4109 N Prospect Rd\",\"15950 Eureka Rd\",\"1720 E Sternberg Rd\",\"200 Oak Hill Ave\",\"7520 Peach St\",\"9774 Zimbro Ave\",\"325 High St S E\",\"2320 S Union St\",\"420 N Middletown Rd\",\"1504 Old Country Rd\",\"8136 W 3rd St\",\"1932 Wildcat Canyon Rd\",\"12646 Capital Blvd\",\"801 Saint Emanuel St\",\"1031 E Fairview Ave\",\"10451 Twin Rivers Rd\",\"1425 Gross Rd\",\"190 N Gulph Rd\",\"50a\",\"2901 Watson Blvd\",\"1063 1st Ave\",\"701 Market St\",\"208 2nd St S\",\"21616 Hwy 410\",\"6746 E Cave Creek Rd\",\"14950 Broad At\",\"1 Crossgates Mall Road Crossgates Mall\",\"224 Harper Park Dr\",\"6889 Greenfield Rd\",\"9045 Crawfordsville Rd\",\"9749 N E 119th Way\",\"2619 Red Bluff Kroger Jct\",\"1515 Pease St\",\"12833 Ventura Blvd\",\"1716 Liberty Rd\",\"415 S Teller\",\"475 E Northampton St\",\"539 E 81st St\",\"4112 Pennsylvania Ave\",\"6 E Main St\",\"841 Old Winston Rd\",\"329 Old Santa Fe Trl\",\"15764 S Bell Rd\",\"701 N Milwaukee Ave\",\"6550 Lincoln Ave\",\"11225 Huebner Rd\",\"76 Queens Folly Rd\",\"11981 S Strang Line Rd\",\"1170 S E Bishop Blvd\",\"222 W Campbell Rd\",\"271 Lake Havasu Ave S\",\"26900 Newport Rd\",\"1155 S Broad St\",\"3480 S Carrier Pkwy\",\"190 University Town Center Dr\",\"157 Randhurst Village Dr\",\"330 Yorktown Ctr\",\"Goat Is\",\"2560 Glendale Ave\",\"777 Casino Dr\",\"6653 S Las Vegas Blvd\",\"2420 Columbia House Blvd\",\"1495 Union Ave\",\"932 S 10th St\",\"703 Mckinney Ave\",\"3993 Easton Sta\",\"6200 Germantown Ave\",\"20 Paseo Dr\",\"1431 Plaza Pl\",\"6173 S State St\",\"12594 Adams Rd\",\"310 S California Ave\",\"715 Lenoir Rhyne Blvd S E\",\"101 W Main St\",\"4911 Township Line Rd\",\"222 E Main St\",\"6060 Scholarship\",\"1788 N Atherton St\",\"109 Old Chapin Rd\",\"415 Grand Ave\",\"315 S Coast Highway 101\",\"9700 Bluegrass Pkwy\",\"3100 Lakeville Hwy\",\"277 Alexander St\",\"1735 W Kathleen Ave\",\"308 S Lamar Blvd\",\"2233 B 180a Kalakaua Ave\",\"8436 S 88th Ave\",\"1100 Milwaukee Ave\",\"205 E Main St\",\"145 E 50th St\",\"3551 Lafayette Rd\",\"1125 H St NE\",\"1167 Broad St\",\"1150 Douglas Ave\",\"18 Auburn Way S\",\"427 S Boston Ave\",\"1700 Post Oak Blvd\",\"10727 Randolph Saint Crown Point In\",\"4100 N 2nd St\",\"1061 W Bank Rd\",\"5301 Grove Rd\",\"14415 Tamiami Trl\",\"2279 Eagle Glen Pkwy\",\"1751 Scottsville Rd\",\"12800 Village Blvd\",\"3711 Peppermill Dr N\",\"3049 Sussex Ave\",\"415 N Prince St\",\"11651 W 64th Ave\",\"32925 1st Ave S\",\"1066 Hanes Mall Blvd\",\"3196 Waialae Ave\",\"3801 Broadway\",\"2305 Jackson Ave W\",\"1325 Madison Ave\",\"1413 S Victoria Ave\",\"421 Challenge St\",\"500 Sampsonia Way\",\"8001 N Port Washington Rd\",\"10114 Saint Charles Rock Rd\",\"317 2nd St\",\"302 N Main St\",\"9240 Guy R Brewer Blvd\",\"249 Church St\",\"4390 Summit Bridge Rd\",\"3063 Lincoln Hwy E\",\"226 Baltimore Pike\",\"1042 Union Rd\",\"3237 Chester Blvd\",\"33 E Simpson St\",\"130 Town Center Rd\",\"2035 4th Ave\",\"572 2nd Ave\",\"2898 Reynolda Rd\",\"7102 Woodlawn Ave N E\",\"4416 N Miller\",\"257 W Wilmington Chester Pike\",\"4144 Erie St\",\"13 Harbourside Ln\",\"3610 Route 378\",\"1000 E Derry Rd\",\"3800 S W Cedar Hills Blvd D\",\"5250 Gulf Blvd\",\"319 Bay St\",\"2602 Brandt School Rd\",\"2631 Mcingvale Rd\",\"1401 S E Morrison\",\"444 Railroad Ave\",\"2810 Business Center Dr\",\"980 Razorback Dr\",\"1904 N Division St\",\"16000 Stuebner Airline Rd\",\"23233 Saticoy St\",\"944 S Irby St\",\"110 Bunyan Ave Berthoud\",\"4100 Crain Hwy\",\"1016 S College Rd\",\"2550 Pleasant Hill Rd\",\"623 Highland Ave\",\"13005 N E 70th Pl\",\"6007 Us 60 E\",\"30 Mamaroneck Ave\",\"12719 W Sunrise Blvd\",\"500 Garden City Dr\",\"2180 Us Highway 70 S E\",\"10880 N 32nd St\",\"100 W Higgins Rd\",\"24330 Meadowbrook Rd\",\"800 Nicollet Mall\",\"859 Belmont Ave S W\",\"3118 Pricetown Rd\",\"1731 India St\",\"2300 S 16th St\",\"13674 W State Road 84\",\"30 20 30th Ave\",\"190 N Swift Rd\",\"1500 N Clybourn Ave\",\"7860 Gate Parkway 101\",\"1 Collins Diboll Cir\",\"112 Internatl Boardwalk\",\"355 Saint Mark Rd\",\"2601 W Marina Place Elliott Bay Marina\",\"313 E 3rd St\",\"1370 Riverfront Ctr\",\"1788 Main St W\",\"305 W Fm 1382\",\"5996 Stetson Hills Blvd\",\"1818 Manhattan Blvd\",\"330 2nd Ave S\",\"12914 Fm 1960 Rd W\",\"1304 N Highway 81\",\"2959 N Oakland Ave\",\"7270 Victoria Park Ln\",\"101 West St\",\"20 Market St\",\"11301 Rockville Pike\",\"100 S 42nd St\",\"220 S 31st Ave\",\"1705 N. Cuernavaca Dr.\",\"200 Gulf Dr N\",\"6400 Time Square Ave\",\"1560 N Mcmullen Booth Rd\",\"840 S Sepulveda\",\"10000 S E Main St\",\"191 7th St\",\"400 Stanford Shopping Ctr\",\"2026 S Milledge Ave\",\"555 Soquel Ave\",\"11 01 43rd Ave\",\"26601 Aliso Creek Rd\",\"4200 Boat St\",\"401 E Whitestone Blvd\",\"7753 Roseville Rd\",\"9730 State Ave\",\"653 W 26th St\",\"8616 Griffin Rd\",\"2970 Sullivant Ave\",\"1024 N 204th Ave\",\"11200 Scaggsville Rd\",\"4400 Ashford Dunwoody Rd\",\"3368 Peachtree Rd\",\"6500 Springfield Mall\",\"9101 International Dr\",\"4999 Old Orchard Shopping Ctr\",\"920 Madison Ave\",\"8370 E State Route 69\",\"8605 Highway 107\",\"100 N White Mountain Rd\",\"43 S Talbert Blvd\",\"Midway Airport\",\"701 Gordon Dr\",\"616 Dixie Hwy\",\"Ulster Ave\",\"800 N Main St\",\"Hwy 15401\",\"190 Moser Rd\",\"3906 S 12th St\",\"1115 Culver Rd\",\"189 W 231st St\",\"201 W Market St\",\"4310 Vance Jackson Rd\",\"Willow St\",\"8707 W Ridge Rd\",\"44 N Brentwood\",\"23623 N Scottsdale Rd D107\",\"31 S Arlington Ave\",\"711 E Main St\",\"700 Main St\",\"5821 SE International Way\",\"5365 Alton Pkwy\",\"267 S 19th St\",\"120 W Olive Saint Fort Collins Co\",\"20590 S Lagrange Rd\",\"1165 N Stratford Rd\",\"2001 Saint Charles Ave\",\"3208 N Loop 250 W\",\"580 Forest Ave\",\"14 E 10th St\",\"1071 Tamiami Trl N\",\"2111 Stewart Ave\",\"2202 Ogden Ave\",\"7091 El Cajon\",\"5770 W Irlo Bronson Memorial Hwy\",\"2620 E Third St\",\"2061 W Galena Ave\",\"131 Main St S\",\"5024 River Rd N\",\"594 N Pinecrest Rd\",\"524 Mastic Rd\",\"11200 Lakeline Mall Dr\",\"3817 W 13th St N\",\"4658 Shoreline Dr\",\"122 Diamond St\",\"775 Goodman Rd E\",\"1 S Main St\",\"14933 Pulaski Rd\",\"214 Main St\",\"2801 Hampton Ave\",\"1019 Westgate Ave\",\"904\",\"21 Lynn Ave\",\"8680 Pineview Ln N\",\"6607 Glenway Ave\",\"1657 Richmond Rd\",\"901 Loveland Madeira Rd\",\"241 E Chester Pike\",\"750 W High St\",\"1908 5th Ave\",\"1527 S State St\",\"3558 W Pinhook Rd\",\"7801 S Main St\",\"1310 N W 23rd Ave\",\"519 Germantown Pike\",\"20850 Sheldon Rd\",\"909 Eagles Landing Pkwy\",\"208 Northgate One\",\"8890 Porter Rd\",\"2455 E Grapevine Mills Cir\",\"132 S Water St\",\"120 N College St\",\"203 S Sandusky Ave\",\"425 OK-152\",\"344 W State St\",\"1602 E Forsyth St\",\"2460 W 26th Ave\",\"22507 Plymouth Rd\",\"502 M St\",\"2800 Routh St\",\"1401 Grant Ave\",\"9128 5th Ave\",\"10333 S Roberts Rd\",\"925 Blossom Hill Road Oakridge Mall\",\"917 E Main St\",\"5320 Highway 6\",\"Fullerton College\",\"23642 Lorain Rd\",\"211 S 5th St\",\"2807 W 95th St\",\"2000 El Lago Dr\",\"3060 Naglee Rd\",\"1730 Essington Rd\",\"116 Ann St\",\"28985 Golden Lantern\",\"10 Chicago Ave\",\"215 W Rollins Rd\",\"195 W Dundee Rd\",\"7559 Metropolitan Ave\",\"Mid Vail Area On Vail Mtn\",\"4138 Ogletown Stanton Rd\",\"728 W Chicago St\",\"1818 S Young Cir\",\"Manor Rd\",\"7710 City Ave\",\"173 Ludlow St\",\"1640 Camino Del Rio N\",\"8385 W 21st St N\",\"6658 W Archer Ave\",\"21100 91st Pl S\",\"516 E Oakland Park Blvd\",\"8 E Main St\",\"938 N Main St\",\"1429 Nostrand Ave\",\"15740 Aurora Ave N\",\"406 E Colfax Ave\",\"1101 Filbert St\",\"200 Dyckman St\",\"300 E Locust St\"],\"city\":[\"Marina Del Rey\",\"New York\",\"Henrico\",\"Wellington\",\"Austin\",\"Saint Louis\",\"Brooklyn\",\"Hollywood\",\"Andover\",\"Santa Cruz\",\"Sayville\",\"Joppa\",\"Highwood\",\"Buffalo\",\"Ocala\",\"Rochester\",\"Rockingham\",\"Kinston\",\"Waverly\",\"Hattiesburg\",\"Wilson\",\"Yucaipa\",\"Los Angeles\",\"Columbus\",\"Miami Beach\",\"Lehigh Acres\",\"Nashville\",\"Redwood City\",\"Louisville\",\"North Aurora\",\"Las Vegas\",\"Islip\",\"Saint Cloud\",\"Alameda\",\"Fenton\",\"Wyoming\",\"Babylon\",\"Long Island City\",\"Littleton\",\"Dayton\",\"Pound Ridge\",\"Port Washington\",\"Lynden\",\"Port Jefferson\",\"San Antonio\",\"Pleasant Hill\",\"Altamonte Springs\",\"Bend\",\"Bloomfield Hills\",\"Los Angeles\",\"Memphis\",\"Naples\",\"New York\",\"New York\",\"Utica\",\"Costa Mesa\",\"Henderson\",\"Lawrenceville\",\"Bartow\",\"Mc Cordsville\",\"Allen\",\"Rockville\",\"Ashland\",\"Weirton\",\"Charlotte\",\"Saint Petersburg\",\"Charleston\",\"Cedar City\",\"Bronx\",\"Richmond\",\"Franklin\",\"Myrtle Beach\",\"Cherryville\",\"Glendale\",\"Covington\",\"Phoenix\",\"Dunedin\",\"Palatine\",\"Massapequa Park\",\"Washington\",\"Bucyrus\",\"Flagstaff\",\"Dover\",\"Collegeville\",\"Hamilton\",\"Edmond\",\"Astoria\",\"Detroit Lakes\",\"Ashland\",\"Mount Vernon\",\"Coraopolis\",\"Fort Lauderdale\",\"Chesapeake\",\"Pittsburgh\",\"Cincinnati\",\"Austin\",\"Stuart\",\"Spring\",\"Rockville\",\"Salt Lake City\",\"Auburn\",\"Rayville\",\"Farmerville\",\"Corvallis\",\"Indianapolis\",\"New City\",\"Miami Beach\",\"Wheeling\",\"Folsom\",\"Houston\",\"Wayne\",\"Rohnert Park\",\"Washington\",\"Briarcliff Manor\",\"White Plains\",\"Hendersonville\",\"Mansfield\",\"Honolulu\",\"Long Beach\",\"Peoria\",\"New York\",\"Toledo\",\"Layton\",\"Maitland\",\"Belleview\",\"Fishers\",\"Los Angeles\",\"San Francisco\",\"Galena\",\"Mill Valley\",\"Las Vegas\",\"Minneapolis\",\"Ellicott City\",\"Rochester\",\"Plano\",\"Cockeysville\",\"New York\",\"New York\",\"New York\",\"Huntington Beach\",\"Bentonville\",\"Alachua\",\"New York\",\"Greensboro\",\"Middletown\",\"Pasadena\",\"Staten Island\",\"Denver\",\"Los Angeles\",\"Harrisonburg\",\"Chatham\",\"Essex\",\"Midvale\",\"Northville\",\"Albuquerque\",\"Matthews\",\"Cadillac\",\"Houston\",\"Philadelphia\",\"White Plains\",\"Wapakoneta\",\"Pompano Beach\",\"New York\",\"Bellevue\",\"Lancaster\",\"Danville\",\"Stillwater\",\"Pottstown\",\"Jacksonville\",\"Omaha\",\"Baltimore\",\"Centereach\",\"New York\",\"Orlando\",\"Fort Worth\",\"North Miami Beach\",\"New York\",\"Seattle\",\"Indianapolis\",\"Spring\",\"Cleveland\",\"Seattle\",\"Henderson\",\"Bolingbrook\",\"Mcdonough\",\"Schofield\",\"Medina\",\"Camdenton\",\"El Paso\",\"Palm Desert\",\"Minneapolis\",\"West Linn\",\"Phoenix\",\"Missoula\",\"Lake Forest\",\"Grinnell\",\"Urbana\",\"Westminster\",\"Verona\",\"Snohomish\",\"Westminster\",\"Tempe\",\"Nanuet\",\"Kennesaw\",\"Lyons\",\"Raleigh\",\"Sacramento\",\"Hyde Park\",\"Marquette\",\"Clifton Park\",\"Katy\",\"Akron\",\"Islip\",\"San Diego\",\"Chandler\",\"Rancho Palos Verdes\",\"Columbus\",\"Port Washington\",\"Kamuela\",\"Spring\",\"New York\",\"Greensboro\",\"Charlotte\",\"Las Vegas\",\"Aurora\",\"Los Angeles\",\"New York\",\"Boise\",\"Bossier City\",\"Bronson\",\"Paris\",\"Louisville\",\"Daleville\",\"Houston\",\"Saint George\",\"Findlay\",\"Philadelphia\",\"Charleston\",\"Philadelphia\",\"Chevy Chase\",\"Chicago\",\"Chesterfield\",\"Ventura\",\"Whitestone\",\"Kingwood\",\"Austin\",\"Vallejo\",\"San Francisco\",\"New York\",\"Williamsburg\",\"Kent\",\"Venice\",\"Jackson\",\"Johns Island\",\"Miami\",\"Lakeview\",\"Las Vegas\",\"Birmingham\",\"Chicago\",\"Grand Rapids\",\"College Station\",\"Deland\",\"Pompano Beach\",\"Roberts\",\"Lancaster\",\"Arcadia\",\"Palm Coast\",\"Godfrey\",\"Lathrop\",\"West Palm Beach\",\"Inver Grove Heights\",\"Mckeesport\",\"Colorado Springs\",\"Luzerne\",\"Addison\",\"Rockford\",\"Trenton\",\"Sterling\",\"Long Beach\",\"Nashville\",\"Pittsburgh\",\"Mobile\",\"Racine\",\"Schererville\",\"Englewood\",\"Duluth\",\"Saint James\",\"Chickasha\",\"Blowing Rock\",\"Los Angeles\",\"Homer Glen\",\"College Station\",\"New York\",\"Modesto\",\"Bend\",\"Atlanta\",\"Pullman\",\"Dinuba\",\"Mcallen\",\"Willow Grove\",\"Gatlinburg\",\"Jefferson City\",\"Murfreesboro\",\"Bakersfield\",\"Plymouth\",\"Lafayette\",\"Rochester\",\"Denver\",\"Dayton\",\"Whitehall\",\"Downingtown\",\"Desert Hot Springs\",\"Mahopac\",\"Farmington\",\"New York\",\"Denver\",\"Indianapolis\",\"New York\",\"Thousand Oaks\",\"Detroit Lakes\",\"Missoula\",\"New York\",\"Thousand Oaks\",\"Minneapolis\",\"Lansdale\",\"Flushing\",\"Corona\",\"Corona\",\"Chicago Ridge\",\"Findlay\",\"Excelsior\",\"Keller\",\"Altamonte Springs\",\"Phoenix\",\"Solana Beach\",\"Johnstown\",\"Lompoc\",\"Columbus\",\"New York\",\"Aptos\",\"Wilmington\",\"Rockville Centre\",\"Woodbury\",\"Lafayette\",\"Springfield\",\"Canonsburg\",\"Frederick\",\"San Diego\",\"Harleysville\",\"Saint Charles\",\"Norfolk\",\"Scottsdale\",\"Baltimore\",\"Arvada\",\"Rye\",\"Wilmington\",\"Punta Gorda\",\"Washington\",\"Bloomington\",\"Mount Carmel\",\"Bozeman\",\"Grand Prairie\",\"Perry\",\"White Lake\",\"York\",\"Fairfax\",\"Pomona\",\"Lincoln\",\"Marshalltown\",\"Destin\",\"Minooka\",\"Macomb\",\"Yucaipa\",\"Moorpark\",\"Philadelphia\",\"Milwaukee\",\"Williams\",\"Campbell Hall\",\"Brentwood\",\"Rome\",\"Oklahoma City\",\"Philadelphia\",\"Cabot\",\"Greenville\",\"Tinley Park\",\"Santa Clarita\",\"Sioux Falls\",\"Hollister\",\"Palm Desert\",\"Bothell\",\"Wausau\",\"Jonesboro\",\"Colorado Springs\",\"Brooklyn\",\"Grand Island\",\"Oklahoma City\",\"Bloomington\",\"Berwyn\",\"Brooklyn\",\"Bend\",\"Windsor Mill\",\"Olympia\",\"Lisle\",\"Birmingham\",\"West Chester\",\"Chicago\",\"Layton\",\"Dallas\",\"Dearborn\",\"Syracuse\",\"Fort Smith\",\"Isanti\",\"Salt Lake City\",\"Garland\",\"Prescott\",\"Flat Rock\",\"Spokane\",\"Modesto\",\"Missoula\",\"Philadelphia\",\"Billings\",\"Reno\",\"New York\",\"Rochester\",\"Arlington\",\"Encinitas\",\"Kirkland\",\"Wheeling\",\"Atlanta\",\"Austin\",\"Strongsville\",\"Henderson\",\"Schwenksville\",\"Honolulu\",\"Hilliard\",\"Bronx\",\"Brooklyn\",\"Sylacauga\",\"Waukesha\",\"Southlake\",\"Grapevine\",\"Essex\",\"Astoria\",\"Milwaukee\",\"Houston\",\"Sandy\",\"Brooklyn\",\"Bronx\",\"Palmetto\",\"Fort Myers\",\"Shawnee\",\"Wilmington\",\"Lake Ozark\",\"Evergreen\",\"Peoria Heights\",\"Southgate\",\"Fruitport\",\"Endicott\",\"Erie\",\"Manassas\",\"Salem\",\"Des Moines\",\"Pearl River\",\"Westbury\",\"Los Angeles\",\"Lakeside\",\"Wake Forest\",\"Houston\",\"Montgomery\",\"Columbia\",\"Mesquite\",\"King Of Prussia\",\"Hermosa Beach\",\"Endicott\",\"New York\",\"Saint Louis\",\"Sartell\",\"Bonney Lake\",\"Cave Creek\",\"Reynoldsburg\",\"Albany\",\"Beckley\",\"Detroit\",\"Indianapolis\",\"Kirkland\",\"Pasadena\",\"Houston\",\"Studio City\",\"Sykesville\",\"Denver\",\"Wilkes Barre\",\"New York\",\"Kansas City\",\"Frostburg\",\"Kernersville\",\"Santa Fe\",\"Homer Glen\",\"Vernon Hills\",\"Woodridge\",\"San Antonio\",\"Hilton Head Island\",\"Olathe\",\"Pullman\",\"Richardson\",\"Lake Havasu City\",\"Menifee\",\"Fremont\",\"Grand Prairie\",\"Sarasota\",\"Mount Prospect\",\"Lombard\",\"Niagara Falls\",\"Green Bay\",\"Cherokee\",\"Las Vegas\",\"Vancouver\",\"Memphis\",\"Philadelphia\",\"Dallas\",\"Columbus\",\"Philadelphia\",\"Rockville\",\"Southlake\",\"Salt Lake City\",\"Granger\",\"Palo Alto\",\"Hickory\",\"Broussard\",\"Drexel Hill\",\"Mount Kisco\",\"Irvine\",\"State College\",\"Lexington\",\"South San Francisco\",\"Encinitas\",\"Louisville\",\"Petaluma\",\"Rochester\",\"Coeur D Alene\",\"Oxford\",\"Honolulu\",\"Justice\",\"Glenview\",\"Front Royal\",\"New York\",\"Indianapolis\",\"Washington\",\"Augusta\",\"Altamonte Springs\",\"Auburn\",\"Tulsa\",\"Houston\",\"Crown Point\",\"Mcallen\",\"Celina\",\"Pittsburgh\",\"North Port\",\"Corona\",\"Bowling Green\",\"Saint Petersburg\",\"Wilson\",\"Pittsburgh\",\"Lancaster\",\"Arvada\",\"Federal Way\",\"Winston Salem\",\"Honolulu\",\"New York\",\"Oxford\",\"Mankato\",\"Ventura\",\"Freeport\",\"Pittsburgh\",\"Milwaukee\",\"Saint Ann\",\"Langley\",\"Blacksburg\",\"Jamaica\",\"Amherst\",\"Middletown\",\"Paradise\",\"Springfield\",\"Buffalo\",\"Richmond\",\"Mechanicsburg\",\"King Of Prussia\",\"Seattle\",\"Troy\",\"Winston Salem\",\"Seattle\",\"Scottsdale\",\"Chadds Ford\",\"Willoughby\",\"Hilton Head Island\",\"Bethlehem\",\"Hershey\",\"Beaverton\",\"Saint Petersburg\",\"Petoskey\",\"Wexford\",\"Hernando\",\"Portland\",\"Pittsburg\",\"Pearland\",\"Houghton\",\"Davenport\",\"Spring\",\"Canoga Park\",\"Florence\",\"Berthoud\",\"Bowie\",\"Wilmington\",\"Duluth\",\"Connellsville\",\"Kirkland\",\"Barboursville\",\"White Plains\",\"Fort Lauderdale\",\"Monroeville\",\"Hickory\",\"Phoenix\",\"Barrington\",\"Novi\",\"Minneapolis\",\"Albany\",\"Fleetwood\",\"San Diego\",\"Philadelphia\",\"Fort Lauderdale\",\"Astoria\",\"Addison\",\"Chicago\",\"Jacksonville\",\"New Orleans\",\"Redondo Beach\",\"Taylors\",\"Seattle\",\"Bethlehem\",\"Amsterdam\",\"Locust\",\"Cedar Hill\",\"Colorado Springs\",\"Harvey\",\"Minneapolis\",\"Houston\",\"Duncan\",\"Decatur\",\"Rancho Cucamonga\",\"Grinnell\",\"Lockport\",\"Kensington\",\"Grand Forks\",\"Omaha\",\"Austin\",\"Bradenton Beach\",\"Orlando\",\"Clearwater\",\"El Segundo\",\"Portland\",\"Brooklyn\",\"Palo Alto\",\"Athens\",\"Santa Cruz\",\"Long Island City\",\"Aliso Viejo\",\"Fairbanks\",\"Cedar Park\",\"Sacramento\",\"Marysville\",\"Erie\",\"Fort Lauderdale\",\"Columbus\",\"Elkhorn\",\"Laurel\",\"Atlanta\",\"Atlanta\",\"Springfield\",\"Orlando\",\"Skokie\",\"Mankato\",\"Prescott Valley\",\"Sherwood\",\"Show Low\",\"Lexington\",\"Chicago\",\"Sioux City\",\"Rossford\",\"Kingston\",\"Kernersville\",\"Bennettsville\",\"Pottstown\",\"Tacoma\",\"Rochester\",\"Bronx\",\"Baltimore\",\"San Antonio\",\"Allentown\",\"Elyria\",\"Saint Louis\",\"Scottsdale\",\"Baltimore\",\"Lexington\",\"Nashville\",\"Portland\",\"Irvine\",\"Philadelphia\",\"Fort Collins\",\"Frankfort\",\"Moses Lake\",\"New Orleans\",\"Midland\",\"Plymouth\",\"Erie\",\"Nokomis\",\"Wausau\",\"Aurora\",\"San Diego\",\"Kissimmee\",\"Bloomington\",\"Freeport\",\"Stillwater\",\"Salem\",\"Bolingbrook\",\"Mastic Beach\",\"Cedar Park\",\"Wichita\",\"Spring Park\",\"Titusville\",\"Southaven\",\"Shrewsbury\",\"Midlothian\",\"Reisterstown\",\"Saint Louis\",\"Newark\",\"Binghamton\",\"Oxford\",\"Osseo\",\"Cincinnati\",\"Staten Island\",\"Loveland\",\"Ridley Park\",\"Pottstown\",\"River Grove\",\"Lockport\",\"Lafayette\",\"Pine Plains\",\"Gainesville\",\"Lafayette Hill\",\"Brookpark\",\"Stockbridge\",\"San Rafael\",\"Niagara Falls\",\"Grapevine\",\"Kent\",\"Auburn\",\"Upper Sandusky\",\"Mustang\",\"Eagle\",\"Americus\",\"Denver\",\"Redford\",\"Fresno\",\"Dallas\",\"Novato\",\"Brooklyn\",\"Palos Hills\",\"San Jose\",\"Ashland\",\"Missouri City\",\"Fullerton\",\"North Olmsted\",\"Richmond\",\"Evergreen Park\",\"Arnold\",\"Tracy\",\"Joliet\",\"Pickens\",\"Laguna Niguel\",\"Oak Park\",\"Round Lake\",\"Buffalo Grove\",\"Middle Village\",\"Vail\",\"Newark\",\"Elgin\",\"Hollywood\",\"Staten Island\",\"Philadelphia\",\"New York\",\"San Diego\",\"Wichita\",\"Chicago\",\"Kent\",\"Fort Lauderdale\",\"Ephrata\",\"Suffolk\",\"Brooklyn\",\"Seattle\",\"Denver\",\"Philadelphia\",\"New York\",\"Chatsworth\"],\"dot_size\":{\"__ndarray__\":\"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\",\"dtype\":\"float64\",\"shape\":[802]},\"index\":[2428,854,1078,207,458,506,939,3304,2836,2111,2871,3223,1975,1567,959,2725,2720,1152,2727,2149,2807,705,1279,1759,2608,688,2103,1729,646,1126,2160,2673,2014,327,2774,339,1879,567,423,1106,2442,2885,878,2235,984,2591,1184,0,3214,3201,1907,1165,2717,3054,866,2221,54,2507,2342,2486,2599,683,1848,2538,511,2499,2484,2498,2252,639,833,2501,1612,1657,1468,2550,2776,2755,166,1971,2274,1321,3336,2450,1326,1464,368,1560,3337,236,1016,3270,1012,436,3166,3128,2889,20,3103,2979,2841,2645,2416,533,198,2456,2880,1834,1407,2679,795,2207,2541,3015,418,1225,2689,1140,2122,2568,3085,1074,2370,162,738,1837,976,547,2623,2658,2974,1029,751,2096,2073,145,447,2961,1988,825,1307,1369,343,1382,2117,1993,2940,2059,9,1149,243,189,3087,1550,811,850,810,3070,813,1337,1319,2996,472,2253,1739,3042,2918,2394,1625,65,366,1222,2039,1257,1688,912,3262,217,926,2668,3023,3310,2951,3295,1159,1632,1600,792,2392,2747,160,2433,158,1478,1664,2715,157,156,1077,2124,70,2903,1854,2984,1420,2212,261,2473,2480,607,1102,1007,1375,1797,385,1188,223,3236,3047,2708,1581,3010,2944,2023,2863,5,3318,3316,3314,277,505,498,1539,802,742,780,1197,1182,1207,1786,1105,1945,1204,3254,2266,254,2260,557,320,3112,2143,3136,2291,3285,3255,611,293,2907,1114,2579,59,2152,1595,1246,2693,2697,2875,2332,2334,2051,1607,940,906,73,710,1691,1911,2798,2739,784,1023,2597,2258,540,2468,954,3122,549,2767,2301,355,2886,1061,1576,1063,1136,1043,691,1358,903,2967,3332,756,1371,2888,272,3261,3132,2115,3077,2753,2692,1952,559,864,405,1446,2402,1447,2471,1005,1471,1058,2558,3164,341,2613,2762,2856,206,772,461,2350,3249,3035,551,2076,2075,2588,502,2431,2213,3242,1698,1697,1142,2223,2430,3265,2706,1288,2326,2853,161,800,41,856,2396,2001,3141,1700,989,991,193,1958,2295,1628,2797,520,1557,2950,3123,2112,571,2648,1726,634,2347,2292,2257,1554,1806,1642,1640,2864,2319,2306,1085,500,408,2441,1046,3230,1082,1589,3126,345,346,3080,1287,1115,1716,869,838,23,22,1301,868,2869,1696,3263,1592,2369,1895,2323,1451,118,734,2911,672,1038,2573,3120,1940,1941,2580,379,978,2582,1578,2005,785,2735,754,2384,1938,2635,1892,2614,690,532,2158,2472,2491,1699,1053,2490,1093,949,1742,3203,3179,1449,1448,1397,295,501,1384,2210,615,2227,2407,886,564,635,2677,2678,13,1702,3060,226,2505,71,94,3322,1158,975,1022,2114,1718,3218,1734,2062,1032,835,51,852,1203,803,2766,1362,1370,1995,1877,2881,3134,1577,2620,1132,2400,1331,122,3037,3078,3036,37,2695,39,2816,1374,2669,1095,1790,1568,1373,897,294,179,2086,1476,1472,1438,58,3217,2589,1064,453,454,2419,905,2020,892,1405,1164,1195,2788,943,2791,3111,2349,2287,783,2625,1465,2348,3327,455,2386,544,543,534,2975,3328,2316,2315,2874,1217,1259,3183,1695,1723,3055,2495,68,558,935,2393,3237,1972,2201,2151,1737,2203,709,2815,448,1041,1042,3241,2262,2259,2060,468,3031,2084,222,470,1092,292,1651,1652,3168,910,735,252,2098,2056,1286,574,2303,105,3305,1586,3323,896,2686,1619,1145,522,2052,814,3300,3086,349,350,133,351,1959,2683,3222,578,2302,1562,1614,881,1590,2034,301,2851,2493,66,768,2265,3216,714,2142,3051,3050,922,512,576,1569,202,2910,2783,1534,1575,1050,1366,2894,560,1432,2021,837,2409,1289,2924,2314,2920,2391,1425,955,119,931,932,135,103,1703,1423,342,2305,3287,2711,736,1561,1893,2978,946,493,1536,743,1051,1653,1781,377,378,2718,3072,463,3089,1256,880,1187,3049,2890,1295,2953,1297,92,3321,788,527,526,640,457,456,3158,2162,438,281,492,1320,210,2618,40,873,890,1081,3303,1598,2099,2325,2799,1415,1417,209,2818,3240,182,2624,945,2965,2421,229,2897,2408,117,450,113,112,1285,925,2226,2736,786,111,110,1076,787,2710,2320,2634,2057,983,1841,1128,2899,1859,136,695,192,357,758,1782,542,1857,28,2345,2627,2242,3110,3033,3157,46,48,1334,42,131,1304,3107,2368,308,1543,132,3034,1314,1316,1965,311,312,310,2492,56,3165,1228,228,1913,636,203,759,2878,1780],\"menus_amountMax\":{\"__ndarray__\":\"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\",\"dtype\":\"float64\",\"shape\":[802]},\"menus_amountMin\":{\"__ndarray__\":\"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\",\"dtype\":\"float64\",\"shape\":[802]},\"pizza_counts\":[1,62,62,62,62,62,2,1,1,1,1,1,53,32,1,44,4,4,14,4,4,1,2,1,1,1,26,1,32,5,1,5,1,38,8,30,1,1,1,1,53,1,32,1,1,1,1,3,16,1,1,1,8,1,1,8,8,26,1,53,74,34,2,2,10,11,10,10,10,10,10,11,10,10,10,1,6,1,1,1,3,1,2,32,1,3,7,1,74,30,29,44,1,8,1,74,34,1,1,1,1,2,2,32,1,1,1,5,5,6,1,1,1,4,74,60,1,1,2,34,2,1,3,3,1,53,2,1,20,1,60,14,1,62,1,9,1,1,1,1,6,3,130,34,38,1,2,1,6,1,30,5,1,1,11,1,1,5,20,5,32,1,1,20,1,1,34,4,8,74,1,1,1,1,1,1,60,38,1,1,62,3,130,1,4,4,4,11,2,1,74,60,2,74,1,11,10,29,14,1,60,1,1,16,6,1,2,44,5,5,8,1,1,12,1,1,6,6,1,60,41,2,2,41,41,1,2,11,3,1,1,1,32,9,5,32,3,1,4,1,3,1,38,3,130,1,130,1,1,1,14,1,25,8,1,3,7,1,4,1,130,6,1,16,2,1,1,1,2,1,12,3,1,4,1,7,32,32,1,1,1,60,62,1,1,2,8,1,20,1,1,62,44,1,1,1,32,130,2,22,7,1,1,1,74,130,22,4,5,22,1,20,4,8,74,6,4,1,5,62,1,2,4,60,1,1,21,1,3,6,44,4,12,1,14,130,3,7,1,41,11,1,7,20,1,41,1,1,1,26,7,60,44,74,14,7,3,1,11,11,20,30,130,2,6,1,1,6,6,1,6,2,1,1,1,1,29,1,130,74,130,1,2,29,130,1,1,1,1,1,3,3,1,1,1,2,3,1,8,1,130,1,5,2,13,1,53,1,2,130,29,1,1,16,26,3,1,130,5,1,74,29,1,2,1,26,1,6,16,16,60,1,16,130,1,6,1,6,1,4,8,130,4,130,1,32,1,6,4,2,1,1,2,1,9,1,1,1,1,11,2,1,1,1,1,16,2,20,1,11,2,60,16,4,1,34,30,29,1,1,11,74,1,1,1,1,1,5,14,16,2,1,16,1,44,130,1,62,7,2,130,4,62,2,1,21,29,20,1,1,10,130,38,10,10,130,74,49,7,10,44,10,10,10,1,62,29,1,1,49,1,1,1,1,3,6,1,1,1,2,60,25,5,1,60,7,1,16,1,62,34,1,1,1,49,2,49,2,1,30,6,1,10,1,1,3,1,49,8,62,1,1,62,130,29,62,74,3,29,30,5,30,1,1,1,30,7,12,6,1,130,30,2,8,1,1,34,41,6,8,1,26,1,2,4,30,5,4,30,16,4,30,1,30,1,7,11,4,1,4,1,2,7,130,32,1,1,3,49,1,1,8,11,5,1,62,53,49,6,9,1,130,62,2,1,29,49,2,1,1,1,1,3,1,62,16,44,1,1,1,1,130,5,1,38,2,130,1,1,62,1,1,130,30,6,6,6,6,6,41,29,29,1,29,7,62,62,49,2,5,5,5,3,49,1,9,5,1,130,1,1,130,13,1,2,2,8,6,1,1,4,1,6,1,62,9,5,62,1,49,9,29,25,49,5,32,4,30,25,30,9,13,130,1,3,3,41,3,1,3,1,30,49,25,29,6,30,5,74,30,34,74,62,13,13,1,1,44,29,8,30,1,130,29,49,1,5,1,1,7,10,13,25,3,1,9,1,13,9,4,9,2,7,5,25,8,1,5,21,1,32,4,7,1,12,12,2,12,12,3,3,2],\"pizza_name\":[\"Pizza Raviatta\",\"Pizza\",\"Pizza\",\"Pizza\",\"Pizza\",\"Pizza\",\"Steak Pizzaiola\",\"The New Yorker Party Pizza\",\"Party Cheese Pepperoni Sheet Pizza\",\"Sicilian Square Party Tray Pizza\",\"Sirloin Steak Pizzaiola\",\"Crab Dip Pizza\",\"Hawaiian Pizza\",\"Taco Pizza\",\"Chicken With Broccoli Pizza\",\"Buffalo Chicken Pizza\",\"Lone Star Bbq Pizza\",\"Original Bbq Chicken Pizza\",\"Breakfast Pizza\",\"Ultimate Meat Pizza\",\"Ultimate Meat Pizza\",\"Pizza Chalet Special\",\"Shrimp Alfredo Pizza\",\"Galore Pizza\",\"Tunisian Pizza\",\"4 Medium Cheese Pizzas\",\"Pizza Margherita\",\"3 Toppings Pizza\",\"Taco Pizza\",\"Pizza Margarita\",\"Pizza Port Chronicle\",\"Chicken Pizza\",\"Lg 1 Topping Pizza\",\"Bbq Chicken Pizza\",\"Seafood Pizza\",\"Pizza Sub\",\"Bbq Chicken and Bacon Pizza\",\"Scaloppine Pizzaiola\",\"Supreme Combo Pizza\",\"Barbecue Pizza\",\"Hawaiian Pizza\",\"Special Sicilian Pizza\",\"Taco Pizza\",\"Shrimp Parmigiana Pizza\",\"Cave Man Pizza\",\"Large Pizza (2 Toppings)\",\"Jerry Special Pizza\",\"Bianca Pizza\",\"Build Your Own Pizza\",\"Pizza Con Gamberi\",\"Portabella Mushroom Pizza\",\"15 Pizza Fruitti Di Mare\",\"Seafood Pizza\",\"Pizza Polpo\",\"Pizza Bar\",\"Supreme Pizza\",\"Supreme Pizza\",\"Pizza Margherita\",\"The Palace Supreme Pizza\",\"Hawaiian Pizza\",\"White Pizza\",\"Veggie Pizza\",\"Stuffed Cheese Pizza With One Ingredient\",\"White Suicilian Stuffed Pizza\",\"Medium Pizza Offers\",\"Chicago Deep Dish Pizza\",\"Medium Pizza Offers\",\"Medium Pizza Offers\",\"Medium Pizza Offers\",\"Medium Pizza Offers\",\"Medium Pizza Offers\",\"Chicago Deep Dish Pizza\",\"Medium Pizza Offers\",\"Medium Pizza Offers\",\"Medium Pizza Offers\",\"Fru Fru Pizza\",\"Pizza of The Day\",\"Pizza La France\",\"Spicy Buffalo Pizza\",\"Hot Wing Pizza\",\"Chicken Club Pizza\",\"Create Your Own Pan Pizza\",\"Steak Pizzaiola\",\"Taco Pizza\",\"2 Large Cheese Pizza\",\"Specialty Pizzas\",\"Caprese Pizza\",\"The Tommy Gun Breakfast Pizza\",\"White Pizza\",\"Greek Pizza\",\"Mexican Pizza\",\"Buffalo Chicken Pizza\",\"Stuffed Deluxe Pizza\",\"Seafood Pizza\",\"Pizza and Hoagies\",\"White Pizza\",\"Veggie Pizza\",\"Pizza Con Uovo Fritto\",\"Thai Pizza\",\"Pizza Alpina\",\"2 Medium Pizzas\",\"Sweep The Kitchen Pizza\",\"Sweep The Kitchen Pizza\",\"Taco Pizza\",\"Gourmet Meat Pizzatm\",\"Calabria Special Sicilian Pizza\",\"Italian Sausage Pizza\",\"Pizza Con Formaggio\",\"Veal Pizzaiola\",\"Chicken Alfredo Pizza\",\"Covaccino Pizza\",\"Pizza Campari\",\"Pizza Rima\",\"Pizza Primavera\",\"White Pizza\",\"Margherita Pizza\",\"Stuffed Chicago Style Pizza\",\"Pizza Prosciutto Con Arugula Combination\",\"Pizza Con Carne\",\"Veggie Pizza\",\"Two Topping Cheese Pizza\",\"Hawaiian Ham Pizza\",\"Pizza Blanca\",\"Pizza Blanca\",\"Large 6 Toppings Pizza\",\"Hawaiian Pizza\",\"Brunch Pizza\",\"Shrimp Chorizo Pizza\",\"Create Your Own Pizza\",\"Pizza Capricciosa\",\"Margherita Pizza\",\"Breakfast Pizza\",\"Pizza Seafood, White or Red\",\"Pizza\",\"Make It A Special Pizza\",\"Mediterranean Pizza\",\"Tre Colori Pizza\",\"Pizza Ortolana\",\"Pizza Al Uovo\",\"Sicilian Works Pizza\",\"Chicken Alfredo Pizza\",\"Specialty Pizzas\",\"Cheese Pizza\",\"Veggie Pizza\",\"Bbq Chicken Pizza\",\"Pizza of The Moment\",\"Cheesesteak Pizza\",\"Winter Pizza\",\"Meat Lover Pizza\",\"Ranch Chicken Pizza\",\"Greek Pizza\",\"Steak Pizza\",\"Franks Buffalo Chicken Pizza\",\"Prosciutto Bistro Pizza\",\"Chicago Deep Dish Pizza\",\"Staten Island Pizza\",\"16 Inches Pizza Cheese\",\"Steak Pizza\",\"Create Your Own Pizza\",\"Chicken Parmigiana Pizza\",\"Taco Pizza\",\"Seafood Pizza Supreme\",\"Vegan Margherita Pizza\",\"Create Your Own Pizza\",\"100 Pound Pizza\",\"Fennel Sausage Pizza\",\"Veggie Pizza\",\"California Pizza\",\"French Bread Pizza\",\"White Pizza\",\"Veggie Pizza (on Honey Wheat Dough)\",\"Veal Scallopini Pizzaiola\",\"Tuscan Brunch Pizza\",\"Italian Meat Lovers Pizza\",\"Three Guys Pizza\",\"Roasted Mushroom Pizza\",\"Margherita Pizza\",\"Bbq Chicken Pizza\",\"St. Elmo Prime Rib Pizza\",\"Prosciutto Arugula Pizza\",\"Pizza\",\"Four Cheese Pizza\",\"Cheese Pizza\",\"Italian Beef Pizza\",\"Classic Cheese Pizza\",\"Classic Cheese Pizza\",\"Classic Cheese Pizza\",\"Specialty Pizza\",\"Pizza Mexicana\",\"Manhattan Works Pizza\",\"White Pizza\",\"Margherita Pizza\",\"Pizza Mexicana\",\"White Pizza\",\"Giant Cheese Pizza\",\"Specialty Pizza\",\"Pita Pizza\",\"Mexican Pizza\",\"Breakfast Pizza\",\"Piggy In Heat Pizza\",\"Margherita Pizza\",\"Pepperoni, Spicy Sausage Prosciutto Pizza\",\"Pizza Fest\",\"Build Your Own Pizza\",\"Philly Cheese Steak Pizza\",\"Spaniko Pizza (wheat Crust)\",\"Carne Pizza\",\"Buffalo Chicken Pizza\",\"Pizza Sauce\",\"Steak Pizza\",\"Seafood Pizza\",\"Specialty Thin Crust Pizza\",\"Pancetta Egg Pizza\",\"Pizza Bianca\",\"Large The Works Pizza\",\"Parma Pizza\",\"Garden Pizza\",\"Shrimp Scampi Pizza\",\"Pizza Luau\",\"Margherita Pizza\",\"Pepperoni Pizza\",\"Spicy Shrimp Pizza\",\"Flatbread Cheese Pizza\",\"Pepperoni Pizza\",\"Pepperoni Pizza\",\"Pizza, Salami Piccante\",\"Pizza Fresca\",\"Pizza Topping Dippers\",\"Pizza Blanca\",\"Large Supreme Pizza.\",\"Stuffed Pizza Cheese\",\"Super Veggie Pizza\",\"Taco Pizza\",\"Mediterranean Pizza\",\"Pizza Con Formaggio\",\"Taco Pizza\",\"2 Large Pizzas\",\"Venison Sausage Pizza\",\"Barbecue Chicken Pizza\",\"Pepper Bacon Pizza\",\"Cheese Stuffed Pizza\",\"Americano Pizza\",\"Bbq Chicken Pizza\",\"Pizza Bianco\",\"Cheese Pizza\",\"Bacon Pizzaburger\",\"Cheese Pizza\",\"Spicy Rock Shrimp Pizza, Roasted Tomato Sauce, Caramelized Leeks\",\"Funghi Pizza\",\"Island Pizza\",\"Breakfast Pizza\",\"Raw Pizza\",\"Pizza By The Slice\",\"Sushi Pizza\",\"Sunny Side Up Farm Egg Pizza\",\"Florentine Pizza\",\"Caprese Pizza\",\"Cajun Pizza\",\"Wild Mushroom Pizza\",\"Sicilian Pan Pizza Includes\",\"Cheese Pizza\",\"Gluten Free Pizza\",\"New Yorker Pizza\",\"Build Your Own Pizza\",\"Pizza Cheese Steak\",\"1 Large Cheese Pizza\",\"Bianca Pizza (no Sauce)\",\"Pizza Alla Vodka\",\"Combination Pizza\",\"Classic Coal Fire Pizza\",\"Meat Lovers Pizza\",\"Garlic Pizza\",\"Good Company Fiesta Pizza\",\"Chicken Wing Pizza\",\"Pizza Mania\",\"Pizza Special\",\"Taco Pizza\",\"Taco Pizza\",\"M S G Pizza\",\"Flatbread Pizza of The Day (yazoo Pale Ale)\",\"2 Med Pizzas\",\"Margherita Pizza\",\"Pizza\",\"Pizza Quattro Formaggi\",\"Our Terrific Cheese Pizza\",\"Works Pizza\",\"Sushi Pizza\",\"I Like Meat Pizza\",\"Create Your Own Pizza\",\"Smoked Salmon Pizza\",\"Four Pig Pizza\",\"Pizza\",\"Buffalo Chicken Pizza\",\"Flat Bread Pizza Margherita\",\"Smores Dessert Pizza\",\"Shrimp Pizza\",\"Taco Pizza\",\"Cheese Pizza\",\"Large Supreme Pizza\",\"Sicilian Pizza\",\"Pizza Toppings\",\"Shrimp Creole Pizza\",\"Blackened Chicken Caesar Pizza\",\"Dry Barrel Margherita Pizza\",\"White Pizza\",\"Cheese Pizza\",\"Sicilian Pizza\",\"Philly Cheesesteak Pizza\",\"Pizza Margarita\",\"Sicilian Pizza\",\"Pizza Alfredo\",\"Create Your Own Pizza\",\"New York Style Pizza\",\"Sushi Pizza\",\"White Pizza\",\"Thai Dye Pizza\",\"The Everything Pizza\",\"Breakfast Hangover Pizza\",\"Pizza Con Formaggio\",\"Pizza\",\"Prime Rib Pizza\",\"Goat Cheese Pizza\",\"Roasted Vegetable Pizza\",\"Margherita Pizza\",\"Traditional Pizzas\",\"Spicy Tuna Pizza or Spicy Salmon Pizza\",\"Vegetarian Pizza\",\"Pizza Nova Special\",\"Stuffed Cheese Pizza\",\"Shrimp Scampi Pizza\",\"Buffalo Chicken Pizza\",\"1 Topping Pizza\",\"Pizza Roll\",\"Individual Pizza\",\"Breakfast Pizza\",\"Cheese Pizza\",\"Cheeseburger Pizza\",\"Tuna Pizza\",\"Peter Pan Pizza\",\"Pepperoni Pizza\",\"Chicago Deep Dish Pizza\",\"Pan Pizza\",\"Tuna Pizza\",\"Create Your Own Pizza\",\"Fig Pizza\",\"Pepperoni Pizza\",\"Artisanal Grilled Pizza\",\"Yummy Honey Cheese Pizza\",\"Pepperoni Cheese Steak Pizza\",\"Pizza Margherita\",\"Tuna Pizza\",\"Margherita Pizza\",\"Buffalo Chicken Pizza\",\"White Pizza\",\"Breakfast Pizza\",\"Tuna Pizza\",\"Flat Bread Pizza\",\"Barbeque Chicken Pizza\",\"Specialty Pizza\",\"Specialty Pizza\",\"Create Your Own Pizza\",\"Greek Pizza\",\"Cheese Pizza\",\"8 Corner Pizza\",\"Whole Breakfast Pizza\",\"Pizza Ai Funghi\",\"Large Meatlover Pizza\",\"Whole Breakfast Pizza\",\"Whole Breakfast Pizza\",\"Hand Tossed Brick Oven Pizza\",\"Whole Breakfast Pizza\",\"8 Corner Pizza\",\"Includes Pizza Sauce and Mozzarella\",\"El Diablo Pizza\",\"2 Medium Cheese Pizza\",\"Pizza Di Parma\",\"Mexican Pizza\",\"Shrimp and Goat Cheese Pizza\",\"Cheese Pizza\",\"White Pizza\",\"Cheese Pizza\",\"Bacon Cheese Burger Pizza\",\"Cali Chicken Bacon Ranch Pizza\",\"Mexican Pizza\",\"Cheese Pizza\",\"Tomato Sauce and Cheese (basic Pizza)\",\"Chicago 7 Pizza\",\"Cajun Chicken Pizza\",\"Pizza Vino Caesar\",\"Mushroom Hunter Pizza\",\"Whole Pizza\",\"Whole Pizza\",\"Blackened Chicken Bacon Pizza\",\"Pizza Sem Puce\",\"Grilled Pepperoni Pizza\",\"Flat Bread Pizza of The Day\",\"Whole Pizza\",\"Famous Paisans Pizza Sauce Quart\",\"Sushi Pizza\",\"Pizza Classics\",\"Cheese Pizza\",\"Pizza Al Pesto\",\"Bbq Pizza\",\"Deep Dish Pizza\",\"Pizza Bagel\",\"Pizza Schiacchiata Alla Toscana\",\"Hawaiian Pizza\",\"Delux Pizza\",\"Pizza of The Week\",\"Cheese Pizza\",\"Mexican Pizza\",\"Artisan Pizza\",\"Spicy Pizza\",\"Margarita Pizza\",\"Pizza Margherita\",\"Specialty Pizzas\",\"Eggscellent Pizza (white)\",\"Cheese Pizza\",\"Bbq Pizza\",\"Seafood Pizza Platter\",\"White Pizza\",\"Mexican Pizza\",\"Assorted Pita Pizzas\",\"Chesters Lavash Pizza\",\"Any Six ( 6 ) 10 Signature Pizzas\",\"Pizza Margherita\",\"Moped Pizza\",\"Dessert Pizza\",\"Build Your Own Pizza\",\"Build Your Own Pizza\",\"Margherita Pizza\",\"9th Island Pizza\",\"Margarita Pizza\",\"Cheese Pizza\",\"Pizza Cubana\",\"Pizza Del Giorno\",\"Create Your Own Large Pizza\",\"Pizza of The Day\",\"Alpine Pizza\",\"Nutella Pizza\",\"Supreme Pizza\",\"Cheese Pizza\",\"Wild Mushroom Pizza\",\"Cheese Pizza\",\"Pizza and Pitcher\",\"Taco Pizza\",\"Three Cheese Pizza\",\"Pizza Del Giorno\",\"Wild Mushroom Pizza\",\"Flat Bread Pizza of The Day\",\"Pizza Classica\",\"Traditional Neapolitan Pizza\",\"Pepperoni or Cheese Pizza\",\"Artisan Cheese Pizza\",\"Mediterranean Pizza\",\"Homemade Mexican Pizza\",\"Stuffed Jalapeno Pizza\",\"Greco Pizza (greek Pizza)\",\"Bbq Pizzanew Item\",\"Specialty Pizza\",\"Della Casa Pizza\",\"One Topping Pizza\",\"Pizza Tartlets\",\"Hummus Veggie Pizza\",\"Morning Pizza\",\"Build Your Own Pizza\",\"Cheesy Pita Pizza\",\"Create Your Own Pizza\",\"Pizza Delmar\",\"Chicago Deep Dish Pizza\",\"Gyro Pizza\",\"Margherita Pizza\",\"Build Your Own Pizza\",\"Pizza Skins\",\"Quesadillas (mexican Pizza)\",\"Veggie Pizza\",\"Greek Pizza\",\"Mexican Pizza\",\"Pizza Burger Melt\",\"Pepperoni or Mushroom Pizza Burger\",\"Chicago Deep Dish Pizza\",\"White Pizza\",\"Newest Pizza In Town\",\"Barbecue Chicken Flatbread Pizza\",\"Pesto Chicken and Artichoke Flatbread Pizza\",\"Ultimate Supreme Pizza\",\"Calabash Island Pizza\",\"Flatbread Pizza\",\"Breakfast Pizza\",\"Build Your Own Pizza\",\"Goat Cheese Pizza\",\"Thin Crust Mini Pizza\",\"Build Your Own Pizza\",\"White Pizza With Tomato\",\"Buffalo Chicken Pizza\",\"Cheese Pizza\",\"Calabrese (pizza In A Pocket)\",\"Pizza\",\"Primavera Pizza\",\"Chicken Pita Pizza\",\"Cheese Pizza\",\"California Pizza\",\"Pizza\",\"Chicken Pita Pizza\",\"Flat Bread Pizza (7x7)\",\"Vegetarian Pizza\",\"Mexican Pizza\",\"Create Your Own Pizza\",\"Prosciutto Roasted Mushroom Pizza\",\"Kids Flatbread Pizza\",\"Sausage Onion Jam Pizza\",\"Cheese Pizza\",\"Bbq Chicken Pizza\",\"Sausage Onion Jam Pizza\",\"Sausage Onion Jam Pizza\",\"Cheese Pizza\",\"White Pizza\",\"Pizza Burger\",\"Fajita Pizza\",\"Sausage Onion Jam Pizza\",\"Buffalo Chicken Pizza\",\"Sausage Onion Jam Pizza\",\"Sausage Onion Jam Pizza\",\"Sausage Onion Jam Pizza\",\"When You Were A Kid Pizza Burger\",\"Pizza\",\"Mexican Pizza\",\"Fruit Pizza\",\"Pizza Chefs Surprise of The Day\",\"Pizza Burger\",\"Berry Pizza\",\"4. Pizza Cheese Steak\",\"All American Deep Dish Pizza\",\"Margherita Pizza Crepe\",\"Lobster Pizza\",\"Philly Cheese Steak Pizza\",\"Pizzawich Monster Sub\",\"Panini Alla Pizza\",\"Pepperosa Pizza\",\"Pizza or Calzone\",\"Margherita Pizza\",\"Pizza Bread\",\"Flatbread Pizza\",\"Nuevo Pizza\",\"Margherita Pizza\",\"Personal Pizza\",\"Khans Korean Pizza\",\"Build Your Own Pizza\",\"10 Pizza Margherita\",\"Pizza\",\"Veggie Pizza\",\"Mozzarella Organic Tomato Pizza\",\"Pizza Pizza\",\"Cheese Ice Cream Pizza\",\"Pizza Burger\",\"Pizza Calzones\",\"Pizza Burger\",\"Apple Pizza\",\"Pizza Bake\",\"Pizza Steak\",\"Stuffed Pizza\",\"Buffalo Chicken Pita Pizza\",\"Pita Pizza\",\"Pizza Dough Balls\",\"Stuffed Pizza Rolls\",\"Pizza Bianco\",\"Honey Blue Cheese Pizza\",\"Pizza Burger\",\"Sushi Pizza\",\"Pizza\",\"Pub Pizza\",\"Italiano Pizza Pocket\",\"Pizza\",\"Cheese Pizza\",\"Mexican Pizza\",\"Pizza\",\"White Pizza\",\"Pizza Role\",\"Mexican Pizza\",\"Pizza Steak\",\"Mini Pizza\",\"Pizza Steak\",\"White Pizza Sub\",\"Frickin Chicken Pizza\",\"White Pizza Deluxe\",\"Pizza Steak\",\"Pizza Special\",\"Pizza Bianca\",\"Meatball Pizza\",\"Margherita Pizza 6 Calamari Fritti\",\"Cheese Pizza\",\"Pizza Steak\",\"Make Your Own Pizza\",\"Kids Pizza\",\"Margarita Flat Bread Pizza\",\"Ice Cream Pizza\",\"Veggie Pizza\",\"Pepperoni Pizza\",\"Pizza Del Giorno\",\"Kids Pizza\",\"Byo Pizza\",\"Pizza Margherita\",\"Crooked Pepperoni Pizza\",\"All Meats Pizza\",\"Veggie Patch Pizza\",\"Pizza Sub\",\"Pizza Base\",\"Medium Cheese Pizza\",\"Pizza Sub\",\"Margarita Pizza\",\"Veggie Patch Pizza\",\"Pizza Sub\",\"Bulgogi Tortilla Pizza\",\"Pizza Fries\",\"The Original Cheese Pizza\",\"Personal Pizza\",\"Chicago Deep Dish Pizza\",\"Veggie Patch Pizza\",\"Pizza Logs (new)\",\"Veggie Patch Pizza\",\"Simply Pizza Crust\",\"Flatbread Cheese Pizza\",\"Pizza Special\",\"Cheese Pizza\",\"Taco Pizza\",\"Two Slices of Plain Pizza\",\"Pizza Formaggi\",\"Pepperoni Pizza Steak\",\"Pizza Burger\",\"Pita Pizza Sandwich\",\"Cheese Pizzarito\",\"Kids Pizza\",\"Pizza Topping Dippers\",\"Flatbread Pizza\",\"Miso Pizza\",\"Pizza\",\"Hawaiian Pizza\",\"Pizza Burger\",\"Pesto Pizza\",\"Pizza Rolls\",\"Pizza Dolce Alla Nutella\",\"Cheese Pizza\",\"Pizza\",\"Pizza Combo\",\"The Pizza Steak\",\"Mexican Pizza\",\"Pizza Burger\",\"Pizza Stick\",\"Pizza A La Mexicana\",\"Pizza Hogie\",\"Crab Pizza\",\"Decadent Chicken Pizza\",\"Cheeseburger Pizza\",\"Wood Oven Cheese Pizza\",\"Pizza\",\"Margarita Pizza\",\"Buffalo Chicken Pizza\",\"Daily Pizza\",\"Livingwell Pizza\",\"Bar Pizza\",\"Flatbread Pizza, Fresh Mozzarella\",\"Cheese Pizza\",\"Mini Pizza\",\"Z Breakfast Pizza\",\"Bbq Chicken Pizza\",\"House Made Pizza\",\"Cheese Pizza\",\"Simply Pizza\",\"Kids Cheese Pizza Meal\",\"Pizza\",\"Toss Up Pizza\",\"Pizza Deluxe\",\"Cheese Pizza\",\"Pizza Fries\",\"Cheese Flatbread Pizza\",\"Cheese Flatbread Pizza\",\"Cheese Flatbread Pizza\",\"Cheese Flatbread Pizza\",\"Cheese Flatbread Pizza\",\"Pepperoni Pizza\",\"Mexican Pizza\",\"Mexican Pizza\",\"Mini Pizza One Topping\",\"Mexican Pizza\",\"Pizza Sandwich\",\"Pizza\",\"Pizza\",\"Pizza Burger\",\"Cheesy Pita Pizza\",\"With Pizza Cheese\",\"With Pizza Cheese\",\"With Pizza Cheese\",\"Pizza Sticks\",\"Pizza Burger\",\"Veggie Pizza Wrap\",\"Pizza Rolls\",\"Mini Pizza\",\"8in Mini Cheese Pizza\",\"Cheese Pizza\",\"Pastis De Pizza\",\"Cheese Personal Pizza\",\"Cheese Pizza\",\"Pizza Bagel\",\"Cheesy Pizza\",\"Pizza or Calzone\",\"Pizza Boy Citra Pils (4)\",\"Kids Pizza\",\"Cheese Flatbread Pizza\",\"To The Price of Any Pizza\",\"Original Herb Cheese Pizza Points\",\"Chocolate Chip Pizza\",\"Pizza Omelette\",\"Pizza Logs\",\"Sesame Seed Crusted Sashimi Grade Rare Tuna Pizza\",\"Pizza\",\"Pizza Puff\",\"Flatbread Pizza\",\"Pizza\",\"Pepperoni or Sausage Pizza\",\"Pizza Burger\",\"Pizza Rolls\",\"Mexican Pizza\",\"Pizza Bread\",\"Pizza Burger\",\"Pizza Con Formaggio\",\"Taco Pizza\",\"Pizzaburger\",\"Pizza Sub\",\"Pizza Bread\",\"Pizza Fries\",\"Pizza Puff\",\"Pizza Bagel\",\"Cheese Pizza\",\"Italian, Veggie or Pizza Sub\",\"Pizza Boat\",\"Kids Size Pizza\",\"Pepperoni Pizza\",\"Kids Size Pizza\",\"Brick Oven Pizza Al Metro\",\"Kids Size Pizza\",\"Pizza Burger 6 Oz.\",\"Pizza Fries\",\"Pizza Burger\",\"Pizza Bread\",\"Mexican Pizza\",\"Pizza of The Day\",\"Pizza Sub\",\"Chinese Pizza\",\"White Pizza\",\"Pizza Sub\",\"Veggie Pizza\",\"White Pizza\",\"Pizza\",\"Pizza Bagel\",\"Pizza Bagel\",\"Deluxe Pizza Subs\",\"Kid Pizza Bites\",\"Buffalo Chicken Pizza\",\"Mexican Pizza\",\"Supreme Pizza\",\"Pizza Fries\",\"Classic Pepperoni Lahvosh Pizza\",\"Cheese Pizza\",\"Mexican Pizza\",\"Pizza Burger\",\"Pizza Bread or Tomato Bread\",\"Pizza Con Formaggio\",\"Focaccia Pizza Bread\",\"Gourmet  Pizza\",\"Pizza Special\",\"Pita Pizza\",\"Pizza Bagel\",\"Pizza Bread\",\"Meat Pizza\",\"Cheesy Bread Pizza (full)\",\"Pizza Puff\",\"Small Pepperoni or Cheese Pizza\",\"Pizza Bagel\",\"Pizza Puff\",\"Pizza Puffs\",\"Pizza Puff\",\"Pizza Dough\",\"Caprese Pizza\",\"Chinese Pizza\",\"Pizza Bread\",\"Kids Pizza\",\"Wednesday Pizza Night\",\"Chinese Pizza\",\"Vegetarian Pizza\",\"Byop (build Your Own Pizza)\",\"Taco Pizza\",\"Pizza Puffs\",\"Pizza Toppings\",\"Family Pizza Nights\",\"Pizza Roll\",\"Pizza Roll\",\"Pizza Eggs Roll\",\"Pizza Roll\",\"Pizza Roll\",\"Pizza Role\",\"Pizza Role\",\"Pizza Bites\"],\"state\":[\"CA\",\"NY\",\"VA\",\"FL\",\"TX\",\"MO\",\"NY\",\"FL\",\"KS\",\"CA\",\"NY\",\"MD\",\"IL\",\"NY\",\"FL\",\"MN\",\"NC\",\"NC\",\"NY\",\"MS\",\"NC\",\"CA\",\"CA\",\"OH\",\"FL\",\"FL\",\"TN\",\"CA\",\"KY\",\"IL\",\"NV\",\"NY\",\"FL\",\"CA\",\"MI\",\"MI\",\"NY\",\"NY\",\"CO\",\"OH\",\"NY\",\"NY\",\"WA\",\"NY\",\"TX\",\"CA\",\"FL\",\"OR\",\"MI\",\"CA\",\"TN\",\"FL\",\"NY\",\"NY\",\"MI\",\"CA\",\"NV\",\"GA\",\"FL\",\"IN\",\"TX\",\"MD\",\"KY\",\"WV\",\"NC\",\"FL\",\"SC\",\"UT\",\"NY\",\"VA\",\"IN\",\"SC\",\"NC\",\"AZ\",\"KY\",\"AZ\",\"FL\",\"IL\",\"NY\",\"MO\",\"OH\",\"AZ\",\"PA\",\"PA\",\"NY\",\"OK\",\"NY\",\"MN\",\"VA\",\"OH\",\"PA\",\"FL\",\"VA\",\"PA\",\"OH\",\"TX\",\"FL\",\"TX\",\"MD\",\"UT\",\"IN\",\"LA\",\"LA\",\"OR\",\"IN\",\"NY\",\"FL\",\"IL\",\"CA\",\"TX\",\"PA\",\"CA\",\"DC\",\"NY\",\"NY\",\"NC\",\"TX\",\"HI\",\"CA\",\"IL\",\"NY\",\"OH\",\"UT\",\"FL\",\"FL\",\"IN\",\"CA\",\"CA\",\"IL\",\"CA\",\"NV\",\"MN\",\"MD\",\"NY\",\"TX\",\"MD\",\"NY\",\"NY\",\"NY\",\"CA\",\"AR\",\"FL\",\"NY\",\"NC\",\"PA\",\"CA\",\"NY\",\"CO\",\"CA\",\"VA\",\"IL\",\"MD\",\"UT\",\"MI\",\"NM\",\"NC\",\"MI\",\"TX\",\"PA\",\"NY\",\"OH\",\"FL\",\"NY\",\"WA\",\"PA\",\"CA\",\"MN\",\"PA\",\"FL\",\"NE\",\"OH\",\"NY\",\"NY\",\"FL\",\"TX\",\"FL\",\"NY\",\"WA\",\"IN\",\"TX\",\"OH\",\"WA\",\"NV\",\"IL\",\"GA\",\"WI\",\"OH\",\"MO\",\"TX\",\"CA\",\"MN\",\"OR\",\"AZ\",\"MT\",\"CA\",\"IA\",\"IL\",\"MD\",\"PA\",\"WA\",\"MD\",\"AZ\",\"NY\",\"GA\",\"IL\",\"NC\",\"CA\",\"NY\",\"MI\",\"NY\",\"TX\",\"OH\",\"NY\",\"CA\",\"AZ\",\"CA\",\"OH\",\"NY\",\"HI\",\"TX\",\"NY\",\"NC\",\"NC\",\"NV\",\"CO\",\"CA\",\"NY\",\"ID\",\"LA\",\"MI\",\"TN\",\"KY\",\"VA\",\"TX\",\"UT\",\"OH\",\"PA\",\"SC\",\"PA\",\"MD\",\"IL\",\"MO\",\"CA\",\"NY\",\"TX\",\"TX\",\"CA\",\"CA\",\"NY\",\"VA\",\"OH\",\"CA\",\"WY\",\"SC\",\"FL\",\"OH\",\"NV\",\"AL\",\"IL\",\"MI\",\"TX\",\"FL\",\"FL\",\"WI\",\"SC\",\"FL\",\"FL\",\"IL\",\"CA\",\"FL\",\"MN\",\"PA\",\"CO\",\"PA\",\"IL\",\"IL\",\"MI\",\"IL\",\"CA\",\"TN\",\"PA\",\"AL\",\"WI\",\"IN\",\"CO\",\"GA\",\"NY\",\"OK\",\"NC\",\"CA\",\"IL\",\"TX\",\"NY\",\"CA\",\"OR\",\"GA\",\"WA\",\"CA\",\"TX\",\"PA\",\"TN\",\"MO\",\"TN\",\"CA\",\"PA\",\"IN\",\"MI\",\"CO\",\"KY\",\"PA\",\"PA\",\"CA\",\"NY\",\"NM\",\"NY\",\"CO\",\"IN\",\"NY\",\"CA\",\"MN\",\"MT\",\"NY\",\"CA\",\"MN\",\"PA\",\"NY\",\"CA\",\"CA\",\"IL\",\"OH\",\"MN\",\"TX\",\"FL\",\"AZ\",\"CA\",\"CO\",\"CA\",\"OH\",\"NY\",\"CA\",\"NC\",\"NY\",\"NY\",\"LA\",\"IL\",\"PA\",\"MD\",\"CA\",\"PA\",\"IL\",\"VA\",\"AZ\",\"MD\",\"CO\",\"NY\",\"DE\",\"FL\",\"DC\",\"IL\",\"IL\",\"MT\",\"TX\",\"GA\",\"MI\",\"NE\",\"VA\",\"CA\",\"NE\",\"IA\",\"FL\",\"IL\",\"MI\",\"CA\",\"CA\",\"PA\",\"WI\",\"AZ\",\"NY\",\"CA\",\"NY\",\"OK\",\"PA\",\"AR\",\"SC\",\"IL\",\"CA\",\"SD\",\"CA\",\"CA\",\"WA\",\"WI\",\"AR\",\"CO\",\"NY\",\"NY\",\"OK\",\"IN\",\"IL\",\"NY\",\"OR\",\"MD\",\"WA\",\"IL\",\"MI\",\"PA\",\"IL\",\"UT\",\"TX\",\"MI\",\"NY\",\"AR\",\"MN\",\"UT\",\"TX\",\"AZ\",\"MI\",\"WA\",\"CA\",\"MT\",\"PA\",\"MT\",\"NV\",\"NY\",\"MN\",\"VA\",\"CA\",\"WA\",\"WV\",\"GA\",\"TX\",\"OH\",\"NV\",\"PA\",\"HI\",\"OH\",\"NY\",\"NY\",\"AL\",\"WI\",\"TX\",\"TX\",\"MD\",\"NY\",\"WI\",\"TX\",\"OR\",\"NY\",\"NY\",\"GA\",\"FL\",\"KS\",\"DE\",\"MO\",\"CO\",\"IL\",\"MI\",\"MI\",\"NY\",\"PA\",\"VA\",\"OR\",\"IA\",\"NY\",\"NY\",\"CA\",\"CA\",\"NC\",\"TX\",\"AL\",\"MD\",\"TX\",\"PA\",\"CA\",\"NY\",\"NY\",\"MO\",\"MN\",\"WA\",\"AZ\",\"OH\",\"NY\",\"WV\",\"MI\",\"IN\",\"WA\",\"TX\",\"TX\",\"CA\",\"MD\",\"CO\",\"PA\",\"NY\",\"MO\",\"MD\",\"NC\",\"NM\",\"IL\",\"IL\",\"IL\",\"TX\",\"SC\",\"KS\",\"WA\",\"TX\",\"AZ\",\"CA\",\"NE\",\"TX\",\"FL\",\"IL\",\"IL\",\"NY\",\"WI\",\"NC\",\"NV\",\"WA\",\"TN\",\"PA\",\"TX\",\"OH\",\"PA\",\"MD\",\"TX\",\"UT\",\"IN\",\"CA\",\"NC\",\"LA\",\"PA\",\"NY\",\"CA\",\"PA\",\"SC\",\"CA\",\"CA\",\"KY\",\"CA\",\"NY\",\"ID\",\"MS\",\"HI\",\"IL\",\"IL\",\"VA\",\"NY\",\"IN\",\"DC\",\"GA\",\"FL\",\"WA\",\"OK\",\"TX\",\"IN\",\"TX\",\"OH\",\"PA\",\"FL\",\"CA\",\"KY\",\"FL\",\"NC\",\"PA\",\"PA\",\"CO\",\"WA\",\"NC\",\"HI\",\"NY\",\"MS\",\"MN\",\"CA\",\"IL\",\"PA\",\"WI\",\"MO\",\"WA\",\"VA\",\"NY\",\"OH\",\"DE\",\"PA\",\"PA\",\"NY\",\"IN\",\"PA\",\"PA\",\"WA\",\"NY\",\"NC\",\"WA\",\"AZ\",\"PA\",\"OH\",\"SC\",\"PA\",\"PA\",\"OR\",\"FL\",\"MI\",\"PA\",\"MS\",\"OR\",\"CA\",\"TX\",\"MI\",\"IA\",\"TX\",\"CA\",\"SC\",\"CO\",\"MD\",\"NC\",\"GA\",\"PA\",\"WA\",\"WV\",\"NY\",\"FL\",\"PA\",\"NC\",\"AZ\",\"IL\",\"MI\",\"MN\",\"OR\",\"PA\",\"CA\",\"PA\",\"FL\",\"NY\",\"IL\",\"IL\",\"FL\",\"LA\",\"CA\",\"SC\",\"WA\",\"PA\",\"NY\",\"NC\",\"TX\",\"CO\",\"LA\",\"MN\",\"TX\",\"OK\",\"IL\",\"CA\",\"IA\",\"NY\",\"MD\",\"ND\",\"NE\",\"TX\",\"FL\",\"FL\",\"FL\",\"CA\",\"OR\",\"NY\",\"CA\",\"GA\",\"CA\",\"NY\",\"CA\",\"AK\",\"TX\",\"CA\",\"WA\",\"PA\",\"FL\",\"OH\",\"NE\",\"MD\",\"GA\",\"GA\",\"VA\",\"FL\",\"IL\",\"MN\",\"AZ\",\"AR\",\"AZ\",\"NC\",\"IL\",\"IA\",\"OH\",\"NY\",\"NC\",\"SC\",\"PA\",\"WA\",\"NY\",\"NY\",\"OH\",\"TX\",\"PA\",\"OH\",\"MO\",\"AZ\",\"MD\",\"SC\",\"TN\",\"OR\",\"CA\",\"PA\",\"CO\",\"IL\",\"WA\",\"LA\",\"TX\",\"MI\",\"PA\",\"FL\",\"WI\",\"IL\",\"CA\",\"FL\",\"IN\",\"IL\",\"MN\",\"OR\",\"IL\",\"NY\",\"TX\",\"KS\",\"MN\",\"PA\",\"MS\",\"PA\",\"IL\",\"MD\",\"MO\",\"OH\",\"NY\",\"OH\",\"MN\",\"OH\",\"NY\",\"OH\",\"PA\",\"PA\",\"IL\",\"IL\",\"LA\",\"NY\",\"FL\",\"PA\",\"OH\",\"GA\",\"CA\",\"NY\",\"TX\",\"OH\",\"AL\",\"OH\",\"OK\",\"ID\",\"GA\",\"CO\",\"MI\",\"CA\",\"TX\",\"CA\",\"NY\",\"IL\",\"CA\",\"OR\",\"TX\",\"CA\",\"OH\",\"IN\",\"IL\",\"MO\",\"CA\",\"IL\",\"SC\",\"CA\",\"IL\",\"IL\",\"IL\",\"NY\",\"CO\",\"DE\",\"IL\",\"FL\",\"NY\",\"PA\",\"NY\",\"CA\",\"KS\",\"IL\",\"WA\",\"FL\",\"PA\",\"VA\",\"NY\",\"WA\",\"CO\",\"PA\",\"NY\",\"IL\"],\"state_counts\":{\"__ndarray__\":\"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\",\"dtype\":\"float64\",\"shape\":[802]},\"x\":{\"__ndarray__\":\"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\",\"dtype\":\"float64\",\"shape\":[802]},\"y\":{\"__ndarray__\":\"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\",\"dtype\":\"float64\",\"shape\":[802]}},\"selected\":{\"id\":\"1080\",\"type\":\"Selection\"},\"selection_policy\":{\"id\":\"1079\",\"type\":\"UnionRenderers\"}},\"id\":\"1003\",\"type\":\"ColumnDataSource\"},{\"attributes\":{\"tools\":[{\"id\":\"1004\",\"type\":\"HoverTool\"},{\"id\":\"1026\",\"type\":\"PanTool\"},{\"id\":\"1027\",\"type\":\"WheelZoomTool\"},{\"id\":\"1028\",\"type\":\"TapTool\"},{\"id\":\"1029\",\"type\":\"ResetTool\"},{\"id\":\"1030\",\"type\":\"CrosshairTool\"},{\"id\":\"1067\",\"type\":\"TapTool\"},{\"id\":\"1068\",\"type\":\"ResetTool\"}]},\"id\":\"1093\",\"type\":\"ProxyToolbar\"},{\"attributes\":{\"axis_label\":\"State\",\"formatter\":{\"id\":\"1085\",\"type\":\"CategoricalTickFormatter\"},\"major_label_orientation\":\"vertical\",\"plot\":{\"id\":\"1048\",\"subtype\":\"Figure\",\"type\":\"Plot\"},\"ticker\":{\"id\":\"1059\",\"type\":\"CategoricalTicker\"}},\"id\":\"1058\",\"type\":\"CategoricalAxis\"},{\"attributes\":{},\"id\":\"1026\",\"type\":\"PanTool\"},{\"attributes\":{\"toolbar\":{\"id\":\"1093\",\"type\":\"ProxyToolbar\"},\"toolbar_location\":\"left\"},\"id\":\"1094\",\"type\":\"ToolbarBox\"},{\"attributes\":{\"tile_source\":{\"id\":\"1001\",\"type\":\"WMTSTileSource\"}},\"id\":\"1038\",\"type\":\"TileRenderer\"},{\"attributes\":{},\"id\":\"1059\",\"type\":\"CategoricalTicker\"},{\"attributes\":{},\"id\":\"1027\",\"type\":\"WheelZoomTool\"},{\"attributes\":{\"grid_line_color\":{\"value\":null},\"plot\":{\"id\":\"1048\",\"subtype\":\"Figure\",\"type\":\"Plot\"},\"ticker\":{\"id\":\"1059\",\"type\":\"CategoricalTicker\"}},\"id\":\"1061\",\"type\":\"Grid\"},{\"attributes\":{\"callback\":null},\"id\":\"1028\",\"type\":\"TapTool\"},{\"attributes\":{\"factors\":[\"CA\",\"NY\",\"VA\",\"FL\",\"TX\",\"MO\",\"KS\",\"MD\",\"IL\",\"MN\",\"NC\",\"MS\",\"OH\",\"TN\",\"KY\",\"NV\",\"MI\",\"CO\",\"WA\",\"OR\",\"GA\",\"IN\",\"WV\",\"SC\",\"UT\",\"AZ\",\"PA\",\"OK\",\"LA\",\"DC\",\"HI\",\"AR\",\"NM\",\"NE\",\"WI\",\"MT\",\"IA\",\"ID\",\"WY\",\"AL\",\"DE\",\"SD\",\"ND\",\"AK\"],\"palette\":[\"#393b79\",\"#5254a3\",\"#6b6ecf\",\"#9c9ede\",\"#637939\",\"#8ca252\",\"#b5cf6b\",\"#cedb9c\",\"#8c6d31\",\"#bd9e39\",\"#e7ba52\",\"#e7cb94\",\"#843c39\",\"#ad494a\",\"#d6616b\",\"#e7969c\",\"#7b4173\",\"#a55194\",\"#ce6dbd\",\"#de9ed6\",\"#3182bd\",\"#6baed6\",\"#9ecae1\",\"#c6dbef\",\"#e6550d\",\"#fd8d3c\",\"#fdae6b\",\"#fdd0a2\",\"#31a354\",\"#74c476\",\"#a1d99b\",\"#c7e9c0\",\"#756bb1\",\"#9e9ac8\",\"#bcbddc\",\"#dadaeb\",\"#636363\",\"#969696\",\"#bdbdbd\",\"#d9d9d9\",\"#2b83ba\",\"#abdda4\",\"#fdae61\",\"#d7191c\"]},\"id\":\"1040\",\"type\":\"CategoricalColorMapper\"},{\"attributes\":{\"axis_label\":\"Count\",\"formatter\":{\"id\":\"1087\",\"type\":\"BasicTickFormatter\"},\"plot\":{\"id\":\"1048\",\"subtype\":\"Figure\",\"type\":\"Plot\"},\"ticker\":{\"id\":\"1063\",\"type\":\"BasicTicker\"}},\"id\":\"1062\",\"type\":\"LinearAxis\"},{\"attributes\":{},\"id\":\"1029\",\"type\":\"ResetTool\"},{\"attributes\":{},\"id\":\"1063\",\"type\":\"BasicTicker\"},{\"attributes\":{},\"id\":\"1030\",\"type\":\"CrosshairTool\"},{\"attributes\":{\"callback\":null},\"id\":\"1010\",\"type\":\"DataRange1d\"},{\"attributes\":{\"dimension\":1,\"plot\":{\"id\":\"1048\",\"subtype\":\"Figure\",\"type\":\"Plot\"},\"ticker\":{\"id\":\"1063\",\"type\":\"BasicTicker\"}},\"id\":\"1066\",\"type\":\"Grid\"},{\"attributes\":{},\"id\":\"1087\",\"type\":\"BasicTickFormatter\"},{\"attributes\":{\"active_drag\":\"auto\",\"active_inspect\":\"auto\",\"active_multi\":null,\"active_scroll\":\"auto\",\"active_tap\":\"auto\",\"tools\":[{\"id\":\"1004\",\"type\":\"HoverTool\"},{\"id\":\"1026\",\"type\":\"PanTool\"},{\"id\":\"1027\",\"type\":\"WheelZoomTool\"},{\"id\":\"1028\",\"type\":\"TapTool\"},{\"id\":\"1029\",\"type\":\"ResetTool\"},{\"id\":\"1030\",\"type\":\"CrosshairTool\"}]},\"id\":\"1031\",\"type\":\"Toolbar\"},{\"attributes\":{},\"id\":\"1079\",\"type\":\"UnionRenderers\"},{\"attributes\":{\"below\":[{\"id\":\"1058\",\"type\":\"CategoricalAxis\"}],\"left\":[{\"id\":\"1062\",\"type\":\"LinearAxis\"}],\"plot_height\":200,\"plot_width\":780,\"renderers\":[{\"id\":\"1058\",\"type\":\"CategoricalAxis\"},{\"id\":\"1061\",\"type\":\"Grid\"},{\"id\":\"1062\",\"type\":\"LinearAxis\"},{\"id\":\"1066\",\"type\":\"Grid\"},{\"id\":\"1076\",\"type\":\"GlyphRenderer\"}],\"title\":{\"id\":\"1047\",\"type\":\"Title\"},\"toolbar\":{\"id\":\"1069\",\"type\":\"Toolbar\"},\"toolbar_location\":null,\"x_range\":{\"id\":\"1050\",\"type\":\"FactorRange\"},\"x_scale\":{\"id\":\"1054\",\"type\":\"CategoricalScale\"},\"y_range\":{\"id\":\"1052\",\"type\":\"DataRange1d\"},\"y_scale\":{\"id\":\"1056\",\"type\":\"LinearScale\"}},\"id\":\"1048\",\"subtype\":\"Figure\",\"type\":\"Plot\"},{\"attributes\":{\"children\":[{\"id\":\"1048\",\"subtype\":\"Figure\",\"type\":\"Plot\"}]},\"id\":\"1091\",\"type\":\"Row\"},{\"attributes\":{\"plot_height\":360,\"plot_width\":780,\"renderers\":[{\"id\":\"1020\",\"type\":\"Grid\"},{\"id\":\"1025\",\"type\":\"Grid\"},{\"id\":\"1038\",\"type\":\"TileRenderer\"},{\"id\":\"1045\",\"type\":\"GlyphRenderer\"}],\"title\":{\"id\":\"1005\",\"type\":\"Title\"},\"toolbar\":{\"id\":\"1031\",\"type\":\"Toolbar\"},\"toolbar_location\":null,\"x_range\":{\"id\":\"1008\",\"type\":\"DataRange1d\"},\"x_scale\":{\"id\":\"1012\",\"type\":\"LinearScale\"},\"y_range\":{\"id\":\"1010\",\"type\":\"DataRange1d\"},\"y_scale\":{\"id\":\"1014\",\"type\":\"LinearScale\"}},\"id\":\"1006\",\"subtype\":\"Figure\",\"type\":\"Plot\"},{\"attributes\":{\"active_drag\":\"auto\",\"active_inspect\":\"auto\",\"active_multi\":null,\"active_scroll\":\"auto\",\"active_tap\":\"auto\",\"tools\":[{\"id\":\"1067\",\"type\":\"TapTool\"},{\"id\":\"1068\",\"type\":\"ResetTool\"}]},\"id\":\"1069\",\"type\":\"Toolbar\"},{\"attributes\":{\"attribution\":\"&copy; <a href=\\\"https://www.openstreetmap.org/copyright\\\">OpenStreetMap</a> contributors,&copy; <a href=\\\"https://cartodb.com/attributions\\\">CartoDB</a>\",\"url\":\"https://tiles.basemaps.cartocdn.com/light_all/{z}/{x}/{y}@2x.png\"},\"id\":\"1001\",\"type\":\"WMTSTileSource\"},{\"attributes\":{\"children\":[{\"id\":\"1082\",\"type\":\"Row\"},{\"id\":\"1091\",\"type\":\"Row\"}]},\"id\":\"1092\",\"type\":\"Column\"},{\"attributes\":{\"callback\":null},\"id\":\"1008\",\"type\":\"DataRange1d\"},{\"attributes\":{\"fill_alpha\":{\"value\":0.5},\"fill_color\":{\"field\":\"state\",\"transform\":{\"id\":\"1040\",\"type\":\"CategoricalColorMapper\"}},\"line_alpha\":{\"value\":0.5},\"line_color\":{\"field\":\"state\",\"transform\":{\"id\":\"1040\",\"type\":\"CategoricalColorMapper\"}},\"size\":{\"field\":\"dot_size\",\"units\":\"screen\"},\"x\":{\"field\":\"x\"},\"y\":{\"field\":\"y\"}},\"id\":\"1042\",\"type\":\"Circle\"},{\"attributes\":{},\"id\":\"1085\",\"type\":\"CategoricalTickFormatter\"},{\"attributes\":{\"callback\":null},\"id\":\"1067\",\"type\":\"TapTool\"},{\"attributes\":{},\"id\":\"1068\",\"type\":\"ResetTool\"},{\"attributes\":{},\"id\":\"1012\",\"type\":\"LinearScale\"},{\"attributes\":{\"fill_color\":{\"value\":\"black\"},\"size\":{\"field\":\"dot_size\",\"units\":\"screen\"},\"x\":{\"field\":\"x\"},\"y\":{\"field\":\"y\"}},\"id\":\"1044\",\"type\":\"Circle\"},{\"attributes\":{},\"id\":\"1080\",\"type\":\"Selection\"},{\"attributes\":{\"data_source\":{\"id\":\"1003\",\"type\":\"ColumnDataSource\"},\"glyph\":{\"id\":\"1042\",\"type\":\"Circle\"},\"hover_glyph\":null,\"muted_glyph\":null,\"nonselection_glyph\":{\"id\":\"1043\",\"type\":\"Circle\"},\"selection_glyph\":{\"id\":\"1044\",\"type\":\"Circle\"},\"view\":{\"id\":\"1046\",\"type\":\"CDSView\"}},\"id\":\"1045\",\"type\":\"GlyphRenderer\"},{\"attributes\":{\"fill_alpha\":{\"value\":0.1},\"line_alpha\":{\"value\":0.1},\"line_color\":{\"value\":\"#1f77b4\"},\"size\":{\"field\":\"dot_size\",\"units\":\"screen\"},\"x\":{\"field\":\"x\"},\"y\":{\"field\":\"y\"}},\"id\":\"1043\",\"type\":\"Circle\"},{\"attributes\":{\"fill_alpha\":{\"value\":0.1},\"line_alpha\":{\"value\":0.1},\"line_color\":{\"value\":\"#1f77b4\"},\"top\":{\"field\":\"state_counts\"},\"width\":{\"value\":0.7},\"x\":{\"field\":\"state\"}},\"id\":\"1074\",\"type\":\"VBar\"},{\"attributes\":{\"callback\":null,\"tooltips\":[[\"City\",\"@city\"],[\"Address\",\"@address\"],[\"Pizza\",\"@pizza_name\"],[\"Max price\",\"@menus_amountMax\"]]},\"id\":\"1004\",\"type\":\"HoverTool\"},{\"attributes\":{},\"id\":\"1014\",\"type\":\"LinearScale\"},{\"attributes\":{\"source\":{\"id\":\"1003\",\"type\":\"ColumnDataSource\"}},\"id\":\"1046\",\"type\":\"CDSView\"},{\"attributes\":{\"fill_color\":{\"value\":\"black\"},\"top\":{\"field\":\"state_counts\"},\"width\":{\"value\":0.7},\"x\":{\"field\":\"state\"}},\"id\":\"1075\",\"type\":\"VBar\"},{\"attributes\":{\"plot\":null,\"text\":\"Localiza\\u00e7\\u00e3o das pizzarias nos EUA\"},\"id\":\"1005\",\"type\":\"Title\"},{\"attributes\":{\"data_source\":{\"id\":\"1003\",\"type\":\"ColumnDataSource\"},\"glyph\":{\"id\":\"1073\",\"type\":\"VBar\"},\"hover_glyph\":null,\"muted_glyph\":null,\"nonselection_glyph\":{\"id\":\"1074\",\"type\":\"VBar\"},\"selection_glyph\":{\"id\":\"1075\",\"type\":\"VBar\"},\"view\":{\"id\":\"1077\",\"type\":\"CDSView\"}},\"id\":\"1076\",\"type\":\"GlyphRenderer\"},{\"attributes\":{\"plot\":null,\"text\":\"N\\u00famero de restaurantes em cada estado (Clique Aqui)\"},\"id\":\"1047\",\"type\":\"Title\"},{\"attributes\":{},\"id\":\"1017\",\"type\":\"BasicTicker\"},{\"attributes\":{\"source\":{\"id\":\"1003\",\"type\":\"ColumnDataSource\"}},\"id\":\"1077\",\"type\":\"CDSView\"},{\"attributes\":{\"callback\":null,\"factors\":[\"CA\",\"NY\",\"VA\",\"FL\",\"TX\",\"MO\",\"KS\",\"MD\",\"IL\",\"MN\",\"NC\",\"MS\",\"OH\",\"TN\",\"KY\",\"NV\",\"MI\",\"CO\",\"WA\",\"OR\",\"GA\",\"IN\",\"WV\",\"SC\",\"UT\",\"AZ\",\"PA\",\"OK\",\"LA\",\"DC\",\"HI\",\"AR\",\"NM\",\"NE\",\"WI\",\"MT\",\"IA\",\"ID\",\"WY\",\"AL\",\"DE\",\"SD\",\"ND\",\"AK\"]},\"id\":\"1050\",\"type\":\"FactorRange\"},{\"attributes\":{\"children\":[{\"id\":\"1006\",\"subtype\":\"Figure\",\"type\":\"Plot\"}]},\"id\":\"1082\",\"type\":\"Row\"},{\"attributes\":{\"plot\":{\"id\":\"1006\",\"subtype\":\"Figure\",\"type\":\"Plot\"},\"ticker\":{\"id\":\"1017\",\"type\":\"BasicTicker\"}},\"id\":\"1020\",\"type\":\"Grid\"},{\"attributes\":{\"callback\":null},\"id\":\"1052\",\"type\":\"DataRange1d\"},{\"attributes\":{},\"id\":\"1022\",\"type\":\"BasicTicker\"},{\"attributes\":{},\"id\":\"1054\",\"type\":\"CategoricalScale\"},{\"attributes\":{\"dimension\":1,\"plot\":{\"id\":\"1006\",\"subtype\":\"Figure\",\"type\":\"Plot\"},\"ticker\":{\"id\":\"1022\",\"type\":\"BasicTicker\"}},\"id\":\"1025\",\"type\":\"Grid\"}],\"root_ids\":[\"1095\"]},\"title\":\"Bokeh Application\",\"version\":\"1.0.4\"}};\n",
       "  var render_items = [{\"docid\":\"19fa6b84-068e-4779-af52-17d65b54450f\",\"roots\":{\"1095\":\"6945a33c-2caf-4124-b025-4f617859196c\"}}];\n",
       "  root.Bokeh.embed.embed_items_notebook(docs_json, render_items);\n",
       "\n",
       "  }\n",
       "  if (root.Bokeh !== undefined) {\n",
       "    embed_document(root);\n",
       "  } else {\n",
       "    var attempts = 0;\n",
       "    var timer = setInterval(function(root) {\n",
       "      if (root.Bokeh !== undefined) {\n",
       "        embed_document(root);\n",
       "        clearInterval(timer);\n",
       "      }\n",
       "      attempts++;\n",
       "      if (attempts > 100) {\n",
       "        console.log(\"Bokeh: ERROR: Unable to run BokehJS code because BokehJS library is missing\");\n",
       "        clearInterval(timer);\n",
       "      }\n",
       "    }, 10, root)\n",
       "  }\n",
       "})(window);"
      ],
      "application/vnd.bokehjs_exec.v0+json": ""
     },
     "metadata": {
      "application/vnd.bokehjs_exec.v0+json": {
       "id": "1095"
      }
     },
     "output_type": "display_data"
    }
   ],
   "source": [
    "#Removendo as duplicações restaurantes e mantendo mais caros\n",
    "pizza_map = (pizza_clean.sort_values(['menus_amountMax'], ascending=[0])\n",
    "             .drop_duplicates(subset=['city', 'address']))\n",
    "\n",
    "#Criando dados na coluna\n",
    "cds = ColumnDataSource(pizza_map)\n",
    "\n",
    "#Customizando\n",
    "hover = HoverTool(tooltips=[('City', '@city'),\n",
    "                            ('Address', '@address'),\n",
    "                            ('Pizza', '@pizza_name'),\n",
    "                            ('Max price', '@menus_amountMax')],\n",
    "                  mode='mouse')\n",
    "\n",
    "#UPPER FIGURE\n",
    "#Inicializar uma figura \n",
    "up = figure(title='Localização das pizzarias nos EUA',\n",
    "           plot_width=780, plot_height=360,\n",
    "           x_axis_location=None, y_axis_location=None, \n",
    "           tools=['pan', 'wheel_zoom', 'tap', 'reset', 'crosshair', hover])\n",
    "\n",
    "#Mapa de sobreposição\n",
    "up.add_tile(CARTODBPOSITRON_RETINA)\n",
    "\n",
    "#Criando cores no mapeador\n",
    "mapper = CategoricalColorMapper(factors=pizza_map.state.unique(), \n",
    "                                palette=Category20b[20]+Category20c[20]+Spectral[4])\n",
    "\n",
    "#Adicionando a localização da pizza\n",
    "scatter = up.circle('x', 'y', source=cds, size='dot_size',\n",
    "                    color={'field': 'state','transform': mapper}, alpha=.5,\n",
    "                    selection_color='black',\n",
    "                    nonselection_fill_alpha=.1,\n",
    "                    nonselection_fill_color='gray',)\n",
    "                  \n",
    "\n",
    "#BOTTOM FIGURE\n",
    "#Inicializando uma figura\n",
    "down = figure(title='Número de restaurantes em cada estado (Clique Aqui)',\n",
    "              x_range=pizza_map.state.unique(),\n",
    "              plot_width=780, plot_height=200,\n",
    "              tools=['tap', 'reset'])\n",
    "\n",
    "#Adicionar a contagem dos restaurantes\n",
    "down.vbar(x='state', top='state_counts', source=cds, width=.7,\n",
    "            color={'field': 'state','transform': mapper},\n",
    "            selection_color='black',\n",
    "            nonselection_fill_alpha=.1,\n",
    "            nonselection_fill_color='gray',)\n",
    "\n",
    "\n",
    "#Definindo as propriedades do gráfico\n",
    "down.xgrid.grid_line_color = None\n",
    "down.xaxis.major_label_orientation = 'vertical'\n",
    "down.xaxis.axis_label = 'State'\n",
    "down.yaxis.axis_label = 'Count'\n",
    "p = gridplot([[up], [down]], toolbar_location='left',)\n",
    "\n",
    "# show the plot\n",
    "show(p)"
   ]
  },
  {
   "cell_type": "markdown",
   "metadata": {},
   "source": [
    "# Apresentação do Resultado"
   ]
  },
  {
   "cell_type": "markdown",
   "metadata": {},
   "source": [
    "**QUESTÕES:**\n",
    "- **Quais são os sabores de pizzas com mais frequência**\n",
    "- **Restaurantes mais populares**\n",
    "- **Principais cidades maior consumo de pizza**\n",
    "- **Sabor pizza mais popular** \n",
    "- **O restaurante com a pizza mais cara no menu**\n",
    "- **O restaurante com a pizza mais barata no menu**\n",
    "- **Em quais cidades ou estados as pizzarias são mais comuns**"
   ]
  },
  {
   "cell_type": "markdown",
   "metadata": {
    "heading_collapsed": true
   },
   "source": [
    "##  Iremos utilizar o Plotty\n",
    " O Plotly é uma biblioteca do Python que é utilizada para gerar gráficos, melhor que isso ela nos permite visualizar esses gráficos de forma interativa.\n",
    "Link <a href=\"https://plotly.com/python/basic-charts/\">Plotty</a>"
   ]
  },
  {
   "cell_type": "code",
   "execution_count": 34,
   "metadata": {
    "code_folding": [
     0
    ],
    "hidden": true
   },
   "outputs": [
    {
     "name": "stdout",
     "output_type": "stream",
     "text": [
      "Requirement already satisfied: cufflinks in c:\\users\\bruno\\anaconda3\\lib\\site-packages (0.17.3)\n",
      "Requirement already satisfied: ipython>=5.3.0 in c:\\users\\bruno\\anaconda3\\lib\\site-packages (from cufflinks) (7.4.0)\n",
      "Requirement already satisfied: plotly>=4.1.1 in c:\\users\\bruno\\anaconda3\\lib\\site-packages (from cufflinks) (4.14.3)\n",
      "Requirement already satisfied: setuptools>=34.4.1 in c:\\users\\bruno\\anaconda3\\lib\\site-packages (from cufflinks) (40.8.0)\n",
      "Requirement already satisfied: colorlover>=0.2.1 in c:\\users\\bruno\\anaconda3\\lib\\site-packages (from cufflinks) (0.3.0)\n",
      "Requirement already satisfied: pandas>=0.19.2 in c:\\users\\bruno\\anaconda3\\lib\\site-packages (from cufflinks) (0.24.2)\n",
      "Requirement already satisfied: ipywidgets>=7.0.0 in c:\\users\\bruno\\anaconda3\\lib\\site-packages (from cufflinks) (7.4.2)\n",
      "Requirement already satisfied: six>=1.9.0 in c:\\users\\bruno\\anaconda3\\lib\\site-packages (from cufflinks) (1.12.0)\n",
      "Requirement already satisfied: numpy>=1.9.2 in c:\\users\\bruno\\anaconda3\\lib\\site-packages (from cufflinks) (1.16.2)\n",
      "Requirement already satisfied: traitlets>=4.2 in c:\\users\\bruno\\anaconda3\\lib\\site-packages (from ipython>=5.3.0->cufflinks) (4.3.2)\n",
      "Requirement already satisfied: decorator in c:\\users\\bruno\\anaconda3\\lib\\site-packages (from ipython>=5.3.0->cufflinks) (4.4.0)\n",
      "Requirement already satisfied: pickleshare in c:\\users\\bruno\\anaconda3\\lib\\site-packages (from ipython>=5.3.0->cufflinks) (0.7.5)\n",
      "Requirement already satisfied: pygments in c:\\users\\bruno\\anaconda3\\lib\\site-packages (from ipython>=5.3.0->cufflinks) (2.3.1)\n",
      "Requirement already satisfied: backcall in c:\\users\\bruno\\anaconda3\\lib\\site-packages (from ipython>=5.3.0->cufflinks) (0.1.0)\n",
      "Requirement already satisfied: colorama; sys_platform == \"win32\" in c:\\users\\bruno\\anaconda3\\lib\\site-packages (from ipython>=5.3.0->cufflinks) (0.4.1)\n",
      "Requirement already satisfied: jedi>=0.10 in c:\\users\\bruno\\anaconda3\\lib\\site-packages (from ipython>=5.3.0->cufflinks) (0.13.3)\n",
      "Requirement already satisfied: prompt-toolkit<2.1.0,>=2.0.0 in c:\\users\\bruno\\anaconda3\\lib\\site-packages (from ipython>=5.3.0->cufflinks) (2.0.9)\n",
      "Requirement already satisfied: retrying>=1.3.3 in c:\\users\\bruno\\anaconda3\\lib\\site-packages (from plotly>=4.1.1->cufflinks) (1.3.3)\n",
      "Requirement already satisfied: pytz>=2011k in c:\\users\\bruno\\anaconda3\\lib\\site-packages (from pandas>=0.19.2->cufflinks) (2018.9)\n",
      "Requirement already satisfied: python-dateutil>=2.5.0 in c:\\users\\bruno\\anaconda3\\lib\\site-packages (from pandas>=0.19.2->cufflinks) (2.8.0)\n",
      "Requirement already satisfied: widgetsnbextension~=3.4.0 in c:\\users\\bruno\\anaconda3\\lib\\site-packages (from ipywidgets>=7.0.0->cufflinks) (3.4.2)\n",
      "Requirement already satisfied: ipykernel>=4.5.1 in c:\\users\\bruno\\anaconda3\\lib\\site-packages (from ipywidgets>=7.0.0->cufflinks) (5.1.0)\n",
      "Requirement already satisfied: nbformat>=4.2.0 in c:\\users\\bruno\\anaconda3\\lib\\site-packages (from ipywidgets>=7.0.0->cufflinks) (4.4.0)\n",
      "Requirement already satisfied: ipython-genutils in c:\\users\\bruno\\anaconda3\\lib\\site-packages (from traitlets>=4.2->ipython>=5.3.0->cufflinks) (0.2.0)\n",
      "Requirement already satisfied: parso>=0.3.0 in c:\\users\\bruno\\anaconda3\\lib\\site-packages (from jedi>=0.10->ipython>=5.3.0->cufflinks) (0.3.4)\n",
      "Requirement already satisfied: wcwidth in c:\\users\\bruno\\anaconda3\\lib\\site-packages (from prompt-toolkit<2.1.0,>=2.0.0->ipython>=5.3.0->cufflinks) (0.1.7)\n",
      "Requirement already satisfied: notebook>=4.4.1 in c:\\users\\bruno\\anaconda3\\lib\\site-packages (from widgetsnbextension~=3.4.0->ipywidgets>=7.0.0->cufflinks) (5.7.8)\n",
      "Requirement already satisfied: jupyter-client in c:\\users\\bruno\\anaconda3\\lib\\site-packages (from ipykernel>=4.5.1->ipywidgets>=7.0.0->cufflinks) (5.2.4)\n",
      "Requirement already satisfied: tornado>=4.2 in c:\\users\\bruno\\anaconda3\\lib\\site-packages (from ipykernel>=4.5.1->ipywidgets>=7.0.0->cufflinks) (6.0.2)\n",
      "Requirement already satisfied: jupyter-core in c:\\users\\bruno\\anaconda3\\lib\\site-packages (from nbformat>=4.2.0->ipywidgets>=7.0.0->cufflinks) (4.4.0)\n",
      "Requirement already satisfied: jsonschema!=2.5.0,>=2.4 in c:\\users\\bruno\\anaconda3\\lib\\site-packages (from nbformat>=4.2.0->ipywidgets>=7.0.0->cufflinks) (3.0.1)\n",
      "Requirement already satisfied: terminado>=0.8.1 in c:\\users\\bruno\\anaconda3\\lib\\site-packages (from notebook>=4.4.1->widgetsnbextension~=3.4.0->ipywidgets>=7.0.0->cufflinks) (0.8.1)\n",
      "Requirement already satisfied: pyzmq>=17 in c:\\users\\bruno\\anaconda3\\lib\\site-packages (from notebook>=4.4.1->widgetsnbextension~=3.4.0->ipywidgets>=7.0.0->cufflinks) (18.0.0)\n",
      "Requirement already satisfied: nbconvert in c:\\users\\bruno\\anaconda3\\lib\\site-packages (from notebook>=4.4.1->widgetsnbextension~=3.4.0->ipywidgets>=7.0.0->cufflinks) (5.4.1)\n",
      "Requirement already satisfied: prometheus-client in c:\\users\\bruno\\anaconda3\\lib\\site-packages (from notebook>=4.4.1->widgetsnbextension~=3.4.0->ipywidgets>=7.0.0->cufflinks) (0.6.0)\n",
      "Requirement already satisfied: jinja2 in c:\\users\\bruno\\anaconda3\\lib\\site-packages (from notebook>=4.4.1->widgetsnbextension~=3.4.0->ipywidgets>=7.0.0->cufflinks) (2.10)\n",
      "Requirement already satisfied: Send2Trash in c:\\users\\bruno\\anaconda3\\lib\\site-packages (from notebook>=4.4.1->widgetsnbextension~=3.4.0->ipywidgets>=7.0.0->cufflinks) (1.5.0)\n",
      "Requirement already satisfied: attrs>=17.4.0 in c:\\users\\bruno\\anaconda3\\lib\\site-packages (from jsonschema!=2.5.0,>=2.4->nbformat>=4.2.0->ipywidgets>=7.0.0->cufflinks) (19.1.0)\n",
      "Requirement already satisfied: pyrsistent>=0.14.0 in c:\\users\\bruno\\anaconda3\\lib\\site-packages (from jsonschema!=2.5.0,>=2.4->nbformat>=4.2.0->ipywidgets>=7.0.0->cufflinks) (0.14.11)\n",
      "Requirement already satisfied: mistune>=0.8.1 in c:\\users\\bruno\\anaconda3\\lib\\site-packages (from nbconvert->notebook>=4.4.1->widgetsnbextension~=3.4.0->ipywidgets>=7.0.0->cufflinks) (0.8.4)\n",
      "Requirement already satisfied: entrypoints>=0.2.2 in c:\\users\\bruno\\anaconda3\\lib\\site-packages (from nbconvert->notebook>=4.4.1->widgetsnbextension~=3.4.0->ipywidgets>=7.0.0->cufflinks) (0.3)\n",
      "Requirement already satisfied: bleach in c:\\users\\bruno\\anaconda3\\lib\\site-packages (from nbconvert->notebook>=4.4.1->widgetsnbextension~=3.4.0->ipywidgets>=7.0.0->cufflinks) (3.1.0)\n",
      "Requirement already satisfied: pandocfilters>=1.4.1 in c:\\users\\bruno\\anaconda3\\lib\\site-packages (from nbconvert->notebook>=4.4.1->widgetsnbextension~=3.4.0->ipywidgets>=7.0.0->cufflinks) (1.4.2)\n",
      "Requirement already satisfied: testpath in c:\\users\\bruno\\anaconda3\\lib\\site-packages (from nbconvert->notebook>=4.4.1->widgetsnbextension~=3.4.0->ipywidgets>=7.0.0->cufflinks) (0.4.2)\n",
      "Requirement already satisfied: defusedxml in c:\\users\\bruno\\anaconda3\\lib\\site-packages (from nbconvert->notebook>=4.4.1->widgetsnbextension~=3.4.0->ipywidgets>=7.0.0->cufflinks) (0.5.0)\n",
      "Requirement already satisfied: MarkupSafe>=0.23 in c:\\users\\bruno\\anaconda3\\lib\\site-packages (from jinja2->notebook>=4.4.1->widgetsnbextension~=3.4.0->ipywidgets>=7.0.0->cufflinks) (1.1.1)\n",
      "Requirement already satisfied: webencodings in c:\\users\\bruno\\anaconda3\\lib\\site-packages (from bleach->nbconvert->notebook>=4.4.1->widgetsnbextension~=3.4.0->ipywidgets>=7.0.0->cufflinks) (0.5.1)\n",
      "Requirement already satisfied: plotly in c:\\users\\bruno\\anaconda3\\lib\\site-packages (4.14.3)\n",
      "Requirement already satisfied: retrying>=1.3.3 in c:\\users\\bruno\\anaconda3\\lib\\site-packages (from plotly) (1.3.3)\n",
      "Requirement already satisfied: six in c:\\users\\bruno\\anaconda3\\lib\\site-packages (from plotly) (1.12.0)\n"
     ]
    }
   ],
   "source": [
    "# Instalação do Plotly e do Cufflinks:\n",
    "# O Cufflinks conecta o pandas ao Plotly:\n",
    "!pip install cufflinks\n",
    "!pip install plotly"
   ]
  },
  {
   "cell_type": "code",
   "execution_count": 35,
   "metadata": {
    "code_folding": [
     0
    ],
    "hidden": true
   },
   "outputs": [],
   "source": [
    "# Importando os módulos:\n",
    "import cufflinks as cf\n",
    "from plotly.offline import iplot"
   ]
  },
  {
   "cell_type": "code",
   "execution_count": 36,
   "metadata": {
    "code_folding": [
     0
    ],
    "hidden": true
   },
   "outputs": [],
   "source": [
    "#Criando dataset \n",
    "#Quantidade de sabores de pizza mais populares\n",
    "sabores_pizza = sabores_pizza[:20]\n",
    "\n",
    "#Restaurantes mais populares\n",
    "sabores_pizza_rest = sabores_pizza_rest.head(10)\n",
    "\n",
    "#Principais cidades maior consumo de pizza\n",
    "pizza_city = pizza_city.head(10)"
   ]
  },
  {
   "cell_type": "code",
   "execution_count": 37,
   "metadata": {
    "code_folding": [
     0
    ],
    "hidden": true
   },
   "outputs": [
    {
     "data": {
      "text/html": [
       "        <script type=\"text/javascript\">\n",
       "        window.PlotlyConfig = {MathJaxConfig: 'local'};\n",
       "        if (window.MathJax) {MathJax.Hub.Config({SVG: {font: \"STIX-Web\"}});}\n",
       "        if (typeof require !== 'undefined') {\n",
       "        require.undef(\"plotly\");\n",
       "        requirejs.config({\n",
       "            paths: {\n",
       "                'plotly': ['https://cdn.plot.ly/plotly-latest.min']\n",
       "            }\n",
       "        });\n",
       "        require(['plotly'], function(Plotly) {\n",
       "            window._Plotly = Plotly;\n",
       "        });\n",
       "        }\n",
       "        </script>\n",
       "        "
      ]
     },
     "metadata": {},
     "output_type": "display_data"
    }
   ],
   "source": [
    "#Para que os gráficos sejam gerados dentro do Jupyter Notebook (localmente) precisamos habilitar o modo offline.\n",
    "cf.go_offline()"
   ]
  },
  {
   "cell_type": "markdown",
   "metadata": {},
   "source": [
    "## Plots"
   ]
  },
  {
   "cell_type": "code",
   "execution_count": 128,
   "metadata": {
    "code_folding": [
     0
    ]
   },
   "outputs": [
    {
     "data": {
      "application/vnd.plotly.v1+json": {
       "config": {
        "linkText": "Export to plot.ly",
        "plotlyServerURL": "https://plot.ly",
        "showLink": true
       },
       "data": [
        {
         "marker": {
          "color": "rgba(103, 58, 183, 0.6)",
          "line": {
           "color": "rgba(103, 58, 183, 1.0)",
           "width": 1
          }
         },
         "name": "menus.name",
         "orientation": "v",
         "text": "",
         "type": "bar",
         "x": [
          "Cheese Pizza",
          "White Pizza",
          "Pizza",
          "Margherita Pizza",
          "Hawaiian Pizza",
          "Pizza Burger",
          "Buffalo Chicken Pizza",
          "Pepperoni Pizza",
          "Bbq Chicken Pizza",
          "Veggie Pizza",
          "Taco Pizza",
          "Pizza Fries",
          "Greek Pizza",
          "Pizza Steak",
          "Pizza Sub",
          "Mexican Pizza",
          "Pizza Margherita",
          "Pizza By The Slice",
          "Pizza Bread",
          "Sicilian Pizza"
         ],
         "y": [
          130,
          74,
          62,
          60,
          53,
          49,
          44,
          41,
          38,
          34,
          32,
          30,
          30,
          30,
          30,
          29,
          26,
          25,
          25,
          22
         ]
        }
       ],
       "layout": {
        "legend": {
         "bgcolor": "#F5F6F9",
         "font": {
          "color": "#4D5663"
         }
        },
        "paper_bgcolor": "#F5F6F9",
        "plot_bgcolor": "#F5F6F9",
        "template": {
         "data": {
          "bar": [
           {
            "error_x": {
             "color": "#2a3f5f"
            },
            "error_y": {
             "color": "#2a3f5f"
            },
            "marker": {
             "line": {
              "color": "#E5ECF6",
              "width": 0.5
             }
            },
            "type": "bar"
           }
          ],
          "barpolar": [
           {
            "marker": {
             "line": {
              "color": "#E5ECF6",
              "width": 0.5
             }
            },
            "type": "barpolar"
           }
          ],
          "carpet": [
           {
            "aaxis": {
             "endlinecolor": "#2a3f5f",
             "gridcolor": "white",
             "linecolor": "white",
             "minorgridcolor": "white",
             "startlinecolor": "#2a3f5f"
            },
            "baxis": {
             "endlinecolor": "#2a3f5f",
             "gridcolor": "white",
             "linecolor": "white",
             "minorgridcolor": "white",
             "startlinecolor": "#2a3f5f"
            },
            "type": "carpet"
           }
          ],
          "choropleth": [
           {
            "colorbar": {
             "outlinewidth": 0,
             "ticks": ""
            },
            "type": "choropleth"
           }
          ],
          "contour": [
           {
            "colorbar": {
             "outlinewidth": 0,
             "ticks": ""
            },
            "colorscale": [
             [
              0,
              "#0d0887"
             ],
             [
              0.1111111111111111,
              "#46039f"
             ],
             [
              0.2222222222222222,
              "#7201a8"
             ],
             [
              0.3333333333333333,
              "#9c179e"
             ],
             [
              0.4444444444444444,
              "#bd3786"
             ],
             [
              0.5555555555555556,
              "#d8576b"
             ],
             [
              0.6666666666666666,
              "#ed7953"
             ],
             [
              0.7777777777777778,
              "#fb9f3a"
             ],
             [
              0.8888888888888888,
              "#fdca26"
             ],
             [
              1,
              "#f0f921"
             ]
            ],
            "type": "contour"
           }
          ],
          "contourcarpet": [
           {
            "colorbar": {
             "outlinewidth": 0,
             "ticks": ""
            },
            "type": "contourcarpet"
           }
          ],
          "heatmap": [
           {
            "colorbar": {
             "outlinewidth": 0,
             "ticks": ""
            },
            "colorscale": [
             [
              0,
              "#0d0887"
             ],
             [
              0.1111111111111111,
              "#46039f"
             ],
             [
              0.2222222222222222,
              "#7201a8"
             ],
             [
              0.3333333333333333,
              "#9c179e"
             ],
             [
              0.4444444444444444,
              "#bd3786"
             ],
             [
              0.5555555555555556,
              "#d8576b"
             ],
             [
              0.6666666666666666,
              "#ed7953"
             ],
             [
              0.7777777777777778,
              "#fb9f3a"
             ],
             [
              0.8888888888888888,
              "#fdca26"
             ],
             [
              1,
              "#f0f921"
             ]
            ],
            "type": "heatmap"
           }
          ],
          "heatmapgl": [
           {
            "colorbar": {
             "outlinewidth": 0,
             "ticks": ""
            },
            "colorscale": [
             [
              0,
              "#0d0887"
             ],
             [
              0.1111111111111111,
              "#46039f"
             ],
             [
              0.2222222222222222,
              "#7201a8"
             ],
             [
              0.3333333333333333,
              "#9c179e"
             ],
             [
              0.4444444444444444,
              "#bd3786"
             ],
             [
              0.5555555555555556,
              "#d8576b"
             ],
             [
              0.6666666666666666,
              "#ed7953"
             ],
             [
              0.7777777777777778,
              "#fb9f3a"
             ],
             [
              0.8888888888888888,
              "#fdca26"
             ],
             [
              1,
              "#f0f921"
             ]
            ],
            "type": "heatmapgl"
           }
          ],
          "histogram": [
           {
            "marker": {
             "colorbar": {
              "outlinewidth": 0,
              "ticks": ""
             }
            },
            "type": "histogram"
           }
          ],
          "histogram2d": [
           {
            "colorbar": {
             "outlinewidth": 0,
             "ticks": ""
            },
            "colorscale": [
             [
              0,
              "#0d0887"
             ],
             [
              0.1111111111111111,
              "#46039f"
             ],
             [
              0.2222222222222222,
              "#7201a8"
             ],
             [
              0.3333333333333333,
              "#9c179e"
             ],
             [
              0.4444444444444444,
              "#bd3786"
             ],
             [
              0.5555555555555556,
              "#d8576b"
             ],
             [
              0.6666666666666666,
              "#ed7953"
             ],
             [
              0.7777777777777778,
              "#fb9f3a"
             ],
             [
              0.8888888888888888,
              "#fdca26"
             ],
             [
              1,
              "#f0f921"
             ]
            ],
            "type": "histogram2d"
           }
          ],
          "histogram2dcontour": [
           {
            "colorbar": {
             "outlinewidth": 0,
             "ticks": ""
            },
            "colorscale": [
             [
              0,
              "#0d0887"
             ],
             [
              0.1111111111111111,
              "#46039f"
             ],
             [
              0.2222222222222222,
              "#7201a8"
             ],
             [
              0.3333333333333333,
              "#9c179e"
             ],
             [
              0.4444444444444444,
              "#bd3786"
             ],
             [
              0.5555555555555556,
              "#d8576b"
             ],
             [
              0.6666666666666666,
              "#ed7953"
             ],
             [
              0.7777777777777778,
              "#fb9f3a"
             ],
             [
              0.8888888888888888,
              "#fdca26"
             ],
             [
              1,
              "#f0f921"
             ]
            ],
            "type": "histogram2dcontour"
           }
          ],
          "mesh3d": [
           {
            "colorbar": {
             "outlinewidth": 0,
             "ticks": ""
            },
            "type": "mesh3d"
           }
          ],
          "parcoords": [
           {
            "line": {
             "colorbar": {
              "outlinewidth": 0,
              "ticks": ""
             }
            },
            "type": "parcoords"
           }
          ],
          "pie": [
           {
            "automargin": true,
            "type": "pie"
           }
          ],
          "scatter": [
           {
            "marker": {
             "colorbar": {
              "outlinewidth": 0,
              "ticks": ""
             }
            },
            "type": "scatter"
           }
          ],
          "scatter3d": [
           {
            "line": {
             "colorbar": {
              "outlinewidth": 0,
              "ticks": ""
             }
            },
            "marker": {
             "colorbar": {
              "outlinewidth": 0,
              "ticks": ""
             }
            },
            "type": "scatter3d"
           }
          ],
          "scattercarpet": [
           {
            "marker": {
             "colorbar": {
              "outlinewidth": 0,
              "ticks": ""
             }
            },
            "type": "scattercarpet"
           }
          ],
          "scattergeo": [
           {
            "marker": {
             "colorbar": {
              "outlinewidth": 0,
              "ticks": ""
             }
            },
            "type": "scattergeo"
           }
          ],
          "scattergl": [
           {
            "marker": {
             "colorbar": {
              "outlinewidth": 0,
              "ticks": ""
             }
            },
            "type": "scattergl"
           }
          ],
          "scattermapbox": [
           {
            "marker": {
             "colorbar": {
              "outlinewidth": 0,
              "ticks": ""
             }
            },
            "type": "scattermapbox"
           }
          ],
          "scatterpolar": [
           {
            "marker": {
             "colorbar": {
              "outlinewidth": 0,
              "ticks": ""
             }
            },
            "type": "scatterpolar"
           }
          ],
          "scatterpolargl": [
           {
            "marker": {
             "colorbar": {
              "outlinewidth": 0,
              "ticks": ""
             }
            },
            "type": "scatterpolargl"
           }
          ],
          "scatterternary": [
           {
            "marker": {
             "colorbar": {
              "outlinewidth": 0,
              "ticks": ""
             }
            },
            "type": "scatterternary"
           }
          ],
          "surface": [
           {
            "colorbar": {
             "outlinewidth": 0,
             "ticks": ""
            },
            "colorscale": [
             [
              0,
              "#0d0887"
             ],
             [
              0.1111111111111111,
              "#46039f"
             ],
             [
              0.2222222222222222,
              "#7201a8"
             ],
             [
              0.3333333333333333,
              "#9c179e"
             ],
             [
              0.4444444444444444,
              "#bd3786"
             ],
             [
              0.5555555555555556,
              "#d8576b"
             ],
             [
              0.6666666666666666,
              "#ed7953"
             ],
             [
              0.7777777777777778,
              "#fb9f3a"
             ],
             [
              0.8888888888888888,
              "#fdca26"
             ],
             [
              1,
              "#f0f921"
             ]
            ],
            "type": "surface"
           }
          ],
          "table": [
           {
            "cells": {
             "fill": {
              "color": "#EBF0F8"
             },
             "line": {
              "color": "white"
             }
            },
            "header": {
             "fill": {
              "color": "#C8D4E3"
             },
             "line": {
              "color": "white"
             }
            },
            "type": "table"
           }
          ]
         },
         "layout": {
          "annotationdefaults": {
           "arrowcolor": "#2a3f5f",
           "arrowhead": 0,
           "arrowwidth": 1
          },
          "autotypenumbers": "strict",
          "coloraxis": {
           "colorbar": {
            "outlinewidth": 0,
            "ticks": ""
           }
          },
          "colorscale": {
           "diverging": [
            [
             0,
             "#8e0152"
            ],
            [
             0.1,
             "#c51b7d"
            ],
            [
             0.2,
             "#de77ae"
            ],
            [
             0.3,
             "#f1b6da"
            ],
            [
             0.4,
             "#fde0ef"
            ],
            [
             0.5,
             "#f7f7f7"
            ],
            [
             0.6,
             "#e6f5d0"
            ],
            [
             0.7,
             "#b8e186"
            ],
            [
             0.8,
             "#7fbc41"
            ],
            [
             0.9,
             "#4d9221"
            ],
            [
             1,
             "#276419"
            ]
           ],
           "sequential": [
            [
             0,
             "#0d0887"
            ],
            [
             0.1111111111111111,
             "#46039f"
            ],
            [
             0.2222222222222222,
             "#7201a8"
            ],
            [
             0.3333333333333333,
             "#9c179e"
            ],
            [
             0.4444444444444444,
             "#bd3786"
            ],
            [
             0.5555555555555556,
             "#d8576b"
            ],
            [
             0.6666666666666666,
             "#ed7953"
            ],
            [
             0.7777777777777778,
             "#fb9f3a"
            ],
            [
             0.8888888888888888,
             "#fdca26"
            ],
            [
             1,
             "#f0f921"
            ]
           ],
           "sequentialminus": [
            [
             0,
             "#0d0887"
            ],
            [
             0.1111111111111111,
             "#46039f"
            ],
            [
             0.2222222222222222,
             "#7201a8"
            ],
            [
             0.3333333333333333,
             "#9c179e"
            ],
            [
             0.4444444444444444,
             "#bd3786"
            ],
            [
             0.5555555555555556,
             "#d8576b"
            ],
            [
             0.6666666666666666,
             "#ed7953"
            ],
            [
             0.7777777777777778,
             "#fb9f3a"
            ],
            [
             0.8888888888888888,
             "#fdca26"
            ],
            [
             1,
             "#f0f921"
            ]
           ]
          },
          "colorway": [
           "#636efa",
           "#EF553B",
           "#00cc96",
           "#ab63fa",
           "#FFA15A",
           "#19d3f3",
           "#FF6692",
           "#B6E880",
           "#FF97FF",
           "#FECB52"
          ],
          "font": {
           "color": "#2a3f5f"
          },
          "geo": {
           "bgcolor": "white",
           "lakecolor": "white",
           "landcolor": "#E5ECF6",
           "showlakes": true,
           "showland": true,
           "subunitcolor": "white"
          },
          "hoverlabel": {
           "align": "left"
          },
          "hovermode": "closest",
          "mapbox": {
           "style": "light"
          },
          "paper_bgcolor": "white",
          "plot_bgcolor": "#E5ECF6",
          "polar": {
           "angularaxis": {
            "gridcolor": "white",
            "linecolor": "white",
            "ticks": ""
           },
           "bgcolor": "#E5ECF6",
           "radialaxis": {
            "gridcolor": "white",
            "linecolor": "white",
            "ticks": ""
           }
          },
          "scene": {
           "xaxis": {
            "backgroundcolor": "#E5ECF6",
            "gridcolor": "white",
            "gridwidth": 2,
            "linecolor": "white",
            "showbackground": true,
            "ticks": "",
            "zerolinecolor": "white"
           },
           "yaxis": {
            "backgroundcolor": "#E5ECF6",
            "gridcolor": "white",
            "gridwidth": 2,
            "linecolor": "white",
            "showbackground": true,
            "ticks": "",
            "zerolinecolor": "white"
           },
           "zaxis": {
            "backgroundcolor": "#E5ECF6",
            "gridcolor": "white",
            "gridwidth": 2,
            "linecolor": "white",
            "showbackground": true,
            "ticks": "",
            "zerolinecolor": "white"
           }
          },
          "shapedefaults": {
           "line": {
            "color": "#2a3f5f"
           }
          },
          "ternary": {
           "aaxis": {
            "gridcolor": "white",
            "linecolor": "white",
            "ticks": ""
           },
           "baxis": {
            "gridcolor": "white",
            "linecolor": "white",
            "ticks": ""
           },
           "bgcolor": "#E5ECF6",
           "caxis": {
            "gridcolor": "white",
            "linecolor": "white",
            "ticks": ""
           }
          },
          "title": {
           "x": 0.05
          },
          "xaxis": {
           "automargin": true,
           "gridcolor": "white",
           "linecolor": "white",
           "ticks": "",
           "title": {
            "standoff": 15
           },
           "zerolinecolor": "white",
           "zerolinewidth": 2
          },
          "yaxis": {
           "automargin": true,
           "gridcolor": "white",
           "linecolor": "white",
           "ticks": "",
           "title": {
            "standoff": 15
           },
           "zerolinecolor": "white",
           "zerolinewidth": 2
          }
         }
        },
        "title": {
         "font": {
          "color": "#4D5663"
         },
         "text": "20 sabores de pizzas mais populares"
        },
        "xaxis": {
         "gridcolor": "#E1E5ED",
         "showgrid": true,
         "tickfont": {
          "color": "#4D5663"
         },
         "title": {
          "font": {
           "color": "#4D5663"
          },
          "text": "Sabores da Pizza"
         },
         "zerolinecolor": "#E1E5ED"
        },
        "yaxis": {
         "gridcolor": "#E1E5ED",
         "showgrid": true,
         "tickfont": {
          "color": "#4D5663"
         },
         "title": {
          "font": {
           "color": "#4D5663"
          },
          "text": "Quantidade"
         },
         "zerolinecolor": "#E1E5ED"
        }
       }
      },
      "text/html": [
       "<div>                            <div id=\"da4c48b1-663c-4e43-a168-9d5f969bcfd0\" class=\"plotly-graph-div\" style=\"height:525px; width:100%;\"></div>            <script type=\"text/javascript\">                require([\"plotly\"], function(Plotly) {                    window.PLOTLYENV=window.PLOTLYENV || {};\n",
       "                    window.PLOTLYENV.BASE_URL='https://plot.ly';                                    if (document.getElementById(\"da4c48b1-663c-4e43-a168-9d5f969bcfd0\")) {                    Plotly.newPlot(                        \"da4c48b1-663c-4e43-a168-9d5f969bcfd0\",                        [{\"marker\": {\"color\": \"rgba(103, 58, 183, 0.6)\", \"line\": {\"color\": \"rgba(103, 58, 183, 1.0)\", \"width\": 1}}, \"name\": \"menus.name\", \"orientation\": \"v\", \"text\": \"\", \"type\": \"bar\", \"x\": [\"Cheese Pizza\", \"White Pizza\", \"Pizza\", \"Margherita Pizza\", \"Hawaiian Pizza\", \"Pizza Burger\", \"Buffalo Chicken Pizza\", \"Pepperoni Pizza\", \"Bbq Chicken Pizza\", \"Veggie Pizza\", \"Taco Pizza\", \"Pizza Fries\", \"Greek Pizza\", \"Pizza Steak\", \"Pizza Sub\", \"Mexican Pizza\", \"Pizza Margherita\", \"Pizza By The Slice\", \"Pizza Bread\", \"Sicilian Pizza\"], \"y\": [130, 74, 62, 60, 53, 49, 44, 41, 38, 34, 32, 30, 30, 30, 30, 29, 26, 25, 25, 22]}],                        {\"legend\": {\"bgcolor\": \"#F5F6F9\", \"font\": {\"color\": \"#4D5663\"}}, \"paper_bgcolor\": \"#F5F6F9\", \"plot_bgcolor\": \"#F5F6F9\", \"template\": {\"data\": {\"bar\": [{\"error_x\": {\"color\": \"#2a3f5f\"}, \"error_y\": {\"color\": \"#2a3f5f\"}, \"marker\": {\"line\": {\"color\": \"#E5ECF6\", \"width\": 0.5}}, \"type\": \"bar\"}], \"barpolar\": [{\"marker\": {\"line\": {\"color\": \"#E5ECF6\", \"width\": 0.5}}, \"type\": \"barpolar\"}], \"carpet\": [{\"aaxis\": {\"endlinecolor\": \"#2a3f5f\", \"gridcolor\": \"white\", \"linecolor\": \"white\", \"minorgridcolor\": \"white\", \"startlinecolor\": \"#2a3f5f\"}, \"baxis\": {\"endlinecolor\": \"#2a3f5f\", \"gridcolor\": \"white\", \"linecolor\": \"white\", \"minorgridcolor\": \"white\", \"startlinecolor\": \"#2a3f5f\"}, \"type\": \"carpet\"}], \"choropleth\": [{\"colorbar\": {\"outlinewidth\": 0, \"ticks\": \"\"}, \"type\": \"choropleth\"}], \"contour\": [{\"colorbar\": {\"outlinewidth\": 0, \"ticks\": \"\"}, \"colorscale\": [[0.0, \"#0d0887\"], [0.1111111111111111, \"#46039f\"], [0.2222222222222222, \"#7201a8\"], [0.3333333333333333, \"#9c179e\"], [0.4444444444444444, \"#bd3786\"], [0.5555555555555556, \"#d8576b\"], [0.6666666666666666, \"#ed7953\"], [0.7777777777777778, \"#fb9f3a\"], [0.8888888888888888, \"#fdca26\"], [1.0, \"#f0f921\"]], \"type\": \"contour\"}], \"contourcarpet\": [{\"colorbar\": {\"outlinewidth\": 0, \"ticks\": \"\"}, \"type\": \"contourcarpet\"}], \"heatmap\": [{\"colorbar\": {\"outlinewidth\": 0, \"ticks\": \"\"}, \"colorscale\": [[0.0, \"#0d0887\"], [0.1111111111111111, \"#46039f\"], [0.2222222222222222, \"#7201a8\"], [0.3333333333333333, \"#9c179e\"], [0.4444444444444444, \"#bd3786\"], [0.5555555555555556, \"#d8576b\"], [0.6666666666666666, \"#ed7953\"], [0.7777777777777778, \"#fb9f3a\"], [0.8888888888888888, \"#fdca26\"], [1.0, \"#f0f921\"]], \"type\": \"heatmap\"}], \"heatmapgl\": [{\"colorbar\": {\"outlinewidth\": 0, \"ticks\": \"\"}, \"colorscale\": [[0.0, \"#0d0887\"], [0.1111111111111111, \"#46039f\"], [0.2222222222222222, \"#7201a8\"], [0.3333333333333333, \"#9c179e\"], [0.4444444444444444, \"#bd3786\"], [0.5555555555555556, \"#d8576b\"], [0.6666666666666666, \"#ed7953\"], [0.7777777777777778, \"#fb9f3a\"], [0.8888888888888888, \"#fdca26\"], [1.0, \"#f0f921\"]], \"type\": \"heatmapgl\"}], \"histogram\": [{\"marker\": {\"colorbar\": {\"outlinewidth\": 0, \"ticks\": \"\"}}, \"type\": \"histogram\"}], \"histogram2d\": [{\"colorbar\": {\"outlinewidth\": 0, \"ticks\": \"\"}, \"colorscale\": [[0.0, \"#0d0887\"], [0.1111111111111111, \"#46039f\"], [0.2222222222222222, \"#7201a8\"], [0.3333333333333333, \"#9c179e\"], [0.4444444444444444, \"#bd3786\"], [0.5555555555555556, \"#d8576b\"], [0.6666666666666666, \"#ed7953\"], [0.7777777777777778, \"#fb9f3a\"], [0.8888888888888888, \"#fdca26\"], [1.0, \"#f0f921\"]], \"type\": \"histogram2d\"}], \"histogram2dcontour\": [{\"colorbar\": {\"outlinewidth\": 0, \"ticks\": \"\"}, \"colorscale\": [[0.0, \"#0d0887\"], [0.1111111111111111, \"#46039f\"], [0.2222222222222222, \"#7201a8\"], [0.3333333333333333, \"#9c179e\"], [0.4444444444444444, \"#bd3786\"], [0.5555555555555556, \"#d8576b\"], [0.6666666666666666, \"#ed7953\"], [0.7777777777777778, \"#fb9f3a\"], [0.8888888888888888, \"#fdca26\"], [1.0, \"#f0f921\"]], \"type\": \"histogram2dcontour\"}], \"mesh3d\": [{\"colorbar\": {\"outlinewidth\": 0, \"ticks\": \"\"}, \"type\": \"mesh3d\"}], \"parcoords\": [{\"line\": {\"colorbar\": {\"outlinewidth\": 0, \"ticks\": \"\"}}, \"type\": \"parcoords\"}], \"pie\": [{\"automargin\": true, \"type\": \"pie\"}], \"scatter\": [{\"marker\": {\"colorbar\": {\"outlinewidth\": 0, \"ticks\": \"\"}}, \"type\": \"scatter\"}], \"scatter3d\": [{\"line\": {\"colorbar\": {\"outlinewidth\": 0, \"ticks\": \"\"}}, \"marker\": {\"colorbar\": {\"outlinewidth\": 0, \"ticks\": \"\"}}, \"type\": \"scatter3d\"}], \"scattercarpet\": [{\"marker\": {\"colorbar\": {\"outlinewidth\": 0, \"ticks\": \"\"}}, \"type\": \"scattercarpet\"}], \"scattergeo\": [{\"marker\": {\"colorbar\": {\"outlinewidth\": 0, \"ticks\": \"\"}}, \"type\": \"scattergeo\"}], \"scattergl\": [{\"marker\": {\"colorbar\": {\"outlinewidth\": 0, \"ticks\": \"\"}}, \"type\": \"scattergl\"}], \"scattermapbox\": [{\"marker\": {\"colorbar\": {\"outlinewidth\": 0, \"ticks\": \"\"}}, \"type\": \"scattermapbox\"}], \"scatterpolar\": [{\"marker\": {\"colorbar\": {\"outlinewidth\": 0, \"ticks\": \"\"}}, \"type\": \"scatterpolar\"}], \"scatterpolargl\": [{\"marker\": {\"colorbar\": {\"outlinewidth\": 0, \"ticks\": \"\"}}, \"type\": \"scatterpolargl\"}], \"scatterternary\": [{\"marker\": {\"colorbar\": {\"outlinewidth\": 0, \"ticks\": \"\"}}, \"type\": \"scatterternary\"}], \"surface\": [{\"colorbar\": {\"outlinewidth\": 0, \"ticks\": \"\"}, \"colorscale\": [[0.0, \"#0d0887\"], [0.1111111111111111, \"#46039f\"], [0.2222222222222222, \"#7201a8\"], [0.3333333333333333, \"#9c179e\"], [0.4444444444444444, \"#bd3786\"], [0.5555555555555556, \"#d8576b\"], [0.6666666666666666, \"#ed7953\"], [0.7777777777777778, \"#fb9f3a\"], [0.8888888888888888, \"#fdca26\"], [1.0, \"#f0f921\"]], \"type\": \"surface\"}], \"table\": [{\"cells\": {\"fill\": {\"color\": \"#EBF0F8\"}, \"line\": {\"color\": \"white\"}}, \"header\": {\"fill\": {\"color\": \"#C8D4E3\"}, \"line\": {\"color\": \"white\"}}, \"type\": \"table\"}]}, \"layout\": {\"annotationdefaults\": {\"arrowcolor\": \"#2a3f5f\", \"arrowhead\": 0, \"arrowwidth\": 1}, \"autotypenumbers\": \"strict\", \"coloraxis\": {\"colorbar\": {\"outlinewidth\": 0, \"ticks\": \"\"}}, \"colorscale\": {\"diverging\": [[0, \"#8e0152\"], [0.1, \"#c51b7d\"], [0.2, \"#de77ae\"], [0.3, \"#f1b6da\"], [0.4, \"#fde0ef\"], [0.5, \"#f7f7f7\"], [0.6, \"#e6f5d0\"], [0.7, \"#b8e186\"], [0.8, \"#7fbc41\"], [0.9, \"#4d9221\"], [1, \"#276419\"]], \"sequential\": [[0.0, \"#0d0887\"], [0.1111111111111111, \"#46039f\"], [0.2222222222222222, \"#7201a8\"], [0.3333333333333333, \"#9c179e\"], [0.4444444444444444, \"#bd3786\"], [0.5555555555555556, \"#d8576b\"], [0.6666666666666666, \"#ed7953\"], [0.7777777777777778, \"#fb9f3a\"], [0.8888888888888888, \"#fdca26\"], [1.0, \"#f0f921\"]], \"sequentialminus\": [[0.0, \"#0d0887\"], [0.1111111111111111, \"#46039f\"], [0.2222222222222222, \"#7201a8\"], [0.3333333333333333, \"#9c179e\"], [0.4444444444444444, \"#bd3786\"], [0.5555555555555556, \"#d8576b\"], [0.6666666666666666, \"#ed7953\"], [0.7777777777777778, \"#fb9f3a\"], [0.8888888888888888, \"#fdca26\"], [1.0, \"#f0f921\"]]}, \"colorway\": [\"#636efa\", \"#EF553B\", \"#00cc96\", \"#ab63fa\", \"#FFA15A\", \"#19d3f3\", \"#FF6692\", \"#B6E880\", \"#FF97FF\", \"#FECB52\"], \"font\": {\"color\": \"#2a3f5f\"}, \"geo\": {\"bgcolor\": \"white\", \"lakecolor\": \"white\", \"landcolor\": \"#E5ECF6\", \"showlakes\": true, \"showland\": true, \"subunitcolor\": \"white\"}, \"hoverlabel\": {\"align\": \"left\"}, \"hovermode\": \"closest\", \"mapbox\": {\"style\": \"light\"}, \"paper_bgcolor\": \"white\", \"plot_bgcolor\": \"#E5ECF6\", \"polar\": {\"angularaxis\": {\"gridcolor\": \"white\", \"linecolor\": \"white\", \"ticks\": \"\"}, \"bgcolor\": \"#E5ECF6\", \"radialaxis\": {\"gridcolor\": \"white\", \"linecolor\": \"white\", \"ticks\": \"\"}}, \"scene\": {\"xaxis\": {\"backgroundcolor\": \"#E5ECF6\", \"gridcolor\": \"white\", \"gridwidth\": 2, \"linecolor\": \"white\", \"showbackground\": true, \"ticks\": \"\", \"zerolinecolor\": \"white\"}, \"yaxis\": {\"backgroundcolor\": \"#E5ECF6\", \"gridcolor\": \"white\", \"gridwidth\": 2, \"linecolor\": \"white\", \"showbackground\": true, \"ticks\": \"\", \"zerolinecolor\": \"white\"}, \"zaxis\": {\"backgroundcolor\": \"#E5ECF6\", \"gridcolor\": \"white\", \"gridwidth\": 2, \"linecolor\": \"white\", \"showbackground\": true, \"ticks\": \"\", \"zerolinecolor\": \"white\"}}, \"shapedefaults\": {\"line\": {\"color\": \"#2a3f5f\"}}, \"ternary\": {\"aaxis\": {\"gridcolor\": \"white\", \"linecolor\": \"white\", \"ticks\": \"\"}, \"baxis\": {\"gridcolor\": \"white\", \"linecolor\": \"white\", \"ticks\": \"\"}, \"bgcolor\": \"#E5ECF6\", \"caxis\": {\"gridcolor\": \"white\", \"linecolor\": \"white\", \"ticks\": \"\"}}, \"title\": {\"x\": 0.05}, \"xaxis\": {\"automargin\": true, \"gridcolor\": \"white\", \"linecolor\": \"white\", \"ticks\": \"\", \"title\": {\"standoff\": 15}, \"zerolinecolor\": \"white\", \"zerolinewidth\": 2}, \"yaxis\": {\"automargin\": true, \"gridcolor\": \"white\", \"linecolor\": \"white\", \"ticks\": \"\", \"title\": {\"standoff\": 15}, \"zerolinecolor\": \"white\", \"zerolinewidth\": 2}}}, \"title\": {\"font\": {\"color\": \"#4D5663\"}, \"text\": \"20 sabores de pizzas mais populares\"}, \"xaxis\": {\"gridcolor\": \"#E1E5ED\", \"showgrid\": true, \"tickfont\": {\"color\": \"#4D5663\"}, \"title\": {\"font\": {\"color\": \"#4D5663\"}, \"text\": \"Sabores da Pizza\"}, \"zerolinecolor\": \"#E1E5ED\"}, \"yaxis\": {\"gridcolor\": \"#E1E5ED\", \"showgrid\": true, \"tickfont\": {\"color\": \"#4D5663\"}, \"title\": {\"font\": {\"color\": \"#4D5663\"}, \"text\": \"Quantidade\"}, \"zerolinecolor\": \"#E1E5ED\"}},                        {\"showLink\": true, \"linkText\": \"Export to plot.ly\", \"plotlyServerURL\": \"https://plot.ly\", \"responsive\": true}                    ).then(function(){\n",
       "                            \n",
       "var gd = document.getElementById('da4c48b1-663c-4e43-a168-9d5f969bcfd0');\n",
       "var x = new MutationObserver(function (mutations, observer) {{\n",
       "        var display = window.getComputedStyle(gd).display;\n",
       "        if (!display || display === 'none') {{\n",
       "            console.log([gd, 'removed!']);\n",
       "            Plotly.purge(gd);\n",
       "            observer.disconnect();\n",
       "        }}\n",
       "}});\n",
       "\n",
       "// Listen for the removal of the full notebook cells\n",
       "var notebookContainer = gd.closest('#notebook-container');\n",
       "if (notebookContainer) {{\n",
       "    x.observe(notebookContainer, {childList: true});\n",
       "}}\n",
       "\n",
       "// Listen for the clearing of the current output cell\n",
       "var outputEl = gd.closest('.output');\n",
       "if (outputEl) {{\n",
       "    x.observe(outputEl, {childList: true});\n",
       "}}\n",
       "\n",
       "                        })                };                });            </script>        </div>"
      ]
     },
     "metadata": {},
     "output_type": "display_data"
    }
   ],
   "source": [
    "#Quais são os sabores de pizzas com mais frequência\n",
    "#Gráfico de Barras\n",
    "\n",
    "sabores_pizza.iplot(kind='bar', title='20 sabores de pizzas mais populares', xTitle='Sabores da Pizza', yTitle='Quantidade', color='#673AB7')"
   ]
  },
  {
   "cell_type": "code",
   "execution_count": 130,
   "metadata": {
    "code_folding": [
     0
    ]
   },
   "outputs": [
    {
     "data": {
      "application/vnd.plotly.v1+json": {
       "config": {
        "linkText": "Export to plot.ly",
        "plotlyServerURL": "https://plot.ly",
        "showLink": true
       },
       "data": [
        {
         "line": {
          "color": "rgba(213, 0, 0, 1.0)",
          "dash": "solid",
          "shape": "linear",
          "width": 1.3
         },
         "marker": {
          "size": 12,
          "symbol": "circle"
         },
         "mode": "markers",
         "name": "name",
         "text": "",
         "type": "scatter",
         "x": [
          "Sicilia's Pizzeria",
          "J & G Restaurant",
          "Casey's General Store",
          "The Pizza Joint",
          "Labella Pizza and Pasta",
          "Giovanni's Pizzeria",
          "Papa John's Pizza",
          "Takka Grill",
          "North End Pizzeria",
          "Stone and Paddle"
         ],
         "y": [
          64,
          55,
          37,
          36,
          31,
          28,
          27,
          26,
          25,
          22
         ]
        }
       ],
       "layout": {
        "legend": {
         "bgcolor": "#F5F6F9",
         "font": {
          "color": "#4D5663"
         }
        },
        "paper_bgcolor": "#F5F6F9",
        "plot_bgcolor": "#F5F6F9",
        "template": {
         "data": {
          "bar": [
           {
            "error_x": {
             "color": "#2a3f5f"
            },
            "error_y": {
             "color": "#2a3f5f"
            },
            "marker": {
             "line": {
              "color": "#E5ECF6",
              "width": 0.5
             }
            },
            "type": "bar"
           }
          ],
          "barpolar": [
           {
            "marker": {
             "line": {
              "color": "#E5ECF6",
              "width": 0.5
             }
            },
            "type": "barpolar"
           }
          ],
          "carpet": [
           {
            "aaxis": {
             "endlinecolor": "#2a3f5f",
             "gridcolor": "white",
             "linecolor": "white",
             "minorgridcolor": "white",
             "startlinecolor": "#2a3f5f"
            },
            "baxis": {
             "endlinecolor": "#2a3f5f",
             "gridcolor": "white",
             "linecolor": "white",
             "minorgridcolor": "white",
             "startlinecolor": "#2a3f5f"
            },
            "type": "carpet"
           }
          ],
          "choropleth": [
           {
            "colorbar": {
             "outlinewidth": 0,
             "ticks": ""
            },
            "type": "choropleth"
           }
          ],
          "contour": [
           {
            "colorbar": {
             "outlinewidth": 0,
             "ticks": ""
            },
            "colorscale": [
             [
              0,
              "#0d0887"
             ],
             [
              0.1111111111111111,
              "#46039f"
             ],
             [
              0.2222222222222222,
              "#7201a8"
             ],
             [
              0.3333333333333333,
              "#9c179e"
             ],
             [
              0.4444444444444444,
              "#bd3786"
             ],
             [
              0.5555555555555556,
              "#d8576b"
             ],
             [
              0.6666666666666666,
              "#ed7953"
             ],
             [
              0.7777777777777778,
              "#fb9f3a"
             ],
             [
              0.8888888888888888,
              "#fdca26"
             ],
             [
              1,
              "#f0f921"
             ]
            ],
            "type": "contour"
           }
          ],
          "contourcarpet": [
           {
            "colorbar": {
             "outlinewidth": 0,
             "ticks": ""
            },
            "type": "contourcarpet"
           }
          ],
          "heatmap": [
           {
            "colorbar": {
             "outlinewidth": 0,
             "ticks": ""
            },
            "colorscale": [
             [
              0,
              "#0d0887"
             ],
             [
              0.1111111111111111,
              "#46039f"
             ],
             [
              0.2222222222222222,
              "#7201a8"
             ],
             [
              0.3333333333333333,
              "#9c179e"
             ],
             [
              0.4444444444444444,
              "#bd3786"
             ],
             [
              0.5555555555555556,
              "#d8576b"
             ],
             [
              0.6666666666666666,
              "#ed7953"
             ],
             [
              0.7777777777777778,
              "#fb9f3a"
             ],
             [
              0.8888888888888888,
              "#fdca26"
             ],
             [
              1,
              "#f0f921"
             ]
            ],
            "type": "heatmap"
           }
          ],
          "heatmapgl": [
           {
            "colorbar": {
             "outlinewidth": 0,
             "ticks": ""
            },
            "colorscale": [
             [
              0,
              "#0d0887"
             ],
             [
              0.1111111111111111,
              "#46039f"
             ],
             [
              0.2222222222222222,
              "#7201a8"
             ],
             [
              0.3333333333333333,
              "#9c179e"
             ],
             [
              0.4444444444444444,
              "#bd3786"
             ],
             [
              0.5555555555555556,
              "#d8576b"
             ],
             [
              0.6666666666666666,
              "#ed7953"
             ],
             [
              0.7777777777777778,
              "#fb9f3a"
             ],
             [
              0.8888888888888888,
              "#fdca26"
             ],
             [
              1,
              "#f0f921"
             ]
            ],
            "type": "heatmapgl"
           }
          ],
          "histogram": [
           {
            "marker": {
             "colorbar": {
              "outlinewidth": 0,
              "ticks": ""
             }
            },
            "type": "histogram"
           }
          ],
          "histogram2d": [
           {
            "colorbar": {
             "outlinewidth": 0,
             "ticks": ""
            },
            "colorscale": [
             [
              0,
              "#0d0887"
             ],
             [
              0.1111111111111111,
              "#46039f"
             ],
             [
              0.2222222222222222,
              "#7201a8"
             ],
             [
              0.3333333333333333,
              "#9c179e"
             ],
             [
              0.4444444444444444,
              "#bd3786"
             ],
             [
              0.5555555555555556,
              "#d8576b"
             ],
             [
              0.6666666666666666,
              "#ed7953"
             ],
             [
              0.7777777777777778,
              "#fb9f3a"
             ],
             [
              0.8888888888888888,
              "#fdca26"
             ],
             [
              1,
              "#f0f921"
             ]
            ],
            "type": "histogram2d"
           }
          ],
          "histogram2dcontour": [
           {
            "colorbar": {
             "outlinewidth": 0,
             "ticks": ""
            },
            "colorscale": [
             [
              0,
              "#0d0887"
             ],
             [
              0.1111111111111111,
              "#46039f"
             ],
             [
              0.2222222222222222,
              "#7201a8"
             ],
             [
              0.3333333333333333,
              "#9c179e"
             ],
             [
              0.4444444444444444,
              "#bd3786"
             ],
             [
              0.5555555555555556,
              "#d8576b"
             ],
             [
              0.6666666666666666,
              "#ed7953"
             ],
             [
              0.7777777777777778,
              "#fb9f3a"
             ],
             [
              0.8888888888888888,
              "#fdca26"
             ],
             [
              1,
              "#f0f921"
             ]
            ],
            "type": "histogram2dcontour"
           }
          ],
          "mesh3d": [
           {
            "colorbar": {
             "outlinewidth": 0,
             "ticks": ""
            },
            "type": "mesh3d"
           }
          ],
          "parcoords": [
           {
            "line": {
             "colorbar": {
              "outlinewidth": 0,
              "ticks": ""
             }
            },
            "type": "parcoords"
           }
          ],
          "pie": [
           {
            "automargin": true,
            "type": "pie"
           }
          ],
          "scatter": [
           {
            "marker": {
             "colorbar": {
              "outlinewidth": 0,
              "ticks": ""
             }
            },
            "type": "scatter"
           }
          ],
          "scatter3d": [
           {
            "line": {
             "colorbar": {
              "outlinewidth": 0,
              "ticks": ""
             }
            },
            "marker": {
             "colorbar": {
              "outlinewidth": 0,
              "ticks": ""
             }
            },
            "type": "scatter3d"
           }
          ],
          "scattercarpet": [
           {
            "marker": {
             "colorbar": {
              "outlinewidth": 0,
              "ticks": ""
             }
            },
            "type": "scattercarpet"
           }
          ],
          "scattergeo": [
           {
            "marker": {
             "colorbar": {
              "outlinewidth": 0,
              "ticks": ""
             }
            },
            "type": "scattergeo"
           }
          ],
          "scattergl": [
           {
            "marker": {
             "colorbar": {
              "outlinewidth": 0,
              "ticks": ""
             }
            },
            "type": "scattergl"
           }
          ],
          "scattermapbox": [
           {
            "marker": {
             "colorbar": {
              "outlinewidth": 0,
              "ticks": ""
             }
            },
            "type": "scattermapbox"
           }
          ],
          "scatterpolar": [
           {
            "marker": {
             "colorbar": {
              "outlinewidth": 0,
              "ticks": ""
             }
            },
            "type": "scatterpolar"
           }
          ],
          "scatterpolargl": [
           {
            "marker": {
             "colorbar": {
              "outlinewidth": 0,
              "ticks": ""
             }
            },
            "type": "scatterpolargl"
           }
          ],
          "scatterternary": [
           {
            "marker": {
             "colorbar": {
              "outlinewidth": 0,
              "ticks": ""
             }
            },
            "type": "scatterternary"
           }
          ],
          "surface": [
           {
            "colorbar": {
             "outlinewidth": 0,
             "ticks": ""
            },
            "colorscale": [
             [
              0,
              "#0d0887"
             ],
             [
              0.1111111111111111,
              "#46039f"
             ],
             [
              0.2222222222222222,
              "#7201a8"
             ],
             [
              0.3333333333333333,
              "#9c179e"
             ],
             [
              0.4444444444444444,
              "#bd3786"
             ],
             [
              0.5555555555555556,
              "#d8576b"
             ],
             [
              0.6666666666666666,
              "#ed7953"
             ],
             [
              0.7777777777777778,
              "#fb9f3a"
             ],
             [
              0.8888888888888888,
              "#fdca26"
             ],
             [
              1,
              "#f0f921"
             ]
            ],
            "type": "surface"
           }
          ],
          "table": [
           {
            "cells": {
             "fill": {
              "color": "#EBF0F8"
             },
             "line": {
              "color": "white"
             }
            },
            "header": {
             "fill": {
              "color": "#C8D4E3"
             },
             "line": {
              "color": "white"
             }
            },
            "type": "table"
           }
          ]
         },
         "layout": {
          "annotationdefaults": {
           "arrowcolor": "#2a3f5f",
           "arrowhead": 0,
           "arrowwidth": 1
          },
          "autotypenumbers": "strict",
          "coloraxis": {
           "colorbar": {
            "outlinewidth": 0,
            "ticks": ""
           }
          },
          "colorscale": {
           "diverging": [
            [
             0,
             "#8e0152"
            ],
            [
             0.1,
             "#c51b7d"
            ],
            [
             0.2,
             "#de77ae"
            ],
            [
             0.3,
             "#f1b6da"
            ],
            [
             0.4,
             "#fde0ef"
            ],
            [
             0.5,
             "#f7f7f7"
            ],
            [
             0.6,
             "#e6f5d0"
            ],
            [
             0.7,
             "#b8e186"
            ],
            [
             0.8,
             "#7fbc41"
            ],
            [
             0.9,
             "#4d9221"
            ],
            [
             1,
             "#276419"
            ]
           ],
           "sequential": [
            [
             0,
             "#0d0887"
            ],
            [
             0.1111111111111111,
             "#46039f"
            ],
            [
             0.2222222222222222,
             "#7201a8"
            ],
            [
             0.3333333333333333,
             "#9c179e"
            ],
            [
             0.4444444444444444,
             "#bd3786"
            ],
            [
             0.5555555555555556,
             "#d8576b"
            ],
            [
             0.6666666666666666,
             "#ed7953"
            ],
            [
             0.7777777777777778,
             "#fb9f3a"
            ],
            [
             0.8888888888888888,
             "#fdca26"
            ],
            [
             1,
             "#f0f921"
            ]
           ],
           "sequentialminus": [
            [
             0,
             "#0d0887"
            ],
            [
             0.1111111111111111,
             "#46039f"
            ],
            [
             0.2222222222222222,
             "#7201a8"
            ],
            [
             0.3333333333333333,
             "#9c179e"
            ],
            [
             0.4444444444444444,
             "#bd3786"
            ],
            [
             0.5555555555555556,
             "#d8576b"
            ],
            [
             0.6666666666666666,
             "#ed7953"
            ],
            [
             0.7777777777777778,
             "#fb9f3a"
            ],
            [
             0.8888888888888888,
             "#fdca26"
            ],
            [
             1,
             "#f0f921"
            ]
           ]
          },
          "colorway": [
           "#636efa",
           "#EF553B",
           "#00cc96",
           "#ab63fa",
           "#FFA15A",
           "#19d3f3",
           "#FF6692",
           "#B6E880",
           "#FF97FF",
           "#FECB52"
          ],
          "font": {
           "color": "#2a3f5f"
          },
          "geo": {
           "bgcolor": "white",
           "lakecolor": "white",
           "landcolor": "#E5ECF6",
           "showlakes": true,
           "showland": true,
           "subunitcolor": "white"
          },
          "hoverlabel": {
           "align": "left"
          },
          "hovermode": "closest",
          "mapbox": {
           "style": "light"
          },
          "paper_bgcolor": "white",
          "plot_bgcolor": "#E5ECF6",
          "polar": {
           "angularaxis": {
            "gridcolor": "white",
            "linecolor": "white",
            "ticks": ""
           },
           "bgcolor": "#E5ECF6",
           "radialaxis": {
            "gridcolor": "white",
            "linecolor": "white",
            "ticks": ""
           }
          },
          "scene": {
           "xaxis": {
            "backgroundcolor": "#E5ECF6",
            "gridcolor": "white",
            "gridwidth": 2,
            "linecolor": "white",
            "showbackground": true,
            "ticks": "",
            "zerolinecolor": "white"
           },
           "yaxis": {
            "backgroundcolor": "#E5ECF6",
            "gridcolor": "white",
            "gridwidth": 2,
            "linecolor": "white",
            "showbackground": true,
            "ticks": "",
            "zerolinecolor": "white"
           },
           "zaxis": {
            "backgroundcolor": "#E5ECF6",
            "gridcolor": "white",
            "gridwidth": 2,
            "linecolor": "white",
            "showbackground": true,
            "ticks": "",
            "zerolinecolor": "white"
           }
          },
          "shapedefaults": {
           "line": {
            "color": "#2a3f5f"
           }
          },
          "ternary": {
           "aaxis": {
            "gridcolor": "white",
            "linecolor": "white",
            "ticks": ""
           },
           "baxis": {
            "gridcolor": "white",
            "linecolor": "white",
            "ticks": ""
           },
           "bgcolor": "#E5ECF6",
           "caxis": {
            "gridcolor": "white",
            "linecolor": "white",
            "ticks": ""
           }
          },
          "title": {
           "x": 0.05
          },
          "xaxis": {
           "automargin": true,
           "gridcolor": "white",
           "linecolor": "white",
           "ticks": "",
           "title": {
            "standoff": 15
           },
           "zerolinecolor": "white",
           "zerolinewidth": 2
          },
          "yaxis": {
           "automargin": true,
           "gridcolor": "white",
           "linecolor": "white",
           "ticks": "",
           "title": {
            "standoff": 15
           },
           "zerolinecolor": "white",
           "zerolinewidth": 2
          }
         }
        },
        "title": {
         "font": {
          "color": "#4D5663"
         },
         "text": "Restaurantes mais populares"
        },
        "xaxis": {
         "gridcolor": "#E1E5ED",
         "showgrid": true,
         "tickfont": {
          "color": "#4D5663"
         },
         "title": {
          "font": {
           "color": "#4D5663"
          },
          "text": "Restaurantes"
         },
         "zerolinecolor": "#E1E5ED"
        },
        "yaxis": {
         "gridcolor": "#E1E5ED",
         "showgrid": true,
         "tickfont": {
          "color": "#4D5663"
         },
         "title": {
          "font": {
           "color": "#4D5663"
          },
          "text": "Quantidade"
         },
         "zerolinecolor": "#E1E5ED"
        }
       }
      },
      "text/html": [
       "<div>                            <div id=\"e22ab820-6363-4686-826a-dea7c66df8bf\" class=\"plotly-graph-div\" style=\"height:525px; width:100%;\"></div>            <script type=\"text/javascript\">                require([\"plotly\"], function(Plotly) {                    window.PLOTLYENV=window.PLOTLYENV || {};\n",
       "                    window.PLOTLYENV.BASE_URL='https://plot.ly';                                    if (document.getElementById(\"e22ab820-6363-4686-826a-dea7c66df8bf\")) {                    Plotly.newPlot(                        \"e22ab820-6363-4686-826a-dea7c66df8bf\",                        [{\"line\": {\"color\": \"rgba(213, 0, 0, 1.0)\", \"dash\": \"solid\", \"shape\": \"linear\", \"width\": 1.3}, \"marker\": {\"size\": 12, \"symbol\": \"circle\"}, \"mode\": \"markers\", \"name\": \"name\", \"text\": \"\", \"type\": \"scatter\", \"x\": [\"Sicilia's Pizzeria\", \"J & G Restaurant\", \"Casey's General Store\", \"The Pizza Joint\", \"Labella Pizza and Pasta\", \"Giovanni's Pizzeria\", \"Papa John's Pizza\", \"Takka Grill\", \"North End Pizzeria\", \"Stone and Paddle\"], \"y\": [64, 55, 37, 36, 31, 28, 27, 26, 25, 22]}],                        {\"legend\": {\"bgcolor\": \"#F5F6F9\", \"font\": {\"color\": \"#4D5663\"}}, \"paper_bgcolor\": \"#F5F6F9\", \"plot_bgcolor\": \"#F5F6F9\", \"template\": {\"data\": {\"bar\": [{\"error_x\": {\"color\": \"#2a3f5f\"}, \"error_y\": {\"color\": \"#2a3f5f\"}, \"marker\": {\"line\": {\"color\": \"#E5ECF6\", \"width\": 0.5}}, \"type\": \"bar\"}], \"barpolar\": [{\"marker\": {\"line\": {\"color\": \"#E5ECF6\", \"width\": 0.5}}, \"type\": \"barpolar\"}], \"carpet\": [{\"aaxis\": {\"endlinecolor\": \"#2a3f5f\", \"gridcolor\": \"white\", \"linecolor\": \"white\", \"minorgridcolor\": \"white\", \"startlinecolor\": \"#2a3f5f\"}, \"baxis\": {\"endlinecolor\": \"#2a3f5f\", \"gridcolor\": \"white\", \"linecolor\": \"white\", \"minorgridcolor\": \"white\", \"startlinecolor\": \"#2a3f5f\"}, \"type\": \"carpet\"}], \"choropleth\": [{\"colorbar\": {\"outlinewidth\": 0, \"ticks\": \"\"}, \"type\": \"choropleth\"}], \"contour\": [{\"colorbar\": {\"outlinewidth\": 0, \"ticks\": \"\"}, \"colorscale\": [[0.0, \"#0d0887\"], [0.1111111111111111, \"#46039f\"], [0.2222222222222222, \"#7201a8\"], [0.3333333333333333, \"#9c179e\"], [0.4444444444444444, \"#bd3786\"], [0.5555555555555556, \"#d8576b\"], [0.6666666666666666, \"#ed7953\"], [0.7777777777777778, \"#fb9f3a\"], [0.8888888888888888, \"#fdca26\"], [1.0, \"#f0f921\"]], \"type\": \"contour\"}], \"contourcarpet\": [{\"colorbar\": {\"outlinewidth\": 0, \"ticks\": \"\"}, \"type\": \"contourcarpet\"}], \"heatmap\": [{\"colorbar\": {\"outlinewidth\": 0, \"ticks\": \"\"}, \"colorscale\": [[0.0, \"#0d0887\"], [0.1111111111111111, \"#46039f\"], [0.2222222222222222, \"#7201a8\"], [0.3333333333333333, \"#9c179e\"], [0.4444444444444444, \"#bd3786\"], [0.5555555555555556, \"#d8576b\"], [0.6666666666666666, \"#ed7953\"], [0.7777777777777778, \"#fb9f3a\"], [0.8888888888888888, \"#fdca26\"], [1.0, \"#f0f921\"]], \"type\": \"heatmap\"}], \"heatmapgl\": [{\"colorbar\": {\"outlinewidth\": 0, \"ticks\": \"\"}, \"colorscale\": [[0.0, \"#0d0887\"], [0.1111111111111111, \"#46039f\"], [0.2222222222222222, \"#7201a8\"], [0.3333333333333333, \"#9c179e\"], [0.4444444444444444, \"#bd3786\"], [0.5555555555555556, \"#d8576b\"], [0.6666666666666666, \"#ed7953\"], [0.7777777777777778, \"#fb9f3a\"], [0.8888888888888888, \"#fdca26\"], [1.0, \"#f0f921\"]], \"type\": \"heatmapgl\"}], \"histogram\": [{\"marker\": {\"colorbar\": {\"outlinewidth\": 0, \"ticks\": \"\"}}, \"type\": \"histogram\"}], \"histogram2d\": [{\"colorbar\": {\"outlinewidth\": 0, \"ticks\": \"\"}, \"colorscale\": [[0.0, \"#0d0887\"], [0.1111111111111111, \"#46039f\"], [0.2222222222222222, \"#7201a8\"], [0.3333333333333333, \"#9c179e\"], [0.4444444444444444, \"#bd3786\"], [0.5555555555555556, \"#d8576b\"], [0.6666666666666666, \"#ed7953\"], [0.7777777777777778, \"#fb9f3a\"], [0.8888888888888888, \"#fdca26\"], [1.0, \"#f0f921\"]], \"type\": \"histogram2d\"}], \"histogram2dcontour\": [{\"colorbar\": {\"outlinewidth\": 0, \"ticks\": \"\"}, \"colorscale\": [[0.0, \"#0d0887\"], [0.1111111111111111, \"#46039f\"], [0.2222222222222222, \"#7201a8\"], [0.3333333333333333, \"#9c179e\"], [0.4444444444444444, \"#bd3786\"], [0.5555555555555556, \"#d8576b\"], [0.6666666666666666, \"#ed7953\"], [0.7777777777777778, \"#fb9f3a\"], [0.8888888888888888, \"#fdca26\"], [1.0, \"#f0f921\"]], \"type\": \"histogram2dcontour\"}], \"mesh3d\": [{\"colorbar\": {\"outlinewidth\": 0, \"ticks\": \"\"}, \"type\": \"mesh3d\"}], \"parcoords\": [{\"line\": {\"colorbar\": {\"outlinewidth\": 0, \"ticks\": \"\"}}, \"type\": \"parcoords\"}], \"pie\": [{\"automargin\": true, \"type\": \"pie\"}], \"scatter\": [{\"marker\": {\"colorbar\": {\"outlinewidth\": 0, \"ticks\": \"\"}}, \"type\": \"scatter\"}], \"scatter3d\": [{\"line\": {\"colorbar\": {\"outlinewidth\": 0, \"ticks\": \"\"}}, \"marker\": {\"colorbar\": {\"outlinewidth\": 0, \"ticks\": \"\"}}, \"type\": \"scatter3d\"}], \"scattercarpet\": [{\"marker\": {\"colorbar\": {\"outlinewidth\": 0, \"ticks\": \"\"}}, \"type\": \"scattercarpet\"}], \"scattergeo\": [{\"marker\": {\"colorbar\": {\"outlinewidth\": 0, \"ticks\": \"\"}}, \"type\": \"scattergeo\"}], \"scattergl\": [{\"marker\": {\"colorbar\": {\"outlinewidth\": 0, \"ticks\": \"\"}}, \"type\": \"scattergl\"}], \"scattermapbox\": [{\"marker\": {\"colorbar\": {\"outlinewidth\": 0, \"ticks\": \"\"}}, \"type\": \"scattermapbox\"}], \"scatterpolar\": [{\"marker\": {\"colorbar\": {\"outlinewidth\": 0, \"ticks\": \"\"}}, \"type\": \"scatterpolar\"}], \"scatterpolargl\": [{\"marker\": {\"colorbar\": {\"outlinewidth\": 0, \"ticks\": \"\"}}, \"type\": \"scatterpolargl\"}], \"scatterternary\": [{\"marker\": {\"colorbar\": {\"outlinewidth\": 0, \"ticks\": \"\"}}, \"type\": \"scatterternary\"}], \"surface\": [{\"colorbar\": {\"outlinewidth\": 0, \"ticks\": \"\"}, \"colorscale\": [[0.0, \"#0d0887\"], [0.1111111111111111, \"#46039f\"], [0.2222222222222222, \"#7201a8\"], [0.3333333333333333, \"#9c179e\"], [0.4444444444444444, \"#bd3786\"], [0.5555555555555556, \"#d8576b\"], [0.6666666666666666, \"#ed7953\"], [0.7777777777777778, \"#fb9f3a\"], [0.8888888888888888, \"#fdca26\"], [1.0, \"#f0f921\"]], \"type\": \"surface\"}], \"table\": [{\"cells\": {\"fill\": {\"color\": \"#EBF0F8\"}, \"line\": {\"color\": \"white\"}}, \"header\": {\"fill\": {\"color\": \"#C8D4E3\"}, \"line\": {\"color\": \"white\"}}, \"type\": \"table\"}]}, \"layout\": {\"annotationdefaults\": {\"arrowcolor\": \"#2a3f5f\", \"arrowhead\": 0, \"arrowwidth\": 1}, \"autotypenumbers\": \"strict\", \"coloraxis\": {\"colorbar\": {\"outlinewidth\": 0, \"ticks\": \"\"}}, \"colorscale\": {\"diverging\": [[0, \"#8e0152\"], [0.1, \"#c51b7d\"], [0.2, \"#de77ae\"], [0.3, \"#f1b6da\"], [0.4, \"#fde0ef\"], [0.5, \"#f7f7f7\"], [0.6, \"#e6f5d0\"], [0.7, \"#b8e186\"], [0.8, \"#7fbc41\"], [0.9, \"#4d9221\"], [1, \"#276419\"]], \"sequential\": [[0.0, \"#0d0887\"], [0.1111111111111111, \"#46039f\"], [0.2222222222222222, \"#7201a8\"], [0.3333333333333333, \"#9c179e\"], [0.4444444444444444, \"#bd3786\"], [0.5555555555555556, \"#d8576b\"], [0.6666666666666666, \"#ed7953\"], [0.7777777777777778, \"#fb9f3a\"], [0.8888888888888888, \"#fdca26\"], [1.0, \"#f0f921\"]], \"sequentialminus\": [[0.0, \"#0d0887\"], [0.1111111111111111, \"#46039f\"], [0.2222222222222222, \"#7201a8\"], [0.3333333333333333, \"#9c179e\"], [0.4444444444444444, \"#bd3786\"], [0.5555555555555556, \"#d8576b\"], [0.6666666666666666, \"#ed7953\"], [0.7777777777777778, \"#fb9f3a\"], [0.8888888888888888, \"#fdca26\"], [1.0, \"#f0f921\"]]}, \"colorway\": [\"#636efa\", \"#EF553B\", \"#00cc96\", \"#ab63fa\", \"#FFA15A\", \"#19d3f3\", \"#FF6692\", \"#B6E880\", \"#FF97FF\", \"#FECB52\"], \"font\": {\"color\": \"#2a3f5f\"}, \"geo\": {\"bgcolor\": \"white\", \"lakecolor\": \"white\", \"landcolor\": \"#E5ECF6\", \"showlakes\": true, \"showland\": true, \"subunitcolor\": \"white\"}, \"hoverlabel\": {\"align\": \"left\"}, \"hovermode\": \"closest\", \"mapbox\": {\"style\": \"light\"}, \"paper_bgcolor\": \"white\", \"plot_bgcolor\": \"#E5ECF6\", \"polar\": {\"angularaxis\": {\"gridcolor\": \"white\", \"linecolor\": \"white\", \"ticks\": \"\"}, \"bgcolor\": \"#E5ECF6\", \"radialaxis\": {\"gridcolor\": \"white\", \"linecolor\": \"white\", \"ticks\": \"\"}}, \"scene\": {\"xaxis\": {\"backgroundcolor\": \"#E5ECF6\", \"gridcolor\": \"white\", \"gridwidth\": 2, \"linecolor\": \"white\", \"showbackground\": true, \"ticks\": \"\", \"zerolinecolor\": \"white\"}, \"yaxis\": {\"backgroundcolor\": \"#E5ECF6\", \"gridcolor\": \"white\", \"gridwidth\": 2, \"linecolor\": \"white\", \"showbackground\": true, \"ticks\": \"\", \"zerolinecolor\": \"white\"}, \"zaxis\": {\"backgroundcolor\": \"#E5ECF6\", \"gridcolor\": \"white\", \"gridwidth\": 2, \"linecolor\": \"white\", \"showbackground\": true, \"ticks\": \"\", \"zerolinecolor\": \"white\"}}, \"shapedefaults\": {\"line\": {\"color\": \"#2a3f5f\"}}, \"ternary\": {\"aaxis\": {\"gridcolor\": \"white\", \"linecolor\": \"white\", \"ticks\": \"\"}, \"baxis\": {\"gridcolor\": \"white\", \"linecolor\": \"white\", \"ticks\": \"\"}, \"bgcolor\": \"#E5ECF6\", \"caxis\": {\"gridcolor\": \"white\", \"linecolor\": \"white\", \"ticks\": \"\"}}, \"title\": {\"x\": 0.05}, \"xaxis\": {\"automargin\": true, \"gridcolor\": \"white\", \"linecolor\": \"white\", \"ticks\": \"\", \"title\": {\"standoff\": 15}, \"zerolinecolor\": \"white\", \"zerolinewidth\": 2}, \"yaxis\": {\"automargin\": true, \"gridcolor\": \"white\", \"linecolor\": \"white\", \"ticks\": \"\", \"title\": {\"standoff\": 15}, \"zerolinecolor\": \"white\", \"zerolinewidth\": 2}}}, \"title\": {\"font\": {\"color\": \"#4D5663\"}, \"text\": \"Restaurantes mais populares\"}, \"xaxis\": {\"gridcolor\": \"#E1E5ED\", \"showgrid\": true, \"tickfont\": {\"color\": \"#4D5663\"}, \"title\": {\"font\": {\"color\": \"#4D5663\"}, \"text\": \"Restaurantes\"}, \"zerolinecolor\": \"#E1E5ED\"}, \"yaxis\": {\"gridcolor\": \"#E1E5ED\", \"showgrid\": true, \"tickfont\": {\"color\": \"#4D5663\"}, \"title\": {\"font\": {\"color\": \"#4D5663\"}, \"text\": \"Quantidade\"}, \"zerolinecolor\": \"#E1E5ED\"}},                        {\"showLink\": true, \"linkText\": \"Export to plot.ly\", \"plotlyServerURL\": \"https://plot.ly\", \"responsive\": true}                    ).then(function(){\n",
       "                            \n",
       "var gd = document.getElementById('e22ab820-6363-4686-826a-dea7c66df8bf');\n",
       "var x = new MutationObserver(function (mutations, observer) {{\n",
       "        var display = window.getComputedStyle(gd).display;\n",
       "        if (!display || display === 'none') {{\n",
       "            console.log([gd, 'removed!']);\n",
       "            Plotly.purge(gd);\n",
       "            observer.disconnect();\n",
       "        }}\n",
       "}});\n",
       "\n",
       "// Listen for the removal of the full notebook cells\n",
       "var notebookContainer = gd.closest('#notebook-container');\n",
       "if (notebookContainer) {{\n",
       "    x.observe(notebookContainer, {childList: true});\n",
       "}}\n",
       "\n",
       "// Listen for the clearing of the current output cell\n",
       "var outputEl = gd.closest('.output');\n",
       "if (outputEl) {{\n",
       "    x.observe(outputEl, {childList: true});\n",
       "}}\n",
       "\n",
       "                        })                };                });            </script>        </div>"
      ]
     },
     "metadata": {},
     "output_type": "display_data"
    }
   ],
   "source": [
    "#Restaurantes mais populares\n",
    "sabores_pizza_rest.iplot(kind='scatter', title='Restaurantes mais populares', color='#d50000', mode='markers', xTitle='Restaurantes', yTitle='Quantidade' )"
   ]
  },
  {
   "cell_type": "code",
   "execution_count": 134,
   "metadata": {
    "code_folding": [
     0
    ]
   },
   "outputs": [
    {
     "data": {
      "application/vnd.plotly.v1+json": {
       "config": {
        "plotlyServerURL": "https://plot.ly"
       },
       "data": [
        {
         "labels": [
          "Philadelphia",
          "New York",
          "East Granby",
          "Los Angeles",
          "Charleston",
          "Columbus",
          "Weirton",
          "Clifton Park",
          "White Plains",
          "Rockville"
         ],
         "pull": [
          0,
          0,
          0.2,
          0
         ],
         "title": {
          "text": "Principais cidades maior consumo de pizza"
         },
         "type": "pie",
         "values": [
          91,
          85,
          55,
          51,
          41,
          41,
          32,
          31,
          29,
          25
         ]
        }
       ],
       "layout": {
        "template": {
         "data": {
          "bar": [
           {
            "error_x": {
             "color": "#2a3f5f"
            },
            "error_y": {
             "color": "#2a3f5f"
            },
            "marker": {
             "line": {
              "color": "#E5ECF6",
              "width": 0.5
             }
            },
            "type": "bar"
           }
          ],
          "barpolar": [
           {
            "marker": {
             "line": {
              "color": "#E5ECF6",
              "width": 0.5
             }
            },
            "type": "barpolar"
           }
          ],
          "carpet": [
           {
            "aaxis": {
             "endlinecolor": "#2a3f5f",
             "gridcolor": "white",
             "linecolor": "white",
             "minorgridcolor": "white",
             "startlinecolor": "#2a3f5f"
            },
            "baxis": {
             "endlinecolor": "#2a3f5f",
             "gridcolor": "white",
             "linecolor": "white",
             "minorgridcolor": "white",
             "startlinecolor": "#2a3f5f"
            },
            "type": "carpet"
           }
          ],
          "choropleth": [
           {
            "colorbar": {
             "outlinewidth": 0,
             "ticks": ""
            },
            "type": "choropleth"
           }
          ],
          "contour": [
           {
            "colorbar": {
             "outlinewidth": 0,
             "ticks": ""
            },
            "colorscale": [
             [
              0,
              "#0d0887"
             ],
             [
              0.1111111111111111,
              "#46039f"
             ],
             [
              0.2222222222222222,
              "#7201a8"
             ],
             [
              0.3333333333333333,
              "#9c179e"
             ],
             [
              0.4444444444444444,
              "#bd3786"
             ],
             [
              0.5555555555555556,
              "#d8576b"
             ],
             [
              0.6666666666666666,
              "#ed7953"
             ],
             [
              0.7777777777777778,
              "#fb9f3a"
             ],
             [
              0.8888888888888888,
              "#fdca26"
             ],
             [
              1,
              "#f0f921"
             ]
            ],
            "type": "contour"
           }
          ],
          "contourcarpet": [
           {
            "colorbar": {
             "outlinewidth": 0,
             "ticks": ""
            },
            "type": "contourcarpet"
           }
          ],
          "heatmap": [
           {
            "colorbar": {
             "outlinewidth": 0,
             "ticks": ""
            },
            "colorscale": [
             [
              0,
              "#0d0887"
             ],
             [
              0.1111111111111111,
              "#46039f"
             ],
             [
              0.2222222222222222,
              "#7201a8"
             ],
             [
              0.3333333333333333,
              "#9c179e"
             ],
             [
              0.4444444444444444,
              "#bd3786"
             ],
             [
              0.5555555555555556,
              "#d8576b"
             ],
             [
              0.6666666666666666,
              "#ed7953"
             ],
             [
              0.7777777777777778,
              "#fb9f3a"
             ],
             [
              0.8888888888888888,
              "#fdca26"
             ],
             [
              1,
              "#f0f921"
             ]
            ],
            "type": "heatmap"
           }
          ],
          "heatmapgl": [
           {
            "colorbar": {
             "outlinewidth": 0,
             "ticks": ""
            },
            "colorscale": [
             [
              0,
              "#0d0887"
             ],
             [
              0.1111111111111111,
              "#46039f"
             ],
             [
              0.2222222222222222,
              "#7201a8"
             ],
             [
              0.3333333333333333,
              "#9c179e"
             ],
             [
              0.4444444444444444,
              "#bd3786"
             ],
             [
              0.5555555555555556,
              "#d8576b"
             ],
             [
              0.6666666666666666,
              "#ed7953"
             ],
             [
              0.7777777777777778,
              "#fb9f3a"
             ],
             [
              0.8888888888888888,
              "#fdca26"
             ],
             [
              1,
              "#f0f921"
             ]
            ],
            "type": "heatmapgl"
           }
          ],
          "histogram": [
           {
            "marker": {
             "colorbar": {
              "outlinewidth": 0,
              "ticks": ""
             }
            },
            "type": "histogram"
           }
          ],
          "histogram2d": [
           {
            "colorbar": {
             "outlinewidth": 0,
             "ticks": ""
            },
            "colorscale": [
             [
              0,
              "#0d0887"
             ],
             [
              0.1111111111111111,
              "#46039f"
             ],
             [
              0.2222222222222222,
              "#7201a8"
             ],
             [
              0.3333333333333333,
              "#9c179e"
             ],
             [
              0.4444444444444444,
              "#bd3786"
             ],
             [
              0.5555555555555556,
              "#d8576b"
             ],
             [
              0.6666666666666666,
              "#ed7953"
             ],
             [
              0.7777777777777778,
              "#fb9f3a"
             ],
             [
              0.8888888888888888,
              "#fdca26"
             ],
             [
              1,
              "#f0f921"
             ]
            ],
            "type": "histogram2d"
           }
          ],
          "histogram2dcontour": [
           {
            "colorbar": {
             "outlinewidth": 0,
             "ticks": ""
            },
            "colorscale": [
             [
              0,
              "#0d0887"
             ],
             [
              0.1111111111111111,
              "#46039f"
             ],
             [
              0.2222222222222222,
              "#7201a8"
             ],
             [
              0.3333333333333333,
              "#9c179e"
             ],
             [
              0.4444444444444444,
              "#bd3786"
             ],
             [
              0.5555555555555556,
              "#d8576b"
             ],
             [
              0.6666666666666666,
              "#ed7953"
             ],
             [
              0.7777777777777778,
              "#fb9f3a"
             ],
             [
              0.8888888888888888,
              "#fdca26"
             ],
             [
              1,
              "#f0f921"
             ]
            ],
            "type": "histogram2dcontour"
           }
          ],
          "mesh3d": [
           {
            "colorbar": {
             "outlinewidth": 0,
             "ticks": ""
            },
            "type": "mesh3d"
           }
          ],
          "parcoords": [
           {
            "line": {
             "colorbar": {
              "outlinewidth": 0,
              "ticks": ""
             }
            },
            "type": "parcoords"
           }
          ],
          "pie": [
           {
            "automargin": true,
            "type": "pie"
           }
          ],
          "scatter": [
           {
            "marker": {
             "colorbar": {
              "outlinewidth": 0,
              "ticks": ""
             }
            },
            "type": "scatter"
           }
          ],
          "scatter3d": [
           {
            "line": {
             "colorbar": {
              "outlinewidth": 0,
              "ticks": ""
             }
            },
            "marker": {
             "colorbar": {
              "outlinewidth": 0,
              "ticks": ""
             }
            },
            "type": "scatter3d"
           }
          ],
          "scattercarpet": [
           {
            "marker": {
             "colorbar": {
              "outlinewidth": 0,
              "ticks": ""
             }
            },
            "type": "scattercarpet"
           }
          ],
          "scattergeo": [
           {
            "marker": {
             "colorbar": {
              "outlinewidth": 0,
              "ticks": ""
             }
            },
            "type": "scattergeo"
           }
          ],
          "scattergl": [
           {
            "marker": {
             "colorbar": {
              "outlinewidth": 0,
              "ticks": ""
             }
            },
            "type": "scattergl"
           }
          ],
          "scattermapbox": [
           {
            "marker": {
             "colorbar": {
              "outlinewidth": 0,
              "ticks": ""
             }
            },
            "type": "scattermapbox"
           }
          ],
          "scatterpolar": [
           {
            "marker": {
             "colorbar": {
              "outlinewidth": 0,
              "ticks": ""
             }
            },
            "type": "scatterpolar"
           }
          ],
          "scatterpolargl": [
           {
            "marker": {
             "colorbar": {
              "outlinewidth": 0,
              "ticks": ""
             }
            },
            "type": "scatterpolargl"
           }
          ],
          "scatterternary": [
           {
            "marker": {
             "colorbar": {
              "outlinewidth": 0,
              "ticks": ""
             }
            },
            "type": "scatterternary"
           }
          ],
          "surface": [
           {
            "colorbar": {
             "outlinewidth": 0,
             "ticks": ""
            },
            "colorscale": [
             [
              0,
              "#0d0887"
             ],
             [
              0.1111111111111111,
              "#46039f"
             ],
             [
              0.2222222222222222,
              "#7201a8"
             ],
             [
              0.3333333333333333,
              "#9c179e"
             ],
             [
              0.4444444444444444,
              "#bd3786"
             ],
             [
              0.5555555555555556,
              "#d8576b"
             ],
             [
              0.6666666666666666,
              "#ed7953"
             ],
             [
              0.7777777777777778,
              "#fb9f3a"
             ],
             [
              0.8888888888888888,
              "#fdca26"
             ],
             [
              1,
              "#f0f921"
             ]
            ],
            "type": "surface"
           }
          ],
          "table": [
           {
            "cells": {
             "fill": {
              "color": "#EBF0F8"
             },
             "line": {
              "color": "white"
             }
            },
            "header": {
             "fill": {
              "color": "#C8D4E3"
             },
             "line": {
              "color": "white"
             }
            },
            "type": "table"
           }
          ]
         },
         "layout": {
          "annotationdefaults": {
           "arrowcolor": "#2a3f5f",
           "arrowhead": 0,
           "arrowwidth": 1
          },
          "autotypenumbers": "strict",
          "coloraxis": {
           "colorbar": {
            "outlinewidth": 0,
            "ticks": ""
           }
          },
          "colorscale": {
           "diverging": [
            [
             0,
             "#8e0152"
            ],
            [
             0.1,
             "#c51b7d"
            ],
            [
             0.2,
             "#de77ae"
            ],
            [
             0.3,
             "#f1b6da"
            ],
            [
             0.4,
             "#fde0ef"
            ],
            [
             0.5,
             "#f7f7f7"
            ],
            [
             0.6,
             "#e6f5d0"
            ],
            [
             0.7,
             "#b8e186"
            ],
            [
             0.8,
             "#7fbc41"
            ],
            [
             0.9,
             "#4d9221"
            ],
            [
             1,
             "#276419"
            ]
           ],
           "sequential": [
            [
             0,
             "#0d0887"
            ],
            [
             0.1111111111111111,
             "#46039f"
            ],
            [
             0.2222222222222222,
             "#7201a8"
            ],
            [
             0.3333333333333333,
             "#9c179e"
            ],
            [
             0.4444444444444444,
             "#bd3786"
            ],
            [
             0.5555555555555556,
             "#d8576b"
            ],
            [
             0.6666666666666666,
             "#ed7953"
            ],
            [
             0.7777777777777778,
             "#fb9f3a"
            ],
            [
             0.8888888888888888,
             "#fdca26"
            ],
            [
             1,
             "#f0f921"
            ]
           ],
           "sequentialminus": [
            [
             0,
             "#0d0887"
            ],
            [
             0.1111111111111111,
             "#46039f"
            ],
            [
             0.2222222222222222,
             "#7201a8"
            ],
            [
             0.3333333333333333,
             "#9c179e"
            ],
            [
             0.4444444444444444,
             "#bd3786"
            ],
            [
             0.5555555555555556,
             "#d8576b"
            ],
            [
             0.6666666666666666,
             "#ed7953"
            ],
            [
             0.7777777777777778,
             "#fb9f3a"
            ],
            [
             0.8888888888888888,
             "#fdca26"
            ],
            [
             1,
             "#f0f921"
            ]
           ]
          },
          "colorway": [
           "#636efa",
           "#EF553B",
           "#00cc96",
           "#ab63fa",
           "#FFA15A",
           "#19d3f3",
           "#FF6692",
           "#B6E880",
           "#FF97FF",
           "#FECB52"
          ],
          "font": {
           "color": "#2a3f5f"
          },
          "geo": {
           "bgcolor": "white",
           "lakecolor": "white",
           "landcolor": "#E5ECF6",
           "showlakes": true,
           "showland": true,
           "subunitcolor": "white"
          },
          "hoverlabel": {
           "align": "left"
          },
          "hovermode": "closest",
          "mapbox": {
           "style": "light"
          },
          "paper_bgcolor": "white",
          "plot_bgcolor": "#E5ECF6",
          "polar": {
           "angularaxis": {
            "gridcolor": "white",
            "linecolor": "white",
            "ticks": ""
           },
           "bgcolor": "#E5ECF6",
           "radialaxis": {
            "gridcolor": "white",
            "linecolor": "white",
            "ticks": ""
           }
          },
          "scene": {
           "xaxis": {
            "backgroundcolor": "#E5ECF6",
            "gridcolor": "white",
            "gridwidth": 2,
            "linecolor": "white",
            "showbackground": true,
            "ticks": "",
            "zerolinecolor": "white"
           },
           "yaxis": {
            "backgroundcolor": "#E5ECF6",
            "gridcolor": "white",
            "gridwidth": 2,
            "linecolor": "white",
            "showbackground": true,
            "ticks": "",
            "zerolinecolor": "white"
           },
           "zaxis": {
            "backgroundcolor": "#E5ECF6",
            "gridcolor": "white",
            "gridwidth": 2,
            "linecolor": "white",
            "showbackground": true,
            "ticks": "",
            "zerolinecolor": "white"
           }
          },
          "shapedefaults": {
           "line": {
            "color": "#2a3f5f"
           }
          },
          "ternary": {
           "aaxis": {
            "gridcolor": "white",
            "linecolor": "white",
            "ticks": ""
           },
           "baxis": {
            "gridcolor": "white",
            "linecolor": "white",
            "ticks": ""
           },
           "bgcolor": "#E5ECF6",
           "caxis": {
            "gridcolor": "white",
            "linecolor": "white",
            "ticks": ""
           }
          },
          "title": {
           "x": 0.05
          },
          "xaxis": {
           "automargin": true,
           "gridcolor": "white",
           "linecolor": "white",
           "ticks": "",
           "title": {
            "standoff": 15
           },
           "zerolinecolor": "white",
           "zerolinewidth": 2
          },
          "yaxis": {
           "automargin": true,
           "gridcolor": "white",
           "linecolor": "white",
           "ticks": "",
           "title": {
            "standoff": 15
           },
           "zerolinecolor": "white",
           "zerolinewidth": 2
          }
         }
        }
       }
      },
      "text/html": [
       "<div>                            <div id=\"7f02f461-aa6b-4041-9a6b-e07f7ce448a9\" class=\"plotly-graph-div\" style=\"height:525px; width:100%;\"></div>            <script type=\"text/javascript\">                require([\"plotly\"], function(Plotly) {                    window.PLOTLYENV=window.PLOTLYENV || {};                                    if (document.getElementById(\"7f02f461-aa6b-4041-9a6b-e07f7ce448a9\")) {                    Plotly.newPlot(                        \"7f02f461-aa6b-4041-9a6b-e07f7ce448a9\",                        [{\"labels\": [\"Philadelphia\", \"New York\", \"East Granby\", \"Los Angeles\", \"Charleston\", \"Columbus\", \"Weirton\", \"Clifton Park\", \"White Plains\", \"Rockville\"], \"pull\": [0, 0, 0.2, 0], \"title\": {\"text\": \"Principais cidades maior consumo de pizza\"}, \"type\": \"pie\", \"values\": [91, 85, 55, 51, 41, 41, 32, 31, 29, 25]}],                        {\"template\": {\"data\": {\"bar\": [{\"error_x\": {\"color\": \"#2a3f5f\"}, \"error_y\": {\"color\": \"#2a3f5f\"}, \"marker\": {\"line\": {\"color\": \"#E5ECF6\", \"width\": 0.5}}, \"type\": \"bar\"}], \"barpolar\": [{\"marker\": {\"line\": {\"color\": \"#E5ECF6\", \"width\": 0.5}}, \"type\": \"barpolar\"}], \"carpet\": [{\"aaxis\": {\"endlinecolor\": \"#2a3f5f\", \"gridcolor\": \"white\", \"linecolor\": \"white\", \"minorgridcolor\": \"white\", \"startlinecolor\": \"#2a3f5f\"}, \"baxis\": {\"endlinecolor\": \"#2a3f5f\", \"gridcolor\": \"white\", \"linecolor\": \"white\", \"minorgridcolor\": \"white\", \"startlinecolor\": \"#2a3f5f\"}, \"type\": \"carpet\"}], \"choropleth\": [{\"colorbar\": {\"outlinewidth\": 0, \"ticks\": \"\"}, \"type\": \"choropleth\"}], \"contour\": [{\"colorbar\": {\"outlinewidth\": 0, \"ticks\": \"\"}, \"colorscale\": [[0.0, \"#0d0887\"], [0.1111111111111111, \"#46039f\"], [0.2222222222222222, \"#7201a8\"], [0.3333333333333333, \"#9c179e\"], [0.4444444444444444, \"#bd3786\"], [0.5555555555555556, \"#d8576b\"], [0.6666666666666666, \"#ed7953\"], [0.7777777777777778, \"#fb9f3a\"], [0.8888888888888888, \"#fdca26\"], [1.0, \"#f0f921\"]], \"type\": \"contour\"}], \"contourcarpet\": [{\"colorbar\": {\"outlinewidth\": 0, \"ticks\": \"\"}, \"type\": \"contourcarpet\"}], \"heatmap\": [{\"colorbar\": {\"outlinewidth\": 0, \"ticks\": \"\"}, \"colorscale\": [[0.0, \"#0d0887\"], [0.1111111111111111, \"#46039f\"], [0.2222222222222222, \"#7201a8\"], [0.3333333333333333, \"#9c179e\"], [0.4444444444444444, \"#bd3786\"], [0.5555555555555556, \"#d8576b\"], [0.6666666666666666, \"#ed7953\"], [0.7777777777777778, \"#fb9f3a\"], [0.8888888888888888, \"#fdca26\"], [1.0, \"#f0f921\"]], \"type\": \"heatmap\"}], \"heatmapgl\": [{\"colorbar\": {\"outlinewidth\": 0, \"ticks\": \"\"}, \"colorscale\": [[0.0, \"#0d0887\"], [0.1111111111111111, \"#46039f\"], [0.2222222222222222, \"#7201a8\"], [0.3333333333333333, \"#9c179e\"], [0.4444444444444444, \"#bd3786\"], [0.5555555555555556, \"#d8576b\"], [0.6666666666666666, \"#ed7953\"], [0.7777777777777778, \"#fb9f3a\"], [0.8888888888888888, \"#fdca26\"], [1.0, \"#f0f921\"]], \"type\": \"heatmapgl\"}], \"histogram\": [{\"marker\": {\"colorbar\": {\"outlinewidth\": 0, \"ticks\": \"\"}}, \"type\": \"histogram\"}], \"histogram2d\": [{\"colorbar\": {\"outlinewidth\": 0, \"ticks\": \"\"}, \"colorscale\": [[0.0, \"#0d0887\"], [0.1111111111111111, \"#46039f\"], [0.2222222222222222, \"#7201a8\"], [0.3333333333333333, \"#9c179e\"], [0.4444444444444444, \"#bd3786\"], [0.5555555555555556, \"#d8576b\"], [0.6666666666666666, \"#ed7953\"], [0.7777777777777778, \"#fb9f3a\"], [0.8888888888888888, \"#fdca26\"], [1.0, \"#f0f921\"]], \"type\": \"histogram2d\"}], \"histogram2dcontour\": [{\"colorbar\": {\"outlinewidth\": 0, \"ticks\": \"\"}, \"colorscale\": [[0.0, \"#0d0887\"], [0.1111111111111111, \"#46039f\"], [0.2222222222222222, \"#7201a8\"], [0.3333333333333333, \"#9c179e\"], [0.4444444444444444, \"#bd3786\"], [0.5555555555555556, \"#d8576b\"], [0.6666666666666666, \"#ed7953\"], [0.7777777777777778, \"#fb9f3a\"], [0.8888888888888888, \"#fdca26\"], [1.0, \"#f0f921\"]], \"type\": \"histogram2dcontour\"}], \"mesh3d\": [{\"colorbar\": {\"outlinewidth\": 0, \"ticks\": \"\"}, \"type\": \"mesh3d\"}], \"parcoords\": [{\"line\": {\"colorbar\": {\"outlinewidth\": 0, \"ticks\": \"\"}}, \"type\": \"parcoords\"}], \"pie\": [{\"automargin\": true, \"type\": \"pie\"}], \"scatter\": [{\"marker\": {\"colorbar\": {\"outlinewidth\": 0, \"ticks\": \"\"}}, \"type\": \"scatter\"}], \"scatter3d\": [{\"line\": {\"colorbar\": {\"outlinewidth\": 0, \"ticks\": \"\"}}, \"marker\": {\"colorbar\": {\"outlinewidth\": 0, \"ticks\": \"\"}}, \"type\": \"scatter3d\"}], \"scattercarpet\": [{\"marker\": {\"colorbar\": {\"outlinewidth\": 0, \"ticks\": \"\"}}, \"type\": \"scattercarpet\"}], \"scattergeo\": [{\"marker\": {\"colorbar\": {\"outlinewidth\": 0, \"ticks\": \"\"}}, \"type\": \"scattergeo\"}], \"scattergl\": [{\"marker\": {\"colorbar\": {\"outlinewidth\": 0, \"ticks\": \"\"}}, \"type\": \"scattergl\"}], \"scattermapbox\": [{\"marker\": {\"colorbar\": {\"outlinewidth\": 0, \"ticks\": \"\"}}, \"type\": \"scattermapbox\"}], \"scatterpolar\": [{\"marker\": {\"colorbar\": {\"outlinewidth\": 0, \"ticks\": \"\"}}, \"type\": \"scatterpolar\"}], \"scatterpolargl\": [{\"marker\": {\"colorbar\": {\"outlinewidth\": 0, \"ticks\": \"\"}}, \"type\": \"scatterpolargl\"}], \"scatterternary\": [{\"marker\": {\"colorbar\": {\"outlinewidth\": 0, \"ticks\": \"\"}}, \"type\": \"scatterternary\"}], \"surface\": [{\"colorbar\": {\"outlinewidth\": 0, \"ticks\": \"\"}, \"colorscale\": [[0.0, \"#0d0887\"], [0.1111111111111111, \"#46039f\"], [0.2222222222222222, \"#7201a8\"], [0.3333333333333333, \"#9c179e\"], [0.4444444444444444, \"#bd3786\"], [0.5555555555555556, \"#d8576b\"], [0.6666666666666666, \"#ed7953\"], [0.7777777777777778, \"#fb9f3a\"], [0.8888888888888888, \"#fdca26\"], [1.0, \"#f0f921\"]], \"type\": \"surface\"}], \"table\": [{\"cells\": {\"fill\": {\"color\": \"#EBF0F8\"}, \"line\": {\"color\": \"white\"}}, \"header\": {\"fill\": {\"color\": \"#C8D4E3\"}, \"line\": {\"color\": \"white\"}}, \"type\": \"table\"}]}, \"layout\": {\"annotationdefaults\": {\"arrowcolor\": \"#2a3f5f\", \"arrowhead\": 0, \"arrowwidth\": 1}, \"autotypenumbers\": \"strict\", \"coloraxis\": {\"colorbar\": {\"outlinewidth\": 0, \"ticks\": \"\"}}, \"colorscale\": {\"diverging\": [[0, \"#8e0152\"], [0.1, \"#c51b7d\"], [0.2, \"#de77ae\"], [0.3, \"#f1b6da\"], [0.4, \"#fde0ef\"], [0.5, \"#f7f7f7\"], [0.6, \"#e6f5d0\"], [0.7, \"#b8e186\"], [0.8, \"#7fbc41\"], [0.9, \"#4d9221\"], [1, \"#276419\"]], \"sequential\": [[0.0, \"#0d0887\"], [0.1111111111111111, \"#46039f\"], [0.2222222222222222, \"#7201a8\"], [0.3333333333333333, \"#9c179e\"], [0.4444444444444444, \"#bd3786\"], [0.5555555555555556, \"#d8576b\"], [0.6666666666666666, \"#ed7953\"], [0.7777777777777778, \"#fb9f3a\"], [0.8888888888888888, \"#fdca26\"], [1.0, \"#f0f921\"]], \"sequentialminus\": [[0.0, \"#0d0887\"], [0.1111111111111111, \"#46039f\"], [0.2222222222222222, \"#7201a8\"], [0.3333333333333333, \"#9c179e\"], [0.4444444444444444, \"#bd3786\"], [0.5555555555555556, \"#d8576b\"], [0.6666666666666666, \"#ed7953\"], [0.7777777777777778, \"#fb9f3a\"], [0.8888888888888888, \"#fdca26\"], [1.0, \"#f0f921\"]]}, \"colorway\": [\"#636efa\", \"#EF553B\", \"#00cc96\", \"#ab63fa\", \"#FFA15A\", \"#19d3f3\", \"#FF6692\", \"#B6E880\", \"#FF97FF\", \"#FECB52\"], \"font\": {\"color\": \"#2a3f5f\"}, \"geo\": {\"bgcolor\": \"white\", \"lakecolor\": \"white\", \"landcolor\": \"#E5ECF6\", \"showlakes\": true, \"showland\": true, \"subunitcolor\": \"white\"}, \"hoverlabel\": {\"align\": \"left\"}, \"hovermode\": \"closest\", \"mapbox\": {\"style\": \"light\"}, \"paper_bgcolor\": \"white\", \"plot_bgcolor\": \"#E5ECF6\", \"polar\": {\"angularaxis\": {\"gridcolor\": \"white\", \"linecolor\": \"white\", \"ticks\": \"\"}, \"bgcolor\": \"#E5ECF6\", \"radialaxis\": {\"gridcolor\": \"white\", \"linecolor\": \"white\", \"ticks\": \"\"}}, \"scene\": {\"xaxis\": {\"backgroundcolor\": \"#E5ECF6\", \"gridcolor\": \"white\", \"gridwidth\": 2, \"linecolor\": \"white\", \"showbackground\": true, \"ticks\": \"\", \"zerolinecolor\": \"white\"}, \"yaxis\": {\"backgroundcolor\": \"#E5ECF6\", \"gridcolor\": \"white\", \"gridwidth\": 2, \"linecolor\": \"white\", \"showbackground\": true, \"ticks\": \"\", \"zerolinecolor\": \"white\"}, \"zaxis\": {\"backgroundcolor\": \"#E5ECF6\", \"gridcolor\": \"white\", \"gridwidth\": 2, \"linecolor\": \"white\", \"showbackground\": true, \"ticks\": \"\", \"zerolinecolor\": \"white\"}}, \"shapedefaults\": {\"line\": {\"color\": \"#2a3f5f\"}}, \"ternary\": {\"aaxis\": {\"gridcolor\": \"white\", \"linecolor\": \"white\", \"ticks\": \"\"}, \"baxis\": {\"gridcolor\": \"white\", \"linecolor\": \"white\", \"ticks\": \"\"}, \"bgcolor\": \"#E5ECF6\", \"caxis\": {\"gridcolor\": \"white\", \"linecolor\": \"white\", \"ticks\": \"\"}}, \"title\": {\"x\": 0.05}, \"xaxis\": {\"automargin\": true, \"gridcolor\": \"white\", \"linecolor\": \"white\", \"ticks\": \"\", \"title\": {\"standoff\": 15}, \"zerolinecolor\": \"white\", \"zerolinewidth\": 2}, \"yaxis\": {\"automargin\": true, \"gridcolor\": \"white\", \"linecolor\": \"white\", \"ticks\": \"\", \"title\": {\"standoff\": 15}, \"zerolinecolor\": \"white\", \"zerolinewidth\": 2}}}},                        {\"responsive\": true}                    ).then(function(){\n",
       "                            \n",
       "var gd = document.getElementById('7f02f461-aa6b-4041-9a6b-e07f7ce448a9');\n",
       "var x = new MutationObserver(function (mutations, observer) {{\n",
       "        var display = window.getComputedStyle(gd).display;\n",
       "        if (!display || display === 'none') {{\n",
       "            console.log([gd, 'removed!']);\n",
       "            Plotly.purge(gd);\n",
       "            observer.disconnect();\n",
       "        }}\n",
       "}});\n",
       "\n",
       "// Listen for the removal of the full notebook cells\n",
       "var notebookContainer = gd.closest('#notebook-container');\n",
       "if (notebookContainer) {{\n",
       "    x.observe(notebookContainer, {childList: true});\n",
       "}}\n",
       "\n",
       "// Listen for the clearing of the current output cell\n",
       "var outputEl = gd.closest('.output');\n",
       "if (outputEl) {{\n",
       "    x.observe(outputEl, {childList: true});\n",
       "}}\n",
       "\n",
       "                        })                };                });            </script>        </div>"
      ]
     },
     "metadata": {},
     "output_type": "display_data"
    }
   ],
   "source": [
    "#10 principais cidades maior consumo de pizza\n",
    "#Plotando um gráfico de pizza\n",
    "import plotly.graph_objects as go\n",
    "\n",
    "labels = ['Philadelphia', 'New York', 'East Granby','Los Angeles', 'Charleston', 'Columbus', 'Weirton', 'Clifton Park','White Plains', 'Rockville']\n",
    "values = pizza_city\n",
    "\n",
    "# pull is given as a fraction of the pie radius\n",
    "fig = go.Figure(data=[go.Pie(labels=labels, values=values, pull=[0, 0, 0.2, 0], title='Principais cidades maior consumo de pizza')])\n",
    "fig.show()"
   ]
  },
  {
   "cell_type": "code",
   "execution_count": 125,
   "metadata": {
    "code_folding": [
     0
    ]
   },
   "outputs": [
    {
     "data": {
      "image/png": "[encoded data removed]",
      "text/plain": [
       "<Figure size 960x640 with 1 Axes>"
      ]
     },
     "metadata": {},
     "output_type": "display_data"
    }
   ],
   "source": [
    "#Província com preço mínimo\n",
    "pizzas_provPrice = df_pizza[df_pizza['province'].str.len() == 2].groupby(['province'])['priceRangeMin'].mean().head(10)\n",
    "\n",
    "plt.figure(num=None, figsize=(12, 8), dpi=80, facecolor='w', edgecolor='k')\n",
    "ax = pizzas_provPrice[:10].plot.bar(color = '#FF4081')\n",
    "ax.set_title(\"Preço mínimo de pizza por estado\")\n",
    "ax.set_ylabel(\"Valor\")\n",
    "\n",
    "prices = ax.patches\n",
    "\n",
    "for price in prices:\n",
    "    height = price.get_height()\n",
    "    ax.text(price.get_x() + price.get_width()/2., 1.05*height,\n",
    "            #'%d' % int(height),\n",
    "            'R${:1.2f}'.format(height),\n",
    "            ha='center', va='bottom')\n",
    "\n",
    "plt.show();"
   ]
  },
  {
   "cell_type": "code",
   "execution_count": 127,
   "metadata": {
    "code_folding": [
     0
    ]
   },
   "outputs": [
    {
     "data": {
      "image/png": "[encoded data removed]",
      "text/plain": [
       "<Figure size 960x640 with 1 Axes>"
      ]
     },
     "metadata": {},
     "output_type": "display_data"
    }
   ],
   "source": [
    "#Província com preço máximo\n",
    "\n",
    "pizzas_provPrice = df_pizza[df_pizza['province'].str.len() == 2].groupby(['province'])['priceRangeMax'].mean()\n",
    "\n",
    "plt.figure(num=None, figsize=(12, 8), dpi=80, facecolor='w', edgecolor='k')\n",
    "ax = pizzas_provPrice[:10].plot.bar(color = '#18FFFF')\n",
    "ax.set_title(\"Preço máximo de pizza por estado\")\n",
    "ax.set_ylabel(\"Valor\")\n",
    "\n",
    "prices = ax.patches\n",
    "\n",
    "for price in prices:\n",
    "    height = price.get_height()\n",
    "    ax.text(price.get_x() + price.get_width()/2., 1.05*height,\n",
    "            #'%d' % int(height),\n",
    "            'R${:1.2f}'.format(height),\n",
    "            ha='center', va='bottom')\n",
    "\n",
    "plt.show();"
   ]
  },
  {
   "cell_type": "code",
   "execution_count": 135,
   "metadata": {
    "code_folding": [
     0
    ]
   },
   "outputs": [
    {
     "data": {
      "text/html": [
       "\n",
       "\n",
       "\n",
       "\n",
       "\n",
       "\n",
       "  <div class=\"bk-root\" id=\"e20b13f5-560b-4aaa-ac36-7a584fcc3619\" data-root-id=\"1405\"></div>\n"
      ]
     },
     "metadata": {},
     "output_type": "display_data"
    },
    {
     "data": {
      "application/javascript": [
       "(function(root) {\n",
       "  function embed_document(root) {\n",
       "    \n",
       "  var docs_json = {\"22d87bea-a807-4865-88df-df1433e045f8\":{\"roots\":{\"references\":[{\"attributes\":{\"children\":[{\"id\":\"1404\",\"type\":\"ToolbarBox\"},{\"id\":\"1402\",\"type\":\"Column\"}]},\"id\":\"1405\",\"type\":\"Row\"},{\"attributes\":{\"tools\":[{\"id\":\"1314\",\"type\":\"HoverTool\"},{\"id\":\"1336\",\"type\":\"PanTool\"},{\"id\":\"1337\",\"type\":\"WheelZoomTool\"},{\"id\":\"1338\",\"type\":\"TapTool\"},{\"id\":\"1339\",\"type\":\"ResetTool\"},{\"id\":\"1340\",\"type\":\"CrosshairTool\"},{\"id\":\"1377\",\"type\":\"TapTool\"},{\"id\":\"1378\",\"type\":\"ResetTool\"}]},\"id\":\"1403\",\"type\":\"ProxyToolbar\"},{\"attributes\":{\"callback\":null},\"id\":\"1320\",\"type\":\"DataRange1d\"},{\"attributes\":{\"callback\":null,\"data\":{\"address\":[\"4002 Lincoln Blvd\",\"440 Park Ave S\",\"11800 W Broad St\",\"10300 Forest Hill Blvd\",\"3401 Esperanza Xing\",\"109 W County Ctr\",\"222 And 222a Prospect W\",\"14910 Pines Blvd\",\"127 W US Highway 54\",\"2415 Mission St\",\"100 S Main St\",\"1411 Mountain Rd\",\"410 Sheridan Rd\",\"3348 Genesee St\",\"303 SE 17th St\",\"1635 Us 52 N\",\"1352 E Broad Ave/hwy 74 E\",\"2918 N Herritage St\",\"Cayuta Ave\",\"5040 Hardy St\",\"3332 Airport Blvd N W\",\"34579 Yucaipa Blvd\",\"11628 Santa Monica Blvd\",\"2402 N High St\",\"544 Arthur Godfrey Rd\",\"5781 Lee Blvd\",\"144 Fifth Ave S\",\"831 Middlefield Rd\",\"2905 Goose Creek Rd\",\"1033 Kilbery Ln\",\"3708 Las Vegas Blvd S\",\"192 Islip Ave\",\"902 13th St\",\"1231 Park St\",\"1492 N Leroy St\",\"1760 44th St S W\",\"258 Deer Park Ave\",\"4746 Vernon Blvd\",\"2220 Wildcat Reserve\",\"9470 Dayton Lebanon Pike\",\"76 Westchester Ave\",\"24 Manorhaven Blvd\",\"8122 Guide Meridian Rd\",\"109 Main St\",\"2815 N Loop 1604 E\",\"508 Contra Costa Blvd\",\"924 W 436\",\"Cascade Village Mall Across From Target\",\"Woodward Ave Bloomfield Hills Mi\",\"300 S Doheny Dr\",\"948 S Cooper St\",\"655 5th Ave S\",\"Battery Park\",\"1278 3rd Ave\",\"13440 22 Mile Rd\",\"1125 Victoria St\",\"11165 S Eastern Ave\",\"1032 Old Peachtree Rd N W\",\"105 E Main St\",\"9641 Olio Rd\",\"Mcdermott\",\"12274 Rockville Pike\",\"715 Greenup Ave\",\"3601 Main St\",\"16049 Johnson Rd\",\"2221 4th St N\",\"610 Wesley Dr\",\"1233 Sage Dr\",\"2241 Westchester Ave\",\"551 E Laburnum Ave\",\"275 N Morton St\",\"5001 N Kings Hwy\",\"1407 E Main St\",\"8251 W Union Hills Dr\",\"1602 Madison Ave\",\"3223 E Camelback Rd\",\"1568 Main St\",\"1280 E Dundee Rd\",\"4952 Merrick Rd\",\"300 W\",\"219 S Sandusky Ave\",\"119 W Phoenix Ave\",\"4140 Carlisle Rd\",\"222 E Main St\",\"14 Lebanon St\",\"15 S Broadway\",\"3151 Steinway St\",\"1100 N Shore Dr\",\"9563 Kings Charter Doctor B\",\"1401 Coshocton Ave\",\"1136 Thorn Run Rd\",\"4261 Griffin Rd\",\"1036 Volvo Pkwy\",\"337 N Shore Dr\",\"5761 Springdale Rd\",\"1809 1 W Anderson Ln\",\"SE Indian St\",\"9595 Six Pines Dr\",\"807 Rockville Pike\",\"1709 E 1300 S\",\"215 Main St\",\"1924 Julia St\",\"717 Sterlington Hwy\",\"1045 NW Kings Blvd\",\"8028 S Emerson Ave\",\"80 S Main St\",\"1601 Collins Ave\",\"604 N Milwaukee Ave\",\"2700 E Bidwell St\",\"13430 Northwest Fwy\",\"134 N Wayne Ave\",\"288 Golf Course Dr W\",\"3251 Prospect St N W\",\"103 N State Rd\",\"120 E Post Rd\",\"803 Spartanburg Hwy\",\"2771 E Broad St\",\"Rainbow Bazaar Hilton Hawaiian Vlg\",\"5205 E 2nd St\",\"4711 N Rockwood Dr\",\"180 Varick St\",\"1829 Eastgate Rd\",\"768 W 1425 N\",\"400 S Orlando Ave\",\"10401 Us 441\",\"13825 Britton Park Rd\",\"11633 San Vicente Blvd\",\"216 Townsend St\",\"444 Eagle Ridge Dr\",\"22 Miller Ave\",\"11011 W Charleston Blvd\",\"2141 Lindau Ln\",\"8809 Baltimore National Pike\",\"107 Driving Park Ave\",\"3000 Custer Rd\",\"14 Scott Adam Rd\",\"458 9th Ave\",\"19 First Ave\",\"1260 Amsterdam Ave\",\"19065 Beach Blvd\",\"700 S E Walton Blvd\",\"14933 Main St\",\"801 2nd Ave\",\"2605 Lawndale Dr\",\"2495 Harrisburg Pike\",\"140 S Lake Ave\",\"117 Broad St\",\"2500 Larimer St\",\"5142 Hollywood Blvd\",\"Harrisonburg Va\",\"1001 Jason Pl\",\"133 Back River Neck Rd\",\"7669 S 700 E\",\"20420 Haggerty Rd\",\"2201 Uptown Loop N E\",\"15080 Idlewild Rd\",\"2404 Sunnyside Dr\",\"12538 Memorial Dr\",\"121 123 South St\",\"52 Lake St\",\"16 S Blackhoof St\",\"2486 N Federal Hwy\",\"302 E 12th St\",\"13238 N E 20th St\",\"701 N Queen St\",\"100 Sycamore Valley Rd\",\"5988 Osgood Ave N\",\"1300 N Charlotte St\",\"4840 Big Island Dr\",\"711 N 132nd St\",\"1001 S Main St\",\"2136 Middle Country Rd\",\"488 9th Ave\",\"6001 Destination Parkway Hilton Orlando\",\"3413 W 7th St\",\"3701 N E 163rd St\",\"27 Grand St\",\"1933 5th Ave\",\"4050 E 82nd St\",\"9595 Six Pnes\",\"1282 Som Center Rd\",\"927 Howell St\",\"2540 Anthem Village Dr\",\"157 S Weber Rd\",\"298 Racetrack Rd\",\"3910 Schofield Ave\",\"244 N Court St\",\"487 S Business Route 5\",\"10501 Gateway Blvd W\",\"74 225 Hwy 111\",\"1400 County Road 101 N\",\"1717 Willamette Falls Dr\",\"4940 E Ray Rd\",\"1250 W Broadway St\",\"25431 Trabuco Rd\",\"217 6th Ave\",\"115 W Main St\",\"400 N Center St\",\"380 Route 909\",\"1114 1st St\",\"22 Englar Rd\",\"2000 E Rio Salado Pkwy\",\"211 Main St\",\"1133 Chastain Rd N W\",\"8699 Ogden Ave\",\"6166 Falls Of Neuse Rd\",\"9822 Libra Ave\",\"1225 Route 9g\",\"1635 Presque Isle Ave\",\"15 Route 236\",\"510 S Mason Rd\",\"1970 W Market St\",\"599 Main St\",\"1655 India St\",\"1909 E Ray Rd\",\"31243 Palos Verdes Dr W\",\"1295 Grandview Ave\",\"10 Matinicock Ave\",\"3665 Kawaihae Shopping Center / 61 Hi 270\",\"2301 Milbend\",\"42 W 35th St\",\"607 Green Valley Rd\",\"7110 Brighton Park Dr\",\"10955 Oval Park Dr\",\"6240 S Main Saint L115 (behind Mcalisteraposs Deli)\",\"148 S Barrington Ave\",\"757 Broadway\",\"200 N 6th St\",\"645 Boardwalk Blvd\",\"717 E Chicago St\",\"1516 E Wood St\",\"6101 Bardstown Rd\",\"1176 Roanoke Rd\",\"5300 N Braeswood Blvd\",\"1812 Red Cliffs Dr\",\"2320 Tiffin Ave\",\"2328 Fairmount Ave\",\"161 E Bay St\",\"5254 Market St\",\"4435 Willard Ave\",\"8352 S Pulaski Rd\",\"127 Hilltown Village Ctr\",\"586 E Main St\",\"150 07 14th Rd\",\"1202 Kingwood Dr\",\"7301 N Fm 620\",\"295 Mare Island Way\",\"& The Embarcadero\",\"22 Warren St\",\"5201 Center St\",\"210 S Depeyster St\",\"512 Rose Ave\",\"80 W Broadway Ave\",\"2817 Maybank Hwy\",\"4141 N E 2nd Ave 101a\",\"305 E Harrison St\",\"3770 Las Vegas Blvd S\",\"2080 Valleydale Rd\",\"720 N Wls\",\"2014 Boston St S E\",\"3505 A Longmire Dr\",\"658 W New York Ave Deland\",\"6280 W Sample Rd\",\"517 Cherry Ln\",\"126 S Main St\",\"1003 E Oak St\",\"1070 Palm Coast Pkwy Nw\",\"3045 Godfrey Rd\",\"15030 S Harlan Rd\",\"123 S Olive Ave\",\"6710 Cahill Ave\",\"2417 Oneil Blvd\",\"7625 N Union Blvd\",\"19 Kelly St\",\"1250 W Lake St\",\"2511 N Main St\",\"22118 West Rd\",\"312 Locust St\",\"5271 E 2nd St\",\"121 4th Ave S\",\"10 Old Clairton Rd\",\"3295 Bel Air Mall\",\"6501 Washington Ave\",\"1514 Us 41\",\"3435 S Inca St\",\"6590 Sugarloaf Pkwy\",\"556 Route 25a\",\"300 E Grand Ave\",\"500 Main St\",\"10835 Venice Blvd\",\"12326 W 143rd St\",\"3975 State Highway 6 S\",\"363 W 46th St\",\"1150 9th St\",\"61160 S Highway 97\",\"1545 Peachtree St N E\",\"780 SE Bishop Blvd\",\"820 N Alta Ave\",\"2600 W Expressway 83\",\"2500 Moreland Rd\",\"201 Oglewood Ln\",\"305 Ash St\",\"116 John R Rice Blvd\",\"7701 White Ln\",\"361 W Main St\",\"4921 State Road 26 E\",\"286 N Adams Rd\",\"10 E 120th Ave\",\"441 6th Ave\",\"950 Lehigh Valley Mall\",\"853 E Lancaster Ave\",\"74711 Dillon Rd\",\"18 Clark Pl\",\"3500 E Main St\",\"584 Amsterdam Ave\",\"1201 16th St\",\"8701 Keystone Xing\",\"505 3rd Ave\",\"205 N Moorpark Rd\",\"Main St\",\"201 Railroad St W\",\"1576 3rd Ave\",\"442 W Hillcrest Dr\",\"825 Hennepin Ave\",\"620 S Broad St\",\"153 11 Union Tpke\",\"691 S Main St\",\"6987 Hamner Ave\",\"10500 10534 S Ridgeland Ave\",\"200 E Main Cross St\",\"5655 Manitou Rd\",\"201 N Main St\",\"220 E Central Pkwy\",\"14205 S 50th St\",\"124 S Solana Hills Dr\",\"4747 Marketplace Dr\",\"1321 N H St\",\"5125 E Main St\",\"1065 First Ave\",\"1 Seascape Resort Dr\",\"885 Town Center Dr\",\"208 Sunrise Hwy\",\"8285 Jericho Tpke\",\"1118 Coolidge Blvd\",\"500 S 6th St\",\"1000 Corporate Dr\",\"105 N Market St\",\"1620 Camino De La Reina\",\"2250 Rittenhouse Rd\",\"200 S Second St\",\"411 Granby St\",\"8900 E Pinnacle Peak Rd\",\"2844 Hudson St\",\"14805 W 64th Ave\",\"1 Station Plz\",\"1707 Delaware Ave\",\"150 Laishley Ct\",\"1100 New York Ave N W\",\"2017 Fox Creek Rd\",\"418 W 9th St\",\"2159 Burke St\",\"1604 N State Highway 161\",\"1365 Sam Nunn Blvd\",\"901 Nordic Dr\",\"1822 N Lincoln Ave\",\"10824 Fairfax Blvd\",\"1664 Indian Hill Blvd\",\"2243 N Cotner Blvd\",\"1402 S 12th Ave\",\"300 Harbor Blvd\",\"400 W Mondamin St\",\"16852 21 Mile Rd\",\"12170 4th St\",\"6593 Collins Dr\",\"873 N 26th St\",\"2424 N Mayfair Rd\",\"141 W Railroad Ave\",\"120 Sarah Wells Trl\",\"4550 Balfour Rd\",\"600 Floyd Ave\",\"718 Culbertson Dr\",\"5536 Torresdale Ave\",\"2006 S Pine St\",\"3207 N Pleasantburg Dr\",\"8915 159th St\",\"23043 Soledad Canyon Rd\",\"4301 W 41st St\",\"191 San Felipe Rd\",\"73722 El Paseo\",\"18607 Bothell Way N E\",\"3812 Rib Mountain Dr\",\"1730 E Highland Dr\",\"115 E Dale St\",\"2811 Nostrand Ave\",\"201 Whitehaven Rd\",\"124 E Sheridan\",\"315 S College Mall Rd\",\"6226 W Ogden\",\"9208 3rd Ave\",\"375 S W Powerhouse Dr\",\"7408 Windsor Mill Rd\",\"2505 4th Ave W\",\"5328 Main Saint (rt 53)\",\"33901 Woodward Ave\",\"145 E Gay St\",\"200 E Chestnut St\",\"748 Heritage Park Blvd\",\"4032 Cedar Springs Rd\",\"7840 Wyoming St\",\"7575 Buckley Rd\",\"3400 S 74th St\",\"4 Enterprise Ave N E\",\"1301 E Miller Ave\",\"7602 N Jupiter Rd\",\"211 N Cortez\",\"25066 Telegraph Rd\",\"14004 E Indiana Ave\",\"1420 E Hatch Rd\",\"137 W\",\"418 E Wyoming Ave\",\"3189 King Ave W\",\"25 Foothill Rd\",\"505 Columbus Ave\",\"111 S Broadway\",\"2350 Clarendon Blvd\",\"530 N Coast Hwy 101\",\"12514 120th Ave N E\",\"45 Washington Ave\",\"5575 Chamblee Dunwoody Rd\",\"1620 E Riverside Dr\",\"14769 Pearl Rd\",\"50 N Valle Verde Dr\",\"4101 W Skippack Pike\",\"5000 Kahala Ave\",\"5240 Cemetery Rd\",\"638 E 169th St\",\"709 Church Ave\",\"300 E 3rd St\",\"2720 N Grandview Blvd\",\"291 Grand Ave\",\"317 S Main St\",\"203 Nanticoke Rd\",\"1801 26th Rd\",\"5800 N Bayshore Dr\",\"5110 Washington Ave\",\"16607 Champion Way\",\"30 Lafayette Ave\",\"650 Westchester Ave\",\"9110 Selborne Ln\",\"33 Patio De Leon\",\"16501 Midland Dr\",\"7A Trolly Sq\",\"2359 Bittersweet Rd\",\"1552 Bergen Pkwy\",\"4109 N Prospect Rd\",\"15950 Eureka Rd\",\"1720 E Sternberg Rd\",\"200 Oak Hill Ave\",\"7520 Peach St\",\"9774 Zimbro Ave\",\"325 High St S E\",\"2320 S Union St\",\"420 N Middletown Rd\",\"1504 Old Country Rd\",\"8136 W 3rd St\",\"1932 Wildcat Canyon Rd\",\"12646 Capital Blvd\",\"801 Saint Emanuel St\",\"1031 E Fairview Ave\",\"10451 Twin Rivers Rd\",\"1425 Gross Rd\",\"190 N Gulph Rd\",\"50a\",\"2901 Watson Blvd\",\"1063 1st Ave\",\"701 Market St\",\"208 2nd St S\",\"21616 Hwy 410\",\"6746 E Cave Creek Rd\",\"14950 Broad At\",\"1 Crossgates Mall Road Crossgates Mall\",\"224 Harper Park Dr\",\"6889 Greenfield Rd\",\"9045 Crawfordsville Rd\",\"9749 N E 119th Way\",\"2619 Red Bluff Kroger Jct\",\"1515 Pease St\",\"12833 Ventura Blvd\",\"1716 Liberty Rd\",\"415 S Teller\",\"475 E Northampton St\",\"539 E 81st St\",\"4112 Pennsylvania Ave\",\"6 E Main St\",\"841 Old Winston Rd\",\"329 Old Santa Fe Trl\",\"15764 S Bell Rd\",\"701 N Milwaukee Ave\",\"6550 Lincoln Ave\",\"11225 Huebner Rd\",\"76 Queens Folly Rd\",\"11981 S Strang Line Rd\",\"1170 S E Bishop Blvd\",\"222 W Campbell Rd\",\"271 Lake Havasu Ave S\",\"26900 Newport Rd\",\"1155 S Broad St\",\"3480 S Carrier Pkwy\",\"190 University Town Center Dr\",\"157 Randhurst Village Dr\",\"330 Yorktown Ctr\",\"Goat Is\",\"2560 Glendale Ave\",\"777 Casino Dr\",\"6653 S Las Vegas Blvd\",\"2420 Columbia House Blvd\",\"1495 Union Ave\",\"932 S 10th St\",\"703 Mckinney Ave\",\"3993 Easton Sta\",\"6200 Germantown Ave\",\"20 Paseo Dr\",\"1431 Plaza Pl\",\"6173 S State St\",\"12594 Adams Rd\",\"310 S California Ave\",\"715 Lenoir Rhyne Blvd S E\",\"101 W Main St\",\"4911 Township Line Rd\",\"222 E Main St\",\"6060 Scholarship\",\"1788 N Atherton St\",\"109 Old Chapin Rd\",\"415 Grand Ave\",\"315 S Coast Highway 101\",\"9700 Bluegrass Pkwy\",\"3100 Lakeville Hwy\",\"277 Alexander St\",\"1735 W Kathleen Ave\",\"308 S Lamar Blvd\",\"2233 B 180a Kalakaua Ave\",\"8436 S 88th Ave\",\"1100 Milwaukee Ave\",\"205 E Main St\",\"145 E 50th St\",\"3551 Lafayette Rd\",\"1125 H St NE\",\"1167 Broad St\",\"1150 Douglas Ave\",\"18 Auburn Way S\",\"427 S Boston Ave\",\"1700 Post Oak Blvd\",\"10727 Randolph Saint Crown Point In\",\"4100 N 2nd St\",\"1061 W Bank Rd\",\"5301 Grove Rd\",\"14415 Tamiami Trl\",\"2279 Eagle Glen Pkwy\",\"1751 Scottsville Rd\",\"12800 Village Blvd\",\"3711 Peppermill Dr N\",\"3049 Sussex Ave\",\"415 N Prince St\",\"11651 W 64th Ave\",\"32925 1st Ave S\",\"1066 Hanes Mall Blvd\",\"3196 Waialae Ave\",\"3801 Broadway\",\"2305 Jackson Ave W\",\"1325 Madison Ave\",\"1413 S Victoria Ave\",\"421 Challenge St\",\"500 Sampsonia Way\",\"8001 N Port Washington Rd\",\"10114 Saint Charles Rock Rd\",\"317 2nd St\",\"302 N Main St\",\"9240 Guy R Brewer Blvd\",\"249 Church St\",\"4390 Summit Bridge Rd\",\"3063 Lincoln Hwy E\",\"226 Baltimore Pike\",\"1042 Union Rd\",\"3237 Chester Blvd\",\"33 E Simpson St\",\"130 Town Center Rd\",\"2035 4th Ave\",\"572 2nd Ave\",\"2898 Reynolda Rd\",\"7102 Woodlawn Ave N E\",\"4416 N Miller\",\"257 W Wilmington Chester Pike\",\"4144 Erie St\",\"13 Harbourside Ln\",\"3610 Route 378\",\"1000 E Derry Rd\",\"3800 S W Cedar Hills Blvd D\",\"5250 Gulf Blvd\",\"319 Bay St\",\"2602 Brandt School Rd\",\"2631 Mcingvale Rd\",\"1401 S E Morrison\",\"444 Railroad Ave\",\"2810 Business Center Dr\",\"980 Razorback Dr\",\"1904 N Division St\",\"16000 Stuebner Airline Rd\",\"23233 Saticoy St\",\"944 S Irby St\",\"110 Bunyan Ave Berthoud\",\"4100 Crain Hwy\",\"1016 S College Rd\",\"2550 Pleasant Hill Rd\",\"623 Highland Ave\",\"13005 N E 70th Pl\",\"6007 Us 60 E\",\"30 Mamaroneck Ave\",\"12719 W Sunrise Blvd\",\"500 Garden City Dr\",\"2180 Us Highway 70 S E\",\"10880 N 32nd St\",\"100 W Higgins Rd\",\"24330 Meadowbrook Rd\",\"800 Nicollet Mall\",\"859 Belmont Ave S W\",\"3118 Pricetown Rd\",\"1731 India St\",\"2300 S 16th St\",\"13674 W State Road 84\",\"30 20 30th Ave\",\"190 N Swift Rd\",\"1500 N Clybourn Ave\",\"7860 Gate Parkway 101\",\"1 Collins Diboll Cir\",\"112 Internatl Boardwalk\",\"355 Saint Mark Rd\",\"2601 W Marina Place Elliott Bay Marina\",\"313 E 3rd St\",\"1370 Riverfront Ctr\",\"1788 Main St W\",\"305 W Fm 1382\",\"5996 Stetson Hills Blvd\",\"1818 Manhattan Blvd\",\"330 2nd Ave S\",\"12914 Fm 1960 Rd W\",\"1304 N Highway 81\",\"2959 N Oakland Ave\",\"7270 Victoria Park Ln\",\"101 West St\",\"20 Market St\",\"11301 Rockville Pike\",\"100 S 42nd St\",\"220 S 31st Ave\",\"1705 N. Cuernavaca Dr.\",\"200 Gulf Dr N\",\"6400 Time Square Ave\",\"1560 N Mcmullen Booth Rd\",\"840 S Sepulveda\",\"10000 S E Main St\",\"191 7th St\",\"400 Stanford Shopping Ctr\",\"2026 S Milledge Ave\",\"555 Soquel Ave\",\"11 01 43rd Ave\",\"26601 Aliso Creek Rd\",\"4200 Boat St\",\"401 E Whitestone Blvd\",\"7753 Roseville Rd\",\"9730 State Ave\",\"653 W 26th St\",\"8616 Griffin Rd\",\"2970 Sullivant Ave\",\"1024 N 204th Ave\",\"11200 Scaggsville Rd\",\"4400 Ashford Dunwoody Rd\",\"3368 Peachtree Rd\",\"6500 Springfield Mall\",\"9101 International Dr\",\"4999 Old Orchard Shopping Ctr\",\"920 Madison Ave\",\"8370 E State Route 69\",\"8605 Highway 107\",\"100 N White Mountain Rd\",\"43 S Talbert Blvd\",\"Midway Airport\",\"701 Gordon Dr\",\"616 Dixie Hwy\",\"Ulster Ave\",\"800 N Main St\",\"Hwy 15401\",\"190 Moser Rd\",\"3906 S 12th St\",\"1115 Culver Rd\",\"189 W 231st St\",\"201 W Market St\",\"4310 Vance Jackson Rd\",\"Willow St\",\"8707 W Ridge Rd\",\"44 N Brentwood\",\"23623 N Scottsdale Rd D107\",\"31 S Arlington Ave\",\"711 E Main St\",\"700 Main St\",\"5821 SE International Way\",\"5365 Alton Pkwy\",\"267 S 19th St\",\"120 W Olive Saint Fort Collins Co\",\"20590 S Lagrange Rd\",\"1165 N Stratford Rd\",\"2001 Saint Charles Ave\",\"3208 N Loop 250 W\",\"580 Forest Ave\",\"14 E 10th St\",\"1071 Tamiami Trl N\",\"2111 Stewart Ave\",\"2202 Ogden Ave\",\"7091 El Cajon\",\"5770 W Irlo Bronson Memorial Hwy\",\"2620 E Third St\",\"2061 W Galena Ave\",\"131 Main St S\",\"5024 River Rd N\",\"594 N Pinecrest Rd\",\"524 Mastic Rd\",\"11200 Lakeline Mall Dr\",\"3817 W 13th St N\",\"4658 Shoreline Dr\",\"122 Diamond St\",\"775 Goodman Rd E\",\"1 S Main St\",\"14933 Pulaski Rd\",\"214 Main St\",\"2801 Hampton Ave\",\"1019 Westgate Ave\",\"904\",\"21 Lynn Ave\",\"8680 Pineview Ln N\",\"6607 Glenway Ave\",\"1657 Richmond Rd\",\"901 Loveland Madeira Rd\",\"241 E Chester Pike\",\"750 W High St\",\"1908 5th Ave\",\"1527 S State St\",\"3558 W Pinhook Rd\",\"7801 S Main St\",\"1310 N W 23rd Ave\",\"519 Germantown Pike\",\"20850 Sheldon Rd\",\"909 Eagles Landing Pkwy\",\"208 Northgate One\",\"8890 Porter Rd\",\"2455 E Grapevine Mills Cir\",\"132 S Water St\",\"120 N College St\",\"203 S Sandusky Ave\",\"425 OK-152\",\"344 W State St\",\"1602 E Forsyth St\",\"2460 W 26th Ave\",\"22507 Plymouth Rd\",\"502 M St\",\"2800 Routh St\",\"1401 Grant Ave\",\"9128 5th Ave\",\"10333 S Roberts Rd\",\"925 Blossom Hill Road Oakridge Mall\",\"917 E Main St\",\"5320 Highway 6\",\"Fullerton College\",\"23642 Lorain Rd\",\"211 S 5th St\",\"2807 W 95th St\",\"2000 El Lago Dr\",\"3060 Naglee Rd\",\"1730 Essington Rd\",\"116 Ann St\",\"28985 Golden Lantern\",\"10 Chicago Ave\",\"215 W Rollins Rd\",\"195 W Dundee Rd\",\"7559 Metropolitan Ave\",\"Mid Vail Area On Vail Mtn\",\"4138 Ogletown Stanton Rd\",\"728 W Chicago St\",\"1818 S Young Cir\",\"Manor Rd\",\"7710 City Ave\",\"173 Ludlow St\",\"1640 Camino Del Rio N\",\"8385 W 21st St N\",\"6658 W Archer Ave\",\"21100 91st Pl S\",\"516 E Oakland Park Blvd\",\"8 E Main St\",\"938 N Main St\",\"1429 Nostrand Ave\",\"15740 Aurora Ave N\",\"406 E Colfax Ave\",\"1101 Filbert St\",\"200 Dyckman St\",\"300 E Locust St\"],\"city\":[\"Marina Del Rey\",\"New York\",\"Henrico\",\"Wellington\",\"Austin\",\"Saint Louis\",\"Brooklyn\",\"Hollywood\",\"Andover\",\"Santa Cruz\",\"Sayville\",\"Joppa\",\"Highwood\",\"Buffalo\",\"Ocala\",\"Rochester\",\"Rockingham\",\"Kinston\",\"Waverly\",\"Hattiesburg\",\"Wilson\",\"Yucaipa\",\"Los Angeles\",\"Columbus\",\"Miami Beach\",\"Lehigh Acres\",\"Nashville\",\"Redwood City\",\"Louisville\",\"North Aurora\",\"Las Vegas\",\"Islip\",\"Saint Cloud\",\"Alameda\",\"Fenton\",\"Wyoming\",\"Babylon\",\"Long Island City\",\"Littleton\",\"Dayton\",\"Pound Ridge\",\"Port Washington\",\"Lynden\",\"Port Jefferson\",\"San Antonio\",\"Pleasant Hill\",\"Altamonte Springs\",\"Bend\",\"Bloomfield Hills\",\"Los Angeles\",\"Memphis\",\"Naples\",\"New York\",\"New York\",\"Utica\",\"Costa Mesa\",\"Henderson\",\"Lawrenceville\",\"Bartow\",\"Mc Cordsville\",\"Allen\",\"Rockville\",\"Ashland\",\"Weirton\",\"Charlotte\",\"Saint Petersburg\",\"Charleston\",\"Cedar City\",\"Bronx\",\"Richmond\",\"Franklin\",\"Myrtle Beach\",\"Cherryville\",\"Glendale\",\"Covington\",\"Phoenix\",\"Dunedin\",\"Palatine\",\"Massapequa Park\",\"Washington\",\"Bucyrus\",\"Flagstaff\",\"Dover\",\"Collegeville\",\"Hamilton\",\"Edmond\",\"Astoria\",\"Detroit Lakes\",\"Ashland\",\"Mount Vernon\",\"Coraopolis\",\"Fort Lauderdale\",\"Chesapeake\",\"Pittsburgh\",\"Cincinnati\",\"Austin\",\"Stuart\",\"Spring\",\"Rockville\",\"Salt Lake City\",\"Auburn\",\"Rayville\",\"Farmerville\",\"Corvallis\",\"Indianapolis\",\"New City\",\"Miami Beach\",\"Wheeling\",\"Folsom\",\"Houston\",\"Wayne\",\"Rohnert Park\",\"Washington\",\"Briarcliff Manor\",\"White Plains\",\"Hendersonville\",\"Mansfield\",\"Honolulu\",\"Long Beach\",\"Peoria\",\"New York\",\"Toledo\",\"Layton\",\"Maitland\",\"Belleview\",\"Fishers\",\"Los Angeles\",\"San Francisco\",\"Galena\",\"Mill Valley\",\"Las Vegas\",\"Minneapolis\",\"Ellicott City\",\"Rochester\",\"Plano\",\"Cockeysville\",\"New York\",\"New York\",\"New York\",\"Huntington Beach\",\"Bentonville\",\"Alachua\",\"New York\",\"Greensboro\",\"Middletown\",\"Pasadena\",\"Staten Island\",\"Denver\",\"Los Angeles\",\"Harrisonburg\",\"Chatham\",\"Essex\",\"Midvale\",\"Northville\",\"Albuquerque\",\"Matthews\",\"Cadillac\",\"Houston\",\"Philadelphia\",\"White Plains\",\"Wapakoneta\",\"Pompano Beach\",\"New York\",\"Bellevue\",\"Lancaster\",\"Danville\",\"Stillwater\",\"Pottstown\",\"Jacksonville\",\"Omaha\",\"Baltimore\",\"Centereach\",\"New York\",\"Orlando\",\"Fort Worth\",\"North Miami Beach\",\"New York\",\"Seattle\",\"Indianapolis\",\"Spring\",\"Cleveland\",\"Seattle\",\"Henderson\",\"Bolingbrook\",\"Mcdonough\",\"Schofield\",\"Medina\",\"Camdenton\",\"El Paso\",\"Palm Desert\",\"Minneapolis\",\"West Linn\",\"Phoenix\",\"Missoula\",\"Lake Forest\",\"Grinnell\",\"Urbana\",\"Westminster\",\"Verona\",\"Snohomish\",\"Westminster\",\"Tempe\",\"Nanuet\",\"Kennesaw\",\"Lyons\",\"Raleigh\",\"Sacramento\",\"Hyde Park\",\"Marquette\",\"Clifton Park\",\"Katy\",\"Akron\",\"Islip\",\"San Diego\",\"Chandler\",\"Rancho Palos Verdes\",\"Columbus\",\"Port Washington\",\"Kamuela\",\"Spring\",\"New York\",\"Greensboro\",\"Charlotte\",\"Las Vegas\",\"Aurora\",\"Los Angeles\",\"New York\",\"Boise\",\"Bossier City\",\"Bronson\",\"Paris\",\"Louisville\",\"Daleville\",\"Houston\",\"Saint George\",\"Findlay\",\"Philadelphia\",\"Charleston\",\"Philadelphia\",\"Chevy Chase\",\"Chicago\",\"Chesterfield\",\"Ventura\",\"Whitestone\",\"Kingwood\",\"Austin\",\"Vallejo\",\"San Francisco\",\"New York\",\"Williamsburg\",\"Kent\",\"Venice\",\"Jackson\",\"Johns Island\",\"Miami\",\"Lakeview\",\"Las Vegas\",\"Birmingham\",\"Chicago\",\"Grand Rapids\",\"College Station\",\"Deland\",\"Pompano Beach\",\"Roberts\",\"Lancaster\",\"Arcadia\",\"Palm Coast\",\"Godfrey\",\"Lathrop\",\"West Palm Beach\",\"Inver Grove Heights\",\"Mckeesport\",\"Colorado Springs\",\"Luzerne\",\"Addison\",\"Rockford\",\"Trenton\",\"Sterling\",\"Long Beach\",\"Nashville\",\"Pittsburgh\",\"Mobile\",\"Racine\",\"Schererville\",\"Englewood\",\"Duluth\",\"Saint James\",\"Chickasha\",\"Blowing Rock\",\"Los Angeles\",\"Homer Glen\",\"College Station\",\"New York\",\"Modesto\",\"Bend\",\"Atlanta\",\"Pullman\",\"Dinuba\",\"Mcallen\",\"Willow Grove\",\"Gatlinburg\",\"Jefferson City\",\"Murfreesboro\",\"Bakersfield\",\"Plymouth\",\"Lafayette\",\"Rochester\",\"Denver\",\"Dayton\",\"Whitehall\",\"Downingtown\",\"Desert Hot Springs\",\"Mahopac\",\"Farmington\",\"New York\",\"Denver\",\"Indianapolis\",\"New York\",\"Thousand Oaks\",\"Detroit Lakes\",\"Missoula\",\"New York\",\"Thousand Oaks\",\"Minneapolis\",\"Lansdale\",\"Flushing\",\"Corona\",\"Corona\",\"Chicago Ridge\",\"Findlay\",\"Excelsior\",\"Keller\",\"Altamonte Springs\",\"Phoenix\",\"Solana Beach\",\"Johnstown\",\"Lompoc\",\"Columbus\",\"New York\",\"Aptos\",\"Wilmington\",\"Rockville Centre\",\"Woodbury\",\"Lafayette\",\"Springfield\",\"Canonsburg\",\"Frederick\",\"San Diego\",\"Harleysville\",\"Saint Charles\",\"Norfolk\",\"Scottsdale\",\"Baltimore\",\"Arvada\",\"Rye\",\"Wilmington\",\"Punta Gorda\",\"Washington\",\"Bloomington\",\"Mount Carmel\",\"Bozeman\",\"Grand Prairie\",\"Perry\",\"White Lake\",\"York\",\"Fairfax\",\"Pomona\",\"Lincoln\",\"Marshalltown\",\"Destin\",\"Minooka\",\"Macomb\",\"Yucaipa\",\"Moorpark\",\"Philadelphia\",\"Milwaukee\",\"Williams\",\"Campbell Hall\",\"Brentwood\",\"Rome\",\"Oklahoma City\",\"Philadelphia\",\"Cabot\",\"Greenville\",\"Tinley Park\",\"Santa Clarita\",\"Sioux Falls\",\"Hollister\",\"Palm Desert\",\"Bothell\",\"Wausau\",\"Jonesboro\",\"Colorado Springs\",\"Brooklyn\",\"Grand Island\",\"Oklahoma City\",\"Bloomington\",\"Berwyn\",\"Brooklyn\",\"Bend\",\"Windsor Mill\",\"Olympia\",\"Lisle\",\"Birmingham\",\"West Chester\",\"Chicago\",\"Layton\",\"Dallas\",\"Dearborn\",\"Syracuse\",\"Fort Smith\",\"Isanti\",\"Salt Lake City\",\"Garland\",\"Prescott\",\"Flat Rock\",\"Spokane\",\"Modesto\",\"Missoula\",\"Philadelphia\",\"Billings\",\"Reno\",\"New York\",\"Rochester\",\"Arlington\",\"Encinitas\",\"Kirkland\",\"Wheeling\",\"Atlanta\",\"Austin\",\"Strongsville\",\"Henderson\",\"Schwenksville\",\"Honolulu\",\"Hilliard\",\"Bronx\",\"Brooklyn\",\"Sylacauga\",\"Waukesha\",\"Southlake\",\"Grapevine\",\"Essex\",\"Astoria\",\"Milwaukee\",\"Houston\",\"Sandy\",\"Brooklyn\",\"Bronx\",\"Palmetto\",\"Fort Myers\",\"Shawnee\",\"Wilmington\",\"Lake Ozark\",\"Evergreen\",\"Peoria Heights\",\"Southgate\",\"Fruitport\",\"Endicott\",\"Erie\",\"Manassas\",\"Salem\",\"Des Moines\",\"Pearl River\",\"Westbury\",\"Los Angeles\",\"Lakeside\",\"Wake Forest\",\"Houston\",\"Montgomery\",\"Columbia\",\"Mesquite\",\"King Of Prussia\",\"Hermosa Beach\",\"Endicott\",\"New York\",\"Saint Louis\",\"Sartell\",\"Bonney Lake\",\"Cave Creek\",\"Reynoldsburg\",\"Albany\",\"Beckley\",\"Detroit\",\"Indianapolis\",\"Kirkland\",\"Pasadena\",\"Houston\",\"Studio City\",\"Sykesville\",\"Denver\",\"Wilkes Barre\",\"New York\",\"Kansas City\",\"Frostburg\",\"Kernersville\",\"Santa Fe\",\"Homer Glen\",\"Vernon Hills\",\"Woodridge\",\"San Antonio\",\"Hilton Head Island\",\"Olathe\",\"Pullman\",\"Richardson\",\"Lake Havasu City\",\"Menifee\",\"Fremont\",\"Grand Prairie\",\"Sarasota\",\"Mount Prospect\",\"Lombard\",\"Niagara Falls\",\"Green Bay\",\"Cherokee\",\"Las Vegas\",\"Vancouver\",\"Memphis\",\"Philadelphia\",\"Dallas\",\"Columbus\",\"Philadelphia\",\"Rockville\",\"Southlake\",\"Salt Lake City\",\"Granger\",\"Palo Alto\",\"Hickory\",\"Broussard\",\"Drexel Hill\",\"Mount Kisco\",\"Irvine\",\"State College\",\"Lexington\",\"South San Francisco\",\"Encinitas\",\"Louisville\",\"Petaluma\",\"Rochester\",\"Coeur D Alene\",\"Oxford\",\"Honolulu\",\"Justice\",\"Glenview\",\"Front Royal\",\"New York\",\"Indianapolis\",\"Washington\",\"Augusta\",\"Altamonte Springs\",\"Auburn\",\"Tulsa\",\"Houston\",\"Crown Point\",\"Mcallen\",\"Celina\",\"Pittsburgh\",\"North Port\",\"Corona\",\"Bowling Green\",\"Saint Petersburg\",\"Wilson\",\"Pittsburgh\",\"Lancaster\",\"Arvada\",\"Federal Way\",\"Winston Salem\",\"Honolulu\",\"New York\",\"Oxford\",\"Mankato\",\"Ventura\",\"Freeport\",\"Pittsburgh\",\"Milwaukee\",\"Saint Ann\",\"Langley\",\"Blacksburg\",\"Jamaica\",\"Amherst\",\"Middletown\",\"Paradise\",\"Springfield\",\"Buffalo\",\"Richmond\",\"Mechanicsburg\",\"King Of Prussia\",\"Seattle\",\"Troy\",\"Winston Salem\",\"Seattle\",\"Scottsdale\",\"Chadds Ford\",\"Willoughby\",\"Hilton Head Island\",\"Bethlehem\",\"Hershey\",\"Beaverton\",\"Saint Petersburg\",\"Petoskey\",\"Wexford\",\"Hernando\",\"Portland\",\"Pittsburg\",\"Pearland\",\"Houghton\",\"Davenport\",\"Spring\",\"Canoga Park\",\"Florence\",\"Berthoud\",\"Bowie\",\"Wilmington\",\"Duluth\",\"Connellsville\",\"Kirkland\",\"Barboursville\",\"White Plains\",\"Fort Lauderdale\",\"Monroeville\",\"Hickory\",\"Phoenix\",\"Barrington\",\"Novi\",\"Minneapolis\",\"Albany\",\"Fleetwood\",\"San Diego\",\"Philadelphia\",\"Fort Lauderdale\",\"Astoria\",\"Addison\",\"Chicago\",\"Jacksonville\",\"New Orleans\",\"Redondo Beach\",\"Taylors\",\"Seattle\",\"Bethlehem\",\"Amsterdam\",\"Locust\",\"Cedar Hill\",\"Colorado Springs\",\"Harvey\",\"Minneapolis\",\"Houston\",\"Duncan\",\"Decatur\",\"Rancho Cucamonga\",\"Grinnell\",\"Lockport\",\"Kensington\",\"Grand Forks\",\"Omaha\",\"Austin\",\"Bradenton Beach\",\"Orlando\",\"Clearwater\",\"El Segundo\",\"Portland\",\"Brooklyn\",\"Palo Alto\",\"Athens\",\"Santa Cruz\",\"Long Island City\",\"Aliso Viejo\",\"Fairbanks\",\"Cedar Park\",\"Sacramento\",\"Marysville\",\"Erie\",\"Fort Lauderdale\",\"Columbus\",\"Elkhorn\",\"Laurel\",\"Atlanta\",\"Atlanta\",\"Springfield\",\"Orlando\",\"Skokie\",\"Mankato\",\"Prescott Valley\",\"Sherwood\",\"Show Low\",\"Lexington\",\"Chicago\",\"Sioux City\",\"Rossford\",\"Kingston\",\"Kernersville\",\"Bennettsville\",\"Pottstown\",\"Tacoma\",\"Rochester\",\"Bronx\",\"Baltimore\",\"San Antonio\",\"Allentown\",\"Elyria\",\"Saint Louis\",\"Scottsdale\",\"Baltimore\",\"Lexington\",\"Nashville\",\"Portland\",\"Irvine\",\"Philadelphia\",\"Fort Collins\",\"Frankfort\",\"Moses Lake\",\"New Orleans\",\"Midland\",\"Plymouth\",\"Erie\",\"Nokomis\",\"Wausau\",\"Aurora\",\"San Diego\",\"Kissimmee\",\"Bloomington\",\"Freeport\",\"Stillwater\",\"Salem\",\"Bolingbrook\",\"Mastic Beach\",\"Cedar Park\",\"Wichita\",\"Spring Park\",\"Titusville\",\"Southaven\",\"Shrewsbury\",\"Midlothian\",\"Reisterstown\",\"Saint Louis\",\"Newark\",\"Binghamton\",\"Oxford\",\"Osseo\",\"Cincinnati\",\"Staten Island\",\"Loveland\",\"Ridley Park\",\"Pottstown\",\"River Grove\",\"Lockport\",\"Lafayette\",\"Pine Plains\",\"Gainesville\",\"Lafayette Hill\",\"Brookpark\",\"Stockbridge\",\"San Rafael\",\"Niagara Falls\",\"Grapevine\",\"Kent\",\"Auburn\",\"Upper Sandusky\",\"Mustang\",\"Eagle\",\"Americus\",\"Denver\",\"Redford\",\"Fresno\",\"Dallas\",\"Novato\",\"Brooklyn\",\"Palos Hills\",\"San Jose\",\"Ashland\",\"Missouri City\",\"Fullerton\",\"North Olmsted\",\"Richmond\",\"Evergreen Park\",\"Arnold\",\"Tracy\",\"Joliet\",\"Pickens\",\"Laguna Niguel\",\"Oak Park\",\"Round Lake\",\"Buffalo Grove\",\"Middle Village\",\"Vail\",\"Newark\",\"Elgin\",\"Hollywood\",\"Staten Island\",\"Philadelphia\",\"New York\",\"San Diego\",\"Wichita\",\"Chicago\",\"Kent\",\"Fort Lauderdale\",\"Ephrata\",\"Suffolk\",\"Brooklyn\",\"Seattle\",\"Denver\",\"Philadelphia\",\"New York\",\"Chatsworth\"],\"dot_size\":{\"__ndarray__\":\"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\",\"dtype\":\"float64\",\"shape\":[802]},\"index\":[2428,854,1078,207,458,506,939,3304,2836,2111,2871,3223,1975,1567,959,2725,2720,1152,2727,2149,2807,705,1279,1759,2608,688,2103,1729,646,1126,2160,2673,2014,327,2774,339,1879,567,423,1106,2442,2885,878,2235,984,2591,1184,0,3214,3201,1907,1165,2717,3054,866,2221,54,2507,2342,2486,2599,683,1848,2538,511,2499,2484,2498,2252,639,833,2501,1612,1657,1468,2550,2776,2755,166,1971,2274,1321,3336,2450,1326,1464,368,1560,3337,236,1016,3270,1012,436,3166,3128,2889,20,3103,2979,2841,2645,2416,533,198,2456,2880,1834,1407,2679,795,2207,2541,3015,418,1225,2689,1140,2122,2568,3085,1074,2370,162,738,1837,976,547,2623,2658,2974,1029,751,2096,2073,145,447,2961,1988,825,1307,1369,343,1382,2117,1993,2940,2059,9,1149,243,189,3087,1550,811,850,810,3070,813,1337,1319,2996,472,2253,1739,3042,2918,2394,1625,65,366,1222,2039,1257,1688,912,3262,217,926,2668,3023,3310,2951,3295,1159,1632,1600,792,2392,2747,160,2433,158,1478,1664,2715,157,156,1077,2124,70,2903,1854,2984,1420,2212,261,2473,2480,607,1102,1007,1375,1797,385,1188,223,3236,3047,2708,1581,3010,2944,2023,2863,5,3318,3316,3314,277,505,498,1539,802,742,780,1197,1182,1207,1786,1105,1945,1204,3254,2266,254,2260,557,320,3112,2143,3136,2291,3285,3255,611,293,2907,1114,2579,59,2152,1595,1246,2693,2697,2875,2332,2334,2051,1607,940,906,73,710,1691,1911,2798,2739,784,1023,2597,2258,540,2468,954,3122,549,2767,2301,355,2886,1061,1576,1063,1136,1043,691,1358,903,2967,3332,756,1371,2888,272,3261,3132,2115,3077,2753,2692,1952,559,864,405,1446,2402,1447,2471,1005,1471,1058,2558,3164,341,2613,2762,2856,206,772,461,2350,3249,3035,551,2076,2075,2588,502,2431,2213,3242,1698,1697,1142,2223,2430,3265,2706,1288,2326,2853,161,800,41,856,2396,2001,3141,1700,989,991,193,1958,2295,1628,2797,520,1557,2950,3123,2112,571,2648,1726,634,2347,2292,2257,1554,1806,1642,1640,2864,2319,2306,1085,500,408,2441,1046,3230,1082,1589,3126,345,346,3080,1287,1115,1716,869,838,23,22,1301,868,2869,1696,3263,1592,2369,1895,2323,1451,118,734,2911,672,1038,2573,3120,1940,1941,2580,379,978,2582,1578,2005,785,2735,754,2384,1938,2635,1892,2614,690,532,2158,2472,2491,1699,1053,2490,1093,949,1742,3203,3179,1449,1448,1397,295,501,1384,2210,615,2227,2407,886,564,635,2677,2678,13,1702,3060,226,2505,71,94,3322,1158,975,1022,2114,1718,3218,1734,2062,1032,835,51,852,1203,803,2766,1362,1370,1995,1877,2881,3134,1577,2620,1132,2400,1331,122,3037,3078,3036,37,2695,39,2816,1374,2669,1095,1790,1568,1373,897,294,179,2086,1476,1472,1438,58,3217,2589,1064,453,454,2419,905,2020,892,1405,1164,1195,2788,943,2791,3111,2349,2287,783,2625,1465,2348,3327,455,2386,544,543,534,2975,3328,2316,2315,2874,1217,1259,3183,1695,1723,3055,2495,68,558,935,2393,3237,1972,2201,2151,1737,2203,709,2815,448,1041,1042,3241,2262,2259,2060,468,3031,2084,222,470,1092,292,1651,1652,3168,910,735,252,2098,2056,1286,574,2303,105,3305,1586,3323,896,2686,1619,1145,522,2052,814,3300,3086,349,350,133,351,1959,2683,3222,578,2302,1562,1614,881,1590,2034,301,2851,2493,66,768,2265,3216,714,2142,3051,3050,922,512,576,1569,202,2910,2783,1534,1575,1050,1366,2894,560,1432,2021,837,2409,1289,2924,2314,2920,2391,1425,955,119,931,932,135,103,1703,1423,342,2305,3287,2711,736,1561,1893,2978,946,493,1536,743,1051,1653,1781,377,378,2718,3072,463,3089,1256,880,1187,3049,2890,1295,2953,1297,92,3321,788,527,526,640,457,456,3158,2162,438,281,492,1320,210,2618,40,873,890,1081,3303,1598,2099,2325,2799,1415,1417,209,2818,3240,182,2624,945,2965,2421,229,2897,2408,117,450,113,112,1285,925,2226,2736,786,111,110,1076,787,2710,2320,2634,2057,983,1841,1128,2899,1859,136,695,192,357,758,1782,542,1857,28,2345,2627,2242,3110,3033,3157,46,48,1334,42,131,1304,3107,2368,308,1543,132,3034,1314,1316,1965,311,312,310,2492,56,3165,1228,228,1913,636,203,759,2878,1780],\"menus_amountMax\":{\"__ndarray__\":\"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\",\"dtype\":\"float64\",\"shape\":[802]},\"menus_amountMin\":{\"__ndarray__\":\"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\",\"dtype\":\"float64\",\"shape\":[802]},\"pizza_counts\":[1,62,62,62,62,62,2,1,1,1,1,1,53,32,1,44,4,4,14,4,4,1,2,1,1,1,26,1,32,5,1,5,1,38,8,30,1,1,1,1,53,1,32,1,1,1,1,3,16,1,1,1,8,1,1,8,8,26,1,53,74,34,2,2,10,11,10,10,10,10,10,11,10,10,10,1,6,1,1,1,3,1,2,32,1,3,7,1,74,30,29,44,1,8,1,74,34,1,1,1,1,2,2,32,1,1,1,5,5,6,1,1,1,4,74,60,1,1,2,34,2,1,3,3,1,53,2,1,20,1,60,14,1,62,1,9,1,1,1,1,6,3,130,34,38,1,2,1,6,1,30,5,1,1,11,1,1,5,20,5,32,1,1,20,1,1,34,4,8,74,1,1,1,1,1,1,60,38,1,1,62,3,130,1,4,4,4,11,2,1,74,60,2,74,1,11,10,29,14,1,60,1,1,16,6,1,2,44,5,5,8,1,1,12,1,1,6,6,1,60,41,2,2,41,41,1,2,11,3,1,1,1,32,9,5,32,3,1,4,1,3,1,38,3,130,1,130,1,1,1,14,1,25,8,1,3,7,1,4,1,130,6,1,16,2,1,1,1,2,1,12,3,1,4,1,7,32,32,1,1,1,60,62,1,1,2,8,1,20,1,1,62,44,1,1,1,32,130,2,22,7,1,1,1,74,130,22,4,5,22,1,20,4,8,74,6,4,1,5,62,1,2,4,60,1,1,21,1,3,6,44,4,12,1,14,130,3,7,1,41,11,1,7,20,1,41,1,1,1,26,7,60,44,74,14,7,3,1,11,11,20,30,130,2,6,1,1,6,6,1,6,2,1,1,1,1,29,1,130,74,130,1,2,29,130,1,1,1,1,1,3,3,1,1,1,2,3,1,8,1,130,1,5,2,13,1,53,1,2,130,29,1,1,16,26,3,1,130,5,1,74,29,1,2,1,26,1,6,16,16,60,1,16,130,1,6,1,6,1,4,8,130,4,130,1,32,1,6,4,2,1,1,2,1,9,1,1,1,1,11,2,1,1,1,1,16,2,20,1,11,2,60,16,4,1,34,30,29,1,1,11,74,1,1,1,1,1,5,14,16,2,1,16,1,44,130,1,62,7,2,130,4,62,2,1,21,29,20,1,1,10,130,38,10,10,130,74,49,7,10,44,10,10,10,1,62,29,1,1,49,1,1,1,1,3,6,1,1,1,2,60,25,5,1,60,7,1,16,1,62,34,1,1,1,49,2,49,2,1,30,6,1,10,1,1,3,1,49,8,62,1,1,62,130,29,62,74,3,29,30,5,30,1,1,1,30,7,12,6,1,130,30,2,8,1,1,34,41,6,8,1,26,1,2,4,30,5,4,30,16,4,30,1,30,1,7,11,4,1,4,1,2,7,130,32,1,1,3,49,1,1,8,11,5,1,62,53,49,6,9,1,130,62,2,1,29,49,2,1,1,1,1,3,1,62,16,44,1,1,1,1,130,5,1,38,2,130,1,1,62,1,1,130,30,6,6,6,6,6,41,29,29,1,29,7,62,62,49,2,5,5,5,3,49,1,9,5,1,130,1,1,130,13,1,2,2,8,6,1,1,4,1,6,1,62,9,5,62,1,49,9,29,25,49,5,32,4,30,25,30,9,13,130,1,3,3,41,3,1,3,1,30,49,25,29,6,30,5,74,30,34,74,62,13,13,1,1,44,29,8,30,1,130,29,49,1,5,1,1,7,10,13,25,3,1,9,1,13,9,4,9,2,7,5,25,8,1,5,21,1,32,4,7,1,12,12,2,12,12,3,3,2],\"pizza_name\":[\"Pizza Raviatta\",\"Pizza\",\"Pizza\",\"Pizza\",\"Pizza\",\"Pizza\",\"Steak Pizzaiola\",\"The New Yorker Party Pizza\",\"Party Cheese Pepperoni Sheet Pizza\",\"Sicilian Square Party Tray Pizza\",\"Sirloin Steak Pizzaiola\",\"Crab Dip Pizza\",\"Hawaiian Pizza\",\"Taco Pizza\",\"Chicken With Broccoli Pizza\",\"Buffalo Chicken Pizza\",\"Lone Star Bbq Pizza\",\"Original Bbq Chicken Pizza\",\"Breakfast Pizza\",\"Ultimate Meat Pizza\",\"Ultimate Meat Pizza\",\"Pizza Chalet Special\",\"Shrimp Alfredo Pizza\",\"Galore Pizza\",\"Tunisian Pizza\",\"4 Medium Cheese Pizzas\",\"Pizza Margherita\",\"3 Toppings Pizza\",\"Taco Pizza\",\"Pizza Margarita\",\"Pizza Port Chronicle\",\"Chicken Pizza\",\"Lg 1 Topping Pizza\",\"Bbq Chicken Pizza\",\"Seafood Pizza\",\"Pizza Sub\",\"Bbq Chicken and Bacon Pizza\",\"Scaloppine Pizzaiola\",\"Supreme Combo Pizza\",\"Barbecue Pizza\",\"Hawaiian Pizza\",\"Special Sicilian Pizza\",\"Taco Pizza\",\"Shrimp Parmigiana Pizza\",\"Cave Man Pizza\",\"Large Pizza (2 Toppings)\",\"Jerry Special Pizza\",\"Bianca Pizza\",\"Build Your Own Pizza\",\"Pizza Con Gamberi\",\"Portabella Mushroom Pizza\",\"15 Pizza Fruitti Di Mare\",\"Seafood Pizza\",\"Pizza Polpo\",\"Pizza Bar\",\"Supreme Pizza\",\"Supreme Pizza\",\"Pizza Margherita\",\"The Palace Supreme Pizza\",\"Hawaiian Pizza\",\"White Pizza\",\"Veggie Pizza\",\"Stuffed Cheese Pizza With One Ingredient\",\"White Suicilian Stuffed Pizza\",\"Medium Pizza Offers\",\"Chicago Deep Dish Pizza\",\"Medium Pizza Offers\",\"Medium Pizza Offers\",\"Medium Pizza Offers\",\"Medium Pizza Offers\",\"Medium Pizza Offers\",\"Chicago Deep Dish Pizza\",\"Medium Pizza Offers\",\"Medium Pizza Offers\",\"Medium Pizza Offers\",\"Fru Fru Pizza\",\"Pizza of The Day\",\"Pizza La France\",\"Spicy Buffalo Pizza\",\"Hot Wing Pizza\",\"Chicken Club Pizza\",\"Create Your Own Pan Pizza\",\"Steak Pizzaiola\",\"Taco Pizza\",\"2 Large Cheese Pizza\",\"Specialty Pizzas\",\"Caprese Pizza\",\"The Tommy Gun Breakfast Pizza\",\"White Pizza\",\"Greek Pizza\",\"Mexican Pizza\",\"Buffalo Chicken Pizza\",\"Stuffed Deluxe Pizza\",\"Seafood Pizza\",\"Pizza and Hoagies\",\"White Pizza\",\"Veggie Pizza\",\"Pizza Con Uovo Fritto\",\"Thai Pizza\",\"Pizza Alpina\",\"2 Medium Pizzas\",\"Sweep The Kitchen Pizza\",\"Sweep The Kitchen Pizza\",\"Taco Pizza\",\"Gourmet Meat Pizzatm\",\"Calabria Special Sicilian Pizza\",\"Italian Sausage Pizza\",\"Pizza Con Formaggio\",\"Veal Pizzaiola\",\"Chicken Alfredo Pizza\",\"Covaccino Pizza\",\"Pizza Campari\",\"Pizza Rima\",\"Pizza Primavera\",\"White Pizza\",\"Margherita Pizza\",\"Stuffed Chicago Style Pizza\",\"Pizza Prosciutto Con Arugula Combination\",\"Pizza Con Carne\",\"Veggie Pizza\",\"Two Topping Cheese Pizza\",\"Hawaiian Ham Pizza\",\"Pizza Blanca\",\"Pizza Blanca\",\"Large 6 Toppings Pizza\",\"Hawaiian Pizza\",\"Brunch Pizza\",\"Shrimp Chorizo Pizza\",\"Create Your Own Pizza\",\"Pizza Capricciosa\",\"Margherita Pizza\",\"Breakfast Pizza\",\"Pizza Seafood, White or Red\",\"Pizza\",\"Make It A Special Pizza\",\"Mediterranean Pizza\",\"Tre Colori Pizza\",\"Pizza Ortolana\",\"Pizza Al Uovo\",\"Sicilian Works Pizza\",\"Chicken Alfredo Pizza\",\"Specialty Pizzas\",\"Cheese Pizza\",\"Veggie Pizza\",\"Bbq Chicken Pizza\",\"Pizza of The Moment\",\"Cheesesteak Pizza\",\"Winter Pizza\",\"Meat Lover Pizza\",\"Ranch Chicken Pizza\",\"Greek Pizza\",\"Steak Pizza\",\"Franks Buffalo Chicken Pizza\",\"Prosciutto Bistro Pizza\",\"Chicago Deep Dish Pizza\",\"Staten Island Pizza\",\"16 Inches Pizza Cheese\",\"Steak Pizza\",\"Create Your Own Pizza\",\"Chicken Parmigiana Pizza\",\"Taco Pizza\",\"Seafood Pizza Supreme\",\"Vegan Margherita Pizza\",\"Create Your Own Pizza\",\"100 Pound Pizza\",\"Fennel Sausage Pizza\",\"Veggie Pizza\",\"California Pizza\",\"French Bread Pizza\",\"White Pizza\",\"Veggie Pizza (on Honey Wheat Dough)\",\"Veal Scallopini Pizzaiola\",\"Tuscan Brunch Pizza\",\"Italian Meat Lovers Pizza\",\"Three Guys Pizza\",\"Roasted Mushroom Pizza\",\"Margherita Pizza\",\"Bbq Chicken Pizza\",\"St. Elmo Prime Rib Pizza\",\"Prosciutto Arugula Pizza\",\"Pizza\",\"Four Cheese Pizza\",\"Cheese Pizza\",\"Italian Beef Pizza\",\"Classic Cheese Pizza\",\"Classic Cheese Pizza\",\"Classic Cheese Pizza\",\"Specialty Pizza\",\"Pizza Mexicana\",\"Manhattan Works Pizza\",\"White Pizza\",\"Margherita Pizza\",\"Pizza Mexicana\",\"White Pizza\",\"Giant Cheese Pizza\",\"Specialty Pizza\",\"Pita Pizza\",\"Mexican Pizza\",\"Breakfast Pizza\",\"Piggy In Heat Pizza\",\"Margherita Pizza\",\"Pepperoni, Spicy Sausage Prosciutto Pizza\",\"Pizza Fest\",\"Build Your Own Pizza\",\"Philly Cheese Steak Pizza\",\"Spaniko Pizza (wheat Crust)\",\"Carne Pizza\",\"Buffalo Chicken Pizza\",\"Pizza Sauce\",\"Steak Pizza\",\"Seafood Pizza\",\"Specialty Thin Crust Pizza\",\"Pancetta Egg Pizza\",\"Pizza Bianca\",\"Large The Works Pizza\",\"Parma Pizza\",\"Garden Pizza\",\"Shrimp Scampi Pizza\",\"Pizza Luau\",\"Margherita Pizza\",\"Pepperoni Pizza\",\"Spicy Shrimp Pizza\",\"Flatbread Cheese Pizza\",\"Pepperoni Pizza\",\"Pepperoni Pizza\",\"Pizza, Salami Piccante\",\"Pizza Fresca\",\"Pizza Topping Dippers\",\"Pizza Blanca\",\"Large Supreme Pizza.\",\"Stuffed Pizza Cheese\",\"Super Veggie Pizza\",\"Taco Pizza\",\"Mediterranean Pizza\",\"Pizza Con Formaggio\",\"Taco Pizza\",\"2 Large Pizzas\",\"Venison Sausage Pizza\",\"Barbecue Chicken Pizza\",\"Pepper Bacon Pizza\",\"Cheese Stuffed Pizza\",\"Americano Pizza\",\"Bbq Chicken Pizza\",\"Pizza Bianco\",\"Cheese Pizza\",\"Bacon Pizzaburger\",\"Cheese Pizza\",\"Spicy Rock Shrimp Pizza, Roasted Tomato Sauce, Caramelized Leeks\",\"Funghi Pizza\",\"Island Pizza\",\"Breakfast Pizza\",\"Raw Pizza\",\"Pizza By The Slice\",\"Sushi Pizza\",\"Sunny Side Up Farm Egg Pizza\",\"Florentine Pizza\",\"Caprese Pizza\",\"Cajun Pizza\",\"Wild Mushroom Pizza\",\"Sicilian Pan Pizza Includes\",\"Cheese Pizza\",\"Gluten Free Pizza\",\"New Yorker Pizza\",\"Build Your Own Pizza\",\"Pizza Cheese Steak\",\"1 Large Cheese Pizza\",\"Bianca Pizza (no Sauce)\",\"Pizza Alla Vodka\",\"Combination Pizza\",\"Classic Coal Fire Pizza\",\"Meat Lovers Pizza\",\"Garlic Pizza\",\"Good Company Fiesta Pizza\",\"Chicken Wing Pizza\",\"Pizza Mania\",\"Pizza Special\",\"Taco Pizza\",\"Taco Pizza\",\"M S G Pizza\",\"Flatbread Pizza of The Day (yazoo Pale Ale)\",\"2 Med Pizzas\",\"Margherita Pizza\",\"Pizza\",\"Pizza Quattro Formaggi\",\"Our Terrific Cheese Pizza\",\"Works Pizza\",\"Sushi Pizza\",\"I Like Meat Pizza\",\"Create Your Own Pizza\",\"Smoked Salmon Pizza\",\"Four Pig Pizza\",\"Pizza\",\"Buffalo Chicken Pizza\",\"Flat Bread Pizza Margherita\",\"Smores Dessert Pizza\",\"Shrimp Pizza\",\"Taco Pizza\",\"Cheese Pizza\",\"Large Supreme Pizza\",\"Sicilian Pizza\",\"Pizza Toppings\",\"Shrimp Creole Pizza\",\"Blackened Chicken Caesar Pizza\",\"Dry Barrel Margherita Pizza\",\"White Pizza\",\"Cheese Pizza\",\"Sicilian Pizza\",\"Philly Cheesesteak Pizza\",\"Pizza Margarita\",\"Sicilian Pizza\",\"Pizza Alfredo\",\"Create Your Own Pizza\",\"New York Style Pizza\",\"Sushi Pizza\",\"White Pizza\",\"Thai Dye Pizza\",\"The Everything Pizza\",\"Breakfast Hangover Pizza\",\"Pizza Con Formaggio\",\"Pizza\",\"Prime Rib Pizza\",\"Goat Cheese Pizza\",\"Roasted Vegetable Pizza\",\"Margherita Pizza\",\"Traditional Pizzas\",\"Spicy Tuna Pizza or Spicy Salmon Pizza\",\"Vegetarian Pizza\",\"Pizza Nova Special\",\"Stuffed Cheese Pizza\",\"Shrimp Scampi Pizza\",\"Buffalo Chicken Pizza\",\"1 Topping Pizza\",\"Pizza Roll\",\"Individual Pizza\",\"Breakfast Pizza\",\"Cheese Pizza\",\"Cheeseburger Pizza\",\"Tuna Pizza\",\"Peter Pan Pizza\",\"Pepperoni Pizza\",\"Chicago Deep Dish Pizza\",\"Pan Pizza\",\"Tuna Pizza\",\"Create Your Own Pizza\",\"Fig Pizza\",\"Pepperoni Pizza\",\"Artisanal Grilled Pizza\",\"Yummy Honey Cheese Pizza\",\"Pepperoni Cheese Steak Pizza\",\"Pizza Margherita\",\"Tuna Pizza\",\"Margherita Pizza\",\"Buffalo Chicken Pizza\",\"White Pizza\",\"Breakfast Pizza\",\"Tuna Pizza\",\"Flat Bread Pizza\",\"Barbeque Chicken Pizza\",\"Specialty Pizza\",\"Specialty Pizza\",\"Create Your Own Pizza\",\"Greek Pizza\",\"Cheese Pizza\",\"8 Corner Pizza\",\"Whole Breakfast Pizza\",\"Pizza Ai Funghi\",\"Large Meatlover Pizza\",\"Whole Breakfast Pizza\",\"Whole Breakfast Pizza\",\"Hand Tossed Brick Oven Pizza\",\"Whole Breakfast Pizza\",\"8 Corner Pizza\",\"Includes Pizza Sauce and Mozzarella\",\"El Diablo Pizza\",\"2 Medium Cheese Pizza\",\"Pizza Di Parma\",\"Mexican Pizza\",\"Shrimp and Goat Cheese Pizza\",\"Cheese Pizza\",\"White Pizza\",\"Cheese Pizza\",\"Bacon Cheese Burger Pizza\",\"Cali Chicken Bacon Ranch Pizza\",\"Mexican Pizza\",\"Cheese Pizza\",\"Tomato Sauce and Cheese (basic Pizza)\",\"Chicago 7 Pizza\",\"Cajun Chicken Pizza\",\"Pizza Vino Caesar\",\"Mushroom Hunter Pizza\",\"Whole Pizza\",\"Whole Pizza\",\"Blackened Chicken Bacon Pizza\",\"Pizza Sem Puce\",\"Grilled Pepperoni Pizza\",\"Flat Bread Pizza of The Day\",\"Whole Pizza\",\"Famous Paisans Pizza Sauce Quart\",\"Sushi Pizza\",\"Pizza Classics\",\"Cheese Pizza\",\"Pizza Al Pesto\",\"Bbq Pizza\",\"Deep Dish Pizza\",\"Pizza Bagel\",\"Pizza Schiacchiata Alla Toscana\",\"Hawaiian Pizza\",\"Delux Pizza\",\"Pizza of The Week\",\"Cheese Pizza\",\"Mexican Pizza\",\"Artisan Pizza\",\"Spicy Pizza\",\"Margarita Pizza\",\"Pizza Margherita\",\"Specialty Pizzas\",\"Eggscellent Pizza (white)\",\"Cheese Pizza\",\"Bbq Pizza\",\"Seafood Pizza Platter\",\"White Pizza\",\"Mexican Pizza\",\"Assorted Pita Pizzas\",\"Chesters Lavash Pizza\",\"Any Six ( 6 ) 10 Signature Pizzas\",\"Pizza Margherita\",\"Moped Pizza\",\"Dessert Pizza\",\"Build Your Own Pizza\",\"Build Your Own Pizza\",\"Margherita Pizza\",\"9th Island Pizza\",\"Margarita Pizza\",\"Cheese Pizza\",\"Pizza Cubana\",\"Pizza Del Giorno\",\"Create Your Own Large Pizza\",\"Pizza of The Day\",\"Alpine Pizza\",\"Nutella Pizza\",\"Supreme Pizza\",\"Cheese Pizza\",\"Wild Mushroom Pizza\",\"Cheese Pizza\",\"Pizza and Pitcher\",\"Taco Pizza\",\"Three Cheese Pizza\",\"Pizza Del Giorno\",\"Wild Mushroom Pizza\",\"Flat Bread Pizza of The Day\",\"Pizza Classica\",\"Traditional Neapolitan Pizza\",\"Pepperoni or Cheese Pizza\",\"Artisan Cheese Pizza\",\"Mediterranean Pizza\",\"Homemade Mexican Pizza\",\"Stuffed Jalapeno Pizza\",\"Greco Pizza (greek Pizza)\",\"Bbq Pizzanew Item\",\"Specialty Pizza\",\"Della Casa Pizza\",\"One Topping Pizza\",\"Pizza Tartlets\",\"Hummus Veggie Pizza\",\"Morning Pizza\",\"Build Your Own Pizza\",\"Cheesy Pita Pizza\",\"Create Your Own Pizza\",\"Pizza Delmar\",\"Chicago Deep Dish Pizza\",\"Gyro Pizza\",\"Margherita Pizza\",\"Build Your Own Pizza\",\"Pizza Skins\",\"Quesadillas (mexican Pizza)\",\"Veggie Pizza\",\"Greek Pizza\",\"Mexican Pizza\",\"Pizza Burger Melt\",\"Pepperoni or Mushroom Pizza Burger\",\"Chicago Deep Dish Pizza\",\"White Pizza\",\"Newest Pizza In Town\",\"Barbecue Chicken Flatbread Pizza\",\"Pesto Chicken and Artichoke Flatbread Pizza\",\"Ultimate Supreme Pizza\",\"Calabash Island Pizza\",\"Flatbread Pizza\",\"Breakfast Pizza\",\"Build Your Own Pizza\",\"Goat Cheese Pizza\",\"Thin Crust Mini Pizza\",\"Build Your Own Pizza\",\"White Pizza With Tomato\",\"Buffalo Chicken Pizza\",\"Cheese Pizza\",\"Calabrese (pizza In A Pocket)\",\"Pizza\",\"Primavera Pizza\",\"Chicken Pita Pizza\",\"Cheese Pizza\",\"California Pizza\",\"Pizza\",\"Chicken Pita Pizza\",\"Flat Bread Pizza (7x7)\",\"Vegetarian Pizza\",\"Mexican Pizza\",\"Create Your Own Pizza\",\"Prosciutto Roasted Mushroom Pizza\",\"Kids Flatbread Pizza\",\"Sausage Onion Jam Pizza\",\"Cheese Pizza\",\"Bbq Chicken Pizza\",\"Sausage Onion Jam Pizza\",\"Sausage Onion Jam Pizza\",\"Cheese Pizza\",\"White Pizza\",\"Pizza Burger\",\"Fajita Pizza\",\"Sausage Onion Jam Pizza\",\"Buffalo Chicken Pizza\",\"Sausage Onion Jam Pizza\",\"Sausage Onion Jam Pizza\",\"Sausage Onion Jam Pizza\",\"When You Were A Kid Pizza Burger\",\"Pizza\",\"Mexican Pizza\",\"Fruit Pizza\",\"Pizza Chefs Surprise of The Day\",\"Pizza Burger\",\"Berry Pizza\",\"4. Pizza Cheese Steak\",\"All American Deep Dish Pizza\",\"Margherita Pizza Crepe\",\"Lobster Pizza\",\"Philly Cheese Steak Pizza\",\"Pizzawich Monster Sub\",\"Panini Alla Pizza\",\"Pepperosa Pizza\",\"Pizza or Calzone\",\"Margherita Pizza\",\"Pizza Bread\",\"Flatbread Pizza\",\"Nuevo Pizza\",\"Margherita Pizza\",\"Personal Pizza\",\"Khans Korean Pizza\",\"Build Your Own Pizza\",\"10 Pizza Margherita\",\"Pizza\",\"Veggie Pizza\",\"Mozzarella Organic Tomato Pizza\",\"Pizza Pizza\",\"Cheese Ice Cream Pizza\",\"Pizza Burger\",\"Pizza Calzones\",\"Pizza Burger\",\"Apple Pizza\",\"Pizza Bake\",\"Pizza Steak\",\"Stuffed Pizza\",\"Buffalo Chicken Pita Pizza\",\"Pita Pizza\",\"Pizza Dough Balls\",\"Stuffed Pizza Rolls\",\"Pizza Bianco\",\"Honey Blue Cheese Pizza\",\"Pizza Burger\",\"Sushi Pizza\",\"Pizza\",\"Pub Pizza\",\"Italiano Pizza Pocket\",\"Pizza\",\"Cheese Pizza\",\"Mexican Pizza\",\"Pizza\",\"White Pizza\",\"Pizza Role\",\"Mexican Pizza\",\"Pizza Steak\",\"Mini Pizza\",\"Pizza Steak\",\"White Pizza Sub\",\"Frickin Chicken Pizza\",\"White Pizza Deluxe\",\"Pizza Steak\",\"Pizza Special\",\"Pizza Bianca\",\"Meatball Pizza\",\"Margherita Pizza 6 Calamari Fritti\",\"Cheese Pizza\",\"Pizza Steak\",\"Make Your Own Pizza\",\"Kids Pizza\",\"Margarita Flat Bread Pizza\",\"Ice Cream Pizza\",\"Veggie Pizza\",\"Pepperoni Pizza\",\"Pizza Del Giorno\",\"Kids Pizza\",\"Byo Pizza\",\"Pizza Margherita\",\"Crooked Pepperoni Pizza\",\"All Meats Pizza\",\"Veggie Patch Pizza\",\"Pizza Sub\",\"Pizza Base\",\"Medium Cheese Pizza\",\"Pizza Sub\",\"Margarita Pizza\",\"Veggie Patch Pizza\",\"Pizza Sub\",\"Bulgogi Tortilla Pizza\",\"Pizza Fries\",\"The Original Cheese Pizza\",\"Personal Pizza\",\"Chicago Deep Dish Pizza\",\"Veggie Patch Pizza\",\"Pizza Logs (new)\",\"Veggie Patch Pizza\",\"Simply Pizza Crust\",\"Flatbread Cheese Pizza\",\"Pizza Special\",\"Cheese Pizza\",\"Taco Pizza\",\"Two Slices of Plain Pizza\",\"Pizza Formaggi\",\"Pepperoni Pizza Steak\",\"Pizza Burger\",\"Pita Pizza Sandwich\",\"Cheese Pizzarito\",\"Kids Pizza\",\"Pizza Topping Dippers\",\"Flatbread Pizza\",\"Miso Pizza\",\"Pizza\",\"Hawaiian Pizza\",\"Pizza Burger\",\"Pesto Pizza\",\"Pizza Rolls\",\"Pizza Dolce Alla Nutella\",\"Cheese Pizza\",\"Pizza\",\"Pizza Combo\",\"The Pizza Steak\",\"Mexican Pizza\",\"Pizza Burger\",\"Pizza Stick\",\"Pizza A La Mexicana\",\"Pizza Hogie\",\"Crab Pizza\",\"Decadent Chicken Pizza\",\"Cheeseburger Pizza\",\"Wood Oven Cheese Pizza\",\"Pizza\",\"Margarita Pizza\",\"Buffalo Chicken Pizza\",\"Daily Pizza\",\"Livingwell Pizza\",\"Bar Pizza\",\"Flatbread Pizza, Fresh Mozzarella\",\"Cheese Pizza\",\"Mini Pizza\",\"Z Breakfast Pizza\",\"Bbq Chicken Pizza\",\"House Made Pizza\",\"Cheese Pizza\",\"Simply Pizza\",\"Kids Cheese Pizza Meal\",\"Pizza\",\"Toss Up Pizza\",\"Pizza Deluxe\",\"Cheese Pizza\",\"Pizza Fries\",\"Cheese Flatbread Pizza\",\"Cheese Flatbread Pizza\",\"Cheese Flatbread Pizza\",\"Cheese Flatbread Pizza\",\"Cheese Flatbread Pizza\",\"Pepperoni Pizza\",\"Mexican Pizza\",\"Mexican Pizza\",\"Mini Pizza One Topping\",\"Mexican Pizza\",\"Pizza Sandwich\",\"Pizza\",\"Pizza\",\"Pizza Burger\",\"Cheesy Pita Pizza\",\"With Pizza Cheese\",\"With Pizza Cheese\",\"With Pizza Cheese\",\"Pizza Sticks\",\"Pizza Burger\",\"Veggie Pizza Wrap\",\"Pizza Rolls\",\"Mini Pizza\",\"8in Mini Cheese Pizza\",\"Cheese Pizza\",\"Pastis De Pizza\",\"Cheese Personal Pizza\",\"Cheese Pizza\",\"Pizza Bagel\",\"Cheesy Pizza\",\"Pizza or Calzone\",\"Pizza Boy Citra Pils (4)\",\"Kids Pizza\",\"Cheese Flatbread Pizza\",\"To The Price of Any Pizza\",\"Original Herb Cheese Pizza Points\",\"Chocolate Chip Pizza\",\"Pizza Omelette\",\"Pizza Logs\",\"Sesame Seed Crusted Sashimi Grade Rare Tuna Pizza\",\"Pizza\",\"Pizza Puff\",\"Flatbread Pizza\",\"Pizza\",\"Pepperoni or Sausage Pizza\",\"Pizza Burger\",\"Pizza Rolls\",\"Mexican Pizza\",\"Pizza Bread\",\"Pizza Burger\",\"Pizza Con Formaggio\",\"Taco Pizza\",\"Pizzaburger\",\"Pizza Sub\",\"Pizza Bread\",\"Pizza Fries\",\"Pizza Puff\",\"Pizza Bagel\",\"Cheese Pizza\",\"Italian, Veggie or Pizza Sub\",\"Pizza Boat\",\"Kids Size Pizza\",\"Pepperoni Pizza\",\"Kids Size Pizza\",\"Brick Oven Pizza Al Metro\",\"Kids Size Pizza\",\"Pizza Burger 6 Oz.\",\"Pizza Fries\",\"Pizza Burger\",\"Pizza Bread\",\"Mexican Pizza\",\"Pizza of The Day\",\"Pizza Sub\",\"Chinese Pizza\",\"White Pizza\",\"Pizza Sub\",\"Veggie Pizza\",\"White Pizza\",\"Pizza\",\"Pizza Bagel\",\"Pizza Bagel\",\"Deluxe Pizza Subs\",\"Kid Pizza Bites\",\"Buffalo Chicken Pizza\",\"Mexican Pizza\",\"Supreme Pizza\",\"Pizza Fries\",\"Classic Pepperoni Lahvosh Pizza\",\"Cheese Pizza\",\"Mexican Pizza\",\"Pizza Burger\",\"Pizza Bread or Tomato Bread\",\"Pizza Con Formaggio\",\"Focaccia Pizza Bread\",\"Gourmet  Pizza\",\"Pizza Special\",\"Pita Pizza\",\"Pizza Bagel\",\"Pizza Bread\",\"Meat Pizza\",\"Cheesy Bread Pizza (full)\",\"Pizza Puff\",\"Small Pepperoni or Cheese Pizza\",\"Pizza Bagel\",\"Pizza Puff\",\"Pizza Puffs\",\"Pizza Puff\",\"Pizza Dough\",\"Caprese Pizza\",\"Chinese Pizza\",\"Pizza Bread\",\"Kids Pizza\",\"Wednesday Pizza Night\",\"Chinese Pizza\",\"Vegetarian Pizza\",\"Byop (build Your Own Pizza)\",\"Taco Pizza\",\"Pizza Puffs\",\"Pizza Toppings\",\"Family Pizza Nights\",\"Pizza Roll\",\"Pizza Roll\",\"Pizza Eggs Roll\",\"Pizza Roll\",\"Pizza Roll\",\"Pizza Role\",\"Pizza Role\",\"Pizza Bites\"],\"state\":[\"CA\",\"NY\",\"VA\",\"FL\",\"TX\",\"MO\",\"NY\",\"FL\",\"KS\",\"CA\",\"NY\",\"MD\",\"IL\",\"NY\",\"FL\",\"MN\",\"NC\",\"NC\",\"NY\",\"MS\",\"NC\",\"CA\",\"CA\",\"OH\",\"FL\",\"FL\",\"TN\",\"CA\",\"KY\",\"IL\",\"NV\",\"NY\",\"FL\",\"CA\",\"MI\",\"MI\",\"NY\",\"NY\",\"CO\",\"OH\",\"NY\",\"NY\",\"WA\",\"NY\",\"TX\",\"CA\",\"FL\",\"OR\",\"MI\",\"CA\",\"TN\",\"FL\",\"NY\",\"NY\",\"MI\",\"CA\",\"NV\",\"GA\",\"FL\",\"IN\",\"TX\",\"MD\",\"KY\",\"WV\",\"NC\",\"FL\",\"SC\",\"UT\",\"NY\",\"VA\",\"IN\",\"SC\",\"NC\",\"AZ\",\"KY\",\"AZ\",\"FL\",\"IL\",\"NY\",\"MO\",\"OH\",\"AZ\",\"PA\",\"PA\",\"NY\",\"OK\",\"NY\",\"MN\",\"VA\",\"OH\",\"PA\",\"FL\",\"VA\",\"PA\",\"OH\",\"TX\",\"FL\",\"TX\",\"MD\",\"UT\",\"IN\",\"LA\",\"LA\",\"OR\",\"IN\",\"NY\",\"FL\",\"IL\",\"CA\",\"TX\",\"PA\",\"CA\",\"DC\",\"NY\",\"NY\",\"NC\",\"TX\",\"HI\",\"CA\",\"IL\",\"NY\",\"OH\",\"UT\",\"FL\",\"FL\",\"IN\",\"CA\",\"CA\",\"IL\",\"CA\",\"NV\",\"MN\",\"MD\",\"NY\",\"TX\",\"MD\",\"NY\",\"NY\",\"NY\",\"CA\",\"AR\",\"FL\",\"NY\",\"NC\",\"PA\",\"CA\",\"NY\",\"CO\",\"CA\",\"VA\",\"IL\",\"MD\",\"UT\",\"MI\",\"NM\",\"NC\",\"MI\",\"TX\",\"PA\",\"NY\",\"OH\",\"FL\",\"NY\",\"WA\",\"PA\",\"CA\",\"MN\",\"PA\",\"FL\",\"NE\",\"OH\",\"NY\",\"NY\",\"FL\",\"TX\",\"FL\",\"NY\",\"WA\",\"IN\",\"TX\",\"OH\",\"WA\",\"NV\",\"IL\",\"GA\",\"WI\",\"OH\",\"MO\",\"TX\",\"CA\",\"MN\",\"OR\",\"AZ\",\"MT\",\"CA\",\"IA\",\"IL\",\"MD\",\"PA\",\"WA\",\"MD\",\"AZ\",\"NY\",\"GA\",\"IL\",\"NC\",\"CA\",\"NY\",\"MI\",\"NY\",\"TX\",\"OH\",\"NY\",\"CA\",\"AZ\",\"CA\",\"OH\",\"NY\",\"HI\",\"TX\",\"NY\",\"NC\",\"NC\",\"NV\",\"CO\",\"CA\",\"NY\",\"ID\",\"LA\",\"MI\",\"TN\",\"KY\",\"VA\",\"TX\",\"UT\",\"OH\",\"PA\",\"SC\",\"PA\",\"MD\",\"IL\",\"MO\",\"CA\",\"NY\",\"TX\",\"TX\",\"CA\",\"CA\",\"NY\",\"VA\",\"OH\",\"CA\",\"WY\",\"SC\",\"FL\",\"OH\",\"NV\",\"AL\",\"IL\",\"MI\",\"TX\",\"FL\",\"FL\",\"WI\",\"SC\",\"FL\",\"FL\",\"IL\",\"CA\",\"FL\",\"MN\",\"PA\",\"CO\",\"PA\",\"IL\",\"IL\",\"MI\",\"IL\",\"CA\",\"TN\",\"PA\",\"AL\",\"WI\",\"IN\",\"CO\",\"GA\",\"NY\",\"OK\",\"NC\",\"CA\",\"IL\",\"TX\",\"NY\",\"CA\",\"OR\",\"GA\",\"WA\",\"CA\",\"TX\",\"PA\",\"TN\",\"MO\",\"TN\",\"CA\",\"PA\",\"IN\",\"MI\",\"CO\",\"KY\",\"PA\",\"PA\",\"CA\",\"NY\",\"NM\",\"NY\",\"CO\",\"IN\",\"NY\",\"CA\",\"MN\",\"MT\",\"NY\",\"CA\",\"MN\",\"PA\",\"NY\",\"CA\",\"CA\",\"IL\",\"OH\",\"MN\",\"TX\",\"FL\",\"AZ\",\"CA\",\"CO\",\"CA\",\"OH\",\"NY\",\"CA\",\"NC\",\"NY\",\"NY\",\"LA\",\"IL\",\"PA\",\"MD\",\"CA\",\"PA\",\"IL\",\"VA\",\"AZ\",\"MD\",\"CO\",\"NY\",\"DE\",\"FL\",\"DC\",\"IL\",\"IL\",\"MT\",\"TX\",\"GA\",\"MI\",\"NE\",\"VA\",\"CA\",\"NE\",\"IA\",\"FL\",\"IL\",\"MI\",\"CA\",\"CA\",\"PA\",\"WI\",\"AZ\",\"NY\",\"CA\",\"NY\",\"OK\",\"PA\",\"AR\",\"SC\",\"IL\",\"CA\",\"SD\",\"CA\",\"CA\",\"WA\",\"WI\",\"AR\",\"CO\",\"NY\",\"NY\",\"OK\",\"IN\",\"IL\",\"NY\",\"OR\",\"MD\",\"WA\",\"IL\",\"MI\",\"PA\",\"IL\",\"UT\",\"TX\",\"MI\",\"NY\",\"AR\",\"MN\",\"UT\",\"TX\",\"AZ\",\"MI\",\"WA\",\"CA\",\"MT\",\"PA\",\"MT\",\"NV\",\"NY\",\"MN\",\"VA\",\"CA\",\"WA\",\"WV\",\"GA\",\"TX\",\"OH\",\"NV\",\"PA\",\"HI\",\"OH\",\"NY\",\"NY\",\"AL\",\"WI\",\"TX\",\"TX\",\"MD\",\"NY\",\"WI\",\"TX\",\"OR\",\"NY\",\"NY\",\"GA\",\"FL\",\"KS\",\"DE\",\"MO\",\"CO\",\"IL\",\"MI\",\"MI\",\"NY\",\"PA\",\"VA\",\"OR\",\"IA\",\"NY\",\"NY\",\"CA\",\"CA\",\"NC\",\"TX\",\"AL\",\"MD\",\"TX\",\"PA\",\"CA\",\"NY\",\"NY\",\"MO\",\"MN\",\"WA\",\"AZ\",\"OH\",\"NY\",\"WV\",\"MI\",\"IN\",\"WA\",\"TX\",\"TX\",\"CA\",\"MD\",\"CO\",\"PA\",\"NY\",\"MO\",\"MD\",\"NC\",\"NM\",\"IL\",\"IL\",\"IL\",\"TX\",\"SC\",\"KS\",\"WA\",\"TX\",\"AZ\",\"CA\",\"NE\",\"TX\",\"FL\",\"IL\",\"IL\",\"NY\",\"WI\",\"NC\",\"NV\",\"WA\",\"TN\",\"PA\",\"TX\",\"OH\",\"PA\",\"MD\",\"TX\",\"UT\",\"IN\",\"CA\",\"NC\",\"LA\",\"PA\",\"NY\",\"CA\",\"PA\",\"SC\",\"CA\",\"CA\",\"KY\",\"CA\",\"NY\",\"ID\",\"MS\",\"HI\",\"IL\",\"IL\",\"VA\",\"NY\",\"IN\",\"DC\",\"GA\",\"FL\",\"WA\",\"OK\",\"TX\",\"IN\",\"TX\",\"OH\",\"PA\",\"FL\",\"CA\",\"KY\",\"FL\",\"NC\",\"PA\",\"PA\",\"CO\",\"WA\",\"NC\",\"HI\",\"NY\",\"MS\",\"MN\",\"CA\",\"IL\",\"PA\",\"WI\",\"MO\",\"WA\",\"VA\",\"NY\",\"OH\",\"DE\",\"PA\",\"PA\",\"NY\",\"IN\",\"PA\",\"PA\",\"WA\",\"NY\",\"NC\",\"WA\",\"AZ\",\"PA\",\"OH\",\"SC\",\"PA\",\"PA\",\"OR\",\"FL\",\"MI\",\"PA\",\"MS\",\"OR\",\"CA\",\"TX\",\"MI\",\"IA\",\"TX\",\"CA\",\"SC\",\"CO\",\"MD\",\"NC\",\"GA\",\"PA\",\"WA\",\"WV\",\"NY\",\"FL\",\"PA\",\"NC\",\"AZ\",\"IL\",\"MI\",\"MN\",\"OR\",\"PA\",\"CA\",\"PA\",\"FL\",\"NY\",\"IL\",\"IL\",\"FL\",\"LA\",\"CA\",\"SC\",\"WA\",\"PA\",\"NY\",\"NC\",\"TX\",\"CO\",\"LA\",\"MN\",\"TX\",\"OK\",\"IL\",\"CA\",\"IA\",\"NY\",\"MD\",\"ND\",\"NE\",\"TX\",\"FL\",\"FL\",\"FL\",\"CA\",\"OR\",\"NY\",\"CA\",\"GA\",\"CA\",\"NY\",\"CA\",\"AK\",\"TX\",\"CA\",\"WA\",\"PA\",\"FL\",\"OH\",\"NE\",\"MD\",\"GA\",\"GA\",\"VA\",\"FL\",\"IL\",\"MN\",\"AZ\",\"AR\",\"AZ\",\"NC\",\"IL\",\"IA\",\"OH\",\"NY\",\"NC\",\"SC\",\"PA\",\"WA\",\"NY\",\"NY\",\"OH\",\"TX\",\"PA\",\"OH\",\"MO\",\"AZ\",\"MD\",\"SC\",\"TN\",\"OR\",\"CA\",\"PA\",\"CO\",\"IL\",\"WA\",\"LA\",\"TX\",\"MI\",\"PA\",\"FL\",\"WI\",\"IL\",\"CA\",\"FL\",\"IN\",\"IL\",\"MN\",\"OR\",\"IL\",\"NY\",\"TX\",\"KS\",\"MN\",\"PA\",\"MS\",\"PA\",\"IL\",\"MD\",\"MO\",\"OH\",\"NY\",\"OH\",\"MN\",\"OH\",\"NY\",\"OH\",\"PA\",\"PA\",\"IL\",\"IL\",\"LA\",\"NY\",\"FL\",\"PA\",\"OH\",\"GA\",\"CA\",\"NY\",\"TX\",\"OH\",\"AL\",\"OH\",\"OK\",\"ID\",\"GA\",\"CO\",\"MI\",\"CA\",\"TX\",\"CA\",\"NY\",\"IL\",\"CA\",\"OR\",\"TX\",\"CA\",\"OH\",\"IN\",\"IL\",\"MO\",\"CA\",\"IL\",\"SC\",\"CA\",\"IL\",\"IL\",\"IL\",\"NY\",\"CO\",\"DE\",\"IL\",\"FL\",\"NY\",\"PA\",\"NY\",\"CA\",\"KS\",\"IL\",\"WA\",\"FL\",\"PA\",\"VA\",\"NY\",\"WA\",\"CO\",\"PA\",\"NY\",\"IL\"],\"state_counts\":{\"__ndarray__\":\"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\",\"dtype\":\"float64\",\"shape\":[802]},\"x\":{\"__ndarray__\":\"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\",\"dtype\":\"float64\",\"shape\":[802]},\"y\":{\"__ndarray__\":\"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\",\"dtype\":\"float64\",\"shape\":[802]}},\"selected\":{\"id\":\"1390\",\"type\":\"Selection\"},\"selection_policy\":{\"id\":\"1389\",\"type\":\"UnionRenderers\"}},\"id\":\"1313\",\"type\":\"ColumnDataSource\"},{\"attributes\":{\"callback\":null},\"id\":\"1338\",\"type\":\"TapTool\"},{\"attributes\":{\"axis_label\":\"Count\",\"formatter\":{\"id\":\"1397\",\"type\":\"BasicTickFormatter\"},\"plot\":{\"id\":\"1358\",\"subtype\":\"Figure\",\"type\":\"Plot\"},\"ticker\":{\"id\":\"1373\",\"type\":\"BasicTicker\"}},\"id\":\"1372\",\"type\":\"LinearAxis\"},{\"attributes\":{},\"id\":\"1378\",\"type\":\"ResetTool\"},{\"attributes\":{},\"id\":\"1373\",\"type\":\"BasicTicker\"},{\"attributes\":{\"active_drag\":\"auto\",\"active_inspect\":\"auto\",\"active_multi\":null,\"active_scroll\":\"auto\",\"active_tap\":\"auto\",\"tools\":[{\"id\":\"1314\",\"type\":\"HoverTool\"},{\"id\":\"1336\",\"type\":\"PanTool\"},{\"id\":\"1337\",\"type\":\"WheelZoomTool\"},{\"id\":\"1338\",\"type\":\"TapTool\"},{\"id\":\"1339\",\"type\":\"ResetTool\"},{\"id\":\"1340\",\"type\":\"CrosshairTool\"}]},\"id\":\"1341\",\"type\":\"Toolbar\"},{\"attributes\":{},\"id\":\"1397\",\"type\":\"BasicTickFormatter\"},{\"attributes\":{\"callback\":null,\"tooltips\":[[\"City\",\"@city\"],[\"Address\",\"@address\"],[\"Pizza\",\"@pizza_name\"],[\"Max price\",\"@menus_amountMax\"]]},\"id\":\"1314\",\"type\":\"HoverTool\"},{\"attributes\":{\"callback\":null},\"id\":\"1377\",\"type\":\"TapTool\"},{\"attributes\":{\"children\":[{\"id\":\"1392\",\"type\":\"Row\"},{\"id\":\"1401\",\"type\":\"Row\"}]},\"id\":\"1402\",\"type\":\"Column\"},{\"attributes\":{\"source\":{\"id\":\"1313\",\"type\":\"ColumnDataSource\"}},\"id\":\"1356\",\"type\":\"CDSView\"},{\"attributes\":{\"factors\":[\"CA\",\"NY\",\"VA\",\"FL\",\"TX\",\"MO\",\"KS\",\"MD\",\"IL\",\"MN\",\"NC\",\"MS\",\"OH\",\"TN\",\"KY\",\"NV\",\"MI\",\"CO\",\"WA\",\"OR\",\"GA\",\"IN\",\"WV\",\"SC\",\"UT\",\"AZ\",\"PA\",\"OK\",\"LA\",\"DC\",\"HI\",\"AR\",\"NM\",\"NE\",\"WI\",\"MT\",\"IA\",\"ID\",\"WY\",\"AL\",\"DE\",\"SD\",\"ND\",\"AK\"],\"palette\":[\"#393b79\",\"#5254a3\",\"#6b6ecf\",\"#9c9ede\",\"#637939\",\"#8ca252\",\"#b5cf6b\",\"#cedb9c\",\"#8c6d31\",\"#bd9e39\",\"#e7ba52\",\"#e7cb94\",\"#843c39\",\"#ad494a\",\"#d6616b\",\"#e7969c\",\"#7b4173\",\"#a55194\",\"#ce6dbd\",\"#de9ed6\",\"#3182bd\",\"#6baed6\",\"#9ecae1\",\"#c6dbef\",\"#e6550d\",\"#fd8d3c\",\"#fdae6b\",\"#fdd0a2\",\"#31a354\",\"#74c476\",\"#a1d99b\",\"#c7e9c0\",\"#756bb1\",\"#9e9ac8\",\"#bcbddc\",\"#dadaeb\",\"#636363\",\"#969696\",\"#bdbdbd\",\"#d9d9d9\",\"#2b83ba\",\"#abdda4\",\"#fdae61\",\"#d7191c\"]},\"id\":\"1350\",\"type\":\"CategoricalColorMapper\"},{\"attributes\":{\"below\":[{\"id\":\"1368\",\"type\":\"CategoricalAxis\"}],\"left\":[{\"id\":\"1372\",\"type\":\"LinearAxis\"}],\"plot_height\":200,\"plot_width\":780,\"renderers\":[{\"id\":\"1368\",\"type\":\"CategoricalAxis\"},{\"id\":\"1371\",\"type\":\"Grid\"},{\"id\":\"1372\",\"type\":\"LinearAxis\"},{\"id\":\"1376\",\"type\":\"Grid\"},{\"id\":\"1386\",\"type\":\"GlyphRenderer\"}],\"title\":{\"id\":\"1357\",\"type\":\"Title\"},\"toolbar\":{\"id\":\"1379\",\"type\":\"Toolbar\"},\"toolbar_location\":null,\"x_range\":{\"id\":\"1360\",\"type\":\"FactorRange\"},\"x_scale\":{\"id\":\"1364\",\"type\":\"CategoricalScale\"},\"y_range\":{\"id\":\"1362\",\"type\":\"DataRange1d\"},\"y_scale\":{\"id\":\"1366\",\"type\":\"LinearScale\"}},\"id\":\"1358\",\"subtype\":\"Figure\",\"type\":\"Plot\"},{\"attributes\":{},\"id\":\"1395\",\"type\":\"CategoricalTickFormatter\"},{\"attributes\":{\"dimension\":1,\"plot\":{\"id\":\"1358\",\"subtype\":\"Figure\",\"type\":\"Plot\"},\"ticker\":{\"id\":\"1373\",\"type\":\"BasicTicker\"}},\"id\":\"1376\",\"type\":\"Grid\"},{\"attributes\":{\"fill_color\":{\"field\":\"state\",\"transform\":{\"id\":\"1350\",\"type\":\"CategoricalColorMapper\"}},\"line_color\":{\"field\":\"state\",\"transform\":{\"id\":\"1350\",\"type\":\"CategoricalColorMapper\"}},\"top\":{\"field\":\"state_counts\"},\"width\":{\"value\":0.7},\"x\":{\"field\":\"state\"}},\"id\":\"1383\",\"type\":\"VBar\"},{\"attributes\":{\"fill_alpha\":{\"value\":0.1},\"line_alpha\":{\"value\":0.1},\"line_color\":{\"value\":\"#1f77b4\"},\"top\":{\"field\":\"state_counts\"},\"width\":{\"value\":0.7},\"x\":{\"field\":\"state\"}},\"id\":\"1384\",\"type\":\"VBar\"},{\"attributes\":{},\"id\":\"1327\",\"type\":\"BasicTicker\"},{\"attributes\":{\"fill_color\":{\"value\":\"black\"},\"size\":{\"field\":\"dot_size\",\"units\":\"screen\"},\"x\":{\"field\":\"x\"},\"y\":{\"field\":\"y\"}},\"id\":\"1354\",\"type\":\"Circle\"},{\"attributes\":{\"children\":[{\"id\":\"1358\",\"subtype\":\"Figure\",\"type\":\"Plot\"}]},\"id\":\"1401\",\"type\":\"Row\"},{\"attributes\":{\"plot\":null,\"text\":\"N\\u00famero de restaurantes em cada estado\"},\"id\":\"1357\",\"type\":\"Title\"},{\"attributes\":{},\"id\":\"1389\",\"type\":\"UnionRenderers\"},{\"attributes\":{\"callback\":null,\"factors\":[\"CA\",\"NY\",\"VA\",\"FL\",\"TX\",\"MO\",\"KS\",\"MD\",\"IL\",\"MN\",\"NC\",\"MS\",\"OH\",\"TN\",\"KY\",\"NV\",\"MI\",\"CO\",\"WA\",\"OR\",\"GA\",\"IN\",\"WV\",\"SC\",\"UT\",\"AZ\",\"PA\",\"OK\",\"LA\",\"DC\",\"HI\",\"AR\",\"NM\",\"NE\",\"WI\",\"MT\",\"IA\",\"ID\",\"WY\",\"AL\",\"DE\",\"SD\",\"ND\",\"AK\"]},\"id\":\"1360\",\"type\":\"FactorRange\"},{\"attributes\":{\"data_source\":{\"id\":\"1313\",\"type\":\"ColumnDataSource\"},\"glyph\":{\"id\":\"1352\",\"type\":\"Circle\"},\"hover_glyph\":null,\"muted_glyph\":null,\"nonselection_glyph\":{\"id\":\"1353\",\"type\":\"Circle\"},\"selection_glyph\":{\"id\":\"1354\",\"type\":\"Circle\"},\"view\":{\"id\":\"1356\",\"type\":\"CDSView\"}},\"id\":\"1355\",\"type\":\"GlyphRenderer\"},{\"attributes\":{\"attribution\":\"&copy; <a href=\\\"https://www.openstreetmap.org/copyright\\\">OpenStreetMap</a> contributors,&copy; <a href=\\\"https://cartodb.com/attributions\\\">CartoDB</a>\",\"url\":\"https://tiles.basemaps.cartocdn.com/light_all/{z}/{x}/{y}@2x.png\"},\"id\":\"1001\",\"type\":\"WMTSTileSource\"},{\"attributes\":{},\"id\":\"1324\",\"type\":\"LinearScale\"},{\"attributes\":{\"fill_alpha\":{\"value\":0.1},\"line_alpha\":{\"value\":0.1},\"line_color\":{\"value\":\"#1f77b4\"},\"size\":{\"field\":\"dot_size\",\"units\":\"screen\"},\"x\":{\"field\":\"x\"},\"y\":{\"field\":\"y\"}},\"id\":\"1353\",\"type\":\"Circle\"},{\"attributes\":{\"callback\":null},\"id\":\"1362\",\"type\":\"DataRange1d\"},{\"attributes\":{\"source\":{\"id\":\"1313\",\"type\":\"ColumnDataSource\"}},\"id\":\"1387\",\"type\":\"CDSView\"},{\"attributes\":{},\"id\":\"1390\",\"type\":\"Selection\"},{\"attributes\":{\"plot\":{\"id\":\"1316\",\"subtype\":\"Figure\",\"type\":\"Plot\"},\"ticker\":{\"id\":\"1327\",\"type\":\"BasicTicker\"}},\"id\":\"1330\",\"type\":\"Grid\"},{\"attributes\":{},\"id\":\"1364\",\"type\":\"CategoricalScale\"},{\"attributes\":{},\"id\":\"1322\",\"type\":\"LinearScale\"},{\"attributes\":{\"data_source\":{\"id\":\"1313\",\"type\":\"ColumnDataSource\"},\"glyph\":{\"id\":\"1383\",\"type\":\"VBar\"},\"hover_glyph\":null,\"muted_glyph\":null,\"nonselection_glyph\":{\"id\":\"1384\",\"type\":\"VBar\"},\"selection_glyph\":{\"id\":\"1385\",\"type\":\"VBar\"},\"view\":{\"id\":\"1387\",\"type\":\"CDSView\"}},\"id\":\"1386\",\"type\":\"GlyphRenderer\"},{\"attributes\":{},\"id\":\"1366\",\"type\":\"LinearScale\"},{\"attributes\":{},\"id\":\"1332\",\"type\":\"BasicTicker\"},{\"attributes\":{\"axis_label\":\"State\",\"formatter\":{\"id\":\"1395\",\"type\":\"CategoricalTickFormatter\"},\"major_label_orientation\":\"vertical\",\"plot\":{\"id\":\"1358\",\"subtype\":\"Figure\",\"type\":\"Plot\"},\"ticker\":{\"id\":\"1369\",\"type\":\"CategoricalTicker\"}},\"id\":\"1368\",\"type\":\"CategoricalAxis\"},{\"attributes\":{\"dimension\":1,\"plot\":{\"id\":\"1316\",\"subtype\":\"Figure\",\"type\":\"Plot\"},\"ticker\":{\"id\":\"1332\",\"type\":\"BasicTicker\"}},\"id\":\"1335\",\"type\":\"Grid\"},{\"attributes\":{\"tile_source\":{\"id\":\"1001\",\"type\":\"WMTSTileSource\"}},\"id\":\"1348\",\"type\":\"TileRenderer\"},{\"attributes\":{\"callback\":null},\"id\":\"1318\",\"type\":\"DataRange1d\"},{\"attributes\":{},\"id\":\"1369\",\"type\":\"CategoricalTicker\"},{\"attributes\":{},\"id\":\"1336\",\"type\":\"PanTool\"},{\"attributes\":{\"children\":[{\"id\":\"1316\",\"subtype\":\"Figure\",\"type\":\"Plot\"}]},\"id\":\"1392\",\"type\":\"Row\"},{\"attributes\":{\"grid_line_color\":{\"value\":null},\"plot\":{\"id\":\"1358\",\"subtype\":\"Figure\",\"type\":\"Plot\"},\"ticker\":{\"id\":\"1369\",\"type\":\"CategoricalTicker\"}},\"id\":\"1371\",\"type\":\"Grid\"},{\"attributes\":{\"active_drag\":\"auto\",\"active_inspect\":\"auto\",\"active_multi\":null,\"active_scroll\":\"auto\",\"active_tap\":\"auto\",\"tools\":[{\"id\":\"1377\",\"type\":\"TapTool\"},{\"id\":\"1378\",\"type\":\"ResetTool\"}]},\"id\":\"1379\",\"type\":\"Toolbar\"},{\"attributes\":{},\"id\":\"1337\",\"type\":\"WheelZoomTool\"},{\"attributes\":{\"plot_height\":360,\"plot_width\":780,\"renderers\":[{\"id\":\"1330\",\"type\":\"Grid\"},{\"id\":\"1335\",\"type\":\"Grid\"},{\"id\":\"1348\",\"type\":\"TileRenderer\"},{\"id\":\"1355\",\"type\":\"GlyphRenderer\"}],\"title\":{\"id\":\"1315\",\"type\":\"Title\"},\"toolbar\":{\"id\":\"1341\",\"type\":\"Toolbar\"},\"toolbar_location\":null,\"x_range\":{\"id\":\"1318\",\"type\":\"DataRange1d\"},\"x_scale\":{\"id\":\"1322\",\"type\":\"LinearScale\"},\"y_range\":{\"id\":\"1320\",\"type\":\"DataRange1d\"},\"y_scale\":{\"id\":\"1324\",\"type\":\"LinearScale\"}},\"id\":\"1316\",\"subtype\":\"Figure\",\"type\":\"Plot\"},{\"attributes\":{\"fill_color\":{\"value\":\"black\"},\"top\":{\"field\":\"state_counts\"},\"width\":{\"value\":0.7},\"x\":{\"field\":\"state\"}},\"id\":\"1385\",\"type\":\"VBar\"},{\"attributes\":{\"plot\":null,\"text\":\"Localiza\\u00e7\\u00e3o das pizzarias nos EUA\"},\"id\":\"1315\",\"type\":\"Title\"},{\"attributes\":{},\"id\":\"1339\",\"type\":\"ResetTool\"},{\"attributes\":{\"fill_alpha\":{\"value\":0.5},\"fill_color\":{\"field\":\"state\",\"transform\":{\"id\":\"1350\",\"type\":\"CategoricalColorMapper\"}},\"line_alpha\":{\"value\":0.5},\"line_color\":{\"field\":\"state\",\"transform\":{\"id\":\"1350\",\"type\":\"CategoricalColorMapper\"}},\"size\":{\"field\":\"dot_size\",\"units\":\"screen\"},\"x\":{\"field\":\"x\"},\"y\":{\"field\":\"y\"}},\"id\":\"1352\",\"type\":\"Circle\"},{\"attributes\":{\"toolbar\":{\"id\":\"1403\",\"type\":\"ProxyToolbar\"},\"toolbar_location\":\"left\"},\"id\":\"1404\",\"type\":\"ToolbarBox\"},{\"attributes\":{},\"id\":\"1340\",\"type\":\"CrosshairTool\"}],\"root_ids\":[\"1405\"]},\"title\":\"Bokeh Application\",\"version\":\"1.0.4\"}};\n",
       "  var render_items = [{\"docid\":\"22d87bea-a807-4865-88df-df1433e045f8\",\"roots\":{\"1405\":\"e20b13f5-560b-4aaa-ac36-7a584fcc3619\"}}];\n",
       "  root.Bokeh.embed.embed_items_notebook(docs_json, render_items);\n",
       "\n",
       "  }\n",
       "  if (root.Bokeh !== undefined) {\n",
       "    embed_document(root);\n",
       "  } else {\n",
       "    var attempts = 0;\n",
       "    var timer = setInterval(function(root) {\n",
       "      if (root.Bokeh !== undefined) {\n",
       "        embed_document(root);\n",
       "        clearInterval(timer);\n",
       "      }\n",
       "      attempts++;\n",
       "      if (attempts > 100) {\n",
       "        console.log(\"Bokeh: ERROR: Unable to run BokehJS code because BokehJS library is missing\");\n",
       "        clearInterval(timer);\n",
       "      }\n",
       "    }, 10, root)\n",
       "  }\n",
       "})(window);"
      ],
      "application/vnd.bokehjs_exec.v0+json": ""
     },
     "metadata": {
      "application/vnd.bokehjs_exec.v0+json": {
       "id": "1405"
      }
     },
     "output_type": "display_data"
    }
   ],
   "source": [
    "#Em quais cidades ou estados as pizzarias são mais comuns\n",
    "#Removendo as duplicações restaurantes e mantendo mais caros\n",
    "pizza_map = (pizza_clean.sort_values(['menus_amountMax'], ascending=[0])\n",
    "             .drop_duplicates(subset=['city', 'address']))\n",
    "\n",
    "#Criando dados na coluna\n",
    "cds = ColumnDataSource(pizza_map)\n",
    "\n",
    "#Customizando\n",
    "hover = HoverTool(tooltips=[('City', '@city'),\n",
    "                            ('Address', '@address'),\n",
    "                            ('Pizza', '@pizza_name'),\n",
    "                            ('Max price', '@menus_amountMax')],\n",
    "                  mode='mouse')\n",
    "\n",
    "#UPPER FIGURE\n",
    "#Inicializar uma figura \n",
    "up = figure(title='Localização das pizzarias nos EUA',\n",
    "           plot_width=780, plot_height=360,\n",
    "           x_axis_location=None, y_axis_location=None, \n",
    "           tools=['pan', 'wheel_zoom', 'tap', 'reset', 'crosshair', hover])\n",
    "\n",
    "#Mapa de sobreposição\n",
    "up.add_tile(CARTODBPOSITRON_RETINA)\n",
    "\n",
    "#Criando cores no mapeador\n",
    "mapper = CategoricalColorMapper(factors=pizza_map.state.unique(), \n",
    "                                palette=Category20b[20]+Category20c[20]+Spectral[4])\n",
    "\n",
    "#Adicionando a localização da pizza\n",
    "scatter = up.circle('x', 'y', source=cds, size='dot_size',\n",
    "                    color={'field': 'state','transform': mapper}, alpha=.5,\n",
    "                    selection_color='black',\n",
    "                    nonselection_fill_alpha=.1,\n",
    "                    nonselection_fill_color='gray',)\n",
    "                  \n",
    "\n",
    "#BOTTOM FIGURE\n",
    "#Inicializando uma figura\n",
    "down = figure(title='Número de restaurantes em cada estado',\n",
    "              x_range=pizza_map.state.unique(),\n",
    "              plot_width=780, plot_height=200,\n",
    "              tools=['tap', 'reset'])\n",
    "\n",
    "#Adicionar a contagem dos restaurantes\n",
    "down.vbar(x='state', top='state_counts', source=cds, width=.7,\n",
    "            color={'field': 'state','transform': mapper},\n",
    "            selection_color='black',\n",
    "            nonselection_fill_alpha=.1,\n",
    "            nonselection_fill_color='gray',)\n",
    "\n",
    "\n",
    "#Definindo as propriedades do gráfico\n",
    "down.xgrid.grid_line_color = None\n",
    "down.xaxis.major_label_orientation = 'vertical'\n",
    "down.xaxis.axis_label = 'State'\n",
    "down.yaxis.axis_label = 'Count'\n",
    "p = gridplot([[up], [down]], toolbar_location='left',)\n",
    "\n",
    "# show the plot\n",
    "show(p)"
   ]
  },
  {
   "cell_type": "code",
   "execution_count": null,
   "metadata": {},
   "outputs": [],
   "source": []
  }
 ],
 "metadata": {
  "kernelspec": {
   "display_name": "Python 3.7.3 64-bit ('base')",
   "language": "python",
   "name": "python37364bitbaseeb029121e63c4c34aeef08ef57d0b81a"
  },
  "language_info": {
   "codemirror_mode": {
    "name": "ipython",
    "version": 3
   },
   "file_extension": ".py",
   "mimetype": "text/x-python",
   "name": "python",
   "nbconvert_exporter": "python",
   "pygments_lexer": "ipython3",
   "version": "3.7.3"
  }
 },
 "nbformat": 4,
 "nbformat_minor": 2
}
